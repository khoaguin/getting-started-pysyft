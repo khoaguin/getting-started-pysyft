{
  "cells": [
    {
      "cell_type": "code",
      "source": [
        "from sklearn.datasets import load_boston\n",
        "import pandas as pd\n",
        "\n",
        "import torch\n",
        "import torch.nn as nn\n",
        "from torch.utils.data import Dataset, DataLoader\n",
        "\n",
        "import syft as sy\n",
        "from syft.core.node.vm.vm import VirtualMachine\n",
        "from syft.core.node.vm.client import VirtualMachineClient\n",
        "from syft.ast.module import Module\n",
        "from syft.core.remote_dataloader import RemoteDataLoader\n",
        "from syft.core.remote_dataloader import RemoteDataset\n",
        "\n",
        "print(f'torch version: {torch.__version__}')\n",
        "print(f'syft version: {sy.__version__}')"
      ],
      "outputs": [
        {
          "output_type": "stream",
          "name": "stdout",
          "text": "torch version: 1.8.1+cu102\nsyft version: 0.5.0\n"
        }
      ],
      "execution_count": 1,
      "metadata": {
        "gather": {
          "logged": 1632064218987
        }
      }
    },
    {
      "cell_type": "markdown",
      "source": [
        "# Constructing the client and server"
      ],
      "metadata": {
        "nteract": {
          "transient": {
            "deleting": false
          }
        }
      }
    },
    {
      "cell_type": "code",
      "source": [
        "server: VirtualMachine = sy.VirtualMachine(name=\"server\")\n",
        "client: VirtualMachineClient = server.get_root_client()"
      ],
      "outputs": [],
      "execution_count": 2,
      "metadata": {
        "jupyter": {
          "source_hidden": false,
          "outputs_hidden": false
        },
        "nteract": {
          "transient": {
            "deleting": false
          }
        },
        "gather": {
          "logged": 1632064219431
        }
      }
    },
    {
      "cell_type": "code",
      "source": [
        "remote_torch: Module = client.torch\n",
        "remote_torch"
      ],
      "outputs": [
        {
          "output_type": "execute_result",
          "execution_count": 3,
          "data": {
            "text/plain": "Module:\n\t.Tensor -> <syft.ast.klass.Class object at 0x7f8c668620a0>\n\t.BFloat16Tensor -> <syft.ast.klass.Class object at 0x7f8c66862100>\n\t.BoolTensor -> <syft.ast.klass.Class object at 0x7f8c66862160>\n\t.ByteTensor -> <syft.ast.klass.Class object at 0x7f8c668621c0>\n\t.CharTensor -> <syft.ast.klass.Class object at 0x7f8c66862220>\n\t.DoubleTensor -> <syft.ast.klass.Class object at 0x7f8c66862280>\n\t.FloatTensor -> <syft.ast.klass.Class object at 0x7f8c668622e0>\n\t.HalfTensor -> <syft.ast.klass.Class object at 0x7f8c66862340>\n\t.IntTensor -> <syft.ast.klass.Class object at 0x7f8c668623a0>\n\t.LongTensor -> <syft.ast.klass.Class object at 0x7f8c66862400>\n\t.ShortTensor -> <syft.ast.klass.Class object at 0x7f8c66862460>\n\t.nn -> Module:\n\t\t.Parameter -> <syft.ast.klass.Class object at 0x7f8c66862580>\n\t\t.Module -> <syft.ast.klass.Class object at 0x7f8be1a30880>\n\t\t.Conv2d -> <syft.ast.klass.Class object at 0x7f8be1a30d60>\n\t\t.Dropout2d -> <syft.ast.klass.Class object at 0x7f8be1a351c0>\n\t\t.Linear -> <syft.ast.klass.Class object at 0x7f8be1a35520>\n\t\t.functional -> Module:\n\t\t\t.relu -> <syft.ast.callable.Callable object at 0x7f8be1a35e20>\n\t\t\t.gelu -> <syft.ast.callable.Callable object at 0x7f8be1a35e80>\n\t\t\t.max_pool2d -> <syft.ast.callable.Callable object at 0x7f8be1a35ee0>\n\t\t\t.log_softmax -> <syft.ast.callable.Callable object at 0x7f8be1a35f40>\n\t\t\t.cosine_embedding_loss -> <syft.ast.callable.Callable object at 0x7f8be1a3dd00>\n\t\t\t.ctc_loss -> <syft.ast.callable.Callable object at 0x7f8be1a3dd60>\n\t\t\t.hinge_embedding_loss -> <syft.ast.callable.Callable object at 0x7f8be1a3de20>\n\t\t\t.l1_loss -> <syft.ast.callable.Callable object at 0x7f8be1a3de80>\n\t\t\t.margin_ranking_loss -> <syft.ast.callable.Callable object at 0x7f8be1a3df40>\n\t\t\t.mse_loss -> <syft.ast.callable.Callable object at 0x7f8be1a3dfa0>\n\t\t\t.multi_margin_loss -> <syft.ast.callable.Callable object at 0x7f8be1a430a0>\n\t\t\t.multilabel_margin_loss -> <syft.ast.callable.Callable object at 0x7f8be1a43160>\n\t\t\t.multilabel_soft_margin_loss -> <syft.ast.callable.Callable object at 0x7f8be1a43220>\n\t\t\t.nll_loss -> <syft.ast.callable.Callable object at 0x7f8be1a43280>\n\t\t\t.cross_entropy -> <syft.ast.callable.Callable object at 0x7f8be1a43340>\n\t\t\t.poisson_nll_loss -> <syft.ast.callable.Callable object at 0x7f8be1a43400>\n\t\t\t.smooth_l1_loss -> <syft.ast.callable.Callable object at 0x7f8be1a434c0>\n\t\t\t.soft_margin_loss -> <syft.ast.callable.Callable object at 0x7f8be1a43580>\n\t\t\t.triplet_margin_loss -> <syft.ast.callable.Callable object at 0x7f8be1a43640>\n\n\t\t.Sequential -> <syft.ast.klass.Class object at 0x7f8be1a3d940>\n\t\t.AdaptiveLogSoftmaxWithLoss -> <syft.ast.klass.Class object at 0x7f8be1a43700>\n\t\t.BCELoss -> <syft.ast.klass.Class object at 0x7f8be1a43880>\n\t\t.BCEWithLogitsLoss -> <syft.ast.klass.Class object at 0x7f8be1a43940>\n\t\t.CTCLoss -> <syft.ast.klass.Class object at 0x7f8be1a43a60>\n\t\t.CrossEntropyLoss -> <syft.ast.klass.Class object at 0x7f8be1a43b20>\n\t\t.CosineEmbeddingLoss -> <syft.ast.klass.Class object at 0x7f8be1a43c40>\n\t\t.HingeEmbeddingLoss -> <syft.ast.klass.Class object at 0x7f8be1a43d60>\n\t\t.KLDivLoss -> <syft.ast.klass.Class object at 0x7f8be1a43e80>\n\t\t.L1Loss -> <syft.ast.klass.Class object at 0x7f8be1a43f40>\n\t\t.MSELoss -> <syft.ast.klass.Class object at 0x7f8be1a47040>\n\t\t.MarginRankingLoss -> <syft.ast.klass.Class object at 0x7f8be1a47100>\n\t\t.MultiLabelMarginLoss -> <syft.ast.klass.Class object at 0x7f8be1a47220>\n\t\t.MultiLabelSoftMarginLoss -> <syft.ast.klass.Class object at 0x7f8be1a473a0>\n\t\t.MultiMarginLoss -> <syft.ast.klass.Class object at 0x7f8be1a474c0>\n\t\t.NLLLoss -> <syft.ast.klass.Class object at 0x7f8be1a475e0>\n\t\t.NLLLoss2d -> <syft.ast.klass.Class object at 0x7f8be1a476a0>\n\t\t.PoissonNLLLoss -> <syft.ast.klass.Class object at 0x7f8be1a47760>\n\t\t.SmoothL1Loss -> <syft.ast.klass.Class object at 0x7f8be1a47880>\n\t\t.SoftMarginLoss -> <syft.ast.klass.Class object at 0x7f8be1a47940>\n\t\t.TripletMarginLoss -> <syft.ast.klass.Class object at 0x7f8be1a47a60>\n\t\t.AdaptiveAvgPool1d -> <syft.ast.klass.Class object at 0x7f8be1a47b80>\n\t\t.AdaptiveAvgPool2d -> <syft.ast.klass.Class object at 0x7f8be1a4b220>\n\t\t.AdaptiveAvgPool3d -> <syft.ast.klass.Class object at 0x7f8be1a4b880>\n\t\t.AdaptiveMaxPool1d -> <syft.ast.klass.Class object at 0x7f8be1a4bee0>\n\t\t.AdaptiveMaxPool2d -> <syft.ast.klass.Class object at 0x7f8be19cf520>\n\t\t.AdaptiveMaxPool3d -> <syft.ast.klass.Class object at 0x7f8be19cfb80>\n\t\t.AlphaDropout -> <syft.ast.klass.Class object at 0x7f8be19d1220>\n\t\t.AvgPool1d -> <syft.ast.klass.Class object at 0x7f8be19d17c0>\n\t\t.AvgPool2d -> <syft.ast.klass.Class object at 0x7f8be19d1c40>\n\t\t.AvgPool3d -> <syft.ast.klass.Class object at 0x7f8be19d4100>\n\t\t.BatchNorm1d -> <syft.ast.klass.Class object at 0x7f8be19d4580>\n\t\t.BatchNorm2d -> <syft.ast.klass.Class object at 0x7f8be19d4a00>\n\t\t.BatchNorm3d -> <syft.ast.klass.Class object at 0x7f8be19d4e80>\n\t\t.Bilinear -> <syft.ast.klass.Class object at 0x7f8be19d9340>\n\t\t.CELU -> <syft.ast.klass.Class object at 0x7f8be19d97c0>\n\t\t.ConstantPad1d -> <syft.ast.klass.Class object at 0x7f8be19d9be0>\n\t\t.ConstantPad2d -> <syft.ast.klass.Class object at 0x7f8be19de1c0>\n\t\t.ConstantPad3d -> <syft.ast.klass.Class object at 0x7f8be19de760>\n\t\t.Container -> <syft.ast.klass.Class object at 0x7f8be19ded00>\n\t\t.Conv1d -> <syft.ast.klass.Class object at 0x7f8be19e11c0>\n\t\t.Conv3d -> <syft.ast.klass.Class object at 0x7f8be19e15e0>\n\t\t.ConvTranspose1d -> <syft.ast.klass.Class object at 0x7f8be19e1a00>\n\t\t.ConvTranspose2d -> <syft.ast.klass.Class object at 0x7f8be19e5040>\n\t\t.ConvTranspose3d -> <syft.ast.klass.Class object at 0x7f8be19e5640>\n\t\t.CosineSimilarity -> <syft.ast.klass.Class object at 0x7f8be19e5c40>\n\t\t.CrossMapLRN2d -> <syft.ast.klass.Class object at 0x7f8be19e7280>\n\t\t.DataParallel -> <syft.ast.klass.Class object at 0x7f8be19e7820>\n\t\t.Dropout -> <syft.ast.klass.Class object at 0x7f8be19e7dc0>\n\t\t.Dropout3d -> <syft.ast.klass.Class object at 0x7f8be19ea3a0>\n\t\t.ELU -> <syft.ast.klass.Class object at 0x7f8be19ea820>\n\t\t.Embedding -> <syft.ast.klass.Class object at 0x7f8be19eabe0>\n\t\t.EmbeddingBag -> <syft.ast.klass.Class object at 0x7f8be19ef0a0>\n\t\t.FeatureAlphaDropout -> <syft.ast.klass.Class object at 0x7f8be19ef640>\n\t\t.Flatten -> <syft.ast.klass.Class object at 0x7f8be19efd60>\n\t\t.Fold -> <syft.ast.klass.Class object at 0x7f8be19f2220>\n\t\t.FractionalMaxPool2d -> <syft.ast.klass.Class object at 0x7f8be19f2640>\n\t\t.FractionalMaxPool3d -> <syft.ast.klass.Class object at 0x7f8be19f2d60>\n\t\t.GELU -> <syft.ast.klass.Class object at 0x7f8be19f64c0>\n\t\t.GLU -> <syft.ast.klass.Class object at 0x7f8be19f68e0>\n\t\t.GRU -> <syft.ast.klass.Class object at 0x7f8be19f6ca0>\n\t\t.GRUCell -> <syft.ast.klass.Class object at 0x7f8be19fa0a0>\n\t\t.GroupNorm -> <syft.ast.klass.Class object at 0x7f8be19fa520>\n\t\t.Hardshrink -> <syft.ast.klass.Class object at 0x7f8be19fa9a0>\n\t\t.Hardsigmoid -> <syft.ast.klass.Class object at 0x7f8be19fae20>\n\t\t.Hardswish -> <syft.ast.klass.Class object at 0x7f8be19ff220>\n\t\t.Hardtanh -> <syft.ast.klass.Class object at 0x7f8be19ff5e0>\n\t\t.Identity -> <syft.ast.klass.Class object at 0x7f8be19ffa60>\n\t\t.InstanceNorm1d -> <syft.ast.klass.Class object at 0x7f8be19ffee0>\n\t\t.InstanceNorm2d -> <syft.ast.klass.Class object at 0x7f8be1a02520>\n\t\t.InstanceNorm3d -> <syft.ast.klass.Class object at 0x7f8be1a02b20>\n\t\t.LPPool1d -> <syft.ast.klass.Class object at 0x7f8be1a06160>\n\t\t.LPPool2d -> <syft.ast.klass.Class object at 0x7f8be1a065e0>\n\t\t.LSTM -> <syft.ast.klass.Class object at 0x7f8be1a06a60>\n\t\t.LSTMCell -> <syft.ast.klass.Class object at 0x7f8be1a06e80>\n\t\t.LayerNorm -> <syft.ast.klass.Class object at 0x7f8be1a09340>\n\t\t.LeakyReLU -> <syft.ast.klass.Class object at 0x7f8be1a097c0>\n\t\t.LocalResponseNorm -> <syft.ast.klass.Class object at 0x7f8be1a09c40>\n\t\t.LogSigmoid -> <syft.ast.klass.Class object at 0x7f8be1a0d2e0>\n\t\t.LogSoftmax -> <syft.ast.klass.Class object at 0x7f8be1a0d760>\n\t\t.MaxPool1d -> <syft.ast.klass.Class object at 0x7f8be1a0dbe0>\n\t\t.MaxPool2d -> <syft.ast.klass.Class object at 0x7f8be19930a0>\n\t\t.MaxPool3d -> <syft.ast.klass.Class object at 0x7f8be1993520>\n\t\t.MaxUnpool1d -> <syft.ast.klass.Class object at 0x7f8be19939a0>\n\t\t.MaxUnpool2d -> <syft.ast.klass.Class object at 0x7f8be1993e20>\n\t\t.MaxUnpool3d -> <syft.ast.klass.Class object at 0x7f8be19962e0>\n\t\t.ModuleDict -> <syft.ast.klass.Class object at 0x7f8be1996760>\n\t\t.ModuleList -> <syft.ast.klass.Class object at 0x7f8be1996be0>\n\t\t.MultiheadAttention -> <syft.ast.klass.Class object at 0x7f8be199a160>\n\t\t.PReLU -> <syft.ast.klass.Class object at 0x7f8be199a820>\n\t\t.PairwiseDistance -> <syft.ast.klass.Class object at 0x7f8be199ac40>\n\t\t.PixelShuffle -> <syft.ast.klass.Class object at 0x7f8be199e280>\n\t\t.RNN -> <syft.ast.klass.Class object at 0x7f8be199e820>\n\t\t.RNNBase -> <syft.ast.klass.Class object at 0x7f8be199ebe0>\n\t\t.RNNCell -> <syft.ast.klass.Class object at 0x7f8be19a10a0>\n\t\t.RNNCellBase -> <syft.ast.klass.Class object at 0x7f8be19a1520>\n\t\t.RReLU -> <syft.ast.klass.Class object at 0x7f8be19a19a0>\n\t\t.ReLU -> <syft.ast.klass.Class object at 0x7f8be19a1dc0>\n\t\t.ReLU6 -> <syft.ast.klass.Class object at 0x7f8be19a6220>\n\t\t.ReflectionPad1d -> <syft.ast.klass.Class object at 0x7f8be19a6640>\n\t\t.ReflectionPad2d -> <syft.ast.klass.Class object at 0x7f8be19a6c40>\n\t\t.ReplicationPad1d -> <syft.ast.klass.Class object at 0x7f8be19a9280>\n\t\t.ReplicationPad2d -> <syft.ast.klass.Class object at 0x7f8be19a9880>\n\t\t.ReplicationPad3d -> <syft.ast.klass.Class object at 0x7f8be19a9e80>\n\t\t.SELU -> <syft.ast.klass.Class object at 0x7f8be19ad4c0>\n\t\t.Sigmoid -> <syft.ast.klass.Class object at 0x7f8be19ada60>\n\t\t.Softmax -> <syft.ast.klass.Class object at 0x7f8be19adee0>\n\t\t.Softmax2d -> <syft.ast.klass.Class object at 0x7f8be19b13a0>\n\t\t.Softmin -> <syft.ast.klass.Class object at 0x7f8be19b1820>\n\t\t.Softplus -> <syft.ast.klass.Class object at 0x7f8be19b1ca0>\n\t\t.Softshrink -> <syft.ast.klass.Class object at 0x7f8be19b5160>\n\t\t.Softsign -> <syft.ast.klass.Class object at 0x7f8be19b55e0>\n\t\t.SyncBatchNorm -> <syft.ast.klass.Class object at 0x7f8be19b5a60>\n\t\t.Tanh -> <syft.ast.klass.Class object at 0x7f8be19b8040>\n\t\t.Tanhshrink -> <syft.ast.klass.Class object at 0x7f8be19b8460>\n\t\t.Threshold -> <syft.ast.klass.Class object at 0x7f8be19b88e0>\n\t\t.Transformer -> <syft.ast.klass.Class object at 0x7f8be19b8d60>\n\t\t.TransformerDecoder -> <syft.ast.klass.Class object at 0x7f8be19bd220>\n\t\t.TransformerDecoderLayer -> <syft.ast.klass.Class object at 0x7f8be19bd940>\n\t\t.TransformerEncoder -> <syft.ast.klass.Class object at 0x7f8be19bdfa0>\n\t\t.TransformerEncoderLayer -> <syft.ast.klass.Class object at 0x7f8be19c0700>\n\t\t.Unfold -> <syft.ast.klass.Class object at 0x7f8be19c0d60>\n\t\t.Upsample -> <syft.ast.klass.Class object at 0x7f8be19c21c0>\n\t\t.UpsamplingBilinear2d -> <syft.ast.klass.Class object at 0x7f8be19c2640>\n\t\t.UpsamplingNearest2d -> <syft.ast.klass.Class object at 0x7f8be19c2d00>\n\t\t.ZeroPad2d -> <syft.ast.klass.Class object at 0x7f8be19c4460>\n\n\t.return_types -> Module:\n\t\t.cummax -> <syft.ast.klass.Class object at 0x7f8c668802e0>\n\t\t.cummin -> <syft.ast.klass.Class object at 0x7f8c66880340>\n\t\t.eig -> <syft.ast.klass.Class object at 0x7f8c668803a0>\n\t\t.kthvalue -> <syft.ast.klass.Class object at 0x7f8c66880400>\n\t\t.lstsq -> <syft.ast.klass.Class object at 0x7f8c66880460>\n\t\t.slogdet -> <syft.ast.klass.Class object at 0x7f8c668804c0>\n\t\t.qr -> <syft.ast.klass.Class object at 0x7f8c66880520>\n\t\t.mode -> <syft.ast.klass.Class object at 0x7f8c66880580>\n\t\t.solve -> <syft.ast.klass.Class object at 0x7f8c668805e0>\n\t\t.sort -> <syft.ast.klass.Class object at 0x7f8c66880640>\n\t\t.symeig -> <syft.ast.klass.Class object at 0x7f8c668806a0>\n\t\t.topk -> <syft.ast.klass.Class object at 0x7f8c66880700>\n\t\t.triangular_solve -> <syft.ast.klass.Class object at 0x7f8c668807c0>\n\t\t.svd -> <syft.ast.klass.Class object at 0x7f8c66880820>\n\t\t.geqrf -> <syft.ast.klass.Class object at 0x7f8c66880880>\n\t\t.median -> <syft.ast.klass.Class object at 0x7f8c668808e0>\n\t\t.max -> <syft.ast.klass.Class object at 0x7f8c66880940>\n\t\t.min -> <syft.ast.klass.Class object at 0x7f8c668809a0>\n\n\t.Size -> <syft.ast.klass.Class object at 0x7f8c668598e0>\n\t.set_grad_enabled -> <syft.ast.klass.Class object at 0x7f8c66859be0>\n\t.zeros -> <syft.ast.callable.Callable object at 0x7f8c66859c40>\n\t.randn -> <syft.ast.callable.Callable object at 0x7f8c66859ca0>\n\t.ones_like -> <syft.ast.callable.Callable object at 0x7f8c66859d00>\n\t.arange -> <syft.ast.callable.Callable object at 0x7f8c66859e20>\n\t.abs_ -> <syft.ast.callable.Callable object at 0x7f8c66859e80>\n\t.abs -> <syft.ast.callable.Callable object at 0x7f8c66859ee0>\n\t.acos_ -> <syft.ast.callable.Callable object at 0x7f8c66859f40>\n\t.acos -> <syft.ast.callable.Callable object at 0x7f8c66859fa0>\n\t.add -> <syft.ast.callable.Callable object at 0x7f8be1a12040>\n\t.addbmm -> <syft.ast.callable.Callable object at 0x7f8be1a120a0>\n\t.addcdiv -> <syft.ast.callable.Callable object at 0x7f8be1a12100>\n\t.addcmul -> <syft.ast.callable.Callable object at 0x7f8be1a12160>\n\t.addmm -> <syft.ast.callable.Callable object at 0x7f8be1a121c0>\n\t.addmv_ -> <syft.ast.callable.Callable object at 0x7f8be1a12220>\n\t.addmv -> <syft.ast.callable.Callable object at 0x7f8be1a12280>\n\t.addr -> <syft.ast.callable.Callable object at 0x7f8be1a122e0>\n\t.all -> <syft.ast.callable.Callable object at 0x7f8be1a12340>\n\t.allclose -> <syft.ast.callable.Callable object at 0x7f8be1a123a0>\n\t.angle -> <syft.ast.callable.Callable object at 0x7f8be1a12400>\n\t.any -> <syft.ast.callable.Callable object at 0x7f8be1a12460>\n\t.argmax -> <syft.ast.callable.Callable object at 0x7f8be1a124c0>\n\t.argmin -> <syft.ast.callable.Callable object at 0x7f8be1a12520>\n\t.argsort -> <syft.ast.callable.Callable object at 0x7f8be1a12580>\n\t.as_strided_ -> <syft.ast.callable.Callable object at 0x7f8be1a125e0>\n\t.as_strided -> <syft.ast.callable.Callable object at 0x7f8be1a12640>\n\t.asin_ -> <syft.ast.callable.Callable object at 0x7f8be1a126a0>\n\t.asin -> <syft.ast.callable.Callable object at 0x7f8be1a12700>\n\t.atan_ -> <syft.ast.callable.Callable object at 0x7f8be1a12760>\n\t.atan -> <syft.ast.callable.Callable object at 0x7f8be1a127c0>\n\t.atan2 -> <syft.ast.callable.Callable object at 0x7f8be1a12820>\n\t.baddbmm -> <syft.ast.callable.Callable object at 0x7f8be1a12880>\n\t.bernoulli -> <syft.ast.callable.Callable object at 0x7f8be1a128e0>\n\t.bitwise_and -> <syft.ast.callable.Callable object at 0x7f8be1a12940>\n\t.bitwise_not -> <syft.ast.callable.Callable object at 0x7f8be1a129a0>\n\t.bitwise_or -> <syft.ast.callable.Callable object at 0x7f8be1a12a00>\n\t.bitwise_xor -> <syft.ast.callable.Callable object at 0x7f8be1a12a60>\n\t.bmm -> <syft.ast.callable.Callable object at 0x7f8be1a12ac0>\n\t.cat -> <syft.ast.callable.Callable object at 0x7f8be1a12b20>\n\t.ceil_ -> <syft.ast.callable.Callable object at 0x7f8be1a12b80>\n\t.ceil -> <syft.ast.callable.Callable object at 0x7f8be1a12be0>\n\t.cholesky_inverse -> <syft.ast.callable.Callable object at 0x7f8be1a12c40>\n\t.cholesky_solve -> <syft.ast.callable.Callable object at 0x7f8be1a12ca0>\n\t.cholesky -> <syft.ast.callable.Callable object at 0x7f8be1a12d00>\n\t.chunk -> <syft.ast.callable.Callable object at 0x7f8be1a12d60>\n\t.clamp_ -> <syft.ast.callable.Callable object at 0x7f8be1a12dc0>\n\t.clamp_max_ -> <syft.ast.callable.Callable object at 0x7f8be1a12e20>\n\t.clamp_max -> <syft.ast.callable.Callable object at 0x7f8be1a12e80>\n\t.clamp_min_ -> <syft.ast.callable.Callable object at 0x7f8be1a12ee0>\n\t.clamp_min -> <syft.ast.callable.Callable object at 0x7f8be1a12f40>\n\t.clamp -> <syft.ast.callable.Callable object at 0x7f8be1a12fa0>\n\t.clone -> <syft.ast.callable.Callable object at 0x7f8be1a16040>\n\t.conj -> <syft.ast.callable.Callable object at 0x7f8be1a160a0>\n\t.cos_ -> <syft.ast.callable.Callable object at 0x7f8be1a16100>\n\t.cos -> <syft.ast.callable.Callable object at 0x7f8be1a16160>\n\t.cosh_ -> <syft.ast.callable.Callable object at 0x7f8be1a161c0>\n\t.cosh -> <syft.ast.callable.Callable object at 0x7f8be1a16220>\n\t.cross -> <syft.ast.callable.Callable object at 0x7f8be1a16280>\n\t.cummax -> <syft.ast.callable.Callable object at 0x7f8be1a162e0>\n\t.cummin -> <syft.ast.callable.Callable object at 0x7f8be1a16340>\n\t.cumprod -> <syft.ast.callable.Callable object at 0x7f8be1a163a0>\n\t.cumsum -> <syft.ast.callable.Callable object at 0x7f8be1a16400>\n\t.dequantize -> <syft.ast.callable.Callable object at 0x7f8be1a16460>\n\t.det -> <syft.ast.callable.Callable object at 0x7f8be1a164c0>\n\t.detach -> <syft.ast.callable.Callable object at 0x7f8be1a16520>\n\t.diag_embed -> <syft.ast.callable.Callable object at 0x7f8be1a16580>\n\t.diag -> <syft.ast.callable.Callable object at 0x7f8be1a165e0>\n\t.diagflat -> <syft.ast.callable.Callable object at 0x7f8be1a16640>\n\t.diagonal -> <syft.ast.callable.Callable object at 0x7f8be1a166a0>\n\t.digamma -> <syft.ast.callable.Callable object at 0x7f8be1a16700>\n\t.dist -> <syft.ast.callable.Callable object at 0x7f8be1a16760>\n\t.div -> <syft.ast.callable.Callable object at 0x7f8be1a167c0>\n\t.dot -> <syft.ast.callable.Callable object at 0x7f8be1a16820>\n\t.eig -> <syft.ast.callable.Callable object at 0x7f8be1a16880>\n\t.eq -> <syft.ast.callable.Callable object at 0x7f8be1a168e0>\n\t.equal -> <syft.ast.callable.Callable object at 0x7f8be1a16940>\n\t.erf_ -> <syft.ast.callable.Callable object at 0x7f8be1a169a0>\n\t.erf -> <syft.ast.callable.Callable object at 0x7f8be1a16a00>\n\t.erfc_ -> <syft.ast.callable.Callable object at 0x7f8be1a16a60>\n\t.erfc -> <syft.ast.callable.Callable object at 0x7f8be1a16ac0>\n\t.erfinv -> <syft.ast.callable.Callable object at 0x7f8be1a16b20>\n\t.exp_ -> <syft.ast.callable.Callable object at 0x7f8be1a16b80>\n\t.exp -> <syft.ast.callable.Callable object at 0x7f8be1a16be0>\n\t.expm1_ -> <syft.ast.callable.Callable object at 0x7f8be1a16c40>\n\t.expm1 -> <syft.ast.callable.Callable object at 0x7f8be1a16ca0>\n\t.fft -> Module:\n\n\t.fill_ -> <syft.ast.callable.Callable object at 0x7f8be1a16d60>\n\t.flatten -> <syft.ast.callable.Callable object at 0x7f8be1a16dc0>\n\t.flip -> <syft.ast.callable.Callable object at 0x7f8be1a16e20>\n\t.floor_ -> <syft.ast.callable.Callable object at 0x7f8be1a16e80>\n\t.floor_divide -> <syft.ast.callable.Callable object at 0x7f8be1a16ee0>\n\t.floor -> <syft.ast.callable.Callable object at 0x7f8be1a16f40>\n\t.fmod -> <syft.ast.callable.Callable object at 0x7f8be1a16fa0>\n\t.frac_ -> <syft.ast.callable.Callable object at 0x7f8be1a1a040>\n\t.frac -> <syft.ast.callable.Callable object at 0x7f8be1a1a0a0>\n\t.from_numpy -> <syft.ast.callable.Callable object at 0x7f8be1a1a100>\n\t.gather -> <syft.ast.callable.Callable object at 0x7f8be1a1a160>\n\t.ge -> <syft.ast.callable.Callable object at 0x7f8be1a1a1c0>\n\t.geqrf -> <syft.ast.callable.Callable object at 0x7f8be1a1a220>\n\t.ger -> <syft.ast.callable.Callable object at 0x7f8be1a1a280>\n\t.get_device -> <syft.ast.callable.Callable object at 0x7f8be1a1a2e0>\n\t.gt -> <syft.ast.callable.Callable object at 0x7f8be1a1a340>\n\t.hardshrink -> <syft.ast.callable.Callable object at 0x7f8be1a1a3a0>\n\t.histc -> <syft.ast.callable.Callable object at 0x7f8be1a1a400>\n\t.index_add -> <syft.ast.callable.Callable object at 0x7f8be1a1a460>\n\t.index_copy -> <syft.ast.callable.Callable object at 0x7f8be1a1a4c0>\n\t.index_fill -> <syft.ast.callable.Callable object at 0x7f8be1a1a520>\n\t.index_put_ -> <syft.ast.callable.Callable object at 0x7f8be1a1a580>\n\t.index_put -> <syft.ast.callable.Callable object at 0x7f8be1a1a5e0>\n\t.index_select -> <syft.ast.callable.Callable object at 0x7f8be1a1a640>\n\t.int_repr -> <syft.ast.callable.Callable object at 0x7f8be1a1a6a0>\n\t.inverse -> <syft.ast.callable.Callable object at 0x7f8be1a1a700>\n\t.is_complex -> <syft.ast.callable.Callable object at 0x7f8be1a1a760>\n\t.is_distributed -> <syft.ast.callable.Callable object at 0x7f8be1a1a7c0>\n\t.is_floating_point -> <syft.ast.callable.Callable object at 0x7f8be1a1a820>\n\t.is_nonzero -> <syft.ast.callable.Callable object at 0x7f8be1a1a880>\n\t.is_same_size -> <syft.ast.callable.Callable object at 0x7f8be1a1a8e0>\n\t.is_signed -> <syft.ast.callable.Callable object at 0x7f8be1a1a940>\n\t.isclose -> <syft.ast.callable.Callable object at 0x7f8be1a1a9a0>\n\t.kthvalue -> <syft.ast.callable.Callable object at 0x7f8be1a1aa00>\n\t.le -> <syft.ast.callable.Callable object at 0x7f8be1a1aa60>\n\t.lerp -> <syft.ast.callable.Callable object at 0x7f8be1a1aac0>\n\t.lgamma -> <syft.ast.callable.Callable object at 0x7f8be1a1ab20>\n\t.log_ -> <syft.ast.callable.Callable object at 0x7f8be1a1ab80>\n\t.log_softmax -> <syft.ast.callable.Callable object at 0x7f8be1a1abe0>\n\t.log -> <syft.ast.callable.Callable object at 0x7f8be1a1ac40>\n\t.log10_ -> <syft.ast.callable.Callable object at 0x7f8be1a1aca0>\n\t.log10 -> <syft.ast.callable.Callable object at 0x7f8be1a1ad00>\n\t.log1p_ -> <syft.ast.callable.Callable object at 0x7f8be1a1ad60>\n\t.log1p -> <syft.ast.callable.Callable object at 0x7f8be1a1adc0>\n\t.log2_ -> <syft.ast.callable.Callable object at 0x7f8be1a1ae20>\n\t.log2 -> <syft.ast.callable.Callable object at 0x7f8be1a1ae80>\n\t.logdet -> <syft.ast.callable.Callable object at 0x7f8be1a1aee0>\n\t.logical_and -> <syft.ast.callable.Callable object at 0x7f8be1a1af40>\n\t.logical_not -> <syft.ast.callable.Callable object at 0x7f8be1a1afa0>\n\t.logical_or -> <syft.ast.callable.Callable object at 0x7f8be1a1f040>\n\t.logical_xor -> <syft.ast.callable.Callable object at 0x7f8be1a1f0a0>\n\t.logsumexp -> <syft.ast.callable.Callable object at 0x7f8be1a1f100>\n\t.lstsq -> <syft.ast.callable.Callable object at 0x7f8be1a1f160>\n\t.lt -> <syft.ast.callable.Callable object at 0x7f8be1a1f1c0>\n\t.lu_solve -> <syft.ast.callable.Callable object at 0x7f8be1a1f220>\n\t.lu -> <syft.ast.callable.Callable object at 0x7f8be1a1f280>\n\t.masked_fill -> <syft.ast.callable.Callable object at 0x7f8be1a1f2e0>\n\t.masked_scatter -> <syft.ast.callable.Callable object at 0x7f8be1a1f340>\n\t.masked_select -> <syft.ast.callable.Callable object at 0x7f8be1a1f3a0>\n\t.matmul -> <syft.ast.callable.Callable object at 0x7f8be1a1f400>\n\t.matrix_power -> <syft.ast.callable.Callable object at 0x7f8be1a1f460>\n\t.mean -> <syft.ast.callable.Callable object at 0x7f8be1a1f4c0>\n\t.mm -> <syft.ast.callable.Callable object at 0x7f8be1a1f520>\n\t.mode -> <syft.ast.callable.Callable object at 0x7f8be1a1f580>\n\t.mul -> <syft.ast.callable.Callable object at 0x7f8be1a1f5e0>\n\t.multinomial -> <syft.ast.callable.Callable object at 0x7f8be1a1f640>\n\t.mv -> <syft.ast.callable.Callable object at 0x7f8be1a1f6a0>\n\t.mvlgamma -> <syft.ast.callable.Callable object at 0x7f8be1a1f700>\n\t.narrow -> <syft.ast.callable.Callable object at 0x7f8be1a1f760>\n\t.ne -> <syft.ast.callable.Callable object at 0x7f8be1a1f7c0>\n\t.neg_ -> <syft.ast.callable.Callable object at 0x7f8be1a1f820>\n\t.neg -> <syft.ast.callable.Callable object at 0x7f8be1a1f880>\n\t.nonzero -> <syft.ast.callable.Callable object at 0x7f8be1a1f8e0>\n\t.norm -> <syft.ast.callable.Callable object at 0x7f8be1a1f940>\n\t.orgqr -> <syft.ast.callable.Callable object at 0x7f8be1a1f9a0>\n\t.ormqr -> <syft.ast.callable.Callable object at 0x7f8be1a1fa00>\n\t.pinverse -> <syft.ast.callable.Callable object at 0x7f8be1a1fa60>\n\t.polygamma -> <syft.ast.callable.Callable object at 0x7f8be1a1fac0>\n\t.pow -> <syft.ast.callable.Callable object at 0x7f8be1a1fb20>\n\t.prelu -> <syft.ast.callable.Callable object at 0x7f8be1a1fb80>\n\t.q_per_channel_axis -> <syft.ast.callable.Callable object at 0x7f8be1a1fbe0>\n\t.q_per_channel_scales -> <syft.ast.callable.Callable object at 0x7f8be1a1fc40>\n\t.q_per_channel_zero_points -> <syft.ast.callable.Callable object at 0x7f8be1a1fca0>\n\t.q_scale -> <syft.ast.callable.Callable object at 0x7f8be1a1fd00>\n\t.q_zero_point -> <syft.ast.callable.Callable object at 0x7f8be1a1fd60>\n\t.qr -> <syft.ast.callable.Callable object at 0x7f8be1a1fdc0>\n\t.reciprocal_ -> <syft.ast.callable.Callable object at 0x7f8be1a1fe20>\n\t.reciprocal -> <syft.ast.callable.Callable object at 0x7f8be1a1fe80>\n\t.relu_ -> <syft.ast.callable.Callable object at 0x7f8be1a1fee0>\n\t.relu -> <syft.ast.callable.Callable object at 0x7f8be1a1ff40>\n\t.remainder -> <syft.ast.callable.Callable object at 0x7f8be1a1ffa0>\n\t.renorm -> <syft.ast.callable.Callable object at 0x7f8be1a23040>\n\t.repeat_interleave -> <syft.ast.callable.Callable object at 0x7f8be1a230a0>\n\t.reshape -> <syft.ast.callable.Callable object at 0x7f8be1a23100>\n\t.resize_as_ -> <syft.ast.callable.Callable object at 0x7f8be1a23160>\n\t.roll -> <syft.ast.callable.Callable object at 0x7f8be1a231c0>\n\t.rot90 -> <syft.ast.callable.Callable object at 0x7f8be1a23220>\n\t.round_ -> <syft.ast.callable.Callable object at 0x7f8be1a23280>\n\t.round -> <syft.ast.callable.Callable object at 0x7f8be1a232e0>\n\t.rsqrt_ -> <syft.ast.callable.Callable object at 0x7f8be1a23340>\n\t.rsqrt -> <syft.ast.callable.Callable object at 0x7f8be1a233a0>\n\t.scatter_add -> <syft.ast.callable.Callable object at 0x7f8be1a23400>\n\t.scatter -> <syft.ast.callable.Callable object at 0x7f8be1a23460>\n\t.select -> <syft.ast.callable.Callable object at 0x7f8be1a234c0>\n\t.sigmoid_ -> <syft.ast.callable.Callable object at 0x7f8be1a23520>\n\t.sigmoid -> <syft.ast.callable.Callable object at 0x7f8be1a23580>\n\t.sign -> <syft.ast.callable.Callable object at 0x7f8be1a235e0>\n\t.sin_ -> <syft.ast.callable.Callable object at 0x7f8be1a23640>\n\t.sin -> <syft.ast.callable.Callable object at 0x7f8be1a236a0>\n\t.sinh_ -> <syft.ast.callable.Callable object at 0x7f8be1a23700>\n\t.sinh -> <syft.ast.callable.Callable object at 0x7f8be1a23760>\n\t.slogdet -> <syft.ast.callable.Callable object at 0x7f8be1a237c0>\n\t.softmax -> <syft.ast.callable.Callable object at 0x7f8be1a23820>\n\t.solve -> <syft.ast.callable.Callable object at 0x7f8be1a23880>\n\t.sort -> <syft.ast.callable.Callable object at 0x7f8be1a238e0>\n\t.split_with_sizes -> <syft.ast.callable.Callable object at 0x7f8be1a23940>\n\t.split -> <syft.ast.callable.Callable object at 0x7f8be1a239a0>\n\t.sqrt_ -> <syft.ast.callable.Callable object at 0x7f8be1a23a00>\n\t.sqrt -> <syft.ast.callable.Callable object at 0x7f8be1a23a60>\n\t.square_ -> <syft.ast.callable.Callable object at 0x7f8be1a23ac0>\n\t.square -> <syft.ast.callable.Callable object at 0x7f8be1a23b20>\n\t.squeeze -> <syft.ast.callable.Callable object at 0x7f8be1a23b80>\n\t.stack -> <syft.ast.callable.Callable object at 0x7f8be1a23be0>\n\t.std -> <syft.ast.callable.Callable object at 0x7f8be1a23c40>\n\t.stft -> <syft.ast.callable.Callable object at 0x7f8be1a23ca0>\n\t.sub -> <syft.ast.callable.Callable object at 0x7f8be1a23d00>\n\t.sum -> <syft.ast.callable.Callable object at 0x7f8be1a23d60>\n\t.svd -> <syft.ast.callable.Callable object at 0x7f8be1a23dc0>\n\t.symeig -> <syft.ast.callable.Callable object at 0x7f8be1a23e20>\n\t.t -> <syft.ast.callable.Callable object at 0x7f8be1a23e80>\n\t.take -> <syft.ast.callable.Callable object at 0x7f8be1a23ee0>\n\t.tan_ -> <syft.ast.callable.Callable object at 0x7f8be1a23f40>\n\t.tan -> <syft.ast.callable.Callable object at 0x7f8be1a23fa0>\n\t.tanh_ -> <syft.ast.callable.Callable object at 0x7f8be1a27040>\n\t.tanh -> <syft.ast.callable.Callable object at 0x7f8be1a270a0>\n\t.topk -> <syft.ast.callable.Callable object at 0x7f8be1a27100>\n\t.trace -> <syft.ast.callable.Callable object at 0x7f8be1a27160>\n\t.transpose -> <syft.ast.callable.Callable object at 0x7f8be1a271c0>\n\t.triangular_solve -> <syft.ast.callable.Callable object at 0x7f8be1a27220>\n\t.tril -> <syft.ast.callable.Callable object at 0x7f8be1a27280>\n\t.triu -> <syft.ast.callable.Callable object at 0x7f8be1a272e0>\n\t.true_divide -> <syft.ast.callable.Callable object at 0x7f8be1a27340>\n\t.trunc_ -> <syft.ast.callable.Callable object at 0x7f8be1a273a0>\n\t.trunc -> <syft.ast.callable.Callable object at 0x7f8be1a27400>\n\t.unique_consecutive -> <syft.ast.callable.Callable object at 0x7f8be1a27460>\n\t.unique -> <syft.ast.callable.Callable object at 0x7f8be1a274c0>\n\t.unsqueeze -> <syft.ast.callable.Callable object at 0x7f8be1a27520>\n\t.var -> <syft.ast.callable.Callable object at 0x7f8be1a27580>\n\t.unsafe_chunk -> <syft.ast.callable.Callable object at 0x7f8be1a275e0>\n\t.absolute -> <syft.ast.callable.Callable object at 0x7f8be1a27640>\n\t.acosh_ -> <syft.ast.callable.Callable object at 0x7f8be1a276a0>\n\t.acosh -> <syft.ast.callable.Callable object at 0x7f8be1a27700>\n\t.asinh_ -> <syft.ast.callable.Callable object at 0x7f8be1a27760>\n\t.asinh -> <syft.ast.callable.Callable object at 0x7f8be1a277c0>\n\t.atanh_ -> <syft.ast.callable.Callable object at 0x7f8be1a27820>\n\t.atanh -> <syft.ast.callable.Callable object at 0x7f8be1a27880>\n\t.deg2rad_ -> <syft.ast.callable.Callable object at 0x7f8be1a278e0>\n\t.deg2rad -> <syft.ast.callable.Callable object at 0x7f8be1a27940>\n\t.fliplr -> <syft.ast.callable.Callable object at 0x7f8be1a279a0>\n\t.flipud -> <syft.ast.callable.Callable object at 0x7f8be1a27a00>\n\t.isfinite -> <syft.ast.callable.Callable object at 0x7f8be1a27a60>\n\t.isinf -> <syft.ast.callable.Callable object at 0x7f8be1a27ac0>\n\t.isnan -> <syft.ast.callable.Callable object at 0x7f8be1a27b20>\n\t.logaddexp -> <syft.ast.callable.Callable object at 0x7f8be1a27b80>\n\t.logaddexp2 -> <syft.ast.callable.Callable object at 0x7f8be1a27be0>\n\t.logcumsumexp -> <syft.ast.callable.Callable object at 0x7f8be1a27c40>\n\t.rad2deg_ -> <syft.ast.callable.Callable object at 0x7f8be1a27ca0>\n\t.rad2deg -> <syft.ast.callable.Callable object at 0x7f8be1a27d00>\n\t.istft -> <syft.ast.callable.Callable object at 0x7f8be1a27d60>\n\t.amax -> <syft.ast.callable.Callable object at 0x7f8be1a27dc0>\n\t.amin -> <syft.ast.callable.Callable object at 0x7f8be1a27e20>\n\t.arccos -> <syft.ast.callable.Callable object at 0x7f8be1a27e80>\n\t.arccos_ -> <syft.ast.callable.Callable object at 0x7f8be1a27ee0>\n\t.arccosh -> <syft.ast.callable.Callable object at 0x7f8be1a27f40>\n\t.arccosh_ -> <syft.ast.callable.Callable object at 0x7f8be1a27fa0>\n\t.arcsin -> <syft.ast.callable.Callable object at 0x7f8be1a2b040>\n\t.arcsin_ -> <syft.ast.callable.Callable object at 0x7f8be1a2b0a0>\n\t.arcsinh -> <syft.ast.callable.Callable object at 0x7f8be1a2b100>\n\t.arcsinh_ -> <syft.ast.callable.Callable object at 0x7f8be1a2b160>\n\t.arctan -> <syft.ast.callable.Callable object at 0x7f8be1a2b1c0>\n\t.arctan_ -> <syft.ast.callable.Callable object at 0x7f8be1a2b220>\n\t.arctanh -> <syft.ast.callable.Callable object at 0x7f8be1a2b280>\n\t.arctanh_ -> <syft.ast.callable.Callable object at 0x7f8be1a2b2e0>\n\t.clip -> <syft.ast.callable.Callable object at 0x7f8be1a2b340>\n\t.clip_ -> <syft.ast.callable.Callable object at 0x7f8be1a2b3a0>\n\t.count_nonzero -> <syft.ast.callable.Callable object at 0x7f8be1a2b400>\n\t.divide -> <syft.ast.callable.Callable object at 0x7f8be1a2b460>\n\t.exp2 -> <syft.ast.callable.Callable object at 0x7f8be1a2b4c0>\n\t.exp2_ -> <syft.ast.callable.Callable object at 0x7f8be1a2b520>\n\t.fix -> <syft.ast.callable.Callable object at 0x7f8be1a2b580>\n\t.fix_ -> <syft.ast.callable.Callable object at 0x7f8be1a2b5e0>\n\t.gcd -> <syft.ast.callable.Callable object at 0x7f8be1a2b640>\n\t.gcd_ -> <syft.ast.callable.Callable object at 0x7f8be1a2b6a0>\n\t.greater -> <syft.ast.callable.Callable object at 0x7f8be1a2b700>\n\t.greater_equal -> <syft.ast.callable.Callable object at 0x7f8be1a2b760>\n\t.heaviside -> <syft.ast.callable.Callable object at 0x7f8be1a2b7c0>\n\t.hypot -> <syft.ast.callable.Callable object at 0x7f8be1a2b820>\n\t.i0 -> <syft.ast.callable.Callable object at 0x7f8be1a2b880>\n\t.i0_ -> <syft.ast.callable.Callable object at 0x7f8be1a2b8e0>\n\t.isneginf -> <syft.ast.callable.Callable object at 0x7f8be1a2b940>\n\t.isposinf -> <syft.ast.callable.Callable object at 0x7f8be1a2b9a0>\n\t.isreal -> <syft.ast.callable.Callable object at 0x7f8be1a2ba00>\n\t.lcm -> <syft.ast.callable.Callable object at 0x7f8be1a2ba60>\n\t.lcm_ -> <syft.ast.callable.Callable object at 0x7f8be1a2bac0>\n\t.less -> <syft.ast.callable.Callable object at 0x7f8be1a2bb20>\n\t.less_equal -> <syft.ast.callable.Callable object at 0x7f8be1a2bb80>\n\t.logit -> <syft.ast.callable.Callable object at 0x7f8be1a2bbe0>\n\t.logit_ -> <syft.ast.callable.Callable object at 0x7f8be1a2bc40>\n\t.maximum -> <syft.ast.callable.Callable object at 0x7f8be1a2bca0>\n\t.minimum -> <syft.ast.callable.Callable object at 0x7f8be1a2bd00>\n\t.matrix_exp -> <syft.ast.callable.Callable object at 0x7f8be1a2bd60>\n\t.multiply -> <syft.ast.callable.Callable object at 0x7f8be1a2bdc0>\n\t.nanquantile -> <syft.ast.callable.Callable object at 0x7f8be1a2be20>\n\t.nansum -> <syft.ast.callable.Callable object at 0x7f8be1a2be80>\n\t.negative -> <syft.ast.callable.Callable object at 0x7f8be1a2bee0>\n\t.negative_ -> <syft.ast.callable.Callable object at 0x7f8be1a2bf40>\n\t.nextafter -> <syft.ast.callable.Callable object at 0x7f8be1a2bfa0>\n\t.outer -> <syft.ast.callable.Callable object at 0x7f8be1a30040>\n\t.quantile -> <syft.ast.callable.Callable object at 0x7f8be1a300a0>\n\t.sgn -> <syft.ast.callable.Callable object at 0x7f8be1a30100>\n\t.signbit -> <syft.ast.callable.Callable object at 0x7f8be1a30160>\n\t.subtract -> <syft.ast.callable.Callable object at 0x7f8be1a301c0>\n\t.unsafe_split -> <syft.ast.callable.Callable object at 0x7f8be1a30220>\n\t.vdot -> <syft.ast.callable.Callable object at 0x7f8be1a30280>\n\t.movedim -> <syft.ast.callable.Callable object at 0x7f8be1a302e0>\n\t.unsafe_split_with_sizes -> <syft.ast.callable.Callable object at 0x7f8be1a30340>\n\t.cuda -> Module:\n\t\t.is_available -> <syft.ast.callable.Callable object at 0x7f8be1a30400>\n\n\t.device -> <syft.ast.klass.Class object at 0x7f8be1a30460>\n\t.random -> Module:\n\t\t.initial_seed -> <syft.ast.callable.Callable object at 0x7f8be1a305e0>\n\n\t.zeros_like -> <syft.ast.callable.Callable object at 0x7f8be1a30640>\n\t.manual_seed -> <syft.ast.callable.Callable object at 0x7f8be1a306a0>\n\t.Generator -> <syft.ast.klass.Class object at 0x7f8be1a30700>\n\t.utils -> Module:\n\t\t.data -> Module:\n\t\t\t.DataLoader -> <syft.ast.klass.Class object at 0x7f8be1a35a00>\n\t\t\t.dataloader -> Module:\n\t\t\t\t._SingleProcessDataLoaderIter -> <syft.ast.klass.Class object at 0x7f8be1a35c40>\n\n\n\n\t.optim -> Module:\n\t\t.ASGD -> <syft.ast.klass.Class object at 0x7f8be1a38040>\n\t\t.Adadelta -> <syft.ast.klass.Class object at 0x7f8be1a381c0>\n\t\t.Adagrad -> <syft.ast.klass.Class object at 0x7f8be1a38340>\n\t\t.Adam -> <syft.ast.klass.Class object at 0x7f8be1a384c0>\n\t\t.AdamW -> <syft.ast.klass.Class object at 0x7f8be1a38640>\n\t\t.Adamax -> <syft.ast.klass.Class object at 0x7f8be1a387c0>\n\t\t.LBFGS -> <syft.ast.klass.Class object at 0x7f8be1a38940>\n\t\t.Optimizer -> <syft.ast.klass.Class object at 0x7f8be1a38ac0>\n\t\t.RMSprop -> <syft.ast.klass.Class object at 0x7f8be1a38ca0>\n\t\t.Rprop -> <syft.ast.klass.Class object at 0x7f8be1a38e20>\n\t\t.SGD -> <syft.ast.klass.Class object at 0x7f8be1a38fa0>\n\t\t.SparseAdam -> <syft.ast.klass.Class object at 0x7f8be1a3d160>\n\t\t.lr_scheduler -> Module:\n\t\t\t.StepLR -> <syft.ast.klass.Class object at 0x7f8be1a3d400>\n\n\n\t.no_grad -> <syft.ast.klass.Class object at 0x7f8be1a3d5e0>\n\t.autograd -> Module:\n\t\t.grad_mode -> Module:\n\t\t\t.no_grad -> <syft.ast.klass.Class object at 0x7f8be1a3d760>\n\n\n\t.distributions -> Module:\n\t\t.Categorical -> <syft.ast.klass.Class object at 0x7f8be19c4940>\n\n\t.kron -> <syft.ast.callable.Callable object at 0x7f8be19c4ee0>\n\t.msort -> <syft.ast.callable.Callable object at 0x7f8be19ca040>\n\t.row_stack -> <syft.ast.callable.Callable object at 0x7f8be19ca0a0>\n\t.moveaxis -> <syft.ast.callable.Callable object at 0x7f8be19ca3a0>\n\t.tensor_split -> <syft.ast.callable.Callable object at 0x7f8be19ca4c0>\n\t.tile -> <syft.ast.callable.Callable object at 0x7f8be19ca5e0>\n\t.fmin -> <syft.ast.callable.Callable object at 0x7f8be19ca7c0>\n\t.ldexp -> <syft.ast.callable.Callable object at 0x7f8be19ca820>\n\t.igamma -> <syft.ast.callable.Callable object at 0x7f8be19ca940>\n\t.float_power -> <syft.ast.callable.Callable object at 0x7f8be19cae20>\n\t.xlogy -> <syft.ast.callable.Callable object at 0x7f8be19caf40>\n\t.copysign -> <syft.ast.callable.Callable object at 0x7f8be19cafa0>\n\t.nanmedian -> <syft.ast.callable.Callable object at 0x7f8be194f040>\n\t.igammac -> <syft.ast.callable.Callable object at 0x7f8be194f0a0>\n\t.diff -> <syft.ast.callable.Callable object at 0x7f8be194f1c0>\n\t.sinc -> <syft.ast.callable.Callable object at 0x7f8be194f2e0>\n\t.column_stack -> <syft.ast.callable.Callable object at 0x7f8be194f4c0>\n\t.pixel_unshuffle -> <syft.ast.callable.Callable object at 0x7f8be194f5e0>\n\t.swapaxes -> <syft.ast.callable.Callable object at 0x7f8be194f880>\n\t.nan_to_num -> <syft.ast.callable.Callable object at 0x7f8be194f8e0>\n\t.inner -> <syft.ast.callable.Callable object at 0x7f8be194f940>\n\t.fmax -> <syft.ast.callable.Callable object at 0x7f8be194f9a0>\n\t.ravel -> <syft.ast.callable.Callable object at 0x7f8be194fd00>\n\t.broadcast_to -> <syft.ast.callable.Callable object at 0x7f8be194fd60>\n\t.swapdims -> <syft.ast.callable.Callable object at 0x7f8be194ff40>"
          },
          "metadata": {}
        }
      ],
      "execution_count": 3,
      "metadata": {
        "jupyter": {
          "source_hidden": false,
          "outputs_hidden": false
        },
        "nteract": {
          "transient": {
            "deleting": false
          }
        },
        "gather": {
          "logged": 1632064219897
        }
      }
    },
    {
      "cell_type": "markdown",
      "source": [
        "# Client: loading and exploring the dataset"
      ],
      "metadata": {
        "nteract": {
          "transient": {
            "deleting": false
          }
        }
      }
    },
    {
      "cell_type": "code",
      "source": [
        "boston_dataset = load_boston()\n",
        "data = pd.DataFrame(boston_dataset.data, columns=boston_dataset.feature_names)\n",
        "data"
      ],
      "outputs": [
        {
          "output_type": "execute_result",
          "execution_count": 4,
          "data": {
            "text/plain": "        CRIM    ZN  INDUS  CHAS    NOX     RM   AGE     DIS  RAD    TAX  \\\n0    0.00632  18.0   2.31   0.0  0.538  6.575  65.2  4.0900  1.0  296.0   \n1    0.02731   0.0   7.07   0.0  0.469  6.421  78.9  4.9671  2.0  242.0   \n2    0.02729   0.0   7.07   0.0  0.469  7.185  61.1  4.9671  2.0  242.0   \n3    0.03237   0.0   2.18   0.0  0.458  6.998  45.8  6.0622  3.0  222.0   \n4    0.06905   0.0   2.18   0.0  0.458  7.147  54.2  6.0622  3.0  222.0   \n..       ...   ...    ...   ...    ...    ...   ...     ...  ...    ...   \n501  0.06263   0.0  11.93   0.0  0.573  6.593  69.1  2.4786  1.0  273.0   \n502  0.04527   0.0  11.93   0.0  0.573  6.120  76.7  2.2875  1.0  273.0   \n503  0.06076   0.0  11.93   0.0  0.573  6.976  91.0  2.1675  1.0  273.0   \n504  0.10959   0.0  11.93   0.0  0.573  6.794  89.3  2.3889  1.0  273.0   \n505  0.04741   0.0  11.93   0.0  0.573  6.030  80.8  2.5050  1.0  273.0   \n\n     PTRATIO       B  LSTAT  \n0       15.3  396.90   4.98  \n1       17.8  396.90   9.14  \n2       17.8  392.83   4.03  \n3       18.7  394.63   2.94  \n4       18.7  396.90   5.33  \n..       ...     ...    ...  \n501     21.0  391.99   9.67  \n502     21.0  396.90   9.08  \n503     21.0  396.90   5.64  \n504     21.0  393.45   6.48  \n505     21.0  396.90   7.88  \n\n[506 rows x 13 columns]",
            "text/html": "<div>\n<style scoped>\n    .dataframe tbody tr th:only-of-type {\n        vertical-align: middle;\n    }\n\n    .dataframe tbody tr th {\n        vertical-align: top;\n    }\n\n    .dataframe thead th {\n        text-align: right;\n    }\n</style>\n<table border=\"1\" class=\"dataframe\">\n  <thead>\n    <tr style=\"text-align: right;\">\n      <th></th>\n      <th>CRIM</th>\n      <th>ZN</th>\n      <th>INDUS</th>\n      <th>CHAS</th>\n      <th>NOX</th>\n      <th>RM</th>\n      <th>AGE</th>\n      <th>DIS</th>\n      <th>RAD</th>\n      <th>TAX</th>\n      <th>PTRATIO</th>\n      <th>B</th>\n      <th>LSTAT</th>\n    </tr>\n  </thead>\n  <tbody>\n    <tr>\n      <th>0</th>\n      <td>0.00632</td>\n      <td>18.0</td>\n      <td>2.31</td>\n      <td>0.0</td>\n      <td>0.538</td>\n      <td>6.575</td>\n      <td>65.2</td>\n      <td>4.0900</td>\n      <td>1.0</td>\n      <td>296.0</td>\n      <td>15.3</td>\n      <td>396.90</td>\n      <td>4.98</td>\n    </tr>\n    <tr>\n      <th>1</th>\n      <td>0.02731</td>\n      <td>0.0</td>\n      <td>7.07</td>\n      <td>0.0</td>\n      <td>0.469</td>\n      <td>6.421</td>\n      <td>78.9</td>\n      <td>4.9671</td>\n      <td>2.0</td>\n      <td>242.0</td>\n      <td>17.8</td>\n      <td>396.90</td>\n      <td>9.14</td>\n    </tr>\n    <tr>\n      <th>2</th>\n      <td>0.02729</td>\n      <td>0.0</td>\n      <td>7.07</td>\n      <td>0.0</td>\n      <td>0.469</td>\n      <td>7.185</td>\n      <td>61.1</td>\n      <td>4.9671</td>\n      <td>2.0</td>\n      <td>242.0</td>\n      <td>17.8</td>\n      <td>392.83</td>\n      <td>4.03</td>\n    </tr>\n    <tr>\n      <th>3</th>\n      <td>0.03237</td>\n      <td>0.0</td>\n      <td>2.18</td>\n      <td>0.0</td>\n      <td>0.458</td>\n      <td>6.998</td>\n      <td>45.8</td>\n      <td>6.0622</td>\n      <td>3.0</td>\n      <td>222.0</td>\n      <td>18.7</td>\n      <td>394.63</td>\n      <td>2.94</td>\n    </tr>\n    <tr>\n      <th>4</th>\n      <td>0.06905</td>\n      <td>0.0</td>\n      <td>2.18</td>\n      <td>0.0</td>\n      <td>0.458</td>\n      <td>7.147</td>\n      <td>54.2</td>\n      <td>6.0622</td>\n      <td>3.0</td>\n      <td>222.0</td>\n      <td>18.7</td>\n      <td>396.90</td>\n      <td>5.33</td>\n    </tr>\n    <tr>\n      <th>...</th>\n      <td>...</td>\n      <td>...</td>\n      <td>...</td>\n      <td>...</td>\n      <td>...</td>\n      <td>...</td>\n      <td>...</td>\n      <td>...</td>\n      <td>...</td>\n      <td>...</td>\n      <td>...</td>\n      <td>...</td>\n      <td>...</td>\n    </tr>\n    <tr>\n      <th>501</th>\n      <td>0.06263</td>\n      <td>0.0</td>\n      <td>11.93</td>\n      <td>0.0</td>\n      <td>0.573</td>\n      <td>6.593</td>\n      <td>69.1</td>\n      <td>2.4786</td>\n      <td>1.0</td>\n      <td>273.0</td>\n      <td>21.0</td>\n      <td>391.99</td>\n      <td>9.67</td>\n    </tr>\n    <tr>\n      <th>502</th>\n      <td>0.04527</td>\n      <td>0.0</td>\n      <td>11.93</td>\n      <td>0.0</td>\n      <td>0.573</td>\n      <td>6.120</td>\n      <td>76.7</td>\n      <td>2.2875</td>\n      <td>1.0</td>\n      <td>273.0</td>\n      <td>21.0</td>\n      <td>396.90</td>\n      <td>9.08</td>\n    </tr>\n    <tr>\n      <th>503</th>\n      <td>0.06076</td>\n      <td>0.0</td>\n      <td>11.93</td>\n      <td>0.0</td>\n      <td>0.573</td>\n      <td>6.976</td>\n      <td>91.0</td>\n      <td>2.1675</td>\n      <td>1.0</td>\n      <td>273.0</td>\n      <td>21.0</td>\n      <td>396.90</td>\n      <td>5.64</td>\n    </tr>\n    <tr>\n      <th>504</th>\n      <td>0.10959</td>\n      <td>0.0</td>\n      <td>11.93</td>\n      <td>0.0</td>\n      <td>0.573</td>\n      <td>6.794</td>\n      <td>89.3</td>\n      <td>2.3889</td>\n      <td>1.0</td>\n      <td>273.0</td>\n      <td>21.0</td>\n      <td>393.45</td>\n      <td>6.48</td>\n    </tr>\n    <tr>\n      <th>505</th>\n      <td>0.04741</td>\n      <td>0.0</td>\n      <td>11.93</td>\n      <td>0.0</td>\n      <td>0.573</td>\n      <td>6.030</td>\n      <td>80.8</td>\n      <td>2.5050</td>\n      <td>1.0</td>\n      <td>273.0</td>\n      <td>21.0</td>\n      <td>396.90</td>\n      <td>7.88</td>\n    </tr>\n  </tbody>\n</table>\n<p>506 rows × 13 columns</p>\n</div>"
          },
          "metadata": {}
        }
      ],
      "execution_count": 4,
      "metadata": {
        "jupyter": {
          "source_hidden": false,
          "outputs_hidden": false
        },
        "nteract": {
          "transient": {
            "deleting": false
          }
        },
        "gather": {
          "logged": 1632064220358
        }
      }
    },
    {
      "cell_type": "code",
      "source": [
        "target = pd.DataFrame(boston_dataset['target'])\n",
        "target"
      ],
      "outputs": [
        {
          "output_type": "execute_result",
          "execution_count": 5,
          "data": {
            "text/plain": "        0\n0    24.0\n1    21.6\n2    34.7\n3    33.4\n4    36.2\n..    ...\n501  22.4\n502  20.6\n503  23.9\n504  22.0\n505  11.9\n\n[506 rows x 1 columns]",
            "text/html": "<div>\n<style scoped>\n    .dataframe tbody tr th:only-of-type {\n        vertical-align: middle;\n    }\n\n    .dataframe tbody tr th {\n        vertical-align: top;\n    }\n\n    .dataframe thead th {\n        text-align: right;\n    }\n</style>\n<table border=\"1\" class=\"dataframe\">\n  <thead>\n    <tr style=\"text-align: right;\">\n      <th></th>\n      <th>0</th>\n    </tr>\n  </thead>\n  <tbody>\n    <tr>\n      <th>0</th>\n      <td>24.0</td>\n    </tr>\n    <tr>\n      <th>1</th>\n      <td>21.6</td>\n    </tr>\n    <tr>\n      <th>2</th>\n      <td>34.7</td>\n    </tr>\n    <tr>\n      <th>3</th>\n      <td>33.4</td>\n    </tr>\n    <tr>\n      <th>4</th>\n      <td>36.2</td>\n    </tr>\n    <tr>\n      <th>...</th>\n      <td>...</td>\n    </tr>\n    <tr>\n      <th>501</th>\n      <td>22.4</td>\n    </tr>\n    <tr>\n      <th>502</th>\n      <td>20.6</td>\n    </tr>\n    <tr>\n      <th>503</th>\n      <td>23.9</td>\n    </tr>\n    <tr>\n      <th>504</th>\n      <td>22.0</td>\n    </tr>\n    <tr>\n      <th>505</th>\n      <td>11.9</td>\n    </tr>\n  </tbody>\n</table>\n<p>506 rows × 1 columns</p>\n</div>"
          },
          "metadata": {}
        }
      ],
      "execution_count": 5,
      "metadata": {
        "jupyter": {
          "source_hidden": false,
          "outputs_hidden": false
        },
        "nteract": {
          "transient": {
            "deleting": false
          }
        },
        "gather": {
          "logged": 1632064220773
        }
      }
    },
    {
      "cell_type": "code",
      "source": [
        "X = torch.tensor(boston_dataset[\"data\"]).float()\n",
        "y = torch.tensor(boston_dataset[\"target\"]).float()"
      ],
      "outputs": [],
      "execution_count": 6,
      "metadata": {
        "jupyter": {
          "source_hidden": false,
          "outputs_hidden": false
        },
        "nteract": {
          "transient": {
            "deleting": false
          }
        },
        "gather": {
          "logged": 1632064221140
        }
      }
    },
    {
      "cell_type": "markdown",
      "source": [
        "Let's split the dataset into a train dataset and a validation dataset (80%-20%)"
      ],
      "metadata": {
        "nteract": {
          "transient": {
            "deleting": false
          }
        }
      }
    },
    {
      "cell_type": "code",
      "source": [
        "train_val_ratio = 0.8\n",
        "split_idx = int(len(X)*train_val_ratio)"
      ],
      "outputs": [],
      "execution_count": 18,
      "metadata": {
        "jupyter": {
          "source_hidden": false,
          "outputs_hidden": false
        },
        "nteract": {
          "transient": {
            "deleting": false
          }
        },
        "gather": {
          "logged": 1632064366313
        }
      }
    },
    {
      "cell_type": "code",
      "source": [
        "X_train = X[:split_idx, :]\n",
        "X_val = X[split_idx:, :]\n",
        "y_train = y[:split_idx]\n",
        "y_val = y[split_idx:]"
      ],
      "outputs": [
        {
          "output_type": "error",
          "ename": "TypeError",
          "evalue": "'AnyPointer' object is not subscriptable",
          "traceback": [
            "\u001b[0;31m---------------------------------------------------------------------------\u001b[0m",
            "\u001b[0;31mTypeError\u001b[0m                                 Traceback (most recent call last)",
            "\u001b[0;32m/tmp/ipykernel_25200/2290794147.py\u001b[0m in \u001b[0;36m<module>\u001b[0;34m\u001b[0m\n\u001b[0;32m----> 1\u001b[0;31m \u001b[0mX_train\u001b[0m \u001b[0;34m=\u001b[0m \u001b[0mX\u001b[0m\u001b[0;34m[\u001b[0m\u001b[0;34m:\u001b[0m\u001b[0msplit_idx\u001b[0m\u001b[0;34m,\u001b[0m \u001b[0;34m:\u001b[0m\u001b[0;34m]\u001b[0m\u001b[0;34m\u001b[0m\u001b[0;34m\u001b[0m\u001b[0m\n\u001b[0m\u001b[1;32m      2\u001b[0m \u001b[0mX_val\u001b[0m \u001b[0;34m=\u001b[0m \u001b[0mX\u001b[0m\u001b[0;34m[\u001b[0m\u001b[0msplit_idx\u001b[0m\u001b[0;34m:\u001b[0m\u001b[0;34m,\u001b[0m \u001b[0;34m:\u001b[0m\u001b[0;34m]\u001b[0m\u001b[0;34m\u001b[0m\u001b[0;34m\u001b[0m\u001b[0m\n\u001b[1;32m      3\u001b[0m \u001b[0my_train\u001b[0m \u001b[0;34m=\u001b[0m \u001b[0my\u001b[0m\u001b[0;34m[\u001b[0m\u001b[0;34m:\u001b[0m\u001b[0msplit_idx\u001b[0m\u001b[0;34m]\u001b[0m\u001b[0;34m\u001b[0m\u001b[0;34m\u001b[0m\u001b[0m\n\u001b[1;32m      4\u001b[0m \u001b[0my_val\u001b[0m \u001b[0;34m=\u001b[0m \u001b[0my\u001b[0m\u001b[0;34m[\u001b[0m\u001b[0msplit_idx\u001b[0m\u001b[0;34m:\u001b[0m\u001b[0;34m]\u001b[0m\u001b[0;34m\u001b[0m\u001b[0;34m\u001b[0m\u001b[0m\n",
            "\u001b[0;31mTypeError\u001b[0m: 'AnyPointer' object is not subscriptable"
          ]
        }
      ],
      "execution_count": 19,
      "metadata": {
        "jupyter": {
          "source_hidden": false,
          "outputs_hidden": false
        },
        "nteract": {
          "transient": {
            "deleting": false
          }
        },
        "gather": {
          "logged": 1632064223551
        }
      }
    },
    {
      "cell_type": "code",
      "source": [
        "len(X_val) + len(X_train)"
      ],
      "outputs": [
        {
          "output_type": "execute_result",
          "execution_count": 11,
          "data": {
            "text/plain": "506"
          },
          "metadata": {}
        }
      ],
      "execution_count": 11,
      "metadata": {
        "jupyter": {
          "source_hidden": false,
          "outputs_hidden": false
        },
        "nteract": {
          "transient": {
            "deleting": false
          }
        },
        "gather": {
          "logged": 1632064255242
        }
      }
    },
    {
      "cell_type": "markdown",
      "source": [
        "The client load the dataset locally and save it to `.pt` files"
      ],
      "metadata": {
        "nteract": {
          "transient": {
            "deleting": false
          }
        }
      }
    },
    {
      "cell_type": "code",
      "source": [
        "class BostonDS(Dataset):\n",
        "    def __init__(self, X, y):\n",
        "        self.X = X\n",
        "        self.y = y\n",
        "        \n",
        "    def __len__(self):\n",
        "        return self.X.shape[0]\n",
        "    \n",
        "    def __getitem__(self, i):\n",
        "        return (self.X[i], self.y[i])\n",
        "    \n",
        "ds_train = BostonDS(X_train, y_train)\n",
        "ds_val = BostonDS(X_val, y_val)\n",
        "torch.save(ds_train, \"boston_train_ds.pt\")\n",
        "torch.save(ds_val, \"boston_val_ds.pt\")"
      ],
      "outputs": [],
      "execution_count": 12,
      "metadata": {
        "jupyter": {
          "source_hidden": false,
          "outputs_hidden": false
        },
        "nteract": {
          "transient": {
            "deleting": false
          }
        },
        "gather": {
          "logged": 1632064264053
        }
      }
    },
    {
      "cell_type": "markdown",
      "source": [
        "The client would then send this string path to the server"
      ],
      "metadata": {
        "nteract": {
          "transient": {
            "deleting": false
          }
        }
      }
    },
    {
      "cell_type": "markdown",
      "source": [
        "# Server: create the remote dataset and remote dataloader"
      ],
      "metadata": {
        "nteract": {
          "transient": {
            "deleting": false
          }
        }
      }
    },
    {
      "cell_type": "code",
      "source": [
        "boston_train_rds = RemoteDataset(path='boston_train_ds.pt', data_type=\"torch_tensor\")\n",
        "boston_train_rds"
      ],
      "outputs": [
        {
          "output_type": "execute_result",
          "execution_count": 13,
          "data": {
            "text/plain": "<class 'syft.core.remote_dataloader.remote_dataloader.RemoteDataset'>: torch_tensor"
          },
          "metadata": {}
        }
      ],
      "execution_count": 13,
      "metadata": {
        "jupyter": {
          "source_hidden": false,
          "outputs_hidden": false
        },
        "nteract": {
          "transient": {
            "deleting": false
          }
        },
        "gather": {
          "logged": 1632064266895
        }
      }
    },
    {
      "cell_type": "markdown",
      "source": [
        "From the remote dataset, the server constructs the data loader. \n",
        "Then the server uses `.send` to create a pointer to do remote data loading"
      ],
      "metadata": {
        "nteract": {
          "transient": {
            "deleting": false
          }
        }
      }
    },
    {
      "cell_type": "code",
      "source": [
        "boston_train_rdl = RemoteDataLoader(remote_dataset=boston_train_rds, batch_size=16)\n",
        "boston_train_rdl"
      ],
      "outputs": [
        {
          "output_type": "execute_result",
          "execution_count": 14,
          "data": {
            "text/plain": "<syft.core.remote_dataloader.remote_dataloader.RemoteDataLoader at 0x7f8bdfeb9eb0>"
          },
          "metadata": {}
        }
      ],
      "execution_count": 14,
      "metadata": {
        "jupyter": {
          "source_hidden": false,
          "outputs_hidden": false
        },
        "nteract": {
          "transient": {
            "deleting": false
          }
        },
        "gather": {
          "logged": 1632064269480
        }
      }
    },
    {
      "cell_type": "code",
      "source": [
        "boston_train_ptr = boston_train_rdl.send(client)\n",
        "print(boston_train_ptr)\n",
        "# call create_dataset to create the real Dataset object on remote side\n",
        "boston_train_ptr.load_dataset()\n",
        "# call create_dataloader to create the real DataLoader object on remote side\n",
        "boston_train_ptr.create_dataloader()"
      ],
      "outputs": [
        {
          "output_type": "stream",
          "name": "stdout",
          "text": "<syft.proxy.syft.core.remote_dataloader.RemoteDataLoaderPointer object at 0x7f8bdfeb9f70>\n"
        },
        {
          "output_type": "execute_result",
          "execution_count": 15,
          "data": {
            "text/plain": "<syft.proxy.syft.lib.python._SyNonePointer at 0x7f8be0383250>"
          },
          "metadata": {}
        }
      ],
      "execution_count": 15,
      "metadata": {
        "jupyter": {
          "source_hidden": false,
          "outputs_hidden": false
        },
        "nteract": {
          "transient": {
            "deleting": false
          }
        },
        "gather": {
          "logged": 1632064271140
        }
      }
    },
    {
      "cell_type": "markdown",
      "source": [
        "Let's check the content of the pointer to remote dataloader"
      ],
      "metadata": {
        "nteract": {
          "transient": {
            "deleting": false
          }
        }
      }
    },
    {
      "cell_type": "code",
      "source": [
        "for i, b in enumerate(boston_train_ptr):\n",
        "    # if i == 0:\n",
        "    #     X, y = b[0], b[1]\n",
        "    #     print(X)\n",
        "    #     print(y)\n",
        "    X, y = b[0], b[1]\n",
        "    print(i, len(y))"
      ],
      "outputs": [
        {
          "output_type": "stream",
          "name": "stdout",
          "text": "0 16\n1 16\n2 16\n3 16\n4 16\n5 16\n6 5\n"
        }
      ],
      "execution_count": 17,
      "metadata": {
        "jupyter": {
          "source_hidden": false,
          "outputs_hidden": false
        },
        "nteract": {
          "transient": {
            "deleting": false
          }
        },
        "gather": {
          "logged": 1632064328051
        }
      }
    },
    {
      "cell_type": "code",
      "source": [
        "class ClientModel(sy.Module):\n",
        "    def __init__(self, torch_ref):\n",
        "        super(ClientModel, self).__init__(torch_ref=torch_ref)   \n",
        "        self.fc1 = self.torch_ref.nn.Linear(13, 128)\n",
        "        self.relu1 = self.torch_ref.nn.ReLU()\n",
        "\n",
        "    def forward(self, x):\n",
        "        x = self.fc1(x)\n",
        "        output = self.relu1(x)\n",
        "        return output"
      ],
      "outputs": [],
      "execution_count": 13,
      "metadata": {
        "jupyter": {
          "source_hidden": false,
          "outputs_hidden": false
        },
        "nteract": {
          "transient": {
            "deleting": false
          }
        },
        "gather": {
          "logged": 1632063906827
        }
      }
    },
    {
      "cell_type": "code",
      "source": [
        "class ServerModel(sy.Module):\n",
        "    def __init__(self, torch_ref):\n",
        "        super(ServerModel, self).__init__(torch_ref=torch_ref)   \n",
        "        self.fc2 = nn.Linear(128, 64)\n",
        "        self.relu2 = nn.ReLU()\n",
        "        self.fc3 = nn.Linear(64, 1)\n",
        "\n",
        "    def forward(self, x):\n",
        "        x = self.fc2(x)\n",
        "        x = self.relu2(x)\n",
        "        output = self.fc3(x)\n",
        "        return output"
      ],
      "outputs": [],
      "execution_count": 14,
      "metadata": {
        "jupyter": {
          "source_hidden": false,
          "outputs_hidden": false
        },
        "nteract": {
          "transient": {
            "deleting": false
          }
        },
        "gather": {
          "logged": 1632063907227
        }
      }
    },
    {
      "cell_type": "code",
      "source": [
        "client_model = ClientModel(torch_ref=remote_torch)\n",
        "server_model = ServerModel(torch_ref=torch)"
      ],
      "outputs": [],
      "execution_count": 15,
      "metadata": {
        "jupyter": {
          "source_hidden": false,
          "outputs_hidden": false
        },
        "nteract": {
          "transient": {
            "deleting": false
          }
        },
        "gather": {
          "logged": 1632063907659
        }
      }
    },
    {
      "cell_type": "code",
      "source": [
        "epoch = 400\n",
        "lr = 0.001\n",
        "\n",
        "optim_client = remote_torch.optim.Adam(params=client_model.parameters(), lr=lr)\n",
        "optim_server = torch.optim.Adam(params=server_model.parameters(), lr=lr)"
      ],
      "outputs": [
        {
          "output_type": "error",
          "ename": "NameError",
          "evalue": "name 'ecg_client_ptr' is not defined",
          "traceback": [
            "\u001b[0;31m---------------------------------------------------------------------------\u001b[0m",
            "\u001b[0;31mNameError\u001b[0m                                 Traceback (most recent call last)",
            "\u001b[0;32m/tmp/ipykernel_25084/2601146810.py\u001b[0m in \u001b[0;36m<module>\u001b[0;34m\u001b[0m\n\u001b[1;32m      3\u001b[0m \u001b[0mlr\u001b[0m \u001b[0;34m=\u001b[0m \u001b[0;36m0.001\u001b[0m\u001b[0;34m\u001b[0m\u001b[0;34m\u001b[0m\u001b[0m\n\u001b[1;32m      4\u001b[0m \u001b[0;34m\u001b[0m\u001b[0m\n\u001b[0;32m----> 5\u001b[0;31m \u001b[0moptim_client\u001b[0m \u001b[0;34m=\u001b[0m \u001b[0mremote_torch\u001b[0m\u001b[0;34m.\u001b[0m\u001b[0moptim\u001b[0m\u001b[0;34m.\u001b[0m\u001b[0mAdam\u001b[0m\u001b[0;34m(\u001b[0m\u001b[0mparams\u001b[0m\u001b[0;34m=\u001b[0m\u001b[0mecg_client_ptr\u001b[0m\u001b[0;34m.\u001b[0m\u001b[0mparameters\u001b[0m\u001b[0;34m(\u001b[0m\u001b[0;34m)\u001b[0m\u001b[0;34m,\u001b[0m \u001b[0mlr\u001b[0m\u001b[0;34m=\u001b[0m\u001b[0mlr\u001b[0m\u001b[0;34m)\u001b[0m\u001b[0;34m\u001b[0m\u001b[0;34m\u001b[0m\u001b[0m\n\u001b[0m\u001b[1;32m      6\u001b[0m \u001b[0moptim_server\u001b[0m \u001b[0;34m=\u001b[0m \u001b[0mtorch\u001b[0m\u001b[0;34m.\u001b[0m\u001b[0moptim\u001b[0m\u001b[0;34m.\u001b[0m\u001b[0mAdam\u001b[0m\u001b[0;34m(\u001b[0m\u001b[0mparams\u001b[0m\u001b[0;34m=\u001b[0m\u001b[0mecg_server\u001b[0m\u001b[0;34m.\u001b[0m\u001b[0mparameters\u001b[0m\u001b[0;34m(\u001b[0m\u001b[0;34m)\u001b[0m\u001b[0;34m,\u001b[0m \u001b[0mlr\u001b[0m\u001b[0;34m=\u001b[0m\u001b[0mlr\u001b[0m\u001b[0;34m)\u001b[0m\u001b[0;34m\u001b[0m\u001b[0;34m\u001b[0m\u001b[0m\n",
            "\u001b[0;31mNameError\u001b[0m: name 'ecg_client_ptr' is not defined"
          ]
        }
      ],
      "execution_count": 16,
      "metadata": {
        "jupyter": {
          "source_hidden": false,
          "outputs_hidden": false
        },
        "nteract": {
          "transient": {
            "deleting": false
          }
        }
      }
    }
  ],
  "metadata": {
    "kernelspec": {
      "display_name": "Python 3.6 - AzureML",
      "language": "python",
      "name": "python3-azureml"
    },
    "language_info": {
      "name": "python",
      "version": "3.9.6",
      "mimetype": "text/x-python",
      "codemirror_mode": {
        "name": "ipython",
        "version": 3
      },
      "pygments_lexer": "ipython3",
      "nbconvert_exporter": "python",
      "file_extension": ".py"
    },
    "microsoft": {
      "host": {
        "AzureML": {
          "notebookHasBeenCompleted": true
        }
      }
    },
    "nteract": {
      "version": "nteract-front-end@1.0.0"
    }
  },
  "nbformat": 4,
  "nbformat_minor": 2
}