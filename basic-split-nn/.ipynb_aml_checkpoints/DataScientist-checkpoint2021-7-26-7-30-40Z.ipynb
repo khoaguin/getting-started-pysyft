{
  "cells": [
    {
      "cell_type": "code",
      "source": [
        "import syft as sy\n",
        "duet1 = sy.join_duet('16516e9835e98bc5e0dec63184292d28')"
      ],
      "outputs": [
        {
          "output_type": "stream",
          "name": "stdout",
          "text": [
            "🎤  🎸  ♪♪♪ Joining Duet ♫♫♫  🎻  🎹\n",
            "\n",
            "♫♫♫ >\u001b[93m DISCLAIMER\u001b[0m: \u001b[1mDuet is an experimental feature currently in beta.\n",
            "♫♫♫ > Use at your own risk.\n",
            "\u001b[0m\n",
            "\u001b[1m\n",
            "    > ❤️ \u001b[91mLove\u001b[0m \u001b[92mDuet\u001b[0m? \u001b[93mPlease\u001b[0m \u001b[94mconsider\u001b[0m \u001b[95msupporting\u001b[0m \u001b[91mour\u001b[0m \u001b[93mcommunity!\u001b[0m\n",
            "    > https://github.com/sponsors/OpenMined\u001b[1m\n",
            "\n",
            "♫♫♫ > Punching through firewall to OpenGrid Network Node at:\n",
            "♫♫♫ > http://ec2-18-218-7-180.us-east-2.compute.amazonaws.com:5000\n",
            "♫♫♫ >\n",
            "♫♫♫ > ...waiting for response from OpenGrid Network... \n",
            "♫♫♫ > \u001b[92mDONE!\u001b[0m\n",
            "\n",
            "♫♫♫ > \u001b[95mSTEP 1:\u001b[0m Send the following Duet Client ID to your duet partner!\n",
            "♫♫♫ > Duet Client ID: \u001b[1m87cd76c28e7803207fd2aa2d9a540ba7\u001b[0m\n",
            "\n",
            "♫♫♫ > ...waiting for partner to connect...\n",
            "\n",
            "♫♫♫ > \u001b[92mCONNECTED!\u001b[0m\n"
          ]
        }
      ],
      "execution_count": 1,
      "metadata": {
        "gather": {
          "logged": 1629962950032
        }
      }
    },
    {
      "cell_type": "code",
      "source": [],
      "outputs": [],
      "execution_count": null,
      "metadata": {
        "collapsed": true,
        "jupyter": {
          "source_hidden": false,
          "outputs_hidden": false
        },
        "nteract": {
          "transient": {
            "deleting": false
          }
        }
      }
    }
  ],
  "metadata": {
    "kernelspec": {
      "name": "syftenv2",
      "language": "python",
      "display_name": "SyftEnv2"
    },
    "language_info": {
      "name": "python",
      "version": "3.9.6",
      "mimetype": "text/x-python",
      "codemirror_mode": {
        "name": "ipython",
        "version": 3
      },
      "pygments_lexer": "ipython3",
      "nbconvert_exporter": "python",
      "file_extension": ".py"
    },
    "kernel_info": {
      "name": "syftenv2"
    },
    "microsoft": {
      "host": {
        "AzureML": {
          "notebookHasBeenCompleted": true
        }
      }
    },
    "nteract": {
      "version": "nteract-front-end@1.0.0"
    }
  },
  "nbformat": 4,
  "nbformat_minor": 2
}