{
  "cells": [
    {
      "cell_type": "markdown",
      "source": [
        "The data owner 1 launch a duet section"
      ],
      "metadata": {
        "nteract": {
          "transient": {
            "deleting": false
          }
        }
      }
    },
    {
      "cell_type": "code",
      "source": [
        "import syft as sy\n",
        "duet = sy.duet()"
      ],
      "outputs": [
        {
          "output_type": "stream",
          "name": "stdout",
          "text": [
            "🎤  🎸  ♪♪♪ Starting Duet ♫♫♫  🎻  🎹\n",
            "\n",
            "♫♫♫ >\u001b[93m DISCLAIMER\u001b[0m: \u001b[1mDuet is an experimental feature currently in beta.\n",
            "♫♫♫ > Use at your own risk.\n",
            "\u001b[0m\n",
            "\u001b[1m\n",
            "    > ❤️ \u001b[91mLove\u001b[0m \u001b[92mDuet\u001b[0m? \u001b[93mPlease\u001b[0m \u001b[94mconsider\u001b[0m \u001b[95msupporting\u001b[0m \u001b[91mour\u001b[0m \u001b[93mcommunity!\u001b[0m\n",
            "    > https://github.com/sponsors/OpenMined\u001b[1m\n",
            "\n",
            "♫♫♫ > Punching through firewall to OpenGrid Network Node at:\n",
            "♫♫♫ > http://ec2-18-218-7-180.us-east-2.compute.amazonaws.com:5000\n",
            "♫♫♫ >\n",
            "♫♫♫ > ...waiting for response from OpenGrid Network... \n",
            "♫♫♫ > \u001b[92mDONE!\u001b[0m\n",
            "♫♫♫ > Duet Server ID: \u001b[1mcc2884da3e0bed17ca6d03c952c34d26\u001b[0m\n",
            "\n",
            "♫♫♫ > \u001b[95mSTEP 1:\u001b[0m Send the following code to your Duet Partner!\n",
            "\n",
            "import syft as sy\n",
            "duet = sy.duet(\"\u001b[1mcc2884da3e0bed17ca6d03c952c34d26\u001b[0m\")\n",
            "\n",
            "♫♫♫ > \u001b[95mSTEP 2:\u001b[0m Ask your partner for their Client ID and enter it below!\n",
            "\n",
            "♫♫♫ > Connecting...\n",
            "\n",
            "♫♫♫ > \u001b[92mCONNECTED!\u001b[0m\n",
            "\n",
            "♫♫♫ > DUET LIVE STATUS  -  Objects: 0  Requests: 0   Messages: 0  Request Handlers: 0                                \r"
          ]
        }
      ],
      "execution_count": 1,
      "metadata": {
        "collapsed": true,
        "jupyter": {
          "source_hidden": false,
          "outputs_hidden": false
        },
        "nteract": {
          "transient": {
            "deleting": false
          }
        },
        "gather": {
          "logged": 1629961634252
        }
      }
    },
    {
      "cell_type": "code",
      "source": [],
      "outputs": [],
      "execution_count": null,
      "metadata": {
        "collapsed": true,
        "jupyter": {
          "source_hidden": false,
          "outputs_hidden": false
        },
        "nteract": {
          "transient": {
            "deleting": false
          }
        }
      }
    }
  ],
  "metadata": {
    "kernelspec": {
      "name": "pysyftenv",
      "language": "python",
      "display_name": "Python (PySyftEnv)"
    },
    "language_info": {
      "name": "python",
      "version": "3.9.6",
      "mimetype": "text/x-python",
      "codemirror_mode": {
        "name": "ipython",
        "version": 3
      },
      "pygments_lexer": "ipython3",
      "nbconvert_exporter": "python",
      "file_extension": ".py"
    },
    "kernel_info": {
      "name": "pysyftenv"
    },
    "microsoft": {
      "host": {
        "AzureML": {
          "notebookHasBeenCompleted": true
        }
      }
    },
    "nteract": {
      "version": "nteract-front-end@1.0.0"
    }
  },
  "nbformat": 4,
  "nbformat_minor": 2
}