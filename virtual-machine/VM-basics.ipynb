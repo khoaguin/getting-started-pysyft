{
  "cells": [
    {
      "cell_type": "code",
      "source": [
        "import torch\n",
        "import syft as sy\n",
        "import pandas as pd\n",
        "from syft.lib.python.list import List\n",
        "print(sy.__version__)\n",
        "print(torch.__version__)"
      ],
      "outputs": [
        {
          "output_type": "stream",
          "name": "stdout",
          "text": "0.5.0\n1.8.1+cu102\n"
        }
      ],
      "execution_count": 1,
      "metadata": {
        "gather": {
          "logged": 1631780236022
        }
      }
    },
    {
      "cell_type": "markdown",
      "source": [
        "### Make the VM, its clients, and send some data to each of them"
      ],
      "metadata": {
        "nteract": {
          "transient": {
            "deleting": false
          }
        }
      }
    },
    {
      "cell_type": "code",
      "source": [
        "server = sy.VirtualMachine(name=\"server\")\n",
        "root_client = server.get_root_client()\n",
        "client = server.get_client()\n",
        "\n",
        "x = torch.tensor([1,2,3]).tag(\"hey\", \"there\", \"buddy\")\n",
        "x.description = \"wow what a day\"\n",
        "x2 = torch.tensor([4,5,6]).tag(\"hello\", \"my\", \"friend\")\n",
        "x2.description = \"yes great weather\"\n",
        "\n",
        "x_ptr = x.send(root_client)\n",
        "x2_ptr = x2.send(client)"
      ],
      "outputs": [],
      "execution_count": 2,
      "metadata": {
        "jupyter": {
          "source_hidden": false,
          "outputs_hidden": false
        },
        "nteract": {
          "transient": {
            "deleting": false
          }
        },
        "gather": {
          "logged": 1631780236997
        }
      }
    },
    {
      "cell_type": "markdown",
      "source": [
        "The tensors are visible to both clients since its in the store."
      ],
      "metadata": {
        "nteract": {
          "transient": {
            "deleting": false
          }
        }
      }
    },
    {
      "cell_type": "code",
      "source": [
        "root_client.store.pandas"
      ],
      "outputs": [
        {
          "output_type": "execute_result",
          "execution_count": 3,
          "data": {
            "text/plain": "                                        ID                 Tags  \\\n0  <UID: 6303007b1b194354a6a9a02f9b103f94>  [hey, there, buddy]   \n1  <UID: e0037c68c1e24c5e8a3b4ffc9283d963>  [hello, my, friend]   \n\n         Description             object_type  \n0     wow what a day  <class 'torch.Tensor'>  \n1  yes great weather  <class 'torch.Tensor'>  ",
            "text/html": "<div>\n<style scoped>\n    .dataframe tbody tr th:only-of-type {\n        vertical-align: middle;\n    }\n\n    .dataframe tbody tr th {\n        vertical-align: top;\n    }\n\n    .dataframe thead th {\n        text-align: right;\n    }\n</style>\n<table border=\"1\" class=\"dataframe\">\n  <thead>\n    <tr style=\"text-align: right;\">\n      <th></th>\n      <th>ID</th>\n      <th>Tags</th>\n      <th>Description</th>\n      <th>object_type</th>\n    </tr>\n  </thead>\n  <tbody>\n    <tr>\n      <th>0</th>\n      <td>&lt;UID: 6303007b1b194354a6a9a02f9b103f94&gt;</td>\n      <td>[hey, there, buddy]</td>\n      <td>wow what a day</td>\n      <td>&lt;class 'torch.Tensor'&gt;</td>\n    </tr>\n    <tr>\n      <th>1</th>\n      <td>&lt;UID: e0037c68c1e24c5e8a3b4ffc9283d963&gt;</td>\n      <td>[hello, my, friend]</td>\n      <td>yes great weather</td>\n      <td>&lt;class 'torch.Tensor'&gt;</td>\n    </tr>\n  </tbody>\n</table>\n</div>"
          },
          "metadata": {}
        }
      ],
      "execution_count": 3,
      "metadata": {
        "gather": {
          "logged": 1631780237828
        }
      }
    },
    {
      "cell_type": "code",
      "source": [
        "client.store.pandas"
      ],
      "outputs": [
        {
          "output_type": "execute_result",
          "execution_count": 4,
          "data": {
            "text/plain": "                                        ID                 Tags  \\\n0  <UID: 6303007b1b194354a6a9a02f9b103f94>  [hey, there, buddy]   \n1  <UID: e0037c68c1e24c5e8a3b4ffc9283d963>  [hello, my, friend]   \n\n         Description             object_type  \n0     wow what a day  <class 'torch.Tensor'>  \n1  yes great weather  <class 'torch.Tensor'>  ",
            "text/html": "<div>\n<style scoped>\n    .dataframe tbody tr th:only-of-type {\n        vertical-align: middle;\n    }\n\n    .dataframe tbody tr th {\n        vertical-align: top;\n    }\n\n    .dataframe thead th {\n        text-align: right;\n    }\n</style>\n<table border=\"1\" class=\"dataframe\">\n  <thead>\n    <tr style=\"text-align: right;\">\n      <th></th>\n      <th>ID</th>\n      <th>Tags</th>\n      <th>Description</th>\n      <th>object_type</th>\n    </tr>\n  </thead>\n  <tbody>\n    <tr>\n      <th>0</th>\n      <td>&lt;UID: 6303007b1b194354a6a9a02f9b103f94&gt;</td>\n      <td>[hey, there, buddy]</td>\n      <td>wow what a day</td>\n      <td>&lt;class 'torch.Tensor'&gt;</td>\n    </tr>\n    <tr>\n      <th>1</th>\n      <td>&lt;UID: e0037c68c1e24c5e8a3b4ffc9283d963&gt;</td>\n      <td>[hello, my, friend]</td>\n      <td>yes great weather</td>\n      <td>&lt;class 'torch.Tensor'&gt;</td>\n    </tr>\n  </tbody>\n</table>\n</div>"
          },
          "metadata": {}
        }
      ],
      "execution_count": 4,
      "metadata": {
        "jupyter": {
          "source_hidden": false,
          "outputs_hidden": false
        },
        "nteract": {
          "transient": {
            "deleting": false
          }
        },
        "gather": {
          "logged": 1631780238352
        }
      }
    },
    {
      "cell_type": "markdown",
      "source": [
        "What if the normal client try to get the data sent to the root client?"
      ],
      "metadata": {
        "nteract": {
          "transient": {
            "deleting": false
          }
        }
      }
    },
    {
      "cell_type": "code",
      "source": [
        "try:\n",
        "    ptr1 = client.store[0]\n",
        "    ptr1.get_copy()\n",
        "except Exception as e:\n",
        "    print(e)"
      ],
      "outputs": [
        {
          "output_type": "stream",
          "name": "stderr",
          "text": "[2021-09-16T08:17:16.353965+0000][CRITICAL][logger]][7646] You do not have permission to .get() Object with ID: <UID: 6303007b1b194354a6a9a02f9b103f94>Please submit a request.\n[2021-09-16T08:17:16.354664+0000][CRITICAL][logger]][7646] You do not have permission to .get() Object with ID: <UID: 6303007b1b194354a6a9a02f9b103f94>Please submit a request.\n[2021-09-16T08:17:16.356068+0000][CRITICAL][logger]][7646] You do not have permission to .get() Object with ID: <UID: 6303007b1b194354a6a9a02f9b103f94>Please submit a request.\n"
        },
        {
          "output_type": "stream",
          "name": "stdout",
          "text": "You do not have permission to .get() Object with ID: <UID: 6303007b1b194354a6a9a02f9b103f94>Please submit a request.\n"
        }
      ],
      "execution_count": 5,
      "metadata": {
        "jupyter": {
          "source_hidden": false,
          "outputs_hidden": false
        },
        "nteract": {
          "transient": {
            "deleting": false
          }
        },
        "gather": {
          "logged": 1631780238714
        }
      }
    },
    {
      "cell_type": "markdown",
      "source": [
        "Root client can get the first data in the store"
      ],
      "metadata": {
        "nteract": {
          "transient": {
            "deleting": false
          }
        }
      }
    },
    {
      "cell_type": "code",
      "source": [
        "ptr2 = root_client.store[0]\n",
        "ptr2.get_copy()"
      ],
      "outputs": [
        {
          "output_type": "execute_result",
          "execution_count": 6,
          "data": {
            "text/plain": "tensor([1, 2, 3])"
          },
          "metadata": {}
        }
      ],
      "execution_count": 6,
      "metadata": {
        "jupyter": {
          "source_hidden": false,
          "outputs_hidden": false
        },
        "nteract": {
          "transient": {
            "deleting": false
          }
        },
        "gather": {
          "logged": 1631780239314
        }
      }
    },
    {
      "cell_type": "markdown",
      "source": [
        "The root client, however, can get the data sent to the normal client"
      ],
      "metadata": {
        "nteract": {
          "transient": {
            "deleting": false
          }
        }
      }
    },
    {
      "cell_type": "code",
      "source": [
        "try:\n",
        "    ptr3 = root_client.store[1]\n",
        "    print(ptr3.get_copy())\n",
        "except Exception as e:\n",
        "    print(e)"
      ],
      "outputs": [
        {
          "output_type": "stream",
          "name": "stdout",
          "text": "tensor([4, 5, 6])\n"
        }
      ],
      "execution_count": 7,
      "metadata": {
        "jupyter": {
          "source_hidden": false,
          "outputs_hidden": false
        },
        "nteract": {
          "transient": {
            "deleting": false
          }
        },
        "gather": {
          "logged": 1631780239841
        }
      }
    },
    {
      "cell_type": "markdown",
      "source": [
        "The normal client can also get its data"
      ],
      "metadata": {
        "nteract": {
          "transient": {
            "deleting": false
          }
        }
      }
    },
    {
      "cell_type": "code",
      "source": [
        "ptr4 = client.store[1]\n",
        "ptr4.get_copy()"
      ],
      "outputs": [
        {
          "output_type": "execute_result",
          "execution_count": 8,
          "data": {
            "text/plain": "tensor([4, 5, 6])"
          },
          "metadata": {}
        }
      ],
      "execution_count": 8,
      "metadata": {
        "jupyter": {
          "source_hidden": false,
          "outputs_hidden": false
        },
        "nteract": {
          "transient": {
            "deleting": false
          }
        },
        "gather": {
          "logged": 1631780240394
        }
      }
    },
    {
      "cell_type": "markdown",
      "source": [
        "Explanation rom [Madhava Jay](http://github.com/madhavajay): when you send data in, it has your key attached to it for `read` permission. \n",
        "If you try to read data which doesn't have your key attached it wont work \n",
        "but if you request and a `root` user approves the request then your key gets \n",
        "added to the data item. When ever you do execution its generally allowed by \n",
        "anyone and the result is stored in a new data object. That new data object \n",
        "has the intersection of the keys that were on each item used in the computation \n",
        "so for example `a + b` will produce `c` with the intersection of the keys on `a` and \n",
        "keys on `b`. The result is that only people who had permission to read `a` and `b` \n",
        "already will be able to read `c`, so the moment you mix data with which you do \n",
        "not have read permission you will no longer be able to get the result freely \n",
        "without making a request."
      ],
      "metadata": {
        "nteract": {
          "transient": {
            "deleting": false
          }
        }
      }
    },
    {
      "cell_type": "code",
      "source": [
        "print(type(server))\n",
        "print(server)\n",
        "print(type(root_client))\n",
        "print(root_client)\n",
        "print(client)"
      ],
      "outputs": [
        {
          "output_type": "stream",
          "name": "stdout",
          "text": "<class 'syft.core.node.vm.vm.VirtualMachine'>\nVirtualMachine: server: <UID: 628979738efb4fa899fbea5fc9f03364>\n<class 'syft.core.node.vm.client.VirtualMachineClient'>\n<VirtualMachineClient: server Client>\n<VirtualMachineClient: server Client>\n"
        }
      ],
      "execution_count": 9,
      "metadata": {
        "jupyter": {
          "source_hidden": false,
          "outputs_hidden": false
        },
        "nteract": {
          "transient": {
            "deleting": false
          }
        },
        "gather": {
          "logged": 1631780240845
        }
      }
    },
    {
      "cell_type": "markdown",
      "source": [
        "### Check out the remote modules"
      ],
      "metadata": {
        "nteract": {
          "transient": {
            "deleting": false
          }
        }
      }
    },
    {
      "cell_type": "code",
      "source": [
        "remote_pd = root_client.pandas\n",
        "remote_torch = root_client.torch\n",
        "remote_np = root_client.numpy\n",
        "remote_vision = root_client.torchvision"
      ],
      "outputs": [],
      "execution_count": 10,
      "metadata": {
        "jupyter": {
          "source_hidden": false,
          "outputs_hidden": false
        },
        "nteract": {
          "transient": {
            "deleting": false
          }
        },
        "gather": {
          "logged": 1631780241179
        }
      }
    },
    {
      "cell_type": "code",
      "source": [
        "print(type(remote_pd))\n",
        "remote_pd"
      ],
      "outputs": [
        {
          "output_type": "stream",
          "name": "stdout",
          "text": "<class 'syft.ast.module.Module'>\n"
        },
        {
          "output_type": "execute_result",
          "execution_count": 11,
          "data": {
            "text/plain": "Module:\n\t.DataFrame -> <syft.ast.klass.Class object at 0x7f85a26cd640>\n\t.Series -> <syft.ast.klass.Class object at 0x7f85a26cd6a0>\n\t.CategoricalDtype -> <syft.ast.klass.Class object at 0x7f85a26cd700>\n\t.Categorical -> <syft.ast.klass.Class object at 0x7f85a26cd8e0>\n\t.json_normalize -> <syft.ast.callable.Callable object at 0x7f85a26cd9a0>"
          },
          "metadata": {}
        }
      ],
      "execution_count": 11,
      "metadata": {
        "jupyter": {
          "source_hidden": false,
          "outputs_hidden": false
        },
        "nteract": {
          "transient": {
            "deleting": false
          }
        },
        "gather": {
          "logged": 1631780241478
        }
      }
    },
    {
      "cell_type": "code",
      "source": [
        "remote_np"
      ],
      "outputs": [
        {
          "output_type": "execute_result",
          "execution_count": 12,
          "data": {
            "text/plain": "Module:\n\t.ndarray -> <syft.ast.klass.Class object at 0x7f85a25c5700>"
          },
          "metadata": {}
        }
      ],
      "execution_count": 12,
      "metadata": {
        "jupyter": {
          "source_hidden": false,
          "outputs_hidden": false
        },
        "nteract": {
          "transient": {
            "deleting": false
          }
        },
        "gather": {
          "logged": 1631780241829
        }
      }
    },
    {
      "cell_type": "code",
      "source": [
        "remote_vision"
      ],
      "outputs": [
        {
          "output_type": "execute_result",
          "execution_count": 13,
          "data": {
            "text/plain": "Module:\n\t.__version__ -> <syft.ast.static_attr.StaticAttribute object at 0x7f85a27f4400>\n\t.transforms -> Module:\n\t\t.Compose -> <syft.ast.klass.Class object at 0x7f85a27f44c0>\n\t\t.ToTensor -> <syft.ast.klass.Class object at 0x7f85a27f4520>\n\t\t.Normalize -> <syft.ast.klass.Class object at 0x7f85a27f45e0>\n\t\t.CenterCrop -> <syft.ast.klass.Class object at 0x7f85a26a89a0>\n\t\t.ColorJitter -> <syft.ast.klass.Class object at 0x7f85a26a8a60>\n\t\t.FiveCrop -> <syft.ast.klass.Class object at 0x7f85a26a8ac0>\n\t\t.Grayscale -> <syft.ast.klass.Class object at 0x7f85a26a8b80>\n\t\t.Pad -> <syft.ast.klass.Class object at 0x7f85a26a8be0>\n\t\t.RandomAffine -> <syft.ast.klass.Class object at 0x7f85a26a8ca0>\n\t\t.RandomApply -> <syft.ast.klass.Class object at 0x7f85a26a8d60>\n\t\t.RandomCrop -> <syft.ast.klass.Class object at 0x7f85a26a8e20>\n\t\t.RandomGrayscale -> <syft.ast.klass.Class object at 0x7f85a26a8ee0>\n\t\t.RandomHorizontalFlip -> <syft.ast.klass.Class object at 0x7f85a26a8fa0>\n\t\t.RandomPerspective -> <syft.ast.klass.Class object at 0x7f85a26ad0a0>\n\t\t.RandomResizedCrop -> <syft.ast.klass.Class object at 0x7f85a26ad160>\n\t\t.RandomRotation -> <syft.ast.klass.Class object at 0x7f85a26ad220>\n\t\t.RandomSizedCrop -> <syft.ast.klass.Class object at 0x7f85a26ad2e0>\n\t\t.RandomVerticalFlip -> <syft.ast.klass.Class object at 0x7f85a26ad3a0>\n\t\t.Resize -> <syft.ast.klass.Class object at 0x7f85a26ad400>\n\t\t.Scale -> <syft.ast.klass.Class object at 0x7f85a26ad460>\n\t\t.TenCrop -> <syft.ast.klass.Class object at 0x7f85a26ad4c0>\n\t\t.GaussianBlur -> <syft.ast.klass.Class object at 0x7f85a26ad580>\n\t\t.RandomChoice -> <syft.ast.klass.Class object at 0x7f85a26ad640>\n\t\t.RandomOrder -> <syft.ast.klass.Class object at 0x7f85a26ad700>\n\t\t.LinearTransformation -> <syft.ast.klass.Class object at 0x7f85a26ad7c0>\n\t\t.RandomErasing -> <syft.ast.klass.Class object at 0x7f85a26ad880>\n\t\t.ConvertImageDtype -> <syft.ast.klass.Class object at 0x7f85a26ad940>\n\t\t.ToPILImage -> <syft.ast.klass.Class object at 0x7f85a26ada00>\n\t\t.Lambda -> <syft.ast.klass.Class object at 0x7f85a26ada60>\n\t\t.functional -> Module:\n\t\t\t.adjust_brightness -> <syft.ast.callable.Callable object at 0x7f85a26adb80>\n\t\t\t.adjust_contrast -> <syft.ast.callable.Callable object at 0x7f85a26adbe0>\n\t\t\t.adjust_gamma -> <syft.ast.callable.Callable object at 0x7f85a26adca0>\n\t\t\t.adjust_hue -> <syft.ast.callable.Callable object at 0x7f85a26add60>\n\t\t\t.adjust_saturation -> <syft.ast.callable.Callable object at 0x7f85a26addc0>\n\t\t\t.adjust_sharpness -> <syft.ast.callable.Callable object at 0x7f85a26ade20>\n\t\t\t.affine -> <syft.ast.callable.Callable object at 0x7f85a26adee0>\n\t\t\t.autocontrast -> <syft.ast.callable.Callable object at 0x7f85a26adfa0>\n\t\t\t.center_crop -> <syft.ast.callable.Callable object at 0x7f85a26b00a0>\n\t\t\t.convert_image_dtype -> <syft.ast.callable.Callable object at 0x7f85a26b0100>\n\t\t\t.crop -> <syft.ast.callable.Callable object at 0x7f85a26b01c0>\n\t\t\t.equalize -> <syft.ast.callable.Callable object at 0x7f85a26b0280>\n\t\t\t.erase -> <syft.ast.callable.Callable object at 0x7f85a26b0340>\n\t\t\t.five_crop -> <syft.ast.callable.Callable object at 0x7f85a26b0400>\n\t\t\t.gaussian_blur -> <syft.ast.callable.Callable object at 0x7f85a26b04c0>\n\t\t\t.hflip -> <syft.ast.callable.Callable object at 0x7f85a26b0580>\n\t\t\t.invert -> <syft.ast.callable.Callable object at 0x7f85a26b0640>\n\t\t\t.normalize -> <syft.ast.callable.Callable object at 0x7f85a26b0700>\n\t\t\t.pad -> <syft.ast.callable.Callable object at 0x7f85a26b07c0>\n\t\t\t.perspective -> <syft.ast.callable.Callable object at 0x7f85a26b0880>\n\t\t\t.pil_to_tensor -> <syft.ast.callable.Callable object at 0x7f85a26b0940>\n\t\t\t.posterize -> <syft.ast.callable.Callable object at 0x7f85a26b0a00>\n\t\t\t.resize -> <syft.ast.callable.Callable object at 0x7f85a26b0ac0>\n\t\t\t.resized_crop -> <syft.ast.callable.Callable object at 0x7f85a26b0b80>\n\t\t\t.rgb_to_grayscale -> <syft.ast.callable.Callable object at 0x7f85a26b0be0>\n\t\t\t.rotate -> <syft.ast.callable.Callable object at 0x7f85a26b0ca0>\n\t\t\t.solarize -> <syft.ast.callable.Callable object at 0x7f85a26b0d60>\n\t\t\t.ten_crop -> <syft.ast.callable.Callable object at 0x7f85a26b0e20>\n\t\t\t.to_grayscale -> <syft.ast.callable.Callable object at 0x7f85a26b0ee0>\n\t\t\t.to_pil_image -> <syft.ast.callable.Callable object at 0x7f85a26b0fa0>\n\t\t\t.to_tensor -> <syft.ast.callable.Callable object at 0x7f85a26b20a0>\n\t\t\t.vflip -> <syft.ast.callable.Callable object at 0x7f85a26b2160>\n\n\n\t.datasets -> Module:\n\t\t.MNIST -> <syft.ast.klass.Class object at 0x7f85a27f46a0>\n\t\t.CelebA -> <syft.ast.klass.Class object at 0x7f85a27f47c0>\n\t\t.CIFAR10 -> <syft.ast.klass.Class object at 0x7f85a27f48e0>\n\t\t.CIFAR100 -> <syft.ast.klass.Class object at 0x7f85a27f4a00>\n\t\t.Cityscapes -> <syft.ast.klass.Class object at 0x7f85a27f4a60>\n\t\t.CocoCaptions -> <syft.ast.klass.Class object at 0x7f85a27f4be0>\n\t\t.CocoDetection -> <syft.ast.klass.Class object at 0x7f85a27f4d60>\n\t\t.EMNIST -> <syft.ast.klass.Class object at 0x7f85a27f4e80>\n\t\t.FakeData -> <syft.ast.klass.Class object at 0x7f85a27f4fa0>\n\t\t.FashionMNIST -> <syft.ast.klass.Class object at 0x7f85a26a5160>\n\t\t.Flickr8k -> <syft.ast.klass.Class object at 0x7f85a26a5280>\n\t\t.Flickr30k -> <syft.ast.klass.Class object at 0x7f85a26a53a0>\n\t\t.HMDB51 -> <syft.ast.klass.Class object at 0x7f85a26a54c0>\n\t\t.ImageNet -> <syft.ast.klass.Class object at 0x7f85a26a55e0>\n\t\t.Kinetics400 -> <syft.ast.klass.Class object at 0x7f85a26a5760>\n\t\t.KMNIST -> <syft.ast.klass.Class object at 0x7f85a26a5880>\n\t\t.LSUN -> <syft.ast.klass.Class object at 0x7f85a26a59a0>\n\t\t.Omniglot -> <syft.ast.klass.Class object at 0x7f85a26a5ac0>\n\t\t.PhotoTour -> <syft.ast.klass.Class object at 0x7f85a26a5be0>\n\t\t.Places365 -> <syft.ast.klass.Class object at 0x7f85a26a5d00>\n\t\t.QMNIST -> <syft.ast.klass.Class object at 0x7f85a26a5e20>\n\t\t.SBDataset -> <syft.ast.klass.Class object at 0x7f85a26a5f40>\n\t\t.SBU -> <syft.ast.klass.Class object at 0x7f85a26a80a0>\n\t\t.STL10 -> <syft.ast.klass.Class object at 0x7f85a26a81c0>\n\t\t.SVHN -> <syft.ast.klass.Class object at 0x7f85a26a82e0>\n\t\t.UCF101 -> <syft.ast.klass.Class object at 0x7f85a26a8400>\n\t\t.USPS -> <syft.ast.klass.Class object at 0x7f85a26a8520>\n\t\t.VOCSegmentation -> <syft.ast.klass.Class object at 0x7f85a26a86a0>\n\t\t.VOCDetection -> <syft.ast.klass.Class object at 0x7f85a26a8820>\n"
          },
          "metadata": {}
        }
      ],
      "execution_count": 13,
      "metadata": {
        "jupyter": {
          "source_hidden": false,
          "outputs_hidden": true
        },
        "nteract": {
          "transient": {
            "deleting": false
          }
        },
        "gather": {
          "logged": 1631780242199
        }
      }
    },
    {
      "cell_type": "code",
      "source": [
        "remote_torch"
      ],
      "outputs": [
        {
          "output_type": "execute_result",
          "execution_count": 14,
          "data": {
            "text/plain": "Module:\n\t.Tensor -> <syft.ast.klass.Class object at 0x7f85a297cf40>\n\t.BFloat16Tensor -> <syft.ast.klass.Class object at 0x7f85a297cfa0>\n\t.BoolTensor -> <syft.ast.klass.Class object at 0x7f85a2938040>\n\t.ByteTensor -> <syft.ast.klass.Class object at 0x7f85a29380a0>\n\t.CharTensor -> <syft.ast.klass.Class object at 0x7f85a2938100>\n\t.DoubleTensor -> <syft.ast.klass.Class object at 0x7f85a2938160>\n\t.FloatTensor -> <syft.ast.klass.Class object at 0x7f85a29381c0>\n\t.HalfTensor -> <syft.ast.klass.Class object at 0x7f85a2938220>\n\t.IntTensor -> <syft.ast.klass.Class object at 0x7f85a2938280>\n\t.LongTensor -> <syft.ast.klass.Class object at 0x7f85a29382e0>\n\t.ShortTensor -> <syft.ast.klass.Class object at 0x7f85a2938340>\n\t.nn -> Module:\n\t\t.Parameter -> <syft.ast.klass.Class object at 0x7f85a2938460>\n\t\t.Module -> <syft.ast.klass.Class object at 0x7f85a28cf820>\n\t\t.Conv2d -> <syft.ast.klass.Class object at 0x7f85a28cfd00>\n\t\t.Dropout2d -> <syft.ast.klass.Class object at 0x7f85a28d4160>\n\t\t.Linear -> <syft.ast.klass.Class object at 0x7f85a28d44c0>\n\t\t.functional -> Module:\n\t\t\t.relu -> <syft.ast.callable.Callable object at 0x7f85a28d4dc0>\n\t\t\t.gelu -> <syft.ast.callable.Callable object at 0x7f85a28d4e20>\n\t\t\t.max_pool2d -> <syft.ast.callable.Callable object at 0x7f85a28d4e80>\n\t\t\t.log_softmax -> <syft.ast.callable.Callable object at 0x7f85a28d4ee0>\n\t\t\t.cosine_embedding_loss -> <syft.ast.callable.Callable object at 0x7f85a285fca0>\n\t\t\t.ctc_loss -> <syft.ast.callable.Callable object at 0x7f85a285fd00>\n\t\t\t.hinge_embedding_loss -> <syft.ast.callable.Callable object at 0x7f85a285fdc0>\n\t\t\t.l1_loss -> <syft.ast.callable.Callable object at 0x7f85a285fe20>\n\t\t\t.margin_ranking_loss -> <syft.ast.callable.Callable object at 0x7f85a285fee0>\n\t\t\t.mse_loss -> <syft.ast.callable.Callable object at 0x7f85a285ff40>\n\t\t\t.multi_margin_loss -> <syft.ast.callable.Callable object at 0x7f85a2863040>\n\t\t\t.multilabel_margin_loss -> <syft.ast.callable.Callable object at 0x7f85a2863100>\n\t\t\t.multilabel_soft_margin_loss -> <syft.ast.callable.Callable object at 0x7f85a28631c0>\n\t\t\t.nll_loss -> <syft.ast.callable.Callable object at 0x7f85a2863220>\n\t\t\t.cross_entropy -> <syft.ast.callable.Callable object at 0x7f85a28632e0>\n\t\t\t.poisson_nll_loss -> <syft.ast.callable.Callable object at 0x7f85a28633a0>\n\t\t\t.smooth_l1_loss -> <syft.ast.callable.Callable object at 0x7f85a2863460>\n\t\t\t.soft_margin_loss -> <syft.ast.callable.Callable object at 0x7f85a2863520>\n\t\t\t.triplet_margin_loss -> <syft.ast.callable.Callable object at 0x7f85a28635e0>\n\n\t\t.Sequential -> <syft.ast.klass.Class object at 0x7f85a285f8e0>\n\t\t.AdaptiveLogSoftmaxWithLoss -> <syft.ast.klass.Class object at 0x7f85a28636a0>\n\t\t.BCELoss -> <syft.ast.klass.Class object at 0x7f85a2863820>\n\t\t.BCEWithLogitsLoss -> <syft.ast.klass.Class object at 0x7f85a28638e0>\n\t\t.CTCLoss -> <syft.ast.klass.Class object at 0x7f85a2863a00>\n\t\t.CrossEntropyLoss -> <syft.ast.klass.Class object at 0x7f85a2863ac0>\n\t\t.CosineEmbeddingLoss -> <syft.ast.klass.Class object at 0x7f85a2863be0>\n\t\t.HingeEmbeddingLoss -> <syft.ast.klass.Class object at 0x7f85a2863d00>\n\t\t.KLDivLoss -> <syft.ast.klass.Class object at 0x7f85a2863e20>\n\t\t.L1Loss -> <syft.ast.klass.Class object at 0x7f85a2863ee0>\n\t\t.MSELoss -> <syft.ast.klass.Class object at 0x7f85a2863fa0>\n\t\t.MarginRankingLoss -> <syft.ast.klass.Class object at 0x7f85a28670a0>\n\t\t.MultiLabelMarginLoss -> <syft.ast.klass.Class object at 0x7f85a28671c0>\n\t\t.MultiLabelSoftMarginLoss -> <syft.ast.klass.Class object at 0x7f85a2867340>\n\t\t.MultiMarginLoss -> <syft.ast.klass.Class object at 0x7f85a2867460>\n\t\t.NLLLoss -> <syft.ast.klass.Class object at 0x7f85a2867580>\n\t\t.NLLLoss2d -> <syft.ast.klass.Class object at 0x7f85a2867640>\n\t\t.PoissonNLLLoss -> <syft.ast.klass.Class object at 0x7f85a2867700>\n\t\t.SmoothL1Loss -> <syft.ast.klass.Class object at 0x7f85a2867820>\n\t\t.SoftMarginLoss -> <syft.ast.klass.Class object at 0x7f85a28678e0>\n\t\t.TripletMarginLoss -> <syft.ast.klass.Class object at 0x7f85a2867a00>\n\t\t.AdaptiveAvgPool1d -> <syft.ast.klass.Class object at 0x7f85a2867b20>\n\t\t.AdaptiveAvgPool2d -> <syft.ast.klass.Class object at 0x7f85a286b1c0>\n\t\t.AdaptiveAvgPool3d -> <syft.ast.klass.Class object at 0x7f85a286b820>\n\t\t.AdaptiveMaxPool1d -> <syft.ast.klass.Class object at 0x7f85a286be80>\n\t\t.AdaptiveMaxPool2d -> <syft.ast.klass.Class object at 0x7f85a286e520>\n\t\t.AdaptiveMaxPool3d -> <syft.ast.klass.Class object at 0x7f85a286eb80>\n\t\t.AlphaDropout -> <syft.ast.klass.Class object at 0x7f85a2871220>\n\t\t.AvgPool1d -> <syft.ast.klass.Class object at 0x7f85a28717c0>\n\t\t.AvgPool2d -> <syft.ast.klass.Class object at 0x7f85a2871c40>\n\t\t.AvgPool3d -> <syft.ast.klass.Class object at 0x7f85a2874100>\n\t\t.BatchNorm1d -> <syft.ast.klass.Class object at 0x7f85a2874580>\n\t\t.BatchNorm2d -> <syft.ast.klass.Class object at 0x7f85a2874a00>\n\t\t.BatchNorm3d -> <syft.ast.klass.Class object at 0x7f85a2874e80>\n\t\t.Bilinear -> <syft.ast.klass.Class object at 0x7f85a2878340>\n\t\t.CELU -> <syft.ast.klass.Class object at 0x7f85a28787c0>\n\t\t.ConstantPad1d -> <syft.ast.klass.Class object at 0x7f85a2878be0>\n\t\t.ConstantPad2d -> <syft.ast.klass.Class object at 0x7f85a287d1c0>\n\t\t.ConstantPad3d -> <syft.ast.klass.Class object at 0x7f85a287d760>\n\t\t.Container -> <syft.ast.klass.Class object at 0x7f85a287dd00>\n\t\t.Conv1d -> <syft.ast.klass.Class object at 0x7f85a28801c0>\n\t\t.Conv3d -> <syft.ast.klass.Class object at 0x7f85a28805e0>\n\t\t.ConvTranspose1d -> <syft.ast.klass.Class object at 0x7f85a2880a00>\n\t\t.ConvTranspose2d -> <syft.ast.klass.Class object at 0x7f85a2884040>\n\t\t.ConvTranspose3d -> <syft.ast.klass.Class object at 0x7f85a2884640>\n\t\t.CosineSimilarity -> <syft.ast.klass.Class object at 0x7f85a2884c40>\n\t\t.CrossMapLRN2d -> <syft.ast.klass.Class object at 0x7f85a2886280>\n\t\t.DataParallel -> <syft.ast.klass.Class object at 0x7f85a2886820>\n\t\t.Dropout -> <syft.ast.klass.Class object at 0x7f85a2886dc0>\n\t\t.Dropout3d -> <syft.ast.klass.Class object at 0x7f85a288c3a0>\n\t\t.ELU -> <syft.ast.klass.Class object at 0x7f85a288c820>\n\t\t.Embedding -> <syft.ast.klass.Class object at 0x7f85a288cbe0>\n\t\t.EmbeddingBag -> <syft.ast.klass.Class object at 0x7f85a288f0a0>\n\t\t.FeatureAlphaDropout -> <syft.ast.klass.Class object at 0x7f85a288f640>\n\t\t.Flatten -> <syft.ast.klass.Class object at 0x7f85a288fd60>\n\t\t.Fold -> <syft.ast.klass.Class object at 0x7f85a2892220>\n\t\t.FractionalMaxPool2d -> <syft.ast.klass.Class object at 0x7f85a2892640>\n\t\t.FractionalMaxPool3d -> <syft.ast.klass.Class object at 0x7f85a2892d60>\n\t\t.GELU -> <syft.ast.klass.Class object at 0x7f85a28164c0>\n\t\t.GLU -> <syft.ast.klass.Class object at 0x7f85a28168e0>\n\t\t.GRU -> <syft.ast.klass.Class object at 0x7f85a2816ca0>\n\t\t.GRUCell -> <syft.ast.klass.Class object at 0x7f85a281a0a0>\n\t\t.GroupNorm -> <syft.ast.klass.Class object at 0x7f85a281a520>\n\t\t.Hardshrink -> <syft.ast.klass.Class object at 0x7f85a281a9a0>\n\t\t.Hardsigmoid -> <syft.ast.klass.Class object at 0x7f85a281ae20>\n\t\t.Hardswish -> <syft.ast.klass.Class object at 0x7f85a281d220>\n\t\t.Hardtanh -> <syft.ast.klass.Class object at 0x7f85a281d5e0>\n\t\t.Identity -> <syft.ast.klass.Class object at 0x7f85a281da60>\n\t\t.InstanceNorm1d -> <syft.ast.klass.Class object at 0x7f85a281dee0>\n\t\t.InstanceNorm2d -> <syft.ast.klass.Class object at 0x7f85a2822520>\n\t\t.InstanceNorm3d -> <syft.ast.klass.Class object at 0x7f85a2822b20>\n\t\t.LPPool1d -> <syft.ast.klass.Class object at 0x7f85a2824160>\n\t\t.LPPool2d -> <syft.ast.klass.Class object at 0x7f85a28245e0>\n\t\t.LSTM -> <syft.ast.klass.Class object at 0x7f85a2824a60>\n\t\t.LSTMCell -> <syft.ast.klass.Class object at 0x7f85a2824e80>\n\t\t.LayerNorm -> <syft.ast.klass.Class object at 0x7f85a282a340>\n\t\t.LeakyReLU -> <syft.ast.klass.Class object at 0x7f85a282a7c0>\n\t\t.LocalResponseNorm -> <syft.ast.klass.Class object at 0x7f85a282ac40>\n\t\t.LogSigmoid -> <syft.ast.klass.Class object at 0x7f85a282e2e0>\n\t\t.LogSoftmax -> <syft.ast.klass.Class object at 0x7f85a282e760>\n\t\t.MaxPool1d -> <syft.ast.klass.Class object at 0x7f85a282ebe0>\n\t\t.MaxPool2d -> <syft.ast.klass.Class object at 0x7f85a28310a0>\n\t\t.MaxPool3d -> <syft.ast.klass.Class object at 0x7f85a2831520>\n\t\t.MaxUnpool1d -> <syft.ast.klass.Class object at 0x7f85a28319a0>\n\t\t.MaxUnpool2d -> <syft.ast.klass.Class object at 0x7f85a2831e20>\n\t\t.MaxUnpool3d -> <syft.ast.klass.Class object at 0x7f85a28352e0>\n\t\t.ModuleDict -> <syft.ast.klass.Class object at 0x7f85a2835760>\n\t\t.ModuleList -> <syft.ast.klass.Class object at 0x7f85a2835be0>\n\t\t.MultiheadAttention -> <syft.ast.klass.Class object at 0x7f85a283a160>\n\t\t.PReLU -> <syft.ast.klass.Class object at 0x7f85a283a820>\n\t\t.PairwiseDistance -> <syft.ast.klass.Class object at 0x7f85a283ac40>\n\t\t.PixelShuffle -> <syft.ast.klass.Class object at 0x7f85a283d280>\n\t\t.RNN -> <syft.ast.klass.Class object at 0x7f85a283d820>\n\t\t.RNNBase -> <syft.ast.klass.Class object at 0x7f85a283dbe0>\n\t\t.RNNCell -> <syft.ast.klass.Class object at 0x7f85a283f0a0>\n\t\t.RNNCellBase -> <syft.ast.klass.Class object at 0x7f85a283f520>\n\t\t.RReLU -> <syft.ast.klass.Class object at 0x7f85a283f9a0>\n\t\t.ReLU -> <syft.ast.klass.Class object at 0x7f85a283fdc0>\n\t\t.ReLU6 -> <syft.ast.klass.Class object at 0x7f85a2845220>\n\t\t.ReflectionPad1d -> <syft.ast.klass.Class object at 0x7f85a2845640>\n\t\t.ReflectionPad2d -> <syft.ast.klass.Class object at 0x7f85a2845c40>\n\t\t.ReplicationPad1d -> <syft.ast.klass.Class object at 0x7f85a284a280>\n\t\t.ReplicationPad2d -> <syft.ast.klass.Class object at 0x7f85a284a880>\n\t\t.ReplicationPad3d -> <syft.ast.klass.Class object at 0x7f85a284ae80>\n\t\t.SELU -> <syft.ast.klass.Class object at 0x7f85a284c4c0>\n\t\t.Sigmoid -> <syft.ast.klass.Class object at 0x7f85a284ca60>\n\t\t.Softmax -> <syft.ast.klass.Class object at 0x7f85a284cee0>\n\t\t.Softmax2d -> <syft.ast.klass.Class object at 0x7f85a28503a0>\n\t\t.Softmin -> <syft.ast.klass.Class object at 0x7f85a2850820>\n\t\t.Softplus -> <syft.ast.klass.Class object at 0x7f85a2850ca0>\n\t\t.Softshrink -> <syft.ast.klass.Class object at 0x7f85a2853160>\n\t\t.Softsign -> <syft.ast.klass.Class object at 0x7f85a28535e0>\n\t\t.SyncBatchNorm -> <syft.ast.klass.Class object at 0x7f85a2853a60>\n\t\t.Tanh -> <syft.ast.klass.Class object at 0x7f85a27d9040>\n\t\t.Tanhshrink -> <syft.ast.klass.Class object at 0x7f85a27d9460>\n\t\t.Threshold -> <syft.ast.klass.Class object at 0x7f85a27d98e0>\n\t\t.Transformer -> <syft.ast.klass.Class object at 0x7f85a27d9d60>\n\t\t.TransformerDecoder -> <syft.ast.klass.Class object at 0x7f85a27db220>\n\t\t.TransformerDecoderLayer -> <syft.ast.klass.Class object at 0x7f85a27db940>\n\t\t.TransformerEncoder -> <syft.ast.klass.Class object at 0x7f85a27dbfa0>\n\t\t.TransformerEncoderLayer -> <syft.ast.klass.Class object at 0x7f85a27e0700>\n\t\t.Unfold -> <syft.ast.klass.Class object at 0x7f85a27e0d60>\n\t\t.Upsample -> <syft.ast.klass.Class object at 0x7f85a27e21c0>\n\t\t.UpsamplingBilinear2d -> <syft.ast.klass.Class object at 0x7f85a27e2640>\n\t\t.UpsamplingNearest2d -> <syft.ast.klass.Class object at 0x7f85a27e2d00>\n\t\t.ZeroPad2d -> <syft.ast.klass.Class object at 0x7f85a27e5460>\n\n\t.return_types -> Module:\n\t\t.cummax -> <syft.ast.klass.Class object at 0x7f85a29541c0>\n\t\t.cummin -> <syft.ast.klass.Class object at 0x7f85a2954220>\n\t\t.eig -> <syft.ast.klass.Class object at 0x7f85a2954280>\n\t\t.kthvalue -> <syft.ast.klass.Class object at 0x7f85a29542e0>\n\t\t.lstsq -> <syft.ast.klass.Class object at 0x7f85a2954340>\n\t\t.slogdet -> <syft.ast.klass.Class object at 0x7f85a29543a0>\n\t\t.qr -> <syft.ast.klass.Class object at 0x7f85a2954400>\n\t\t.mode -> <syft.ast.klass.Class object at 0x7f85a2954460>\n\t\t.solve -> <syft.ast.klass.Class object at 0x7f85a29544c0>\n\t\t.sort -> <syft.ast.klass.Class object at 0x7f85a2954520>\n\t\t.symeig -> <syft.ast.klass.Class object at 0x7f85a2954580>\n\t\t.topk -> <syft.ast.klass.Class object at 0x7f85a29545e0>\n\t\t.triangular_solve -> <syft.ast.klass.Class object at 0x7f85a29546a0>\n\t\t.svd -> <syft.ast.klass.Class object at 0x7f85a2954700>\n\t\t.geqrf -> <syft.ast.klass.Class object at 0x7f85a2954760>\n\t\t.median -> <syft.ast.klass.Class object at 0x7f85a29547c0>\n\t\t.max -> <syft.ast.klass.Class object at 0x7f85a2954820>\n\t\t.min -> <syft.ast.klass.Class object at 0x7f85a2954880>\n\n\t.Size -> <syft.ast.klass.Class object at 0x7f85a28ac8e0>\n\t.set_grad_enabled -> <syft.ast.klass.Class object at 0x7f85a28acb80>\n\t.zeros -> <syft.ast.callable.Callable object at 0x7f85a28acbe0>\n\t.randn -> <syft.ast.callable.Callable object at 0x7f85a28acc40>\n\t.ones_like -> <syft.ast.callable.Callable object at 0x7f85a28acca0>\n\t.arange -> <syft.ast.callable.Callable object at 0x7f85a28acdc0>\n\t.abs_ -> <syft.ast.callable.Callable object at 0x7f85a28ace20>\n\t.abs -> <syft.ast.callable.Callable object at 0x7f85a28ace80>\n\t.acos_ -> <syft.ast.callable.Callable object at 0x7f85a28acee0>\n\t.acos -> <syft.ast.callable.Callable object at 0x7f85a28acf40>\n\t.add -> <syft.ast.callable.Callable object at 0x7f85a28acfa0>\n\t.addbmm -> <syft.ast.callable.Callable object at 0x7f85a28b0040>\n\t.addcdiv -> <syft.ast.callable.Callable object at 0x7f85a28b00a0>\n\t.addcmul -> <syft.ast.callable.Callable object at 0x7f85a28b0100>\n\t.addmm -> <syft.ast.callable.Callable object at 0x7f85a28b0160>\n\t.addmv_ -> <syft.ast.callable.Callable object at 0x7f85a28b01c0>\n\t.addmv -> <syft.ast.callable.Callable object at 0x7f85a28b0220>\n\t.addr -> <syft.ast.callable.Callable object at 0x7f85a28b0280>\n\t.all -> <syft.ast.callable.Callable object at 0x7f85a28b02e0>\n\t.allclose -> <syft.ast.callable.Callable object at 0x7f85a28b0340>\n\t.angle -> <syft.ast.callable.Callable object at 0x7f85a28b03a0>\n\t.any -> <syft.ast.callable.Callable object at 0x7f85a28b0400>\n\t.argmax -> <syft.ast.callable.Callable object at 0x7f85a28b0460>\n\t.argmin -> <syft.ast.callable.Callable object at 0x7f85a28b04c0>\n\t.argsort -> <syft.ast.callable.Callable object at 0x7f85a28b0520>\n\t.as_strided_ -> <syft.ast.callable.Callable object at 0x7f85a28b0580>\n\t.as_strided -> <syft.ast.callable.Callable object at 0x7f85a28b05e0>\n\t.asin_ -> <syft.ast.callable.Callable object at 0x7f85a28b0640>\n\t.asin -> <syft.ast.callable.Callable object at 0x7f85a28b06a0>\n\t.atan_ -> <syft.ast.callable.Callable object at 0x7f85a28b0700>\n\t.atan -> <syft.ast.callable.Callable object at 0x7f85a28b0760>\n\t.atan2 -> <syft.ast.callable.Callable object at 0x7f85a28b07c0>\n\t.baddbmm -> <syft.ast.callable.Callable object at 0x7f85a28b0820>\n\t.bernoulli -> <syft.ast.callable.Callable object at 0x7f85a28b0880>\n\t.bitwise_and -> <syft.ast.callable.Callable object at 0x7f85a28b08e0>\n\t.bitwise_not -> <syft.ast.callable.Callable object at 0x7f85a28b0940>\n\t.bitwise_or -> <syft.ast.callable.Callable object at 0x7f85a28b09a0>\n\t.bitwise_xor -> <syft.ast.callable.Callable object at 0x7f85a28b0a00>\n\t.bmm -> <syft.ast.callable.Callable object at 0x7f85a28b0a60>\n\t.cat -> <syft.ast.callable.Callable object at 0x7f85a28b0ac0>\n\t.ceil_ -> <syft.ast.callable.Callable object at 0x7f85a28b0b20>\n\t.ceil -> <syft.ast.callable.Callable object at 0x7f85a28b0b80>\n\t.cholesky_inverse -> <syft.ast.callable.Callable object at 0x7f85a28b0be0>\n\t.cholesky_solve -> <syft.ast.callable.Callable object at 0x7f85a28b0c40>\n\t.cholesky -> <syft.ast.callable.Callable object at 0x7f85a28b0ca0>\n\t.chunk -> <syft.ast.callable.Callable object at 0x7f85a28b0d00>\n\t.clamp_ -> <syft.ast.callable.Callable object at 0x7f85a28b0d60>\n\t.clamp_max_ -> <syft.ast.callable.Callable object at 0x7f85a28b0dc0>\n\t.clamp_max -> <syft.ast.callable.Callable object at 0x7f85a28b0e20>\n\t.clamp_min_ -> <syft.ast.callable.Callable object at 0x7f85a28b0e80>\n\t.clamp_min -> <syft.ast.callable.Callable object at 0x7f85a28b0ee0>\n\t.clamp -> <syft.ast.callable.Callable object at 0x7f85a28b0f40>\n\t.clone -> <syft.ast.callable.Callable object at 0x7f85a28b0fa0>\n\t.conj -> <syft.ast.callable.Callable object at 0x7f85a28b5040>\n\t.cos_ -> <syft.ast.callable.Callable object at 0x7f85a28b50a0>\n\t.cos -> <syft.ast.callable.Callable object at 0x7f85a28b5100>\n\t.cosh_ -> <syft.ast.callable.Callable object at 0x7f85a28b5160>\n\t.cosh -> <syft.ast.callable.Callable object at 0x7f85a28b51c0>\n\t.cross -> <syft.ast.callable.Callable object at 0x7f85a28b5220>\n\t.cummax -> <syft.ast.callable.Callable object at 0x7f85a28b5280>\n\t.cummin -> <syft.ast.callable.Callable object at 0x7f85a28b52e0>\n\t.cumprod -> <syft.ast.callable.Callable object at 0x7f85a28b5340>\n\t.cumsum -> <syft.ast.callable.Callable object at 0x7f85a28b53a0>\n\t.dequantize -> <syft.ast.callable.Callable object at 0x7f85a28b5400>\n\t.det -> <syft.ast.callable.Callable object at 0x7f85a28b5460>\n\t.detach -> <syft.ast.callable.Callable object at 0x7f85a28b54c0>\n\t.diag_embed -> <syft.ast.callable.Callable object at 0x7f85a28b5520>\n\t.diag -> <syft.ast.callable.Callable object at 0x7f85a28b5580>\n\t.diagflat -> <syft.ast.callable.Callable object at 0x7f85a28b55e0>\n\t.diagonal -> <syft.ast.callable.Callable object at 0x7f85a28b5640>\n\t.digamma -> <syft.ast.callable.Callable object at 0x7f85a28b56a0>\n\t.dist -> <syft.ast.callable.Callable object at 0x7f85a28b5700>\n\t.div -> <syft.ast.callable.Callable object at 0x7f85a28b5760>\n\t.dot -> <syft.ast.callable.Callable object at 0x7f85a28b57c0>\n\t.eig -> <syft.ast.callable.Callable object at 0x7f85a28b5820>\n\t.eq -> <syft.ast.callable.Callable object at 0x7f85a28b5880>\n\t.equal -> <syft.ast.callable.Callable object at 0x7f85a28b58e0>\n\t.erf_ -> <syft.ast.callable.Callable object at 0x7f85a28b5940>\n\t.erf -> <syft.ast.callable.Callable object at 0x7f85a28b59a0>\n\t.erfc_ -> <syft.ast.callable.Callable object at 0x7f85a28b5a00>\n\t.erfc -> <syft.ast.callable.Callable object at 0x7f85a28b5a60>\n\t.erfinv -> <syft.ast.callable.Callable object at 0x7f85a28b5ac0>\n\t.exp_ -> <syft.ast.callable.Callable object at 0x7f85a28b5b20>\n\t.exp -> <syft.ast.callable.Callable object at 0x7f85a28b5b80>\n\t.expm1_ -> <syft.ast.callable.Callable object at 0x7f85a28b5be0>\n\t.expm1 -> <syft.ast.callable.Callable object at 0x7f85a28b5c40>\n\t.fft -> Module:\n\n\t.fill_ -> <syft.ast.callable.Callable object at 0x7f85a28b5d00>\n\t.flatten -> <syft.ast.callable.Callable object at 0x7f85a28b5d60>\n\t.flip -> <syft.ast.callable.Callable object at 0x7f85a28b5dc0>\n\t.floor_ -> <syft.ast.callable.Callable object at 0x7f85a28b5e20>\n\t.floor_divide -> <syft.ast.callable.Callable object at 0x7f85a28b5e80>\n\t.floor -> <syft.ast.callable.Callable object at 0x7f85a28b5ee0>\n\t.fmod -> <syft.ast.callable.Callable object at 0x7f85a28b5f40>\n\t.frac_ -> <syft.ast.callable.Callable object at 0x7f85a28b5fa0>\n\t.frac -> <syft.ast.callable.Callable object at 0x7f85a28b9040>\n\t.from_numpy -> <syft.ast.callable.Callable object at 0x7f85a28b90a0>\n\t.gather -> <syft.ast.callable.Callable object at 0x7f85a28b9100>\n\t.ge -> <syft.ast.callable.Callable object at 0x7f85a28b9160>\n\t.geqrf -> <syft.ast.callable.Callable object at 0x7f85a28b91c0>\n\t.ger -> <syft.ast.callable.Callable object at 0x7f85a28b9220>\n\t.get_device -> <syft.ast.callable.Callable object at 0x7f85a28b9280>\n\t.gt -> <syft.ast.callable.Callable object at 0x7f85a28b92e0>\n\t.hardshrink -> <syft.ast.callable.Callable object at 0x7f85a28b9340>\n\t.histc -> <syft.ast.callable.Callable object at 0x7f85a28b93a0>\n\t.index_add -> <syft.ast.callable.Callable object at 0x7f85a28b9400>\n\t.index_copy -> <syft.ast.callable.Callable object at 0x7f85a28b9460>\n\t.index_fill -> <syft.ast.callable.Callable object at 0x7f85a28b94c0>\n\t.index_put_ -> <syft.ast.callable.Callable object at 0x7f85a28b9520>\n\t.index_put -> <syft.ast.callable.Callable object at 0x7f85a28b9580>\n\t.index_select -> <syft.ast.callable.Callable object at 0x7f85a28b95e0>\n\t.int_repr -> <syft.ast.callable.Callable object at 0x7f85a28b9640>\n\t.inverse -> <syft.ast.callable.Callable object at 0x7f85a28b96a0>\n\t.is_complex -> <syft.ast.callable.Callable object at 0x7f85a28b9700>\n\t.is_distributed -> <syft.ast.callable.Callable object at 0x7f85a28b9760>\n\t.is_floating_point -> <syft.ast.callable.Callable object at 0x7f85a28b97c0>\n\t.is_nonzero -> <syft.ast.callable.Callable object at 0x7f85a28b9820>\n\t.is_same_size -> <syft.ast.callable.Callable object at 0x7f85a28b9880>\n\t.is_signed -> <syft.ast.callable.Callable object at 0x7f85a28b98e0>\n\t.isclose -> <syft.ast.callable.Callable object at 0x7f85a28b9940>\n\t.kthvalue -> <syft.ast.callable.Callable object at 0x7f85a28b99a0>\n\t.le -> <syft.ast.callable.Callable object at 0x7f85a28b9a00>\n\t.lerp -> <syft.ast.callable.Callable object at 0x7f85a28b9a60>\n\t.lgamma -> <syft.ast.callable.Callable object at 0x7f85a28b9ac0>\n\t.log_ -> <syft.ast.callable.Callable object at 0x7f85a28b9b20>\n\t.log_softmax -> <syft.ast.callable.Callable object at 0x7f85a28b9b80>\n\t.log -> <syft.ast.callable.Callable object at 0x7f85a28b9be0>\n\t.log10_ -> <syft.ast.callable.Callable object at 0x7f85a28b9c40>\n\t.log10 -> <syft.ast.callable.Callable object at 0x7f85a28b9ca0>\n\t.log1p_ -> <syft.ast.callable.Callable object at 0x7f85a28b9d00>\n\t.log1p -> <syft.ast.callable.Callable object at 0x7f85a28b9d60>\n\t.log2_ -> <syft.ast.callable.Callable object at 0x7f85a28b9dc0>\n\t.log2 -> <syft.ast.callable.Callable object at 0x7f85a28b9e20>\n\t.logdet -> <syft.ast.callable.Callable object at 0x7f85a28b9e80>\n\t.logical_and -> <syft.ast.callable.Callable object at 0x7f85a28b9ee0>\n\t.logical_not -> <syft.ast.callable.Callable object at 0x7f85a28b9f40>\n\t.logical_or -> <syft.ast.callable.Callable object at 0x7f85a28b9fa0>\n\t.logical_xor -> <syft.ast.callable.Callable object at 0x7f85a28be040>\n\t.logsumexp -> <syft.ast.callable.Callable object at 0x7f85a28be0a0>\n\t.lstsq -> <syft.ast.callable.Callable object at 0x7f85a28be100>\n\t.lt -> <syft.ast.callable.Callable object at 0x7f85a28be160>\n\t.lu_solve -> <syft.ast.callable.Callable object at 0x7f85a28be1c0>\n\t.lu -> <syft.ast.callable.Callable object at 0x7f85a28be220>\n\t.masked_fill -> <syft.ast.callable.Callable object at 0x7f85a28be280>\n\t.masked_scatter -> <syft.ast.callable.Callable object at 0x7f85a28be2e0>\n\t.masked_select -> <syft.ast.callable.Callable object at 0x7f85a28be340>\n\t.matmul -> <syft.ast.callable.Callable object at 0x7f85a28be3a0>\n\t.matrix_power -> <syft.ast.callable.Callable object at 0x7f85a28be400>\n\t.mean -> <syft.ast.callable.Callable object at 0x7f85a28be460>\n\t.mm -> <syft.ast.callable.Callable object at 0x7f85a28be4c0>\n\t.mode -> <syft.ast.callable.Callable object at 0x7f85a28be520>\n\t.mul -> <syft.ast.callable.Callable object at 0x7f85a28be580>\n\t.multinomial -> <syft.ast.callable.Callable object at 0x7f85a28be5e0>\n\t.mv -> <syft.ast.callable.Callable object at 0x7f85a28be640>\n\t.mvlgamma -> <syft.ast.callable.Callable object at 0x7f85a28be6a0>\n\t.narrow -> <syft.ast.callable.Callable object at 0x7f85a28be700>\n\t.ne -> <syft.ast.callable.Callable object at 0x7f85a28be760>\n\t.neg_ -> <syft.ast.callable.Callable object at 0x7f85a28be7c0>\n\t.neg -> <syft.ast.callable.Callable object at 0x7f85a28be820>\n\t.nonzero -> <syft.ast.callable.Callable object at 0x7f85a28be880>\n\t.norm -> <syft.ast.callable.Callable object at 0x7f85a28be8e0>\n\t.orgqr -> <syft.ast.callable.Callable object at 0x7f85a28be940>\n\t.ormqr -> <syft.ast.callable.Callable object at 0x7f85a28be9a0>\n\t.pinverse -> <syft.ast.callable.Callable object at 0x7f85a28bea00>\n\t.polygamma -> <syft.ast.callable.Callable object at 0x7f85a28bea60>\n\t.pow -> <syft.ast.callable.Callable object at 0x7f85a28beac0>\n\t.prelu -> <syft.ast.callable.Callable object at 0x7f85a28beb20>\n\t.q_per_channel_axis -> <syft.ast.callable.Callable object at 0x7f85a28beb80>\n\t.q_per_channel_scales -> <syft.ast.callable.Callable object at 0x7f85a28bebe0>\n\t.q_per_channel_zero_points -> <syft.ast.callable.Callable object at 0x7f85a28bec40>\n\t.q_scale -> <syft.ast.callable.Callable object at 0x7f85a28beca0>\n\t.q_zero_point -> <syft.ast.callable.Callable object at 0x7f85a28bed00>\n\t.qr -> <syft.ast.callable.Callable object at 0x7f85a28bed60>\n\t.reciprocal_ -> <syft.ast.callable.Callable object at 0x7f85a28bedc0>\n\t.reciprocal -> <syft.ast.callable.Callable object at 0x7f85a28bee20>\n\t.relu_ -> <syft.ast.callable.Callable object at 0x7f85a28bee80>\n\t.relu -> <syft.ast.callable.Callable object at 0x7f85a28beee0>\n\t.remainder -> <syft.ast.callable.Callable object at 0x7f85a28bef40>\n\t.renorm -> <syft.ast.callable.Callable object at 0x7f85a28befa0>\n\t.repeat_interleave -> <syft.ast.callable.Callable object at 0x7f85a28c1040>\n\t.reshape -> <syft.ast.callable.Callable object at 0x7f85a28c10a0>\n\t.resize_as_ -> <syft.ast.callable.Callable object at 0x7f85a28c1100>\n\t.roll -> <syft.ast.callable.Callable object at 0x7f85a28c1160>\n\t.rot90 -> <syft.ast.callable.Callable object at 0x7f85a28c11c0>\n\t.round_ -> <syft.ast.callable.Callable object at 0x7f85a28c1220>\n\t.round -> <syft.ast.callable.Callable object at 0x7f85a28c1280>\n\t.rsqrt_ -> <syft.ast.callable.Callable object at 0x7f85a28c12e0>\n\t.rsqrt -> <syft.ast.callable.Callable object at 0x7f85a28c1340>\n\t.scatter_add -> <syft.ast.callable.Callable object at 0x7f85a28c13a0>\n\t.scatter -> <syft.ast.callable.Callable object at 0x7f85a28c1400>\n\t.select -> <syft.ast.callable.Callable object at 0x7f85a28c1460>\n\t.sigmoid_ -> <syft.ast.callable.Callable object at 0x7f85a28c14c0>\n\t.sigmoid -> <syft.ast.callable.Callable object at 0x7f85a28c1520>\n\t.sign -> <syft.ast.callable.Callable object at 0x7f85a28c1580>\n\t.sin_ -> <syft.ast.callable.Callable object at 0x7f85a28c15e0>\n\t.sin -> <syft.ast.callable.Callable object at 0x7f85a28c1640>\n\t.sinh_ -> <syft.ast.callable.Callable object at 0x7f85a28c16a0>\n\t.sinh -> <syft.ast.callable.Callable object at 0x7f85a28c1700>\n\t.slogdet -> <syft.ast.callable.Callable object at 0x7f85a28c1760>\n\t.softmax -> <syft.ast.callable.Callable object at 0x7f85a28c17c0>\n\t.solve -> <syft.ast.callable.Callable object at 0x7f85a28c1820>\n\t.sort -> <syft.ast.callable.Callable object at 0x7f85a28c1880>\n\t.split_with_sizes -> <syft.ast.callable.Callable object at 0x7f85a28c18e0>\n\t.split -> <syft.ast.callable.Callable object at 0x7f85a28c1940>\n\t.sqrt_ -> <syft.ast.callable.Callable object at 0x7f85a28c19a0>\n\t.sqrt -> <syft.ast.callable.Callable object at 0x7f85a28c1a00>\n\t.square_ -> <syft.ast.callable.Callable object at 0x7f85a28c1a60>\n\t.square -> <syft.ast.callable.Callable object at 0x7f85a28c1ac0>\n\t.squeeze -> <syft.ast.callable.Callable object at 0x7f85a28c1b20>\n\t.stack -> <syft.ast.callable.Callable object at 0x7f85a28c1b80>\n\t.std -> <syft.ast.callable.Callable object at 0x7f85a28c1be0>\n\t.stft -> <syft.ast.callable.Callable object at 0x7f85a28c1c40>\n\t.sub -> <syft.ast.callable.Callable object at 0x7f85a28c1ca0>\n\t.sum -> <syft.ast.callable.Callable object at 0x7f85a28c1d00>\n\t.svd -> <syft.ast.callable.Callable object at 0x7f85a28c1d60>\n\t.symeig -> <syft.ast.callable.Callable object at 0x7f85a28c1dc0>\n\t.t -> <syft.ast.callable.Callable object at 0x7f85a28c1e20>\n\t.take -> <syft.ast.callable.Callable object at 0x7f85a28c1e80>\n\t.tan_ -> <syft.ast.callable.Callable object at 0x7f85a28c1ee0>\n\t.tan -> <syft.ast.callable.Callable object at 0x7f85a28c1f40>\n\t.tanh_ -> <syft.ast.callable.Callable object at 0x7f85a28c1fa0>\n\t.tanh -> <syft.ast.callable.Callable object at 0x7f85a28c6040>\n\t.topk -> <syft.ast.callable.Callable object at 0x7f85a28c60a0>\n\t.trace -> <syft.ast.callable.Callable object at 0x7f85a28c6100>\n\t.transpose -> <syft.ast.callable.Callable object at 0x7f85a28c6160>\n\t.triangular_solve -> <syft.ast.callable.Callable object at 0x7f85a28c61c0>\n\t.tril -> <syft.ast.callable.Callable object at 0x7f85a28c6220>\n\t.triu -> <syft.ast.callable.Callable object at 0x7f85a28c6280>\n\t.true_divide -> <syft.ast.callable.Callable object at 0x7f85a28c62e0>\n\t.trunc_ -> <syft.ast.callable.Callable object at 0x7f85a28c6340>\n\t.trunc -> <syft.ast.callable.Callable object at 0x7f85a28c63a0>\n\t.unique_consecutive -> <syft.ast.callable.Callable object at 0x7f85a28c6400>\n\t.unique -> <syft.ast.callable.Callable object at 0x7f85a28c6460>\n\t.unsqueeze -> <syft.ast.callable.Callable object at 0x7f85a28c64c0>\n\t.var -> <syft.ast.callable.Callable object at 0x7f85a28c6520>\n\t.unsafe_chunk -> <syft.ast.callable.Callable object at 0x7f85a28c6580>\n\t.absolute -> <syft.ast.callable.Callable object at 0x7f85a28c65e0>\n\t.acosh_ -> <syft.ast.callable.Callable object at 0x7f85a28c6640>\n\t.acosh -> <syft.ast.callable.Callable object at 0x7f85a28c66a0>\n\t.asinh_ -> <syft.ast.callable.Callable object at 0x7f85a28c6700>\n\t.asinh -> <syft.ast.callable.Callable object at 0x7f85a28c6760>\n\t.atanh_ -> <syft.ast.callable.Callable object at 0x7f85a28c67c0>\n\t.atanh -> <syft.ast.callable.Callable object at 0x7f85a28c6820>\n\t.deg2rad_ -> <syft.ast.callable.Callable object at 0x7f85a28c6880>\n\t.deg2rad -> <syft.ast.callable.Callable object at 0x7f85a28c68e0>\n\t.fliplr -> <syft.ast.callable.Callable object at 0x7f85a28c6940>\n\t.flipud -> <syft.ast.callable.Callable object at 0x7f85a28c69a0>\n\t.isfinite -> <syft.ast.callable.Callable object at 0x7f85a28c6a00>\n\t.isinf -> <syft.ast.callable.Callable object at 0x7f85a28c6a60>\n\t.isnan -> <syft.ast.callable.Callable object at 0x7f85a28c6ac0>\n\t.logaddexp -> <syft.ast.callable.Callable object at 0x7f85a28c6b20>\n\t.logaddexp2 -> <syft.ast.callable.Callable object at 0x7f85a28c6b80>\n\t.logcumsumexp -> <syft.ast.callable.Callable object at 0x7f85a28c6be0>\n\t.rad2deg_ -> <syft.ast.callable.Callable object at 0x7f85a28c6c40>\n\t.rad2deg -> <syft.ast.callable.Callable object at 0x7f85a28c6ca0>\n\t.istft -> <syft.ast.callable.Callable object at 0x7f85a28c6d00>\n\t.amax -> <syft.ast.callable.Callable object at 0x7f85a28c6d60>\n\t.amin -> <syft.ast.callable.Callable object at 0x7f85a28c6dc0>\n\t.arccos -> <syft.ast.callable.Callable object at 0x7f85a28c6e20>\n\t.arccos_ -> <syft.ast.callable.Callable object at 0x7f85a28c6e80>\n\t.arccosh -> <syft.ast.callable.Callable object at 0x7f85a28c6ee0>\n\t.arccosh_ -> <syft.ast.callable.Callable object at 0x7f85a28c6f40>\n\t.arcsin -> <syft.ast.callable.Callable object at 0x7f85a28c6fa0>\n\t.arcsin_ -> <syft.ast.callable.Callable object at 0x7f85a28ca040>\n\t.arcsinh -> <syft.ast.callable.Callable object at 0x7f85a28ca0a0>\n\t.arcsinh_ -> <syft.ast.callable.Callable object at 0x7f85a28ca100>\n\t.arctan -> <syft.ast.callable.Callable object at 0x7f85a28ca160>\n\t.arctan_ -> <syft.ast.callable.Callable object at 0x7f85a28ca1c0>\n\t.arctanh -> <syft.ast.callable.Callable object at 0x7f85a28ca220>\n\t.arctanh_ -> <syft.ast.callable.Callable object at 0x7f85a28ca280>\n\t.clip -> <syft.ast.callable.Callable object at 0x7f85a28ca2e0>\n\t.clip_ -> <syft.ast.callable.Callable object at 0x7f85a28ca340>\n\t.count_nonzero -> <syft.ast.callable.Callable object at 0x7f85a28ca3a0>\n\t.divide -> <syft.ast.callable.Callable object at 0x7f85a28ca400>\n\t.exp2 -> <syft.ast.callable.Callable object at 0x7f85a28ca460>\n\t.exp2_ -> <syft.ast.callable.Callable object at 0x7f85a28ca4c0>\n\t.fix -> <syft.ast.callable.Callable object at 0x7f85a28ca520>\n\t.fix_ -> <syft.ast.callable.Callable object at 0x7f85a28ca580>\n\t.gcd -> <syft.ast.callable.Callable object at 0x7f85a28ca5e0>\n\t.gcd_ -> <syft.ast.callable.Callable object at 0x7f85a28ca640>\n\t.greater -> <syft.ast.callable.Callable object at 0x7f85a28ca6a0>\n\t.greater_equal -> <syft.ast.callable.Callable object at 0x7f85a28ca700>\n\t.heaviside -> <syft.ast.callable.Callable object at 0x7f85a28ca760>\n\t.hypot -> <syft.ast.callable.Callable object at 0x7f85a28ca7c0>\n\t.i0 -> <syft.ast.callable.Callable object at 0x7f85a28ca820>\n\t.i0_ -> <syft.ast.callable.Callable object at 0x7f85a28ca880>\n\t.isneginf -> <syft.ast.callable.Callable object at 0x7f85a28ca8e0>\n\t.isposinf -> <syft.ast.callable.Callable object at 0x7f85a28ca940>\n\t.isreal -> <syft.ast.callable.Callable object at 0x7f85a28ca9a0>\n\t.lcm -> <syft.ast.callable.Callable object at 0x7f85a28caa00>\n\t.lcm_ -> <syft.ast.callable.Callable object at 0x7f85a28caa60>\n\t.less -> <syft.ast.callable.Callable object at 0x7f85a28caac0>\n\t.less_equal -> <syft.ast.callable.Callable object at 0x7f85a28cab20>\n\t.logit -> <syft.ast.callable.Callable object at 0x7f85a28cab80>\n\t.logit_ -> <syft.ast.callable.Callable object at 0x7f85a28cabe0>\n\t.maximum -> <syft.ast.callable.Callable object at 0x7f85a28cac40>\n\t.minimum -> <syft.ast.callable.Callable object at 0x7f85a28caca0>\n\t.matrix_exp -> <syft.ast.callable.Callable object at 0x7f85a28cad00>\n\t.multiply -> <syft.ast.callable.Callable object at 0x7f85a28cad60>\n\t.nanquantile -> <syft.ast.callable.Callable object at 0x7f85a28cadc0>\n\t.nansum -> <syft.ast.callable.Callable object at 0x7f85a28cae20>\n\t.negative -> <syft.ast.callable.Callable object at 0x7f85a28cae80>\n\t.negative_ -> <syft.ast.callable.Callable object at 0x7f85a28caee0>\n\t.nextafter -> <syft.ast.callable.Callable object at 0x7f85a28caf40>\n\t.outer -> <syft.ast.callable.Callable object at 0x7f85a28cafa0>\n\t.quantile -> <syft.ast.callable.Callable object at 0x7f85a28cf040>\n\t.sgn -> <syft.ast.callable.Callable object at 0x7f85a28cf0a0>\n\t.signbit -> <syft.ast.callable.Callable object at 0x7f85a28cf100>\n\t.subtract -> <syft.ast.callable.Callable object at 0x7f85a28cf160>\n\t.unsafe_split -> <syft.ast.callable.Callable object at 0x7f85a28cf1c0>\n\t.vdot -> <syft.ast.callable.Callable object at 0x7f85a28cf220>\n\t.movedim -> <syft.ast.callable.Callable object at 0x7f85a28cf280>\n\t.unsafe_split_with_sizes -> <syft.ast.callable.Callable object at 0x7f85a28cf2e0>\n\t.cuda -> Module:\n\t\t.is_available -> <syft.ast.callable.Callable object at 0x7f85a28cf3a0>\n\n\t.device -> <syft.ast.klass.Class object at 0x7f85a28cf400>\n\t.random -> Module:\n\t\t.initial_seed -> <syft.ast.callable.Callable object at 0x7f85a28cf580>\n\n\t.zeros_like -> <syft.ast.callable.Callable object at 0x7f85a28cf5e0>\n\t.manual_seed -> <syft.ast.callable.Callable object at 0x7f85a28cf640>\n\t.Generator -> <syft.ast.klass.Class object at 0x7f85a28cf6a0>\n\t.utils -> Module:\n\t\t.data -> Module:\n\t\t\t.DataLoader -> <syft.ast.klass.Class object at 0x7f85a28d49a0>\n\t\t\t.dataloader -> Module:\n\t\t\t\t._SingleProcessDataLoaderIter -> <syft.ast.klass.Class object at 0x7f85a28d4be0>\n\n\n\n\t.optim -> Module:\n\t\t.ASGD -> <syft.ast.klass.Class object at 0x7f85a28d4fa0>\n\t\t.Adadelta -> <syft.ast.klass.Class object at 0x7f85a285a160>\n\t\t.Adagrad -> <syft.ast.klass.Class object at 0x7f85a285a2e0>\n\t\t.Adam -> <syft.ast.klass.Class object at 0x7f85a285a460>\n\t\t.AdamW -> <syft.ast.klass.Class object at 0x7f85a285a5e0>\n\t\t.Adamax -> <syft.ast.klass.Class object at 0x7f85a285a760>\n\t\t.LBFGS -> <syft.ast.klass.Class object at 0x7f85a285a8e0>\n\t\t.Optimizer -> <syft.ast.klass.Class object at 0x7f85a285aa60>\n\t\t.RMSprop -> <syft.ast.klass.Class object at 0x7f85a285ac40>\n\t\t.Rprop -> <syft.ast.klass.Class object at 0x7f85a285adc0>\n\t\t.SGD -> <syft.ast.klass.Class object at 0x7f85a285af40>\n\t\t.SparseAdam -> <syft.ast.klass.Class object at 0x7f85a285f100>\n\t\t.lr_scheduler -> Module:\n\t\t\t.StepLR -> <syft.ast.klass.Class object at 0x7f85a285f3a0>\n\n\n\t.no_grad -> <syft.ast.klass.Class object at 0x7f85a285f580>\n\t.autograd -> Module:\n\t\t.grad_mode -> Module:\n\t\t\t.no_grad -> <syft.ast.klass.Class object at 0x7f85a285f700>\n\n\n\t.distributions -> Module:\n\t\t.Categorical -> <syft.ast.klass.Class object at 0x7f85a27e5940>\n\n\t.kron -> <syft.ast.callable.Callable object at 0x7f85a27e5ee0>\n\t.msort -> <syft.ast.callable.Callable object at 0x7f85a27ea040>\n\t.row_stack -> <syft.ast.callable.Callable object at 0x7f85a27ea0a0>\n\t.moveaxis -> <syft.ast.callable.Callable object at 0x7f85a27ea3a0>\n\t.tensor_split -> <syft.ast.callable.Callable object at 0x7f85a27ea4c0>\n\t.tile -> <syft.ast.callable.Callable object at 0x7f85a27ea5e0>\n\t.fmin -> <syft.ast.callable.Callable object at 0x7f85a27ea7c0>\n\t.ldexp -> <syft.ast.callable.Callable object at 0x7f85a27ea820>\n\t.igamma -> <syft.ast.callable.Callable object at 0x7f85a27ea940>\n\t.float_power -> <syft.ast.callable.Callable object at 0x7f85a27eae20>\n\t.xlogy -> <syft.ast.callable.Callable object at 0x7f85a27eaf40>\n\t.copysign -> <syft.ast.callable.Callable object at 0x7f85a27eafa0>\n\t.nanmedian -> <syft.ast.callable.Callable object at 0x7f85a27ef040>\n\t.igammac -> <syft.ast.callable.Callable object at 0x7f85a27ef0a0>\n\t.diff -> <syft.ast.callable.Callable object at 0x7f85a27ef1c0>\n\t.sinc -> <syft.ast.callable.Callable object at 0x7f85a27ef2e0>\n\t.column_stack -> <syft.ast.callable.Callable object at 0x7f85a27ef4c0>\n\t.pixel_unshuffle -> <syft.ast.callable.Callable object at 0x7f85a27ef5e0>\n\t.swapaxes -> <syft.ast.callable.Callable object at 0x7f85a27ef880>\n\t.nan_to_num -> <syft.ast.callable.Callable object at 0x7f85a27ef8e0>\n\t.inner -> <syft.ast.callable.Callable object at 0x7f85a27ef940>\n\t.fmax -> <syft.ast.callable.Callable object at 0x7f85a27ef9a0>\n\t.ravel -> <syft.ast.callable.Callable object at 0x7f85a27efd00>\n\t.broadcast_to -> <syft.ast.callable.Callable object at 0x7f85a27efd60>\n\t.swapdims -> <syft.ast.callable.Callable object at 0x7f85a27eff40>"
          },
          "metadata": {}
        }
      ],
      "execution_count": 14,
      "metadata": {
        "jupyter": {
          "source_hidden": false,
          "outputs_hidden": true
        },
        "nteract": {
          "transient": {
            "deleting": false
          }
        },
        "gather": {
          "logged": 1631780242590
        }
      }
    },
    {
      "cell_type": "markdown",
      "source": [
        "### The server request to see client's data"
      ],
      "metadata": {
        "nteract": {
          "transient": {
            "deleting": false
          }
        }
      }
    },
    {
      "cell_type": "code",
      "source": [
        "root_client_data_ptr = remote_torch.randn(size=(1, 100))\n",
        "print(f'pointer to client data: {root_client_data_ptr}')\n",
        "client_data = root_client_data_ptr.get()\n",
        "print(client_data)\n",
        "print(client_data.device)"
      ],
      "outputs": [
        {
          "output_type": "stream",
          "name": "stdout",
          "text": "pointer to client data: <syft.proxy.torch.TensorPointer object at 0x7f85a20daeb0>\ntensor([[ 1.4839e+00, -1.4026e-01, -1.0380e+00, -8.6361e-01,  1.2877e+00,\n          7.9215e-01, -5.7131e-01, -5.4436e-01, -8.0904e-01, -8.4752e-03,\n         -4.3351e-01,  4.0938e-01, -1.4418e-01,  5.4918e-01,  1.2680e+00,\n         -7.6164e-02, -2.4584e+00, -1.1221e+00, -7.2104e-01,  4.0913e-01,\n          1.1193e+00,  2.4856e-01, -1.1446e+00, -3.7116e-01, -1.1473e+00,\n          1.3001e+00, -5.2775e-01,  1.9871e-01,  7.1536e-01, -2.5062e-01,\n         -1.1728e+00,  2.6915e-01, -9.2223e-03, -1.3356e-01, -8.9276e-01,\n          2.9339e-01,  4.8440e-01,  2.9894e-03, -6.2730e-01, -2.2054e-01,\n         -2.4610e-02,  4.7696e-01,  1.4238e+00, -6.6338e-01,  6.7872e-01,\n          1.0820e+00,  2.5925e+00,  3.0458e+00,  2.0120e+00,  1.2231e+00,\n         -4.1139e-01, -2.5692e+00,  1.9517e+00,  1.6609e+00,  5.5270e-03,\n          2.1843e-01, -1.6698e+00, -9.1326e-01,  2.9642e-01, -1.8254e+00,\n          5.3720e-01, -1.6095e+00, -5.8177e-01,  2.3323e-01, -5.6341e-01,\n          1.7679e-02, -9.4826e-03, -5.3719e-03, -1.0015e+00,  1.0598e+00,\n          9.2219e-01, -1.0587e-01,  1.9126e+00,  2.2617e+00, -1.2563e+00,\n          1.6288e-01, -6.3133e-01,  9.2200e-01, -1.3424e+00, -1.5515e-02,\n          6.8990e-01,  5.5405e-01, -8.6076e-01,  2.5174e-01,  3.8522e-01,\n         -5.7347e-01,  1.1771e+00, -2.4468e+00, -5.0735e-01,  1.2404e+00,\n         -9.9842e-01,  1.1921e-01,  7.4106e-02,  7.4807e-01,  8.5285e-01,\n         -5.0587e-01,  3.7076e-01, -6.2721e-01, -7.9503e-01, -7.9521e-01]])\ncpu\n"
        }
      ],
      "execution_count": 15,
      "metadata": {
        "jupyter": {
          "source_hidden": false,
          "outputs_hidden": false
        },
        "nteract": {
          "transient": {
            "deleting": false
          }
        },
        "gather": {
          "logged": 1631780243007
        }
      }
    },
    {
      "cell_type": "markdown",
      "source": [
        "### Checking out client's device (cuda or CPU)"
      ],
      "metadata": {
        "nteract": {
          "transient": {
            "deleting": false
          }
        }
      }
    },
    {
      "cell_type": "markdown",
      "source": [
        "For root client"
      ],
      "metadata": {
        "nteract": {
          "transient": {
            "deleting": false
          }
        }
      }
    },
    {
      "cell_type": "code",
      "source": [
        "root_client_cuda_ptr = remote_torch.cuda.is_available()\n",
        "root_client_cuda_ptr.id_at_location\n",
        "bool_cuda = root_client_cuda_ptr.get_copy()\n",
        "print(f'root client has CUDA? {bool_cuda}')\n",
        "\n",
        "cuda_ptr = remote_torch.device(\"cuda\" if bool_cuda else \"cpu\")\n",
        "print(f'root client device: {cuda_ptr.type.get_copy()}')"
      ],
      "outputs": [
        {
          "output_type": "stream",
          "name": "stdout",
          "text": "root client has CUDA? True\nroot client device: cuda\n"
        }
      ],
      "execution_count": 16,
      "metadata": {
        "jupyter": {
          "source_hidden": false,
          "outputs_hidden": false
        },
        "nteract": {
          "transient": {
            "deleting": false
          }
        },
        "gather": {
          "logged": 1631780243390
        }
      }
    },
    {
      "cell_type": "markdown",
      "source": [
        "What if the server requests a cuda tensor?"
      ],
      "metadata": {
        "nteract": {
          "transient": {
            "deleting": false
          }
        }
      }
    },
    {
      "cell_type": "code",
      "source": [
        "root_client_data_ptr = remote_torch.randn(size=(1, 100)).cuda()\n",
        "print(f'pointer to client data: {root_client_data_ptr}')\n",
        "try:for i, b in enumerate(tqdm(train_rdl_ptr)):\n",
        "    if i<1:\n",
        "        x, y = b[0], b[1]\n",
        "        try:\n",
        "            ic(x.get_copy(), y.get_copy())\n",
        "        except Exception as e:\n",
        "            ic(e)\n",
        "        out = ecg_client_ptr(x)\n",
        "        ic(out.cpu())\n",
        "        # ic(X.to(\"cpu\").get_copy(), y.to(\"cpu\").get_copy())for i, b in enumerate(tqdm(train_rdl_ptr)):\n",
        "    if i<1:\n",
        "        x, y = b[0], b[1]\n",
        "        try:\n",
        "            ic(x.get_copy(), y.get_copy())\n",
        "        except Exception as e:\n",
        "            ic(e)\n",
        "        out = ecg_client_ptr(x)\n",
        "        ic(out.cpu())\n",
        "        # ic(X.to(\"cpu\").get_copy(), y.to(\"cpu\").get_copy())for i, b in enumerate(test_rdl_ptr):\n",
        "    if i<2:\n",
        "        X, y = b[0], b[1]\n",
        "        ic(X, y)\n",
        "        ic(X.get_copy(), y.get_copy())asdfasdf\n",
        "    client_data = root_client_data_ptr.get()\n",
        "    print(client_data)\n",
        "    print(client_data.device)\n",
        "except TypeError as e:\n",
        "    print(e)"
      ],
      "outputs": [
        {
          "output_type": "stream",
          "name": "stdout",
          "text": "pointer to client data: <syft.proxy.torch.TensorPointer object at 0x7f858d5f4940>\ncan't convert cuda:0 device type tensor to numpy. Use Tensor.cpu() to copy the tensor to host memory first.\n"
        }
      ],
      "execution_count": 20,
      "metadata": {
        "jupyter": {
          "source_hidden": false,
          "outputs_hidden": false
        },
        "nteract": {
          "transient": {
            "deleting": false
          }
        },
        "gather": {
          "logged": 1631780775906
        }
      }
    },
    {
      "cell_type": "markdown",
      "source": [
        "Check out device for normal client (somehow syft asks for request, which I don't know how to accept yet)"
      ],
      "metadata": {
        "nteract": {
          "transient": {
            "deleting": false
          }
        }
      }
    },
    {
      "cell_type": "code",
      "source": [
        "remote_torch2 = client.torch\n",
        "bool_cuda_ptr2 = remote_torch2.cuda.is_available()\n",
        "try:\n",
        "    bool_cuda2 = bool_cuda_ptr2.get_copy()\n",
        "    print(f'client has CUDA? {bool_cuda2}')\n",
        "    cuda_ptr = remote_torch2.device(\"cuda\" if bool_cuda else \"cpu\")\n",
        "    print(f'client device: {cuda_ptr.type.get_copy()}')\n",
        "except Exception as e:\n",
        "    print(e)"
      ],
      "outputs": [
        {
          "output_type": "stream",
          "name": "stderr",
          "text": "[2021-09-16T08:25:46.561614+0000][CRITICAL][logger]][7646] You do not have permission to .get() Object with ID: <UID: d9b3e1d5e4c84be3b06109281c5916f6>Please submit a request.\n[2021-09-16T08:25:46.562207+0000][CRITICAL][logger]][7646] You do not have permission to .get() Object with ID: <UID: d9b3e1d5e4c84be3b06109281c5916f6>Please submit a request.\n[2021-09-16T08:25:46.563654+0000][CRITICAL][logger]][7646] You do not have permission to .get() Object with ID: <UID: d9b3e1d5e4c84be3b06109281c5916f6>Please submit a request.\n"
        },
        {
          "output_type": "stream",
          "name": "stdout",
          "text": "You do not have permission to .get() Object with ID: <UID: d9b3e1d5e4c84be3b06109281c5916f6>Please submit a request.\n"
        }
      ],
      "execution_count": 19,
      "metadata": {
        "jupyter": {
          "source_hidden": false,
          "outputs_hidden": false
        },
        "nteract": {
          "transient": {
            "deleting": false
          }
        },
        "gather": {
          "logged": 1631780747092
        }
      }
    },
    {
      "cell_type": "markdown",
      "source": [
        "### Sending data and do operations"
      ],
      "metadata": {
        "nteract": {
          "transient": {
            "deleting": false
          }
        }
      }
    },
    {
      "cell_type": "code",
      "source": [
        "t1 = torch.tensor([1, 2])\n",
        "t2 = torch.tensor([1, 3])\n",
        "syft_list = List([t1, t2])\n",
        "syft_list_ptr = syft_list.send(client)"
      ],
      "outputs": [],
      "execution_count": null,
      "metadata": {
        "jupyter": {
          "source_hidden": false,
          "outputs_hidden": false
        },
        "nteract": {
          "transient": {
            "deleting": false
          }
        },
        "gather": {
          "logged": 1631193923966
        }
      }
    },
    {
      "cell_type": "code",
      "source": [
        "res = syft_list_ptr.get_copy()\n",
        "res"
      ],
      "outputs": [],
      "execution_count": null,
      "metadata": {
        "jupyter": {
          "source_hidden": false,
          "outputs_hidden": false
        },
        "nteract": {
          "transient": {
            "deleting": false
          }
        },
        "gather": {
          "logged": 1631193925502
        }
      }
    },
    {
      "cell_type": "code",
      "source": [
        "tensor_type='uint8'\n",
        "op_name = '__add__'"
      ],
      "outputs": [],
      "execution_count": null,
      "metadata": {
        "jupyter": {
          "source_hidden": false,
          "outputs_hidden": false
        },
        "nteract": {
          "transient": {
            "deleting": false
          }
        },
        "gather": {
          "logged": 1631193949919
        }
      }
    },
    {
      "cell_type": "code",
      "source": [
        "x = torch.tensor([-1, 0, 1, 2, 3, 4])\n",
        "xp = x.send(client)\n",
        "op_method = getattr(xp, op_name, None)\n",
        "target_op_method = getattr(x, op_name)\n",
        "\n",
        "print(op_method)\n",
        "print(target_op_method)"
      ],
      "outputs": [],
      "execution_count": null,
      "metadata": {
        "jupyter": {
          "source_hidden": false,
          "outputs_hidden": false
        },
        "nteract": {
          "transient": {
            "deleting": false
          }
        },
        "gather": {
          "logged": 1631193951305
        }
      }
    },
    {
      "cell_type": "code",
      "source": [
        "result = op_method(xp)  # op(xp, xp)\n",
        "target_result = target_op_method(x)\n",
        "\n",
        "local_result = result.get()\n",
        "\n",
        "assert (local_result == target_result).all()"
      ],
      "outputs": [],
      "execution_count": null,
      "metadata": {
        "jupyter": {
          "source_hidden": false,
          "outputs_hidden": false
        },
        "nteract": {
          "transient": {
            "deleting": false
          }
        },
        "gather": {
          "logged": 1631193954180
        }
      }
    },
    {
      "cell_type": "code",
      "source": [
        "local_result"
      ],
      "outputs": [],
      "execution_count": null,
      "metadata": {
        "jupyter": {
          "source_hidden": false,
          "outputs_hidden": false
        },
        "nteract": {
          "transient": {
            "deleting": false
          }
        },
        "gather": {
          "logged": 1631193956922
        }
      }
    },
    {
      "cell_type": "code",
      "source": [],
      "outputs": [],
      "execution_count": null,
      "metadata": {
        "jupyter": {
          "source_hidden": false,
          "outputs_hidden": false
        },
        "nteract": {
          "transient": {
            "deleting": false
          }
        }
      }
    }
  ],
  "metadata": {
    "kernelspec": {
      "name": "syftenv",
      "language": "python",
      "display_name": "syft"
    },
    "language_info": {
      "name": "python",
      "version": "3.9.6",
      "mimetype": "text/x-python",
      "codemirror_mode": {
        "name": "ipython",
        "version": 3
      },
      "pygments_lexer": "ipython3",
      "nbconvert_exporter": "python",
      "file_extension": ".py"
    },
    "kernel_info": {
      "name": "syftenv"
    },
    "nteract": {
      "version": "nteract-front-end@1.0.0"
    },
    "microsoft": {
      "host": {
        "AzureML": {
          "notebookHasBeenCompleted": true
        }
      }
    },
    "interpreter": {
      "hash": "870a257bdc5888c6c86cab99e489c6f2724cdfe1684d5990b9d7489b2d46bf07"
    }
  },
  "nbformat": 4,
  "nbformat_minor": 2
}