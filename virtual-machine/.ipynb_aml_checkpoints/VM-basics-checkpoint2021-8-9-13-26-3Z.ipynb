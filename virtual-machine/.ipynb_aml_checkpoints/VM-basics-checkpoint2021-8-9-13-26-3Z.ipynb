{
  "cells": [
    {
      "cell_type": "code",
      "source": [
        "import torch\n",
        "import syft as sy\n",
        "import pandas as pd\n",
        "from syft.lib.python.list import List"
      ],
      "outputs": [],
      "execution_count": 1,
      "metadata": {
        "gather": {
          "logged": 1631193877604
        }
      }
    },
    {
      "cell_type": "markdown",
      "source": [
        "### Make the VM and its client"
      ],
      "metadata": {
        "nteract": {
          "transient": {
            "deleting": false
          }
        }
      }
    },
    {
      "cell_type": "code",
      "source": [
        "server = sy.VirtualMachine(name=\"server\")\n",
        "client = server.get_root_client()\n",
        "client2 = server.get_client()"
      ],
      "outputs": [],
      "execution_count": 2,
      "metadata": {
        "jupyter": {
          "source_hidden": false,
          "outputs_hidden": false
        },
        "nteract": {
          "transient": {
            "deleting": false
          }
        },
        "gather": {
          "logged": 1631193879845
        }
      }
    },
    {
      "cell_type": "code",
      "source": [
        "print(type(server))\n",
        "print(server)\n",
        "print(type(client))\n",
        "print(client)\n",
        "print(client2)"
      ],
      "outputs": [
        {
          "output_type": "stream",
          "name": "stdout",
          "text": "<class 'syft.core.node.vm.vm.VirtualMachine'>\nVirtualMachine: server: <UID: edd8baafc0a54046a27a67cdce75cf7b>\n<class 'syft.core.node.vm.client.VirtualMachineClient'>\n<VirtualMachineClient: server Client>\n<VirtualMachineClient: server Client>\n"
        }
      ],
      "execution_count": 3,
      "metadata": {
        "jupyter": {
          "source_hidden": false,
          "outputs_hidden": false
        },
        "nteract": {
          "transient": {
            "deleting": false
          }
        },
        "gather": {
          "logged": 1631193881772
        }
      }
    },
    {
      "cell_type": "markdown",
      "source": [
        "### Check out the remote modules"
      ],
      "metadata": {
        "nteract": {
          "transient": {
            "deleting": false
          }
        }
      }
    },
    {
      "cell_type": "code",
      "source": [
        "remote_pd = client.pandas\n",
        "remote_torch = client.torch\n",
        "remote_np = client.numpy\n",
        "remote_vision = client.torchvision"
      ],
      "outputs": [],
      "execution_count": 4,
      "metadata": {
        "jupyter": {
          "source_hidden": false,
          "outputs_hidden": false
        },
        "nteract": {
          "transient": {
            "deleting": false
          }
        },
        "gather": {
          "logged": 1631193884521
        }
      }
    },
    {
      "cell_type": "code",
      "source": [
        "print(type(remote_pd))\n",
        "remote_pd"
      ],
      "outputs": [
        {
          "output_type": "stream",
          "name": "stdout",
          "text": "<class 'syft.ast.module.Module'>\n"
        },
        {
          "output_type": "execute_result",
          "execution_count": 5,
          "data": {
            "text/plain": "Module:\n\t.DataFrame -> <syft.ast.klass.Class object at 0x7f92d614b6a0>\n\t.Series -> <syft.ast.klass.Class object at 0x7f92d614b700>\n\t.CategoricalDtype -> <syft.ast.klass.Class object at 0x7f92d614b760>\n\t.Categorical -> <syft.ast.klass.Class object at 0x7f92d614b7c0>\n\t.json_normalize -> <syft.ast.callable.Callable object at 0x7f92d614b880>"
          },
          "metadata": {}
        }
      ],
      "execution_count": 5,
      "metadata": {
        "jupyter": {
          "source_hidden": false,
          "outputs_hidden": false
        },
        "nteract": {
          "transient": {
            "deleting": false
          }
        },
        "gather": {
          "logged": 1631193886460
        }
      }
    },
    {
      "cell_type": "code",
      "source": [
        "remote_np"
      ],
      "outputs": [
        {
          "output_type": "execute_result",
          "execution_count": 6,
          "data": {
            "text/plain": "Module:\n\t.ndarray -> <syft.ast.klass.Class object at 0x7f249ef6e520>"
          },
          "metadata": {}
        }
      ],
      "execution_count": 6,
      "metadata": {
        "jupyter": {
          "source_hidden": false,
          "outputs_hidden": false
        },
        "nteract": {
          "transient": {
            "deleting": false
          }
        },
        "gather": {
          "logged": 1631193796669
        }
      }
    },
    {
      "cell_type": "code",
      "source": [
        "remote_vision"
      ],
      "outputs": [
        {
          "output_type": "execute_result",
          "execution_count": 7,
          "data": {
            "text/plain": "Module:\n\t.__version__ -> <syft.ast.static_attr.StaticAttribute object at 0x7f249f18dd60>\n\t.transforms -> Module:\n\t\t.Compose -> <syft.ast.klass.Class object at 0x7f249f18de20>\n\t\t.ToTensor -> <syft.ast.klass.Class object at 0x7f249f18de80>\n\t\t.Normalize -> <syft.ast.klass.Class object at 0x7f249f18df40>\n\t\t.CenterCrop -> <syft.ast.klass.Class object at 0x7f249f049340>\n\t\t.ColorJitter -> <syft.ast.klass.Class object at 0x7f249f049400>\n\t\t.FiveCrop -> <syft.ast.klass.Class object at 0x7f249f049460>\n\t\t.Grayscale -> <syft.ast.klass.Class object at 0x7f249f049520>\n\t\t.Pad -> <syft.ast.klass.Class object at 0x7f249f049580>\n\t\t.RandomAffine -> <syft.ast.klass.Class object at 0x7f249f049640>\n\t\t.RandomApply -> <syft.ast.klass.Class object at 0x7f249f049700>\n\t\t.RandomCrop -> <syft.ast.klass.Class object at 0x7f249f0497c0>\n\t\t.RandomGrayscale -> <syft.ast.klass.Class object at 0x7f249f049880>\n\t\t.RandomHorizontalFlip -> <syft.ast.klass.Class object at 0x7f249f049940>\n\t\t.RandomPerspective -> <syft.ast.klass.Class object at 0x7f249f049a00>\n\t\t.RandomResizedCrop -> <syft.ast.klass.Class object at 0x7f249f049ac0>\n\t\t.RandomRotation -> <syft.ast.klass.Class object at 0x7f249f049b80>\n\t\t.RandomSizedCrop -> <syft.ast.klass.Class object at 0x7f249f049c40>\n\t\t.RandomVerticalFlip -> <syft.ast.klass.Class object at 0x7f249f049d00>\n\t\t.Resize -> <syft.ast.klass.Class object at 0x7f249f049d60>\n\t\t.Scale -> <syft.ast.klass.Class object at 0x7f249f049dc0>\n\t\t.TenCrop -> <syft.ast.klass.Class object at 0x7f249f049e20>\n\t\t.GaussianBlur -> <syft.ast.klass.Class object at 0x7f249f049ee0>\n\t\t.RandomChoice -> <syft.ast.klass.Class object at 0x7f249f049fa0>\n\t\t.RandomOrder -> <syft.ast.klass.Class object at 0x7f249f04d0a0>\n\t\t.LinearTransformation -> <syft.ast.klass.Class object at 0x7f249f04d160>\n\t\t.RandomErasing -> <syft.ast.klass.Class object at 0x7f249f04d220>\n\t\t.ConvertImageDtype -> <syft.ast.klass.Class object at 0x7f249f04d2e0>\n\t\t.ToPILImage -> <syft.ast.klass.Class object at 0x7f249f04d3a0>\n\t\t.Lambda -> <syft.ast.klass.Class object at 0x7f249f04d400>\n\t\t.functional -> Module:\n\t\t\t.adjust_brightness -> <syft.ast.callable.Callable object at 0x7f249f04d520>\n\t\t\t.adjust_contrast -> <syft.ast.callable.Callable object at 0x7f249f04d580>\n\t\t\t.adjust_gamma -> <syft.ast.callable.Callable object at 0x7f249f04d640>\n\t\t\t.adjust_hue -> <syft.ast.callable.Callable object at 0x7f249f04d700>\n\t\t\t.adjust_saturation -> <syft.ast.callable.Callable object at 0x7f249f04d760>\n\t\t\t.adjust_sharpness -> <syft.ast.callable.Callable object at 0x7f249f04d7c0>\n\t\t\t.affine -> <syft.ast.callable.Callable object at 0x7f249f04d880>\n\t\t\t.autocontrast -> <syft.ast.callable.Callable object at 0x7f249f04d940>\n\t\t\t.center_crop -> <syft.ast.callable.Callable object at 0x7f249f04da00>\n\t\t\t.convert_image_dtype -> <syft.ast.callable.Callable object at 0x7f249f04da60>\n\t\t\t.crop -> <syft.ast.callable.Callable object at 0x7f249f04db20>\n\t\t\t.equalize -> <syft.ast.callable.Callable object at 0x7f249f04dbe0>\n\t\t\t.erase -> <syft.ast.callable.Callable object at 0x7f249f04dca0>\n\t\t\t.five_crop -> <syft.ast.callable.Callable object at 0x7f249f04dd60>\n\t\t\t.gaussian_blur -> <syft.ast.callable.Callable object at 0x7f249f04de20>\n\t\t\t.hflip -> <syft.ast.callable.Callable object at 0x7f249f04dee0>\n\t\t\t.invert -> <syft.ast.callable.Callable object at 0x7f249f04dfa0>\n\t\t\t.normalize -> <syft.ast.callable.Callable object at 0x7f249f0500a0>\n\t\t\t.pad -> <syft.ast.callable.Callable object at 0x7f249f050160>\n\t\t\t.perspective -> <syft.ast.callable.Callable object at 0x7f249f050220>\n\t\t\t.pil_to_tensor -> <syft.ast.callable.Callable object at 0x7f249f0502e0>\n\t\t\t.posterize -> <syft.ast.callable.Callable object at 0x7f249f0503a0>\n\t\t\t.resize -> <syft.ast.callable.Callable object at 0x7f249f050460>\n\t\t\t.resized_crop -> <syft.ast.callable.Callable object at 0x7f249f050520>\n\t\t\t.rgb_to_grayscale -> <syft.ast.callable.Callable object at 0x7f249f050580>\n\t\t\t.rotate -> <syft.ast.callable.Callable object at 0x7f249f050640>\n\t\t\t.solarize -> <syft.ast.callable.Callable object at 0x7f249f050700>\n\t\t\t.ten_crop -> <syft.ast.callable.Callable object at 0x7f249f0507c0>\n\t\t\t.to_grayscale -> <syft.ast.callable.Callable object at 0x7f249f050880>\n\t\t\t.to_pil_image -> <syft.ast.callable.Callable object at 0x7f249f050940>\n\t\t\t.to_tensor -> <syft.ast.callable.Callable object at 0x7f249f050a00>\n\t\t\t.vflip -> <syft.ast.callable.Callable object at 0x7f249f050ac0>\n\n\n\t.datasets -> Module:\n\t\t.MNIST -> <syft.ast.klass.Class object at 0x7f249f042040>\n\t\t.CelebA -> <syft.ast.klass.Class object at 0x7f249f042160>\n\t\t.CIFAR10 -> <syft.ast.klass.Class object at 0x7f249f042280>\n\t\t.CIFAR100 -> <syft.ast.klass.Class object at 0x7f249f0423a0>\n\t\t.Cityscapes -> <syft.ast.klass.Class object at 0x7f249f042400>\n\t\t.CocoCaptions -> <syft.ast.klass.Class object at 0x7f249f042580>\n\t\t.CocoDetection -> <syft.ast.klass.Class object at 0x7f249f042700>\n\t\t.EMNIST -> <syft.ast.klass.Class object at 0x7f249f042820>\n\t\t.FakeData -> <syft.ast.klass.Class object at 0x7f249f042940>\n\t\t.FashionMNIST -> <syft.ast.klass.Class object at 0x7f249f042ac0>\n\t\t.Flickr8k -> <syft.ast.klass.Class object at 0x7f249f042be0>\n\t\t.Flickr30k -> <syft.ast.klass.Class object at 0x7f249f042d00>\n\t\t.HMDB51 -> <syft.ast.klass.Class object at 0x7f249f042e20>\n\t\t.ImageNet -> <syft.ast.klass.Class object at 0x7f249f042f40>\n\t\t.Kinetics400 -> <syft.ast.klass.Class object at 0x7f249f045100>\n\t\t.KMNIST -> <syft.ast.klass.Class object at 0x7f249f045220>\n\t\t.LSUN -> <syft.ast.klass.Class object at 0x7f249f045340>\n\t\t.Omniglot -> <syft.ast.klass.Class object at 0x7f249f045460>\n\t\t.PhotoTour -> <syft.ast.klass.Class object at 0x7f249f045580>\n\t\t.Places365 -> <syft.ast.klass.Class object at 0x7f249f0456a0>\n\t\t.QMNIST -> <syft.ast.klass.Class object at 0x7f249f0457c0>\n\t\t.SBDataset -> <syft.ast.klass.Class object at 0x7f249f0458e0>\n\t\t.SBU -> <syft.ast.klass.Class object at 0x7f249f045a00>\n\t\t.STL10 -> <syft.ast.klass.Class object at 0x7f249f045b20>\n\t\t.SVHN -> <syft.ast.klass.Class object at 0x7f249f045c40>\n\t\t.UCF101 -> <syft.ast.klass.Class object at 0x7f249f045d60>\n\t\t.USPS -> <syft.ast.klass.Class object at 0x7f249f045e80>\n\t\t.VOCSegmentation -> <syft.ast.klass.Class object at 0x7f249f049040>\n\t\t.VOCDetection -> <syft.ast.klass.Class object at 0x7f249f0491c0>\n"
          },
          "metadata": {}
        }
      ],
      "execution_count": 7,
      "metadata": {
        "jupyter": {
          "source_hidden": false,
          "outputs_hidden": true
        },
        "nteract": {
          "transient": {
            "deleting": false
          }
        },
        "gather": {
          "logged": 1631193796952
        }
      }
    },
    {
      "cell_type": "code",
      "source": [
        "remote_torch"
      ],
      "outputs": [
        {
          "output_type": "execute_result",
          "execution_count": 8,
          "data": {
            "text/plain": "Module:\n\t.Tensor -> <syft.ast.klass.Class object at 0x7f249f31e820>\n\t.BFloat16Tensor -> <syft.ast.klass.Class object at 0x7f249f31e880>\n\t.BoolTensor -> <syft.ast.klass.Class object at 0x7f249f31e8e0>\n\t.ByteTensor -> <syft.ast.klass.Class object at 0x7f249f31e940>\n\t.CharTensor -> <syft.ast.klass.Class object at 0x7f249f31e9a0>\n\t.DoubleTensor -> <syft.ast.klass.Class object at 0x7f249f31ea00>\n\t.FloatTensor -> <syft.ast.klass.Class object at 0x7f249f31ea60>\n\t.HalfTensor -> <syft.ast.klass.Class object at 0x7f249f31eac0>\n\t.IntTensor -> <syft.ast.klass.Class object at 0x7f249f31eb20>\n\t.LongTensor -> <syft.ast.klass.Class object at 0x7f249f31eb80>\n\t.ShortTensor -> <syft.ast.klass.Class object at 0x7f249f31ebe0>\n\t.nn -> Module:\n\t\t.Parameter -> <syft.ast.klass.Class object at 0x7f249f31ed00>\n\t\t.Module -> <syft.ast.klass.Class object at 0x7f249f26e1c0>\n\t\t.Conv2d -> <syft.ast.klass.Class object at 0x7f249f26e6a0>\n\t\t.Dropout2d -> <syft.ast.klass.Class object at 0x7f249f26eac0>\n\t\t.Linear -> <syft.ast.klass.Class object at 0x7f249f26ee20>\n\t\t.functional -> Module:\n\t\t\t.relu -> <syft.ast.callable.Callable object at 0x7f249f274760>\n\t\t\t.gelu -> <syft.ast.callable.Callable object at 0x7f249f2747c0>\n\t\t\t.max_pool2d -> <syft.ast.callable.Callable object at 0x7f249f274820>\n\t\t\t.log_softmax -> <syft.ast.callable.Callable object at 0x7f249f274880>\n\t\t\t.cosine_embedding_loss -> <syft.ast.callable.Callable object at 0x7f249f27e640>\n\t\t\t.ctc_loss -> <syft.ast.callable.Callable object at 0x7f249f27e6a0>\n\t\t\t.hinge_embedding_loss -> <syft.ast.callable.Callable object at 0x7f249f27e760>\n\t\t\t.l1_loss -> <syft.ast.callable.Callable object at 0x7f249f27e7c0>\n\t\t\t.margin_ranking_loss -> <syft.ast.callable.Callable object at 0x7f249f27e880>\n\t\t\t.mse_loss -> <syft.ast.callable.Callable object at 0x7f249f27e8e0>\n\t\t\t.multi_margin_loss -> <syft.ast.callable.Callable object at 0x7f249f27e9a0>\n\t\t\t.multilabel_margin_loss -> <syft.ast.callable.Callable object at 0x7f249f27ea60>\n\t\t\t.multilabel_soft_margin_loss -> <syft.ast.callable.Callable object at 0x7f249f27eb20>\n\t\t\t.nll_loss -> <syft.ast.callable.Callable object at 0x7f249f27eb80>\n\t\t\t.cross_entropy -> <syft.ast.callable.Callable object at 0x7f249f27ec40>\n\t\t\t.poisson_nll_loss -> <syft.ast.callable.Callable object at 0x7f249f27ed00>\n\t\t\t.smooth_l1_loss -> <syft.ast.callable.Callable object at 0x7f249f27edc0>\n\t\t\t.soft_margin_loss -> <syft.ast.callable.Callable object at 0x7f249f27ee80>\n\t\t\t.triplet_margin_loss -> <syft.ast.callable.Callable object at 0x7f249f27ef40>\n\n\t\t.Sequential -> <syft.ast.klass.Class object at 0x7f249f27e280>\n\t\t.AdaptiveLogSoftmaxWithLoss -> <syft.ast.klass.Class object at 0x7f249f203040>\n\t\t.BCELoss -> <syft.ast.klass.Class object at 0x7f249f2031c0>\n\t\t.BCEWithLogitsLoss -> <syft.ast.klass.Class object at 0x7f249f203280>\n\t\t.CTCLoss -> <syft.ast.klass.Class object at 0x7f249f2033a0>\n\t\t.CrossEntropyLoss -> <syft.ast.klass.Class object at 0x7f249f203460>\n\t\t.CosineEmbeddingLoss -> <syft.ast.klass.Class object at 0x7f249f203580>\n\t\t.HingeEmbeddingLoss -> <syft.ast.klass.Class object at 0x7f249f2036a0>\n\t\t.KLDivLoss -> <syft.ast.klass.Class object at 0x7f249f2037c0>\n\t\t.L1Loss -> <syft.ast.klass.Class object at 0x7f249f203880>\n\t\t.MSELoss -> <syft.ast.klass.Class object at 0x7f249f203940>\n\t\t.MarginRankingLoss -> <syft.ast.klass.Class object at 0x7f249f203a00>\n\t\t.MultiLabelMarginLoss -> <syft.ast.klass.Class object at 0x7f249f203b20>\n\t\t.MultiLabelSoftMarginLoss -> <syft.ast.klass.Class object at 0x7f249f203ca0>\n\t\t.MultiMarginLoss -> <syft.ast.klass.Class object at 0x7f249f203dc0>\n\t\t.NLLLoss -> <syft.ast.klass.Class object at 0x7f249f203ee0>\n\t\t.NLLLoss2d -> <syft.ast.klass.Class object at 0x7f249f203fa0>\n\t\t.PoissonNLLLoss -> <syft.ast.klass.Class object at 0x7f249f2070a0>\n\t\t.SmoothL1Loss -> <syft.ast.klass.Class object at 0x7f249f2071c0>\n\t\t.SoftMarginLoss -> <syft.ast.klass.Class object at 0x7f249f207280>\n\t\t.TripletMarginLoss -> <syft.ast.klass.Class object at 0x7f249f2073a0>\n\t\t.AdaptiveAvgPool1d -> <syft.ast.klass.Class object at 0x7f249f2074c0>\n\t\t.AdaptiveAvgPool2d -> <syft.ast.klass.Class object at 0x7f249f207b20>\n\t\t.AdaptiveAvgPool3d -> <syft.ast.klass.Class object at 0x7f249f20a1c0>\n\t\t.AdaptiveMaxPool1d -> <syft.ast.klass.Class object at 0x7f249f20a820>\n\t\t.AdaptiveMaxPool2d -> <syft.ast.klass.Class object at 0x7f249f20ae80>\n\t\t.AdaptiveMaxPool3d -> <syft.ast.klass.Class object at 0x7f249f20d520>\n\t\t.AlphaDropout -> <syft.ast.klass.Class object at 0x7f249f20db80>\n\t\t.AvgPool1d -> <syft.ast.klass.Class object at 0x7f249f211160>\n\t\t.AvgPool2d -> <syft.ast.klass.Class object at 0x7f249f2115e0>\n\t\t.AvgPool3d -> <syft.ast.klass.Class object at 0x7f249f211a60>\n\t\t.BatchNorm1d -> <syft.ast.klass.Class object at 0x7f249f211ee0>\n\t\t.BatchNorm2d -> <syft.ast.klass.Class object at 0x7f249f2143a0>\n\t\t.BatchNorm3d -> <syft.ast.klass.Class object at 0x7f249f214820>\n\t\t.Bilinear -> <syft.ast.klass.Class object at 0x7f249f214ca0>\n\t\t.CELU -> <syft.ast.klass.Class object at 0x7f249f218160>\n\t\t.ConstantPad1d -> <syft.ast.klass.Class object at 0x7f249f218580>\n\t\t.ConstantPad2d -> <syft.ast.klass.Class object at 0x7f249f218b20>\n\t\t.ConstantPad3d -> <syft.ast.klass.Class object at 0x7f249f21d100>\n\t\t.Container -> <syft.ast.klass.Class object at 0x7f249f21d6a0>\n\t\t.Conv1d -> <syft.ast.klass.Class object at 0x7f249f21db20>\n\t\t.Conv3d -> <syft.ast.klass.Class object at 0x7f249f21df40>\n\t\t.ConvTranspose1d -> <syft.ast.klass.Class object at 0x7f249f21f3a0>\n\t\t.ConvTranspose2d -> <syft.ast.klass.Class object at 0x7f249f21f9a0>\n\t\t.ConvTranspose3d -> <syft.ast.klass.Class object at 0x7f249f21ffa0>\n\t\t.CosineSimilarity -> <syft.ast.klass.Class object at 0x7f249f2235e0>\n\t\t.CrossMapLRN2d -> <syft.ast.klass.Class object at 0x7f249f223be0>\n\t\t.DataParallel -> <syft.ast.klass.Class object at 0x7f249f2261c0>\n\t\t.Dropout -> <syft.ast.klass.Class object at 0x7f249f226760>\n\t\t.Dropout3d -> <syft.ast.klass.Class object at 0x7f249f226d00>\n\t\t.ELU -> <syft.ast.klass.Class object at 0x7f249f22b1c0>\n\t\t.Embedding -> <syft.ast.klass.Class object at 0x7f249f22b580>\n\t\t.EmbeddingBag -> <syft.ast.klass.Class object at 0x7f249f22ba00>\n\t\t.FeatureAlphaDropout -> <syft.ast.klass.Class object at 0x7f249f22bfa0>\n\t\t.Flatten -> <syft.ast.klass.Class object at 0x7f249f22e700>\n\t\t.Fold -> <syft.ast.klass.Class object at 0x7f249f22eb80>\n\t\t.FractionalMaxPool2d -> <syft.ast.klass.Class object at 0x7f249f22efa0>\n\t\t.FractionalMaxPool3d -> <syft.ast.klass.Class object at 0x7f249f232700>\n\t\t.GELU -> <syft.ast.klass.Class object at 0x7f249f232e20>\n\t\t.GLU -> <syft.ast.klass.Class object at 0x7f249f234280>\n\t\t.GRU -> <syft.ast.klass.Class object at 0x7f249f234640>\n\t\t.GRUCell -> <syft.ast.klass.Class object at 0x7f249f234a00>\n\t\t.GroupNorm -> <syft.ast.klass.Class object at 0x7f249f234e80>\n\t\t.Hardshrink -> <syft.ast.klass.Class object at 0x7f249f239340>\n\t\t.Hardsigmoid -> <syft.ast.klass.Class object at 0x7f249f2397c0>\n\t\t.Hardswish -> <syft.ast.klass.Class object at 0x7f249f239b80>\n\t\t.Hardtanh -> <syft.ast.klass.Class object at 0x7f249f239f40>\n\t\t.Identity -> <syft.ast.klass.Class object at 0x7f249f23d400>\n\t\t.InstanceNorm1d -> <syft.ast.klass.Class object at 0x7f249f23d880>\n\t\t.InstanceNorm2d -> <syft.ast.klass.Class object at 0x7f249f23de80>\n\t\t.InstanceNorm3d -> <syft.ast.klass.Class object at 0x7f249f1c14c0>\n\t\t.LPPool1d -> <syft.ast.klass.Class object at 0x7f249f1c1ac0>\n\t\t.LPPool2d -> <syft.ast.klass.Class object at 0x7f249f1c1f40>\n\t\t.LSTM -> <syft.ast.klass.Class object at 0x7f249f1c4400>\n\t\t.LSTMCell -> <syft.ast.klass.Class object at 0x7f249f1c4820>\n\t\t.LayerNorm -> <syft.ast.klass.Class object at 0x7f249f1c4ca0>\n\t\t.LeakyReLU -> <syft.ast.klass.Class object at 0x7f249f1ca160>\n\t\t.LocalResponseNorm -> <syft.ast.klass.Class object at 0x7f249f1ca5e0>\n\t\t.LogSigmoid -> <syft.ast.klass.Class object at 0x7f249f1cac40>\n\t\t.LogSoftmax -> <syft.ast.klass.Class object at 0x7f249f1cc100>\n\t\t.MaxPool1d -> <syft.ast.klass.Class object at 0x7f249f1cc580>\n\t\t.MaxPool2d -> <syft.ast.klass.Class object at 0x7f249f1cca00>\n\t\t.MaxPool3d -> <syft.ast.klass.Class object at 0x7f249f1cce80>\n\t\t.MaxUnpool1d -> <syft.ast.klass.Class object at 0x7f249f1d0340>\n\t\t.MaxUnpool2d -> <syft.ast.klass.Class object at 0x7f249f1d07c0>\n\t\t.MaxUnpool3d -> <syft.ast.klass.Class object at 0x7f249f1d0c40>\n\t\t.ModuleDict -> <syft.ast.klass.Class object at 0x7f249f1d5100>\n\t\t.ModuleList -> <syft.ast.klass.Class object at 0x7f249f1d5580>\n\t\t.MultiheadAttention -> <syft.ast.klass.Class object at 0x7f249f1d5ac0>\n\t\t.PReLU -> <syft.ast.klass.Class object at 0x7f249f1d81c0>\n\t\t.PairwiseDistance -> <syft.ast.klass.Class object at 0x7f249f1d85e0>\n\t\t.PixelShuffle -> <syft.ast.klass.Class object at 0x7f249f1d8be0>\n\t\t.RNN -> <syft.ast.klass.Class object at 0x7f249f1dc1c0>\n\t\t.RNNBase -> <syft.ast.klass.Class object at 0x7f249f1dc580>\n\t\t.RNNCell -> <syft.ast.klass.Class object at 0x7f249f1dca00>\n\t\t.RNNCellBase -> <syft.ast.klass.Class object at 0x7f249f1dce80>\n\t\t.RReLU -> <syft.ast.klass.Class object at 0x7f249f1e1340>\n\t\t.ReLU -> <syft.ast.klass.Class object at 0x7f249f1e1760>\n\t\t.ReLU6 -> <syft.ast.klass.Class object at 0x7f249f1e1b80>\n\t\t.ReflectionPad1d -> <syft.ast.klass.Class object at 0x7f249f1e1fa0>\n\t\t.ReflectionPad2d -> <syft.ast.klass.Class object at 0x7f249f1e45e0>\n\t\t.ReplicationPad1d -> <syft.ast.klass.Class object at 0x7f249f1e4be0>\n\t\t.ReplicationPad2d -> <syft.ast.klass.Class object at 0x7f249f1e9220>\n\t\t.ReplicationPad3d -> <syft.ast.klass.Class object at 0x7f249f1e9820>\n\t\t.SELU -> <syft.ast.klass.Class object at 0x7f249f1e9e20>\n\t\t.Sigmoid -> <syft.ast.klass.Class object at 0x7f249f1ec400>\n\t\t.Softmax -> <syft.ast.klass.Class object at 0x7f249f1ec880>\n\t\t.Softmax2d -> <syft.ast.klass.Class object at 0x7f249f1ecd00>\n\t\t.Softmin -> <syft.ast.klass.Class object at 0x7f249f1ef1c0>\n\t\t.Softplus -> <syft.ast.klass.Class object at 0x7f249f1ef640>\n\t\t.Softshrink -> <syft.ast.klass.Class object at 0x7f249f1efac0>\n\t\t.Softsign -> <syft.ast.klass.Class object at 0x7f249f1eff40>\n\t\t.SyncBatchNorm -> <syft.ast.klass.Class object at 0x7f249f1f3400>\n\t\t.Tanh -> <syft.ast.klass.Class object at 0x7f249f1f39a0>\n\t\t.Tanhshrink -> <syft.ast.klass.Class object at 0x7f249f1f3dc0>\n\t\t.Threshold -> <syft.ast.klass.Class object at 0x7f249f1f8280>\n\t\t.Transformer -> <syft.ast.klass.Class object at 0x7f249f1f8700>\n\t\t.TransformerDecoder -> <syft.ast.klass.Class object at 0x7f249f1f8b80>\n\t\t.TransformerDecoderLayer -> <syft.ast.klass.Class object at 0x7f249f1fb2e0>\n\t\t.TransformerEncoder -> <syft.ast.klass.Class object at 0x7f249f1fb940>\n\t\t.TransformerEncoderLayer -> <syft.ast.klass.Class object at 0x7f249f1ff0a0>\n\t\t.Unfold -> <syft.ast.klass.Class object at 0x7f249f1ff700>\n\t\t.Upsample -> <syft.ast.klass.Class object at 0x7f249f1ffb20>\n\t\t.UpsamplingBilinear2d -> <syft.ast.klass.Class object at 0x7f249f1fffa0>\n\t\t.UpsamplingNearest2d -> <syft.ast.klass.Class object at 0x7f249f1826a0>\n\t\t.ZeroPad2d -> <syft.ast.klass.Class object at 0x7f249f182dc0>\n\n\t.return_types -> Module:\n\t\t.cummax -> <syft.ast.klass.Class object at 0x7f249f2eda60>\n\t\t.cummin -> <syft.ast.klass.Class object at 0x7f249f2edac0>\n\t\t.eig -> <syft.ast.klass.Class object at 0x7f249f2edb20>\n\t\t.kthvalue -> <syft.ast.klass.Class object at 0x7f249f2edb80>\n\t\t.lstsq -> <syft.ast.klass.Class object at 0x7f249f2edbe0>\n\t\t.slogdet -> <syft.ast.klass.Class object at 0x7f249f2edc40>\n\t\t.qr -> <syft.ast.klass.Class object at 0x7f249f2edca0>\n\t\t.mode -> <syft.ast.klass.Class object at 0x7f249f2edd00>\n\t\t.solve -> <syft.ast.klass.Class object at 0x7f249f2edd60>\n\t\t.sort -> <syft.ast.klass.Class object at 0x7f249f2eddc0>\n\t\t.symeig -> <syft.ast.klass.Class object at 0x7f249f2ede20>\n\t\t.topk -> <syft.ast.klass.Class object at 0x7f249f2ede80>\n\t\t.triangular_solve -> <syft.ast.klass.Class object at 0x7f249f2edf40>\n\t\t.svd -> <syft.ast.klass.Class object at 0x7f249f2edfa0>\n\t\t.geqrf -> <syft.ast.klass.Class object at 0x7f249f2f3040>\n\t\t.median -> <syft.ast.klass.Class object at 0x7f249f2f30a0>\n\t\t.max -> <syft.ast.klass.Class object at 0x7f249f2f3100>\n\t\t.min -> <syft.ast.klass.Class object at 0x7f249f2f3160>\n\n\t.Size -> <syft.ast.klass.Class object at 0x7f249f24c280>\n\t.set_grad_enabled -> <syft.ast.klass.Class object at 0x7f249f24c580>\n\t.zeros -> <syft.ast.callable.Callable object at 0x7f249f24c5e0>\n\t.randn -> <syft.ast.callable.Callable object at 0x7f249f24c640>\n\t.ones_like -> <syft.ast.callable.Callable object at 0x7f249f24c6a0>\n\t.arange -> <syft.ast.callable.Callable object at 0x7f249f24c7c0>\n\t.abs_ -> <syft.ast.callable.Callable object at 0x7f249f24c820>\n\t.abs -> <syft.ast.callable.Callable object at 0x7f249f24c880>\n\t.acos_ -> <syft.ast.callable.Callable object at 0x7f249f24c8e0>\n\t.acos -> <syft.ast.callable.Callable object at 0x7f249f24c940>\n\t.add -> <syft.ast.callable.Callable object at 0x7f249f24c9a0>\n\t.addbmm -> <syft.ast.callable.Callable object at 0x7f249f24ca00>\n\t.addcdiv -> <syft.ast.callable.Callable object at 0x7f249f24ca60>\n\t.addcmul -> <syft.ast.callable.Callable object at 0x7f249f24cac0>\n\t.addmm -> <syft.ast.callable.Callable object at 0x7f249f24cb20>\n\t.addmv_ -> <syft.ast.callable.Callable object at 0x7f249f24cb80>\n\t.addmv -> <syft.ast.callable.Callable object at 0x7f249f24cbe0>\n\t.addr -> <syft.ast.callable.Callable object at 0x7f249f24cc40>\n\t.all -> <syft.ast.callable.Callable object at 0x7f249f24cca0>\n\t.allclose -> <syft.ast.callable.Callable object at 0x7f249f24cd00>\n\t.angle -> <syft.ast.callable.Callable object at 0x7f249f24cd60>\n\t.any -> <syft.ast.callable.Callable object at 0x7f249f24cdc0>\n\t.argmax -> <syft.ast.callable.Callable object at 0x7f249f24ce20>\n\t.argmin -> <syft.ast.callable.Callable object at 0x7f249f24ce80>\n\t.argsort -> <syft.ast.callable.Callable object at 0x7f249f24cee0>\n\t.as_strided_ -> <syft.ast.callable.Callable object at 0x7f249f24cf40>\n\t.as_strided -> <syft.ast.callable.Callable object at 0x7f249f24cfa0>\n\t.asin_ -> <syft.ast.callable.Callable object at 0x7f249f250040>\n\t.asin -> <syft.ast.callable.Callable object at 0x7f249f2500a0>\n\t.atan_ -> <syft.ast.callable.Callable object at 0x7f249f250100>\n\t.atan -> <syft.ast.callable.Callable object at 0x7f249f250160>\n\t.atan2 -> <syft.ast.callable.Callable object at 0x7f249f2501c0>\n\t.baddbmm -> <syft.ast.callable.Callable object at 0x7f249f250220>\n\t.bernoulli -> <syft.ast.callable.Callable object at 0x7f249f250280>\n\t.bitwise_and -> <syft.ast.callable.Callable object at 0x7f249f2502e0>\n\t.bitwise_not -> <syft.ast.callable.Callable object at 0x7f249f250340>\n\t.bitwise_or -> <syft.ast.callable.Callable object at 0x7f249f2503a0>\n\t.bitwise_xor -> <syft.ast.callable.Callable object at 0x7f249f250400>\n\t.bmm -> <syft.ast.callable.Callable object at 0x7f249f250460>\n\t.cat -> <syft.ast.callable.Callable object at 0x7f249f2504c0>\n\t.ceil_ -> <syft.ast.callable.Callable object at 0x7f249f250520>\n\t.ceil -> <syft.ast.callable.Callable object at 0x7f249f250580>\n\t.cholesky_inverse -> <syft.ast.callable.Callable object at 0x7f249f2505e0>\n\t.cholesky_solve -> <syft.ast.callable.Callable object at 0x7f249f250640>\n\t.cholesky -> <syft.ast.callable.Callable object at 0x7f249f2506a0>\n\t.chunk -> <syft.ast.callable.Callable object at 0x7f249f250700>\n\t.clamp_ -> <syft.ast.callable.Callable object at 0x7f249f250760>\n\t.clamp_max_ -> <syft.ast.callable.Callable object at 0x7f249f2507c0>\n\t.clamp_max -> <syft.ast.callable.Callable object at 0x7f249f250820>\n\t.clamp_min_ -> <syft.ast.callable.Callable object at 0x7f249f250880>\n\t.clamp_min -> <syft.ast.callable.Callable object at 0x7f249f2508e0>\n\t.clamp -> <syft.ast.callable.Callable object at 0x7f249f250940>\n\t.clone -> <syft.ast.callable.Callable object at 0x7f249f2509a0>\n\t.conj -> <syft.ast.callable.Callable object at 0x7f249f250a00>\n\t.cos_ -> <syft.ast.callable.Callable object at 0x7f249f250a60>\n\t.cos -> <syft.ast.callable.Callable object at 0x7f249f250ac0>\n\t.cosh_ -> <syft.ast.callable.Callable object at 0x7f249f250b20>\n\t.cosh -> <syft.ast.callable.Callable object at 0x7f249f250b80>\n\t.cross -> <syft.ast.callable.Callable object at 0x7f249f250be0>\n\t.cummax -> <syft.ast.callable.Callable object at 0x7f249f250c40>\n\t.cummin -> <syft.ast.callable.Callable object at 0x7f249f250ca0>\n\t.cumprod -> <syft.ast.callable.Callable object at 0x7f249f250d00>\n\t.cumsum -> <syft.ast.callable.Callable object at 0x7f249f250d60>\n\t.dequantize -> <syft.ast.callable.Callable object at 0x7f249f250dc0>\n\t.det -> <syft.ast.callable.Callable object at 0x7f249f250e20>\n\t.detach -> <syft.ast.callable.Callable object at 0x7f249f250e80>\n\t.diag_embed -> <syft.ast.callable.Callable object at 0x7f249f250ee0>\n\t.diag -> <syft.ast.callable.Callable object at 0x7f249f250f40>\n\t.diagflat -> <syft.ast.callable.Callable object at 0x7f249f250fa0>\n\t.diagonal -> <syft.ast.callable.Callable object at 0x7f249f254040>\n\t.digamma -> <syft.ast.callable.Callable object at 0x7f249f2540a0>\n\t.dist -> <syft.ast.callable.Callable object at 0x7f249f254100>\n\t.div -> <syft.ast.callable.Callable object at 0x7f249f254160>\n\t.dot -> <syft.ast.callable.Callable object at 0x7f249f2541c0>\n\t.eig -> <syft.ast.callable.Callable object at 0x7f249f254220>\n\t.eq -> <syft.ast.callable.Callable object at 0x7f249f254280>\n\t.equal -> <syft.ast.callable.Callable object at 0x7f249f2542e0>\n\t.erf_ -> <syft.ast.callable.Callable object at 0x7f249f254340>\n\t.erf -> <syft.ast.callable.Callable object at 0x7f249f2543a0>\n\t.erfc_ -> <syft.ast.callable.Callable object at 0x7f249f254400>\n\t.erfc -> <syft.ast.callable.Callable object at 0x7f249f254460>\n\t.erfinv -> <syft.ast.callable.Callable object at 0x7f249f2544c0>\n\t.exp_ -> <syft.ast.callable.Callable object at 0x7f249f254520>\n\t.exp -> <syft.ast.callable.Callable object at 0x7f249f254580>\n\t.expm1_ -> <syft.ast.callable.Callable object at 0x7f249f2545e0>\n\t.expm1 -> <syft.ast.callable.Callable object at 0x7f249f254640>\n\t.fft -> Module:\n\n\t.fill_ -> <syft.ast.callable.Callable object at 0x7f249f254700>\n\t.flatten -> <syft.ast.callable.Callable object at 0x7f249f254760>\n\t.flip -> <syft.ast.callable.Callable object at 0x7f249f2547c0>\n\t.floor_ -> <syft.ast.callable.Callable object at 0x7f249f254820>\n\t.floor_divide -> <syft.ast.callable.Callable object at 0x7f249f254880>\n\t.floor -> <syft.ast.callable.Callable object at 0x7f249f2548e0>\n\t.fmod -> <syft.ast.callable.Callable object at 0x7f249f254940>\n\t.frac_ -> <syft.ast.callable.Callable object at 0x7f249f2549a0>\n\t.frac -> <syft.ast.callable.Callable object at 0x7f249f254a00>\n\t.from_numpy -> <syft.ast.callable.Callable object at 0x7f249f254a60>\n\t.gather -> <syft.ast.callable.Callable object at 0x7f249f254ac0>\n\t.ge -> <syft.ast.callable.Callable object at 0x7f249f254b20>\n\t.geqrf -> <syft.ast.callable.Callable object at 0x7f249f254b80>\n\t.ger -> <syft.ast.callable.Callable object at 0x7f249f254be0>\n\t.get_device -> <syft.ast.callable.Callable object at 0x7f249f254c40>\n\t.gt -> <syft.ast.callable.Callable object at 0x7f249f254ca0>\n\t.hardshrink -> <syft.ast.callable.Callable object at 0x7f249f254d00>\n\t.histc -> <syft.ast.callable.Callable object at 0x7f249f254d60>\n\t.index_add -> <syft.ast.callable.Callable object at 0x7f249f254dc0>\n\t.index_copy -> <syft.ast.callable.Callable object at 0x7f249f254e20>\n\t.index_fill -> <syft.ast.callable.Callable object at 0x7f249f254e80>\n\t.index_put_ -> <syft.ast.callable.Callable object at 0x7f249f254ee0>\n\t.index_put -> <syft.ast.callable.Callable object at 0x7f249f254f40>\n\t.index_select -> <syft.ast.callable.Callable object at 0x7f249f254fa0>\n\t.int_repr -> <syft.ast.callable.Callable object at 0x7f249f258040>\n\t.inverse -> <syft.ast.callable.Callable object at 0x7f249f2580a0>\n\t.is_complex -> <syft.ast.callable.Callable object at 0x7f249f258100>\n\t.is_distributed -> <syft.ast.callable.Callable object at 0x7f249f258160>\n\t.is_floating_point -> <syft.ast.callable.Callable object at 0x7f249f2581c0>\n\t.is_nonzero -> <syft.ast.callable.Callable object at 0x7f249f258220>\n\t.is_same_size -> <syft.ast.callable.Callable object at 0x7f249f258280>\n\t.is_signed -> <syft.ast.callable.Callable object at 0x7f249f2582e0>\n\t.isclose -> <syft.ast.callable.Callable object at 0x7f249f258340>\n\t.kthvalue -> <syft.ast.callable.Callable object at 0x7f249f2583a0>\n\t.le -> <syft.ast.callable.Callable object at 0x7f249f258400>\n\t.lerp -> <syft.ast.callable.Callable object at 0x7f249f258460>\n\t.lgamma -> <syft.ast.callable.Callable object at 0x7f249f2584c0>\n\t.log_ -> <syft.ast.callable.Callable object at 0x7f249f258520>\n\t.log_softmax -> <syft.ast.callable.Callable object at 0x7f249f258580>\n\t.log -> <syft.ast.callable.Callable object at 0x7f249f2585e0>\n\t.log10_ -> <syft.ast.callable.Callable object at 0x7f249f258640>\n\t.log10 -> <syft.ast.callable.Callable object at 0x7f249f2586a0>\n\t.log1p_ -> <syft.ast.callable.Callable object at 0x7f249f258700>\n\t.log1p -> <syft.ast.callable.Callable object at 0x7f249f258760>\n\t.log2_ -> <syft.ast.callable.Callable object at 0x7f249f2587c0>\n\t.log2 -> <syft.ast.callable.Callable object at 0x7f249f258820>\n\t.logdet -> <syft.ast.callable.Callable object at 0x7f249f258880>\n\t.logical_and -> <syft.ast.callable.Callable object at 0x7f249f2588e0>\n\t.logical_not -> <syft.ast.callable.Callable object at 0x7f249f258940>\n\t.logical_or -> <syft.ast.callable.Callable object at 0x7f249f2589a0>\n\t.logical_xor -> <syft.ast.callable.Callable object at 0x7f249f258a00>\n\t.logsumexp -> <syft.ast.callable.Callable object at 0x7f249f258a60>\n\t.lstsq -> <syft.ast.callable.Callable object at 0x7f249f258ac0>\n\t.lt -> <syft.ast.callable.Callable object at 0x7f249f258b20>\n\t.lu_solve -> <syft.ast.callable.Callable object at 0x7f249f258b80>\n\t.lu -> <syft.ast.callable.Callable object at 0x7f249f258be0>\n\t.masked_fill -> <syft.ast.callable.Callable object at 0x7f249f258c40>\n\t.masked_scatter -> <syft.ast.callable.Callable object at 0x7f249f258ca0>\n\t.masked_select -> <syft.ast.callable.Callable object at 0x7f249f258d00>\n\t.matmul -> <syft.ast.callable.Callable object at 0x7f249f258d60>\n\t.matrix_power -> <syft.ast.callable.Callable object at 0x7f249f258dc0>\n\t.mean -> <syft.ast.callable.Callable object at 0x7f249f258e20>\n\t.mm -> <syft.ast.callable.Callable object at 0x7f249f258e80>\n\t.mode -> <syft.ast.callable.Callable object at 0x7f249f258ee0>\n\t.mul -> <syft.ast.callable.Callable object at 0x7f249f258f40>\n\t.multinomial -> <syft.ast.callable.Callable object at 0x7f249f258fa0>\n\t.mv -> <syft.ast.callable.Callable object at 0x7f2532449ee0>\n\t.mvlgamma -> <syft.ast.callable.Callable object at 0x7f249f25d040>\n\t.narrow -> <syft.ast.callable.Callable object at 0x7f249f25d0a0>\n\t.ne -> <syft.ast.callable.Callable object at 0x7f249f25d100>\n\t.neg_ -> <syft.ast.callable.Callable object at 0x7f249f25d160>\n\t.neg -> <syft.ast.callable.Callable object at 0x7f249f25d1c0>\n\t.nonzero -> <syft.ast.callable.Callable object at 0x7f249f25d220>\n\t.norm -> <syft.ast.callable.Callable object at 0x7f249f25d280>\n\t.orgqr -> <syft.ast.callable.Callable object at 0x7f249f25d2e0>\n\t.ormqr -> <syft.ast.callable.Callable object at 0x7f249f25d340>\n\t.pinverse -> <syft.ast.callable.Callable object at 0x7f249f25d3a0>\n\t.polygamma -> <syft.ast.callable.Callable object at 0x7f249f25d400>\n\t.pow -> <syft.ast.callable.Callable object at 0x7f249f25d460>\n\t.prelu -> <syft.ast.callable.Callable object at 0x7f249f25d4c0>\n\t.q_per_channel_axis -> <syft.ast.callable.Callable object at 0x7f249f25d520>\n\t.q_per_channel_scales -> <syft.ast.callable.Callable object at 0x7f249f25d580>\n\t.q_per_channel_zero_points -> <syft.ast.callable.Callable object at 0x7f249f25d5e0>\n\t.q_scale -> <syft.ast.callable.Callable object at 0x7f249f25d640>\n\t.q_zero_point -> <syft.ast.callable.Callable object at 0x7f249f25d6a0>\n\t.qr -> <syft.ast.callable.Callable object at 0x7f249f25d700>\n\t.reciprocal_ -> <syft.ast.callable.Callable object at 0x7f249f25d760>\n\t.reciprocal -> <syft.ast.callable.Callable object at 0x7f249f25d7c0>\n\t.relu_ -> <syft.ast.callable.Callable object at 0x7f249f25d820>\n\t.relu -> <syft.ast.callable.Callable object at 0x7f249f25d880>\n\t.remainder -> <syft.ast.callable.Callable object at 0x7f249f25d8e0>\n\t.renorm -> <syft.ast.callable.Callable object at 0x7f249f25d940>\n\t.repeat_interleave -> <syft.ast.callable.Callable object at 0x7f249f25d9a0>\n\t.reshape -> <syft.ast.callable.Callable object at 0x7f249f25da00>\n\t.resize_as_ -> <syft.ast.callable.Callable object at 0x7f249f25da60>\n\t.roll -> <syft.ast.callable.Callable object at 0x7f249f25dac0>\n\t.rot90 -> <syft.ast.callable.Callable object at 0x7f249f25db20>\n\t.round_ -> <syft.ast.callable.Callable object at 0x7f249f25db80>\n\t.round -> <syft.ast.callable.Callable object at 0x7f249f25dbe0>\n\t.rsqrt_ -> <syft.ast.callable.Callable object at 0x7f249f25dc40>\n\t.rsqrt -> <syft.ast.callable.Callable object at 0x7f249f25dca0>\n\t.scatter_add -> <syft.ast.callable.Callable object at 0x7f249f25dd00>\n\t.scatter -> <syft.ast.callable.Callable object at 0x7f249f25dd60>\n\t.select -> <syft.ast.callable.Callable object at 0x7f249f25ddc0>\n\t.sigmoid_ -> <syft.ast.callable.Callable object at 0x7f249f25de20>\n\t.sigmoid -> <syft.ast.callable.Callable object at 0x7f249f25de80>\n\t.sign -> <syft.ast.callable.Callable object at 0x7f249f25dee0>\n\t.sin_ -> <syft.ast.callable.Callable object at 0x7f249f25df40>\n\t.sin -> <syft.ast.callable.Callable object at 0x7f249f25dfa0>\n\t.sinh_ -> <syft.ast.callable.Callable object at 0x7f249f261040>\n\t.sinh -> <syft.ast.callable.Callable object at 0x7f249f2610a0>\n\t.slogdet -> <syft.ast.callable.Callable object at 0x7f249f261100>\n\t.softmax -> <syft.ast.callable.Callable object at 0x7f249f261160>\n\t.solve -> <syft.ast.callable.Callable object at 0x7f249f2611c0>\n\t.sort -> <syft.ast.callable.Callable object at 0x7f249f261220>\n\t.split_with_sizes -> <syft.ast.callable.Callable object at 0x7f249f261280>\n\t.split -> <syft.ast.callable.Callable object at 0x7f249f2612e0>\n\t.sqrt_ -> <syft.ast.callable.Callable object at 0x7f249f261340>\n\t.sqrt -> <syft.ast.callable.Callable object at 0x7f249f2613a0>\n\t.square_ -> <syft.ast.callable.Callable object at 0x7f249f261400>\n\t.square -> <syft.ast.callable.Callable object at 0x7f249f261460>\n\t.squeeze -> <syft.ast.callable.Callable object at 0x7f249f2614c0>\n\t.stack -> <syft.ast.callable.Callable object at 0x7f249f261520>\n\t.std -> <syft.ast.callable.Callable object at 0x7f249f261580>\n\t.stft -> <syft.ast.callable.Callable object at 0x7f249f2615e0>\n\t.sub -> <syft.ast.callable.Callable object at 0x7f249f261640>\n\t.sum -> <syft.ast.callable.Callable object at 0x7f249f2616a0>\n\t.svd -> <syft.ast.callable.Callable object at 0x7f249f261700>\n\t.symeig -> <syft.ast.callable.Callable object at 0x7f249f261760>\n\t.t -> <syft.ast.callable.Callable object at 0x7f249f2617c0>\n\t.take -> <syft.ast.callable.Callable object at 0x7f249f261820>\n\t.tan_ -> <syft.ast.callable.Callable object at 0x7f249f261880>\n\t.tan -> <syft.ast.callable.Callable object at 0x7f249f2618e0>\n\t.tanh_ -> <syft.ast.callable.Callable object at 0x7f249f261940>\n\t.tanh -> <syft.ast.callable.Callable object at 0x7f249f2619a0>\n\t.topk -> <syft.ast.callable.Callable object at 0x7f249f261a00>\n\t.trace -> <syft.ast.callable.Callable object at 0x7f249f261a60>\n\t.transpose -> <syft.ast.callable.Callable object at 0x7f249f261ac0>\n\t.triangular_solve -> <syft.ast.callable.Callable object at 0x7f249f261b20>\n\t.tril -> <syft.ast.callable.Callable object at 0x7f249f261b80>\n\t.triu -> <syft.ast.callable.Callable object at 0x7f249f261be0>\n\t.true_divide -> <syft.ast.callable.Callable object at 0x7f249f261c40>\n\t.trunc_ -> <syft.ast.callable.Callable object at 0x7f249f261ca0>\n\t.trunc -> <syft.ast.callable.Callable object at 0x7f249f261d00>\n\t.unique_consecutive -> <syft.ast.callable.Callable object at 0x7f249f261d60>\n\t.unique -> <syft.ast.callable.Callable object at 0x7f249f261dc0>\n\t.unsqueeze -> <syft.ast.callable.Callable object at 0x7f249f261e20>\n\t.var -> <syft.ast.callable.Callable object at 0x7f249f261e80>\n\t.unsafe_chunk -> <syft.ast.callable.Callable object at 0x7f249f261ee0>\n\t.absolute -> <syft.ast.callable.Callable object at 0x7f249f261f40>\n\t.acosh_ -> <syft.ast.callable.Callable object at 0x7f249f261fa0>\n\t.acosh -> <syft.ast.callable.Callable object at 0x7f249f265040>\n\t.asinh_ -> <syft.ast.callable.Callable object at 0x7f249f2650a0>\n\t.asinh -> <syft.ast.callable.Callable object at 0x7f249f265100>\n\t.atanh_ -> <syft.ast.callable.Callable object at 0x7f249f265160>\n\t.atanh -> <syft.ast.callable.Callable object at 0x7f249f2651c0>\n\t.deg2rad_ -> <syft.ast.callable.Callable object at 0x7f249f265220>\n\t.deg2rad -> <syft.ast.callable.Callable object at 0x7f249f265280>\n\t.fliplr -> <syft.ast.callable.Callable object at 0x7f249f2652e0>\n\t.flipud -> <syft.ast.callable.Callable object at 0x7f249f265340>\n\t.isfinite -> <syft.ast.callable.Callable object at 0x7f249f2653a0>\n\t.isinf -> <syft.ast.callable.Callable object at 0x7f249f265400>\n\t.isnan -> <syft.ast.callable.Callable object at 0x7f249f265460>\n\t.logaddexp -> <syft.ast.callable.Callable object at 0x7f249f2654c0>\n\t.logaddexp2 -> <syft.ast.callable.Callable object at 0x7f249f265520>\n\t.logcumsumexp -> <syft.ast.callable.Callable object at 0x7f249f265580>\n\t.rad2deg_ -> <syft.ast.callable.Callable object at 0x7f249f2655e0>\n\t.rad2deg -> <syft.ast.callable.Callable object at 0x7f249f265640>\n\t.istft -> <syft.ast.callable.Callable object at 0x7f249f2656a0>\n\t.amax -> <syft.ast.callable.Callable object at 0x7f249f265700>\n\t.amin -> <syft.ast.callable.Callable object at 0x7f249f265760>\n\t.arccos -> <syft.ast.callable.Callable object at 0x7f249f2657c0>\n\t.arccos_ -> <syft.ast.callable.Callable object at 0x7f249f265820>\n\t.arccosh -> <syft.ast.callable.Callable object at 0x7f249f265880>\n\t.arccosh_ -> <syft.ast.callable.Callable object at 0x7f249f2658e0>\n\t.arcsin -> <syft.ast.callable.Callable object at 0x7f249f265940>\n\t.arcsin_ -> <syft.ast.callable.Callable object at 0x7f249f2659a0>\n\t.arcsinh -> <syft.ast.callable.Callable object at 0x7f249f265a00>\n\t.arcsinh_ -> <syft.ast.callable.Callable object at 0x7f249f265a60>\n\t.arctan -> <syft.ast.callable.Callable object at 0x7f249f265ac0>\n\t.arctan_ -> <syft.ast.callable.Callable object at 0x7f249f265b20>\n\t.arctanh -> <syft.ast.callable.Callable object at 0x7f249f265b80>\n\t.arctanh_ -> <syft.ast.callable.Callable object at 0x7f249f265be0>\n\t.clip -> <syft.ast.callable.Callable object at 0x7f249f265c40>\n\t.clip_ -> <syft.ast.callable.Callable object at 0x7f249f265ca0>\n\t.count_nonzero -> <syft.ast.callable.Callable object at 0x7f249f265d00>\n\t.divide -> <syft.ast.callable.Callable object at 0x7f249f265d60>\n\t.exp2 -> <syft.ast.callable.Callable object at 0x7f249f265dc0>\n\t.exp2_ -> <syft.ast.callable.Callable object at 0x7f249f265e20>\n\t.fix -> <syft.ast.callable.Callable object at 0x7f249f265e80>\n\t.fix_ -> <syft.ast.callable.Callable object at 0x7f249f265ee0>\n\t.gcd -> <syft.ast.callable.Callable object at 0x7f249f265f40>\n\t.gcd_ -> <syft.ast.callable.Callable object at 0x7f249f265fa0>\n\t.greater -> <syft.ast.callable.Callable object at 0x7f249f26a040>\n\t.greater_equal -> <syft.ast.callable.Callable object at 0x7f249f26a0a0>\n\t.heaviside -> <syft.ast.callable.Callable object at 0x7f249f26a100>\n\t.hypot -> <syft.ast.callable.Callable object at 0x7f249f26a160>\n\t.i0 -> <syft.ast.callable.Callable object at 0x7f249f26a1c0>\n\t.i0_ -> <syft.ast.callable.Callable object at 0x7f249f26a220>\n\t.isneginf -> <syft.ast.callable.Callable object at 0x7f249f26a280>\n\t.isposinf -> <syft.ast.callable.Callable object at 0x7f249f26a2e0>\n\t.isreal -> <syft.ast.callable.Callable object at 0x7f249f26a340>\n\t.lcm -> <syft.ast.callable.Callable object at 0x7f249f26a3a0>\n\t.lcm_ -> <syft.ast.callable.Callable object at 0x7f249f26a400>\n\t.less -> <syft.ast.callable.Callable object at 0x7f249f26a460>\n\t.less_equal -> <syft.ast.callable.Callable object at 0x7f249f26a4c0>\n\t.logit -> <syft.ast.callable.Callable object at 0x7f249f26a520>\n\t.logit_ -> <syft.ast.callable.Callable object at 0x7f249f26a580>\n\t.maximum -> <syft.ast.callable.Callable object at 0x7f249f26a5e0>\n\t.minimum -> <syft.ast.callable.Callable object at 0x7f249f26a640>\n\t.matrix_exp -> <syft.ast.callable.Callable object at 0x7f249f26a6a0>\n\t.multiply -> <syft.ast.callable.Callable object at 0x7f249f26a700>\n\t.nanquantile -> <syft.ast.callable.Callable object at 0x7f249f26a760>\n\t.nansum -> <syft.ast.callable.Callable object at 0x7f249f26a7c0>\n\t.negative -> <syft.ast.callable.Callable object at 0x7f249f26a820>\n\t.negative_ -> <syft.ast.callable.Callable object at 0x7f249f26a880>\n\t.nextafter -> <syft.ast.callable.Callable object at 0x7f249f26a8e0>\n\t.outer -> <syft.ast.callable.Callable object at 0x7f249f26a940>\n\t.quantile -> <syft.ast.callable.Callable object at 0x7f249f26a9a0>\n\t.sgn -> <syft.ast.callable.Callable object at 0x7f249f26aa00>\n\t.signbit -> <syft.ast.callable.Callable object at 0x7f249f26aa60>\n\t.subtract -> <syft.ast.callable.Callable object at 0x7f249f26aac0>\n\t.unsafe_split -> <syft.ast.callable.Callable object at 0x7f249f26ab20>\n\t.vdot -> <syft.ast.callable.Callable object at 0x7f249f26ab80>\n\t.movedim -> <syft.ast.callable.Callable object at 0x7f249f26abe0>\n\t.unsafe_split_with_sizes -> <syft.ast.callable.Callable object at 0x7f249f26ac40>\n\t.cuda -> Module:\n\t\t.is_available -> <syft.ast.callable.Callable object at 0x7f249f26ad00>\n\n\t.device -> <syft.ast.klass.Class object at 0x7f249f26ad60>\n\t.random -> Module:\n\t\t.initial_seed -> <syft.ast.callable.Callable object at 0x7f249f26aee0>\n\n\t.zeros_like -> <syft.ast.callable.Callable object at 0x7f249f26af40>\n\t.manual_seed -> <syft.ast.callable.Callable object at 0x7f249f26afa0>\n\t.Generator -> <syft.ast.klass.Class object at 0x7f249f26e040>\n\t.utils -> Module:\n\t\t.data -> Module:\n\t\t\t.DataLoader -> <syft.ast.klass.Class object at 0x7f249f274340>\n\t\t\t.dataloader -> Module:\n\t\t\t\t._SingleProcessDataLoaderIter -> <syft.ast.klass.Class object at 0x7f249f274580>\n\n\n\n\t.optim -> Module:\n\t\t.ASGD -> <syft.ast.klass.Class object at 0x7f249f274940>\n\t\t.Adadelta -> <syft.ast.klass.Class object at 0x7f249f274ac0>\n\t\t.Adagrad -> <syft.ast.klass.Class object at 0x7f249f274c40>\n\t\t.Adam -> <syft.ast.klass.Class object at 0x7f249f274dc0>\n\t\t.AdamW -> <syft.ast.klass.Class object at 0x7f249f274f40>\n\t\t.Adamax -> <syft.ast.klass.Class object at 0x7f249f27a100>\n\t\t.LBFGS -> <syft.ast.klass.Class object at 0x7f249f27a280>\n\t\t.Optimizer -> <syft.ast.klass.Class object at 0x7f249f27a400>\n\t\t.RMSprop -> <syft.ast.klass.Class object at 0x7f249f27a5e0>\n\t\t.Rprop -> <syft.ast.klass.Class object at 0x7f249f27a760>\n\t\t.SGD -> <syft.ast.klass.Class object at 0x7f249f27a8e0>\n\t\t.SparseAdam -> <syft.ast.klass.Class object at 0x7f249f27aa60>\n\t\t.lr_scheduler -> Module:\n\t\t\t.StepLR -> <syft.ast.klass.Class object at 0x7f249f27ad00>\n\n\n\t.no_grad -> <syft.ast.klass.Class object at 0x7f249f27aee0>\n\t.autograd -> Module:\n\t\t.grad_mode -> Module:\n\t\t\t.no_grad -> <syft.ast.klass.Class object at 0x7f249f27e0a0>\n\n\n\t.distributions -> Module:\n\t\t.Categorical -> <syft.ast.klass.Class object at 0x7f249f1842e0>\n\n\t.kron -> <syft.ast.callable.Callable object at 0x7f249f184880>\n\t.msort -> <syft.ast.callable.Callable object at 0x7f249f1849a0>\n\t.row_stack -> <syft.ast.callable.Callable object at 0x7f249f184a00>\n\t.moveaxis -> <syft.ast.callable.Callable object at 0x7f249f184d00>\n\t.tensor_split -> <syft.ast.callable.Callable object at 0x7f249f184e20>\n\t.tile -> <syft.ast.callable.Callable object at 0x7f249f184f40>\n\t.fmin -> <syft.ast.callable.Callable object at 0x7f249f189160>\n\t.ldexp -> <syft.ast.callable.Callable object at 0x7f249f1891c0>\n\t.igamma -> <syft.ast.callable.Callable object at 0x7f249f1892e0>\n\t.float_power -> <syft.ast.callable.Callable object at 0x7f249f1897c0>\n\t.xlogy -> <syft.ast.callable.Callable object at 0x7f249f1898e0>\n\t.copysign -> <syft.ast.callable.Callable object at 0x7f249f189940>\n\t.nanmedian -> <syft.ast.callable.Callable object at 0x7f249f1899a0>\n\t.igammac -> <syft.ast.callable.Callable object at 0x7f249f189a00>\n\t.diff -> <syft.ast.callable.Callable object at 0x7f249f189b20>\n\t.sinc -> <syft.ast.callable.Callable object at 0x7f249f189c40>\n\t.column_stack -> <syft.ast.callable.Callable object at 0x7f249f189e20>\n\t.pixel_unshuffle -> <syft.ast.callable.Callable object at 0x7f249f189f40>\n\t.swapaxes -> <syft.ast.callable.Callable object at 0x7f249f18d220>\n\t.nan_to_num -> <syft.ast.callable.Callable object at 0x7f249f18d280>\n\t.inner -> <syft.ast.callable.Callable object at 0x7f249f18d2e0>\n\t.fmax -> <syft.ast.callable.Callable object at 0x7f249f18d340>\n\t.ravel -> <syft.ast.callable.Callable object at 0x7f249f18d6a0>\n\t.broadcast_to -> <syft.ast.callable.Callable object at 0x7f249f18d700>\n\t.swapdims -> <syft.ast.callable.Callable object at 0x7f249f18d8e0>"
          },
          "metadata": {}
        }
      ],
      "execution_count": 8,
      "metadata": {
        "jupyter": {
          "source_hidden": false,
          "outputs_hidden": true
        },
        "nteract": {
          "transient": {
            "deleting": false
          }
        },
        "gather": {
          "logged": 1631193797268
        }
      }
    },
    {
      "cell_type": "markdown",
      "source": [
        "### Sending server's data to the client"
      ],
      "metadata": {
        "nteract": {
          "transient": {
            "deleting": false
          }
        }
      }
    },
    {
      "cell_type": "code",
      "source": [
        "x = torch.tensor([1,2,3]).tag(\"hey\", \"there\", \"buddy\")\n",
        "x.description = \"wow what a day\"\n",
        "x_ptr = x.send(client)"
      ],
      "outputs": [],
      "execution_count": 6,
      "metadata": {
        "jupyter": {
          "source_hidden": false,
          "outputs_hidden": false
        },
        "nteract": {
          "transient": {
            "deleting": false
          }
        },
        "gather": {
          "logged": 1631193890225
        }
      }
    },
    {
      "cell_type": "code",
      "source": [
        "client.store.pandas"
      ],
      "outputs": [
        {
          "output_type": "execute_result",
          "execution_count": 7,
          "data": {
            "text/plain": "                                        ID                 Tags  \\\n0  <UID: fe84a322da834202b9be221e0739ed2d>  [hey, there, buddy]   \n\n      Description             object_type  \n0  wow what a day  <class 'torch.Tensor'>  ",
            "text/html": "<div>\n<style scoped>\n    .dataframe tbody tr th:only-of-type {\n        vertical-align: middle;\n    }\n\n    .dataframe tbody tr th {\n        vertical-align: top;\n    }\n\n    .dataframe thead th {\n        text-align: right;\n    }\n</style>\n<table border=\"1\" class=\"dataframe\">\n  <thead>\n    <tr style=\"text-align: right;\">\n      <th></th>\n      <th>ID</th>\n      <th>Tags</th>\n      <th>Description</th>\n      <th>object_type</th>\n    </tr>\n  </thead>\n  <tbody>\n    <tr>\n      <th>0</th>\n      <td>&lt;UID: fe84a322da834202b9be221e0739ed2d&gt;</td>\n      <td>[hey, there, buddy]</td>\n      <td>wow what a day</td>\n      <td>&lt;class 'torch.Tensor'&gt;</td>\n    </tr>\n  </tbody>\n</table>\n</div>"
          },
          "metadata": {}
        }
      ],
      "execution_count": 7,
      "metadata": {
        "jupyter": {
          "source_hidden": false,
          "outputs_hidden": false
        },
        "nteract": {
          "transient": {
            "deleting": false
          }
        },
        "gather": {
          "logged": 1631193893244
        }
      }
    },
    {
      "cell_type": "code",
      "source": [
        "client2.store.pandas"
      ],
      "outputs": [
        {
          "output_type": "execute_result",
          "execution_count": 8,
          "data": {
            "text/plain": "                                        ID                 Tags  \\\n0  <UID: fe84a322da834202b9be221e0739ed2d>  [hey, there, buddy]   \n\n      Description             object_type  \n0  wow what a day  <class 'torch.Tensor'>  ",
            "text/html": "<div>\n<style scoped>\n    .dataframe tbody tr th:only-of-type {\n        vertical-align: middle;\n    }\n\n    .dataframe tbody tr th {\n        vertical-align: top;\n    }\n\n    .dataframe thead th {\n        text-align: right;\n    }\n</style>\n<table border=\"1\" class=\"dataframe\">\n  <thead>\n    <tr style=\"text-align: right;\">\n      <th></th>\n      <th>ID</th>\n      <th>Tags</th>\n      <th>Description</th>\n      <th>object_type</th>\n    </tr>\n  </thead>\n  <tbody>\n    <tr>\n      <th>0</th>\n      <td>&lt;UID: fe84a322da834202b9be221e0739ed2d&gt;</td>\n      <td>[hey, there, buddy]</td>\n      <td>wow what a day</td>\n      <td>&lt;class 'torch.Tensor'&gt;</td>\n    </tr>\n  </tbody>\n</table>\n</div>"
          },
          "metadata": {}
        }
      ],
      "execution_count": 8,
      "metadata": {
        "jupyter": {
          "source_hidden": false,
          "outputs_hidden": false
        },
        "nteract": {
          "transient": {
            "deleting": false
          }
        },
        "gather": {
          "logged": 1631193898345
        }
      }
    },
    {
      "cell_type": "markdown",
      "source": [
        "### Sending client's data to the server"
      ],
      "metadata": {
        "nteract": {
          "transient": {
            "deleting": false
          }
        }
      }
    },
    {
      "cell_type": "code",
      "source": [
        "server = sy.VirtualMachine(name=\"server\")\n",
        "client = server.get_root_client()\n",
        "client_data = torch.randn(size=(1, 100))\n",
        "client_data_ptr = client_data.send(server)"
      ],
      "outputs": [
        {
          "output_type": "error",
          "ename": "AttributeError",
          "evalue": "'VirtualMachine' object has no attribute 'send_immediate_msg_without_reply'",
          "traceback": [
            "\u001b[0;31m---------------------------------------------------------------------------\u001b[0m",
            "\u001b[0;31mAttributeError\u001b[0m                            Traceback (most recent call last)",
            "\u001b[0;32m<ipython-input-9-57786ea4a38f>\u001b[0m in \u001b[0;36m<module>\u001b[0;34m\u001b[0m\n\u001b[1;32m      2\u001b[0m \u001b[0mclient\u001b[0m \u001b[0;34m=\u001b[0m \u001b[0mserver\u001b[0m\u001b[0;34m.\u001b[0m\u001b[0mget_root_client\u001b[0m\u001b[0;34m(\u001b[0m\u001b[0;34m)\u001b[0m\u001b[0;34m\u001b[0m\u001b[0;34m\u001b[0m\u001b[0m\n\u001b[1;32m      3\u001b[0m \u001b[0mclient_data\u001b[0m \u001b[0;34m=\u001b[0m \u001b[0mtorch\u001b[0m\u001b[0;34m.\u001b[0m\u001b[0mrandn\u001b[0m\u001b[0;34m(\u001b[0m\u001b[0msize\u001b[0m\u001b[0;34m=\u001b[0m\u001b[0;34m(\u001b[0m\u001b[0;36m1\u001b[0m\u001b[0;34m,\u001b[0m \u001b[0;36m100\u001b[0m\u001b[0;34m)\u001b[0m\u001b[0;34m)\u001b[0m\u001b[0;34m\u001b[0m\u001b[0;34m\u001b[0m\u001b[0m\n\u001b[0;32m----> 4\u001b[0;31m \u001b[0mclient_data_ptr\u001b[0m \u001b[0;34m=\u001b[0m \u001b[0mclient_data\u001b[0m\u001b[0;34m.\u001b[0m\u001b[0msend\u001b[0m\u001b[0;34m(\u001b[0m\u001b[0mserver\u001b[0m\u001b[0;34m)\u001b[0m\u001b[0;34m\u001b[0m\u001b[0;34m\u001b[0m\u001b[0m\n\u001b[0m",
            "\u001b[0;32m/anaconda/envs/SyftEnv2/lib/python3.9/site-packages/syft/ast/klass.py\u001b[0m in \u001b[0;36msend\u001b[0;34m(self, client, pointable, description, tags, searchable)\u001b[0m\n\u001b[1;32m    633\u001b[0m \u001b[0;34m\u001b[0m\u001b[0m\n\u001b[1;32m    634\u001b[0m             \u001b[0;31m# Step 3: send message\u001b[0m\u001b[0;34m\u001b[0m\u001b[0;34m\u001b[0m\u001b[0;34m\u001b[0m\u001b[0m\n\u001b[0;32m--> 635\u001b[0;31m             \u001b[0mclient\u001b[0m\u001b[0;34m.\u001b[0m\u001b[0msend_immediate_msg_without_reply\u001b[0m\u001b[0;34m(\u001b[0m\u001b[0mmsg\u001b[0m\u001b[0;34m=\u001b[0m\u001b[0mobj_msg\u001b[0m\u001b[0;34m)\u001b[0m\u001b[0;34m\u001b[0m\u001b[0;34m\u001b[0m\u001b[0m\n\u001b[0m\u001b[1;32m    636\u001b[0m \u001b[0;34m\u001b[0m\u001b[0m\n\u001b[1;32m    637\u001b[0m             \u001b[0;31m# Step 4: return pointer\u001b[0m\u001b[0;34m\u001b[0m\u001b[0;34m\u001b[0m\u001b[0;34m\u001b[0m\u001b[0m\n",
            "\u001b[0;31mAttributeError\u001b[0m: 'VirtualMachine' object has no attribute 'send_immediate_msg_without_reply'"
          ]
        }
      ],
      "execution_count": 9,
      "metadata": {
        "jupyter": {
          "source_hidden": false,
          "outputs_hidden": false
        },
        "nteract": {
          "transient": {
            "deleting": false
          }
        },
        "gather": {
          "logged": 1631175416917
        }
      }
    },
    {
      "cell_type": "markdown",
      "source": [
        "### Checking out client's device (cuda or CPU)"
      ],
      "metadata": {
        "nteract": {
          "transient": {
            "deleting": false
          }
        }
      }
    },
    {
      "cell_type": "code",
      "source": [
        "client_cuda_ptr = remote_torch.cuda.is_available()\n",
        "client_cuda = client_cuda_ptr.get_copy()\n",
        "print(f'client has CUDA? {client_cuda}')\n",
        "\n",
        "client_device_ptr = remote_torch.device(\"cuda\" if client_cuda else \"cpu\")\n",
        "print(f'client device: {client_device_ptr.type.get_copy()}')"
      ],
      "outputs": [
        {
          "output_type": "stream",
          "name": "stdout",
          "text": "client has CUDA? True\nclient device: cuda\n"
        }
      ],
      "execution_count": 9,
      "metadata": {
        "jupyter": {
          "source_hidden": false,
          "outputs_hidden": false
        },
        "nteract": {
          "transient": {
            "deleting": false
          }
        },
        "gather": {
          "logged": 1631193909771
        }
      }
    },
    {
      "cell_type": "code",
      "source": [
        "t1 = torch.tensor([1, 2])\n",
        "t2 = torch.tensor([1, 3])\n",
        "syft_list = List([t1, t2])\n",
        "syft_list_ptr = syft_list.send(client)"
      ],
      "outputs": [],
      "execution_count": 10,
      "metadata": {
        "jupyter": {
          "source_hidden": false,
          "outputs_hidden": false
        },
        "nteract": {
          "transient": {
            "deleting": false
          }
        },
        "gather": {
          "logged": 1631193923966
        }
      }
    },
    {
      "cell_type": "code",
      "source": [
        "res = syft_list_ptr.get_copy()\n",
        "res"
      ],
      "outputs": [
        {
          "output_type": "execute_result",
          "execution_count": 11,
          "data": {
            "text/plain": "[tensor([1, 2]), tensor([1, 3])]"
          },
          "metadata": {}
        }
      ],
      "execution_count": 11,
      "metadata": {
        "jupyter": {
          "source_hidden": false,
          "outputs_hidden": false
        },
        "nteract": {
          "transient": {
            "deleting": false
          }
        },
        "gather": {
          "logged": 1631193925502
        }
      }
    },
    {
      "cell_type": "code",
      "source": [
        "tensor_type='uint8'\n",
        "op_name = '__add__'\n"
      ],
      "outputs": [],
      "execution_count": 12,
      "metadata": {
        "jupyter": {
          "source_hidden": false,
          "outputs_hidden": false
        },
        "nteract": {
          "transient": {
            "deleting": false
          }
        },
        "gather": {
          "logged": 1631193949919
        }
      }
    },
    {
      "cell_type": "code",
      "source": [
        "x = torch.tensor([-1, 0, 1, 2, 3, 4])\n",
        "xp = x.send(client)\n",
        "op_method = getattr(xp, op_name, None)\n",
        "target_op_method = getattr(x, op_name)\n",
        "\n",
        "print(op_method)\n",
        "print(target_op_method)"
      ],
      "outputs": [
        {
          "output_type": "stream",
          "name": "stdout",
          "text": "<bound method get_run_class_method.<locals>.run_class_method of <syft.proxy.torch.TensorPointer object at 0x7f92d2bad640>>\n<built-in method __add__ of Tensor object at 0x7f92d2b40700>\n"
        }
      ],
      "execution_count": 13,
      "metadata": {
        "jupyter": {
          "source_hidden": false,
          "outputs_hidden": false
        },
        "nteract": {
          "transient": {
            "deleting": false
          }
        },
        "gather": {
          "logged": 1631193951305
        }
      }
    },
    {
      "cell_type": "code",
      "source": [
        "result = op_method(xp)  # op(xp, xp)\n",
        "target_result = target_op_method(x)\n",
        "\n",
        "local_result = result.get()\n",
        "\n",
        "assert (local_result == target_result).all()"
      ],
      "outputs": [],
      "execution_count": 14,
      "metadata": {
        "jupyter": {
          "source_hidden": false,
          "outputs_hidden": false
        },
        "nteract": {
          "transient": {
            "deleting": false
          }
        },
        "gather": {
          "logged": 1631193954180
        }
      }
    },
    {
      "cell_type": "code",
      "source": [
        "local_result"
      ],
      "outputs": [
        {
          "output_type": "execute_result",
          "execution_count": 15,
          "data": {
            "text/plain": "tensor([-2,  0,  2,  4,  6,  8])"
          },
          "metadata": {}
        }
      ],
      "execution_count": 15,
      "metadata": {
        "jupyter": {
          "source_hidden": false,
          "outputs_hidden": false
        },
        "nteract": {
          "transient": {
            "deleting": false
          }
        },
        "gather": {
          "logged": 1631193956922
        }
      }
    },
    {
      "cell_type": "code",
      "source": [],
      "outputs": [],
      "execution_count": null,
      "metadata": {
        "jupyter": {
          "source_hidden": false,
          "outputs_hidden": false
        },
        "nteract": {
          "transient": {
            "deleting": false
          }
        }
      }
    }
  ],
  "metadata": {
    "kernelspec": {
      "name": "syftenv2",
      "language": "python",
      "display_name": "SyftEnv2"
    },
    "language_info": {
      "name": "python",
      "version": "3.9.6",
      "mimetype": "text/x-python",
      "codemirror_mode": {
        "name": "ipython",
        "version": 3
      },
      "pygments_lexer": "ipython3",
      "nbconvert_exporter": "python",
      "file_extension": ".py"
    },
    "kernel_info": {
      "name": "syftenv2"
    },
    "nteract": {
      "version": "nteract-front-end@1.0.0"
    },
    "microsoft": {
      "host": {
        "AzureML": {
          "notebookHasBeenCompleted": true
        }
      }
    }
  },
  "nbformat": 4,
  "nbformat_minor": 2
}