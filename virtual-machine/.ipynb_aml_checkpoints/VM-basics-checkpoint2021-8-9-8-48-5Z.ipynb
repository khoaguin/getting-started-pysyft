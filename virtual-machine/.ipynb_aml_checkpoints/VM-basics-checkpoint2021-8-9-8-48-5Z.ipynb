{
  "cells": [
    {
      "cell_type": "code",
      "source": [
        "import torch\n",
        "import syft as sy\n",
        "import pandas as pd\n",
        "from syft.lib.python.list import List"
      ],
      "outputs": [],
      "execution_count": 1,
      "metadata": {
        "gather": {
          "logged": 1631177247280
        }
      }
    },
    {
      "cell_type": "markdown",
      "source": [
        "### Make the VM and its client"
      ],
      "metadata": {
        "nteract": {
          "transient": {
            "deleting": false
          }
        }
      }
    },
    {
      "cell_type": "code",
      "source": [
        "server = sy.VirtualMachine(name=\"server\")\n",
        "client = server.get_root_client()"
      ],
      "outputs": [],
      "execution_count": 2,
      "metadata": {
        "jupyter": {
          "source_hidden": false,
          "outputs_hidden": false
        },
        "nteract": {
          "transient": {
            "deleting": false
          }
        },
        "gather": {
          "logged": 1631177248889
        }
      }
    },
    {
      "cell_type": "code",
      "source": [
        "print(type(server))\n",
        "print(server)\n",
        "print(client.name)\n",
        "print(type(client))"
      ],
      "outputs": [
        {
          "output_type": "stream",
          "name": "stdout",
          "text": "<class 'syft.core.node.vm.vm.VirtualMachine'>\nVirtualMachine: server: <UID: 35a9c640fb1c4f04844cdd4e93521147>\nserver Client\n<class 'syft.core.node.vm.client.VirtualMachineClient'>\n"
        }
      ],
      "execution_count": 3,
      "metadata": {
        "jupyter": {
          "source_hidden": false,
          "outputs_hidden": false
        },
        "nteract": {
          "transient": {
            "deleting": false
          }
        },
        "gather": {
          "logged": 1631177251022
        }
      }
    },
    {
      "cell_type": "markdown",
      "source": [
        "### Check out the remote modules"
      ],
      "metadata": {
        "nteract": {
          "transient": {
            "deleting": false
          }
        }
      }
    },
    {
      "cell_type": "code",
      "source": [
        "remote_pd = client.pandas\n",
        "remote_torch = client.torch\n",
        "remote_np = client.numpy\n",
        "remote_vision = client.torchvision"
      ],
      "outputs": [],
      "execution_count": 6,
      "metadata": {
        "jupyter": {
          "source_hidden": false,
          "outputs_hidden": false
        },
        "nteract": {
          "transient": {
            "deleting": false
          }
        },
        "gather": {
          "logged": 1631173337582
        }
      }
    },
    {
      "cell_type": "code",
      "source": [
        "print(type(remote_pd))\n",
        "remote_pd"
      ],
      "outputs": [
        {
          "output_type": "stream",
          "name": "stdout",
          "text": "<class 'syft.ast.module.Module'>\n"
        },
        {
          "output_type": "execute_result",
          "execution_count": 7,
          "data": {
            "text/plain": "Module:\n\t.DataFrame -> <syft.ast.klass.Class object at 0x7f903f413700>\n\t.Series -> <syft.ast.klass.Class object at 0x7f903f413760>\n\t.CategoricalDtype -> <syft.ast.klass.Class object at 0x7f903f4137c0>\n\t.Categorical -> <syft.ast.klass.Class object at 0x7f903f413820>\n\t.json_normalize -> <syft.ast.callable.Callable object at 0x7f903f4138e0>"
          },
          "metadata": {}
        }
      ],
      "execution_count": 7,
      "metadata": {
        "jupyter": {
          "source_hidden": false,
          "outputs_hidden": false
        },
        "nteract": {
          "transient": {
            "deleting": false
          }
        },
        "gather": {
          "logged": 1631173341018
        }
      }
    },
    {
      "cell_type": "code",
      "source": [
        "remote_np"
      ],
      "outputs": [
        {
          "output_type": "execute_result",
          "execution_count": 8,
          "data": {
            "text/plain": "Module:\n\t.ndarray -> <syft.ast.klass.Class object at 0x7f903f411520>"
          },
          "metadata": {}
        }
      ],
      "execution_count": 8,
      "metadata": {
        "jupyter": {
          "source_hidden": false,
          "outputs_hidden": false
        },
        "nteract": {
          "transient": {
            "deleting": false
          }
        },
        "gather": {
          "logged": 1631173344305
        }
      }
    },
    {
      "cell_type": "code",
      "source": [
        "remote_vision"
      ],
      "outputs": [
        {
          "output_type": "execute_result",
          "execution_count": 9,
          "data": {
            "text/plain": "Module:\n\t.__version__ -> <syft.ast.static_attr.StaticAttribute object at 0x7f903f535e20>\n\t.transforms -> Module:\n\t\t.Compose -> <syft.ast.klass.Class object at 0x7f903f535ee0>\n\t\t.ToTensor -> <syft.ast.klass.Class object at 0x7f903f535f40>\n\t\t.Normalize -> <syft.ast.klass.Class object at 0x7f903f3e8040>\n\t\t.CenterCrop -> <syft.ast.klass.Class object at 0x7f903f3f1400>\n\t\t.ColorJitter -> <syft.ast.klass.Class object at 0x7f903f3f14c0>\n\t\t.FiveCrop -> <syft.ast.klass.Class object at 0x7f903f3f1520>\n\t\t.Grayscale -> <syft.ast.klass.Class object at 0x7f903f3f15e0>\n\t\t.Pad -> <syft.ast.klass.Class object at 0x7f903f3f1640>\n\t\t.RandomAffine -> <syft.ast.klass.Class object at 0x7f903f3f1700>\n\t\t.RandomApply -> <syft.ast.klass.Class object at 0x7f903f3f17c0>\n\t\t.RandomCrop -> <syft.ast.klass.Class object at 0x7f903f3f1880>\n\t\t.RandomGrayscale -> <syft.ast.klass.Class object at 0x7f903f3f1940>\n\t\t.RandomHorizontalFlip -> <syft.ast.klass.Class object at 0x7f903f3f1a00>\n\t\t.RandomPerspective -> <syft.ast.klass.Class object at 0x7f903f3f1ac0>\n\t\t.RandomResizedCrop -> <syft.ast.klass.Class object at 0x7f903f3f1b80>\n\t\t.RandomRotation -> <syft.ast.klass.Class object at 0x7f903f3f1c40>\n\t\t.RandomSizedCrop -> <syft.ast.klass.Class object at 0x7f903f3f1d00>\n\t\t.RandomVerticalFlip -> <syft.ast.klass.Class object at 0x7f903f3f1dc0>\n\t\t.Resize -> <syft.ast.klass.Class object at 0x7f903f3f1e20>\n\t\t.Scale -> <syft.ast.klass.Class object at 0x7f903f3f1e80>\n\t\t.TenCrop -> <syft.ast.klass.Class object at 0x7f903f3f1ee0>\n\t\t.GaussianBlur -> <syft.ast.klass.Class object at 0x7f903f3f1fa0>\n\t\t.RandomChoice -> <syft.ast.klass.Class object at 0x7f903f3f40a0>\n\t\t.RandomOrder -> <syft.ast.klass.Class object at 0x7f903f3f4160>\n\t\t.LinearTransformation -> <syft.ast.klass.Class object at 0x7f903f3f4220>\n\t\t.RandomErasing -> <syft.ast.klass.Class object at 0x7f903f3f42e0>\n\t\t.ConvertImageDtype -> <syft.ast.klass.Class object at 0x7f903f3f43a0>\n\t\t.ToPILImage -> <syft.ast.klass.Class object at 0x7f903f3f4460>\n\t\t.Lambda -> <syft.ast.klass.Class object at 0x7f903f3f44c0>\n\t\t.functional -> Module:\n\t\t\t.adjust_brightness -> <syft.ast.callable.Callable object at 0x7f903f3f45e0>\n\t\t\t.adjust_contrast -> <syft.ast.callable.Callable object at 0x7f903f3f4640>\n\t\t\t.adjust_gamma -> <syft.ast.callable.Callable object at 0x7f903f3f4700>\n\t\t\t.adjust_hue -> <syft.ast.callable.Callable object at 0x7f903f3f47c0>\n\t\t\t.adjust_saturation -> <syft.ast.callable.Callable object at 0x7f903f3f4820>\n\t\t\t.adjust_sharpness -> <syft.ast.callable.Callable object at 0x7f903f3f4880>\n\t\t\t.affine -> <syft.ast.callable.Callable object at 0x7f903f3f4940>\n\t\t\t.autocontrast -> <syft.ast.callable.Callable object at 0x7f903f3f4a00>\n\t\t\t.center_crop -> <syft.ast.callable.Callable object at 0x7f903f3f4ac0>\n\t\t\t.convert_image_dtype -> <syft.ast.callable.Callable object at 0x7f903f3f4b20>\n\t\t\t.crop -> <syft.ast.callable.Callable object at 0x7f903f3f4be0>\n\t\t\t.equalize -> <syft.ast.callable.Callable object at 0x7f903f3f4ca0>\n\t\t\t.erase -> <syft.ast.callable.Callable object at 0x7f903f3f4d60>\n\t\t\t.five_crop -> <syft.ast.callable.Callable object at 0x7f903f3f4e20>\n\t\t\t.gaussian_blur -> <syft.ast.callable.Callable object at 0x7f903f3f4ee0>\n\t\t\t.hflip -> <syft.ast.callable.Callable object at 0x7f903f3f4fa0>\n\t\t\t.invert -> <syft.ast.callable.Callable object at 0x7f903f3f70a0>\n\t\t\t.normalize -> <syft.ast.callable.Callable object at 0x7f903f3f7160>\n\t\t\t.pad -> <syft.ast.callable.Callable object at 0x7f903f3f7220>\n\t\t\t.perspective -> <syft.ast.callable.Callable object at 0x7f903f3f72e0>\n\t\t\t.pil_to_tensor -> <syft.ast.callable.Callable object at 0x7f903f3f73a0>\n\t\t\t.posterize -> <syft.ast.callable.Callable object at 0x7f903f3f7460>\n\t\t\t.resize -> <syft.ast.callable.Callable object at 0x7f903f3f7520>\n\t\t\t.resized_crop -> <syft.ast.callable.Callable object at 0x7f903f3f75e0>\n\t\t\t.rgb_to_grayscale -> <syft.ast.callable.Callable object at 0x7f903f3f7640>\n\t\t\t.rotate -> <syft.ast.callable.Callable object at 0x7f903f3f7700>\n\t\t\t.solarize -> <syft.ast.callable.Callable object at 0x7f903f3f77c0>\n\t\t\t.ten_crop -> <syft.ast.callable.Callable object at 0x7f903f3f7880>\n\t\t\t.to_grayscale -> <syft.ast.callable.Callable object at 0x7f903f3f7940>\n\t\t\t.to_pil_image -> <syft.ast.callable.Callable object at 0x7f903f3f7a00>\n\t\t\t.to_tensor -> <syft.ast.callable.Callable object at 0x7f903f3f7ac0>\n\t\t\t.vflip -> <syft.ast.callable.Callable object at 0x7f903f3f7b80>\n\n\n\t.datasets -> Module:\n\t\t.MNIST -> <syft.ast.klass.Class object at 0x7f903f3e8100>\n\t\t.CelebA -> <syft.ast.klass.Class object at 0x7f903f3e8220>\n\t\t.CIFAR10 -> <syft.ast.klass.Class object at 0x7f903f3e8340>\n\t\t.CIFAR100 -> <syft.ast.klass.Class object at 0x7f903f3e8460>\n\t\t.Cityscapes -> <syft.ast.klass.Class object at 0x7f903f3e84c0>\n\t\t.CocoCaptions -> <syft.ast.klass.Class object at 0x7f903f3e8640>\n\t\t.CocoDetection -> <syft.ast.klass.Class object at 0x7f903f3e87c0>\n\t\t.EMNIST -> <syft.ast.klass.Class object at 0x7f903f3e88e0>\n\t\t.FakeData -> <syft.ast.klass.Class object at 0x7f903f3e8a00>\n\t\t.FashionMNIST -> <syft.ast.klass.Class object at 0x7f903f3e8b80>\n\t\t.Flickr8k -> <syft.ast.klass.Class object at 0x7f903f3e8ca0>\n\t\t.Flickr30k -> <syft.ast.klass.Class object at 0x7f903f3e8dc0>\n\t\t.HMDB51 -> <syft.ast.klass.Class object at 0x7f903f3e8ee0>\n\t\t.ImageNet -> <syft.ast.klass.Class object at 0x7f903f3ec040>\n\t\t.Kinetics400 -> <syft.ast.klass.Class object at 0x7f903f3ec1c0>\n\t\t.KMNIST -> <syft.ast.klass.Class object at 0x7f903f3ec2e0>\n\t\t.LSUN -> <syft.ast.klass.Class object at 0x7f903f3ec400>\n\t\t.Omniglot -> <syft.ast.klass.Class object at 0x7f903f3ec520>\n\t\t.PhotoTour -> <syft.ast.klass.Class object at 0x7f903f3ec640>\n\t\t.Places365 -> <syft.ast.klass.Class object at 0x7f903f3ec760>\n\t\t.QMNIST -> <syft.ast.klass.Class object at 0x7f903f3ec880>\n\t\t.SBDataset -> <syft.ast.klass.Class object at 0x7f903f3ec9a0>\n\t\t.SBU -> <syft.ast.klass.Class object at 0x7f903f3ecac0>\n\t\t.STL10 -> <syft.ast.klass.Class object at 0x7f903f3ecbe0>\n\t\t.SVHN -> <syft.ast.klass.Class object at 0x7f903f3ecd00>\n\t\t.UCF101 -> <syft.ast.klass.Class object at 0x7f903f3ece20>\n\t\t.USPS -> <syft.ast.klass.Class object at 0x7f903f3ecf40>\n\t\t.VOCSegmentation -> <syft.ast.klass.Class object at 0x7f903f3f1100>\n\t\t.VOCDetection -> <syft.ast.klass.Class object at 0x7f903f3f1280>\n"
          },
          "metadata": {}
        }
      ],
      "execution_count": 9,
      "metadata": {
        "jupyter": {
          "source_hidden": false,
          "outputs_hidden": true
        },
        "nteract": {
          "transient": {
            "deleting": false
          }
        },
        "gather": {
          "logged": 1631173346630
        }
      }
    },
    {
      "cell_type": "code",
      "source": [
        "remote_torch"
      ],
      "outputs": [
        {
          "output_type": "execute_result",
          "execution_count": 10,
          "data": {
            "text/plain": "Module:\n\t.Tensor -> <syft.ast.klass.Class object at 0x7f903f6c5a60>\n\t.BFloat16Tensor -> <syft.ast.klass.Class object at 0x7f903f6c5ac0>\n\t.BoolTensor -> <syft.ast.klass.Class object at 0x7f903f6c5b20>\n\t.ByteTensor -> <syft.ast.klass.Class object at 0x7f903f6c5b80>\n\t.CharTensor -> <syft.ast.klass.Class object at 0x7f903f6c5be0>\n\t.DoubleTensor -> <syft.ast.klass.Class object at 0x7f903f6c5c40>\n\t.FloatTensor -> <syft.ast.klass.Class object at 0x7f903f6c5ca0>\n\t.HalfTensor -> <syft.ast.klass.Class object at 0x7f903f6c5d00>\n\t.IntTensor -> <syft.ast.klass.Class object at 0x7f903f6c5d60>\n\t.LongTensor -> <syft.ast.klass.Class object at 0x7f903f6c5dc0>\n\t.ShortTensor -> <syft.ast.klass.Class object at 0x7f903f6c5e20>\n\t.nn -> Module:\n\t\t.Parameter -> <syft.ast.klass.Class object at 0x7f903f6c5f40>\n\t\t.Module -> <syft.ast.klass.Class object at 0x7f903f616280>\n\t\t.Conv2d -> <syft.ast.klass.Class object at 0x7f903f616760>\n\t\t.Dropout2d -> <syft.ast.klass.Class object at 0x7f903f616b80>\n\t\t.Linear -> <syft.ast.klass.Class object at 0x7f903f616ee0>\n\t\t.functional -> Module:\n\t\t\t.relu -> <syft.ast.callable.Callable object at 0x7f903f61c820>\n\t\t\t.gelu -> <syft.ast.callable.Callable object at 0x7f903f61c880>\n\t\t\t.max_pool2d -> <syft.ast.callable.Callable object at 0x7f903f61c8e0>\n\t\t\t.log_softmax -> <syft.ast.callable.Callable object at 0x7f903f61c940>\n\t\t\t.cosine_embedding_loss -> <syft.ast.callable.Callable object at 0x7f903f625700>\n\t\t\t.ctc_loss -> <syft.ast.callable.Callable object at 0x7f903f625760>\n\t\t\t.hinge_embedding_loss -> <syft.ast.callable.Callable object at 0x7f903f625820>\n\t\t\t.l1_loss -> <syft.ast.callable.Callable object at 0x7f903f625880>\n\t\t\t.margin_ranking_loss -> <syft.ast.callable.Callable object at 0x7f903f625940>\n\t\t\t.mse_loss -> <syft.ast.callable.Callable object at 0x7f903f6259a0>\n\t\t\t.multi_margin_loss -> <syft.ast.callable.Callable object at 0x7f903f625a60>\n\t\t\t.multilabel_margin_loss -> <syft.ast.callable.Callable object at 0x7f903f625b20>\n\t\t\t.multilabel_soft_margin_loss -> <syft.ast.callable.Callable object at 0x7f903f625be0>\n\t\t\t.nll_loss -> <syft.ast.callable.Callable object at 0x7f903f625c40>\n\t\t\t.cross_entropy -> <syft.ast.callable.Callable object at 0x7f903f625d00>\n\t\t\t.poisson_nll_loss -> <syft.ast.callable.Callable object at 0x7f903f625dc0>\n\t\t\t.smooth_l1_loss -> <syft.ast.callable.Callable object at 0x7f903f625e80>\n\t\t\t.soft_margin_loss -> <syft.ast.callable.Callable object at 0x7f903f625f40>\n\t\t\t.triplet_margin_loss -> <syft.ast.callable.Callable object at 0x7f903f5a8040>\n\n\t\t.Sequential -> <syft.ast.klass.Class object at 0x7f903f625340>\n\t\t.AdaptiveLogSoftmaxWithLoss -> <syft.ast.klass.Class object at 0x7f903f5a8100>\n\t\t.BCELoss -> <syft.ast.klass.Class object at 0x7f903f5a8280>\n\t\t.BCEWithLogitsLoss -> <syft.ast.klass.Class object at 0x7f903f5a8340>\n\t\t.CTCLoss -> <syft.ast.klass.Class object at 0x7f903f5a8460>\n\t\t.CrossEntropyLoss -> <syft.ast.klass.Class object at 0x7f903f5a8520>\n\t\t.CosineEmbeddingLoss -> <syft.ast.klass.Class object at 0x7f903f5a8640>\n\t\t.HingeEmbeddingLoss -> <syft.ast.klass.Class object at 0x7f903f5a8760>\n\t\t.KLDivLoss -> <syft.ast.klass.Class object at 0x7f903f5a8880>\n\t\t.L1Loss -> <syft.ast.klass.Class object at 0x7f903f5a8940>\n\t\t.MSELoss -> <syft.ast.klass.Class object at 0x7f903f5a8a00>\n\t\t.MarginRankingLoss -> <syft.ast.klass.Class object at 0x7f903f5a8ac0>\n\t\t.MultiLabelMarginLoss -> <syft.ast.klass.Class object at 0x7f903f5a8be0>\n\t\t.MultiLabelSoftMarginLoss -> <syft.ast.klass.Class object at 0x7f903f5a8d60>\n\t\t.MultiMarginLoss -> <syft.ast.klass.Class object at 0x7f903f5a8e80>\n\t\t.NLLLoss -> <syft.ast.klass.Class object at 0x7f903f5a8fa0>\n\t\t.NLLLoss2d -> <syft.ast.klass.Class object at 0x7f903f5ad0a0>\n\t\t.PoissonNLLLoss -> <syft.ast.klass.Class object at 0x7f903f5ad160>\n\t\t.SmoothL1Loss -> <syft.ast.klass.Class object at 0x7f903f5ad280>\n\t\t.SoftMarginLoss -> <syft.ast.klass.Class object at 0x7f903f5ad340>\n\t\t.TripletMarginLoss -> <syft.ast.klass.Class object at 0x7f903f5ad460>\n\t\t.AdaptiveAvgPool1d -> <syft.ast.klass.Class object at 0x7f903f5ad580>\n\t\t.AdaptiveAvgPool2d -> <syft.ast.klass.Class object at 0x7f903f5adbe0>\n\t\t.AdaptiveAvgPool3d -> <syft.ast.klass.Class object at 0x7f903f5b1280>\n\t\t.AdaptiveMaxPool1d -> <syft.ast.klass.Class object at 0x7f903f5b18e0>\n\t\t.AdaptiveMaxPool2d -> <syft.ast.klass.Class object at 0x7f903f5b1f40>\n\t\t.AdaptiveMaxPool3d -> <syft.ast.klass.Class object at 0x7f903f5b35e0>\n\t\t.AlphaDropout -> <syft.ast.klass.Class object at 0x7f903f5b3c40>\n\t\t.AvgPool1d -> <syft.ast.klass.Class object at 0x7f903f5b7220>\n\t\t.AvgPool2d -> <syft.ast.klass.Class object at 0x7f903f5b76a0>\n\t\t.AvgPool3d -> <syft.ast.klass.Class object at 0x7f903f5b7b20>\n\t\t.BatchNorm1d -> <syft.ast.klass.Class object at 0x7f903f5b7fa0>\n\t\t.BatchNorm2d -> <syft.ast.klass.Class object at 0x7f903f5bb460>\n\t\t.BatchNorm3d -> <syft.ast.klass.Class object at 0x7f903f5bb8e0>\n\t\t.Bilinear -> <syft.ast.klass.Class object at 0x7f903f5bbd60>\n\t\t.CELU -> <syft.ast.klass.Class object at 0x7f903f5bf220>\n\t\t.ConstantPad1d -> <syft.ast.klass.Class object at 0x7f903f5bf640>\n\t\t.ConstantPad2d -> <syft.ast.klass.Class object at 0x7f903f5bfbe0>\n\t\t.ConstantPad3d -> <syft.ast.klass.Class object at 0x7f903f5c21c0>\n\t\t.Container -> <syft.ast.klass.Class object at 0x7f903f5c2760>\n\t\t.Conv1d -> <syft.ast.klass.Class object at 0x7f903f5c2be0>\n\t\t.Conv3d -> <syft.ast.klass.Class object at 0x7f903f5c7040>\n\t\t.ConvTranspose1d -> <syft.ast.klass.Class object at 0x7f903f5c7460>\n\t\t.ConvTranspose2d -> <syft.ast.klass.Class object at 0x7f903f5c7a60>\n\t\t.ConvTranspose3d -> <syft.ast.klass.Class object at 0x7f903f5c90a0>\n\t\t.CosineSimilarity -> <syft.ast.klass.Class object at 0x7f903f5c96a0>\n\t\t.CrossMapLRN2d -> <syft.ast.klass.Class object at 0x7f903f5c9ca0>\n\t\t.DataParallel -> <syft.ast.klass.Class object at 0x7f903f5ce280>\n\t\t.Dropout -> <syft.ast.klass.Class object at 0x7f903f5ce820>\n\t\t.Dropout3d -> <syft.ast.klass.Class object at 0x7f903f5cedc0>\n\t\t.ELU -> <syft.ast.klass.Class object at 0x7f903f5d1280>\n\t\t.Embedding -> <syft.ast.klass.Class object at 0x7f903f5d1640>\n\t\t.EmbeddingBag -> <syft.ast.klass.Class object at 0x7f903f5d1ac0>\n\t\t.FeatureAlphaDropout -> <syft.ast.klass.Class object at 0x7f903f5d50a0>\n\t\t.Flatten -> <syft.ast.klass.Class object at 0x7f903f5d57c0>\n\t\t.Fold -> <syft.ast.klass.Class object at 0x7f903f5d5c40>\n\t\t.FractionalMaxPool2d -> <syft.ast.klass.Class object at 0x7f903f5d90a0>\n\t\t.FractionalMaxPool3d -> <syft.ast.klass.Class object at 0x7f903f5d97c0>\n\t\t.GELU -> <syft.ast.klass.Class object at 0x7f903f5d9ee0>\n\t\t.GLU -> <syft.ast.klass.Class object at 0x7f903f5db340>\n\t\t.GRU -> <syft.ast.klass.Class object at 0x7f903f5db700>\n\t\t.GRUCell -> <syft.ast.klass.Class object at 0x7f903f5dbac0>\n\t\t.GroupNorm -> <syft.ast.klass.Class object at 0x7f903f5dbf40>\n\t\t.Hardshrink -> <syft.ast.klass.Class object at 0x7f903f5df400>\n\t\t.Hardsigmoid -> <syft.ast.klass.Class object at 0x7f903f5df880>\n\t\t.Hardswish -> <syft.ast.klass.Class object at 0x7f903f5dfc40>\n\t\t.Hardtanh -> <syft.ast.klass.Class object at 0x7f903f5e5040>\n\t\t.Identity -> <syft.ast.klass.Class object at 0x7f903f5e54c0>\n\t\t.InstanceNorm1d -> <syft.ast.klass.Class object at 0x7f903f5e5940>\n\t\t.InstanceNorm2d -> <syft.ast.klass.Class object at 0x7f903f5e5f40>\n\t\t.InstanceNorm3d -> <syft.ast.klass.Class object at 0x7f903f568580>\n\t\t.LPPool1d -> <syft.ast.klass.Class object at 0x7f903f568b80>\n\t\t.LPPool2d -> <syft.ast.klass.Class object at 0x7f903f56c040>\n\t\t.LSTM -> <syft.ast.klass.Class object at 0x7f903f56c4c0>\n\t\t.LSTMCell -> <syft.ast.klass.Class object at 0x7f903f56c8e0>\n\t\t.LayerNorm -> <syft.ast.klass.Class object at 0x7f903f56cd60>\n\t\t.LeakyReLU -> <syft.ast.klass.Class object at 0x7f903f570220>\n\t\t.LocalResponseNorm -> <syft.ast.klass.Class object at 0x7f903f5706a0>\n\t\t.LogSigmoid -> <syft.ast.klass.Class object at 0x7f903f570d00>\n\t\t.LogSoftmax -> <syft.ast.klass.Class object at 0x7f903f5741c0>\n\t\t.MaxPool1d -> <syft.ast.klass.Class object at 0x7f903f574640>\n\t\t.MaxPool2d -> <syft.ast.klass.Class object at 0x7f903f574ac0>\n\t\t.MaxPool3d -> <syft.ast.klass.Class object at 0x7f903f574f40>\n\t\t.MaxUnpool1d -> <syft.ast.klass.Class object at 0x7f903f579400>\n\t\t.MaxUnpool2d -> <syft.ast.klass.Class object at 0x7f903f579880>\n\t\t.MaxUnpool3d -> <syft.ast.klass.Class object at 0x7f903f579d00>\n\t\t.ModuleDict -> <syft.ast.klass.Class object at 0x7f903f57b1c0>\n\t\t.ModuleList -> <syft.ast.klass.Class object at 0x7f903f57b640>\n\t\t.MultiheadAttention -> <syft.ast.klass.Class object at 0x7f903f57bb80>\n\t\t.PReLU -> <syft.ast.klass.Class object at 0x7f903f57f280>\n\t\t.PairwiseDistance -> <syft.ast.klass.Class object at 0x7f903f57f6a0>\n\t\t.PixelShuffle -> <syft.ast.klass.Class object at 0x7f903f57fca0>\n\t\t.RNN -> <syft.ast.klass.Class object at 0x7f903f583280>\n\t\t.RNNBase -> <syft.ast.klass.Class object at 0x7f903f583640>\n\t\t.RNNCell -> <syft.ast.klass.Class object at 0x7f903f583ac0>\n\t\t.RNNCellBase -> <syft.ast.klass.Class object at 0x7f903f583f40>\n\t\t.RReLU -> <syft.ast.klass.Class object at 0x7f903f588400>\n\t\t.ReLU -> <syft.ast.klass.Class object at 0x7f903f588820>\n\t\t.ReLU6 -> <syft.ast.klass.Class object at 0x7f903f588c40>\n\t\t.ReflectionPad1d -> <syft.ast.klass.Class object at 0x7f903f58c0a0>\n\t\t.ReflectionPad2d -> <syft.ast.klass.Class object at 0x7f903f58c6a0>\n\t\t.ReplicationPad1d -> <syft.ast.klass.Class object at 0x7f903f58cca0>\n\t\t.ReplicationPad2d -> <syft.ast.klass.Class object at 0x7f903f58f2e0>\n\t\t.ReplicationPad3d -> <syft.ast.klass.Class object at 0x7f903f58f8e0>\n\t\t.SELU -> <syft.ast.klass.Class object at 0x7f903f58fee0>\n\t\t.Sigmoid -> <syft.ast.klass.Class object at 0x7f903f5914c0>\n\t\t.Softmax -> <syft.ast.klass.Class object at 0x7f903f591940>\n\t\t.Softmax2d -> <syft.ast.klass.Class object at 0x7f903f591dc0>\n\t\t.Softmin -> <syft.ast.klass.Class object at 0x7f903f596280>\n\t\t.Softplus -> <syft.ast.klass.Class object at 0x7f903f596700>\n\t\t.Softshrink -> <syft.ast.klass.Class object at 0x7f903f596b80>\n\t\t.Softsign -> <syft.ast.klass.Class object at 0x7f903f59b040>\n\t\t.SyncBatchNorm -> <syft.ast.klass.Class object at 0x7f903f59b4c0>\n\t\t.Tanh -> <syft.ast.klass.Class object at 0x7f903f59ba60>\n\t\t.Tanhshrink -> <syft.ast.klass.Class object at 0x7f903f59be80>\n\t\t.Threshold -> <syft.ast.klass.Class object at 0x7f903f59e340>\n\t\t.Transformer -> <syft.ast.klass.Class object at 0x7f903f59e7c0>\n\t\t.TransformerDecoder -> <syft.ast.klass.Class object at 0x7f903f59ec40>\n\t\t.TransformerDecoderLayer -> <syft.ast.klass.Class object at 0x7f903f5a23a0>\n\t\t.TransformerEncoder -> <syft.ast.klass.Class object at 0x7f903f5a2a00>\n\t\t.TransformerEncoderLayer -> <syft.ast.klass.Class object at 0x7f903f526160>\n\t\t.Unfold -> <syft.ast.klass.Class object at 0x7f903f5267c0>\n\t\t.Upsample -> <syft.ast.klass.Class object at 0x7f903f526be0>\n\t\t.UpsamplingBilinear2d -> <syft.ast.klass.Class object at 0x7f903f5290a0>\n\t\t.UpsamplingNearest2d -> <syft.ast.klass.Class object at 0x7f903f529760>\n\t\t.ZeroPad2d -> <syft.ast.klass.Class object at 0x7f903f529e80>\n\n\t.return_types -> Module:\n\t\t.cummax -> <syft.ast.klass.Class object at 0x7f903f695ca0>\n\t\t.cummin -> <syft.ast.klass.Class object at 0x7f903f695d00>\n\t\t.eig -> <syft.ast.klass.Class object at 0x7f903f695d60>\n\t\t.kthvalue -> <syft.ast.klass.Class object at 0x7f903f695dc0>\n\t\t.lstsq -> <syft.ast.klass.Class object at 0x7f903f695e20>\n\t\t.slogdet -> <syft.ast.klass.Class object at 0x7f903f695e80>\n\t\t.qr -> <syft.ast.klass.Class object at 0x7f903f695ee0>\n\t\t.mode -> <syft.ast.klass.Class object at 0x7f903f695f40>\n\t\t.solve -> <syft.ast.klass.Class object at 0x7f903f695fa0>\n\t\t.sort -> <syft.ast.klass.Class object at 0x7f903f69a040>\n\t\t.symeig -> <syft.ast.klass.Class object at 0x7f903f69a0a0>\n\t\t.topk -> <syft.ast.klass.Class object at 0x7f903f69a100>\n\t\t.triangular_solve -> <syft.ast.klass.Class object at 0x7f903f69a1c0>\n\t\t.svd -> <syft.ast.klass.Class object at 0x7f903f69a220>\n\t\t.geqrf -> <syft.ast.klass.Class object at 0x7f903f69a280>\n\t\t.median -> <syft.ast.klass.Class object at 0x7f903f69a2e0>\n\t\t.max -> <syft.ast.klass.Class object at 0x7f903f69a340>\n\t\t.min -> <syft.ast.klass.Class object at 0x7f903f69a3a0>\n\n\t.Size -> <syft.ast.klass.Class object at 0x7f903f5f42e0>\n\t.set_grad_enabled -> <syft.ast.klass.Class object at 0x7f903f5f45e0>\n\t.zeros -> <syft.ast.callable.Callable object at 0x7f903f5f4640>\n\t.randn -> <syft.ast.callable.Callable object at 0x7f903f5f46a0>\n\t.ones_like -> <syft.ast.callable.Callable object at 0x7f903f5f4700>\n\t.arange -> <syft.ast.callable.Callable object at 0x7f903f5f4820>\n\t.abs_ -> <syft.ast.callable.Callable object at 0x7f903f5f4880>\n\t.abs -> <syft.ast.callable.Callable object at 0x7f903f5f48e0>\n\t.acos_ -> <syft.ast.callable.Callable object at 0x7f903f5f4940>\n\t.acos -> <syft.ast.callable.Callable object at 0x7f903f5f49a0>\n\t.add -> <syft.ast.callable.Callable object at 0x7f903f5f4a00>\n\t.addbmm -> <syft.ast.callable.Callable object at 0x7f903f5f4a60>\n\t.addcdiv -> <syft.ast.callable.Callable object at 0x7f903f5f4ac0>\n\t.addcmul -> <syft.ast.callable.Callable object at 0x7f903f5f4b20>\n\t.addmm -> <syft.ast.callable.Callable object at 0x7f903f5f4b80>\n\t.addmv_ -> <syft.ast.callable.Callable object at 0x7f903f5f4be0>\n\t.addmv -> <syft.ast.callable.Callable object at 0x7f903f5f4c40>\n\t.addr -> <syft.ast.callable.Callable object at 0x7f903f5f4ca0>\n\t.all -> <syft.ast.callable.Callable object at 0x7f903f5f4d00>\n\t.allclose -> <syft.ast.callable.Callable object at 0x7f903f5f4d60>\n\t.angle -> <syft.ast.callable.Callable object at 0x7f903f5f4dc0>\n\t.any -> <syft.ast.callable.Callable object at 0x7f903f5f4e20>\n\t.argmax -> <syft.ast.callable.Callable object at 0x7f903f5f4e80>\n\t.argmin -> <syft.ast.callable.Callable object at 0x7f903f5f4ee0>\n\t.argsort -> <syft.ast.callable.Callable object at 0x7f903f5f4f40>\n\t.as_strided_ -> <syft.ast.callable.Callable object at 0x7f903f5f4fa0>\n\t.as_strided -> <syft.ast.callable.Callable object at 0x7f903f5f7040>\n\t.asin_ -> <syft.ast.callable.Callable object at 0x7f903f5f70a0>\n\t.asin -> <syft.ast.callable.Callable object at 0x7f903f5f7100>\n\t.atan_ -> <syft.ast.callable.Callable object at 0x7f903f5f7160>\n\t.atan -> <syft.ast.callable.Callable object at 0x7f903f5f71c0>\n\t.atan2 -> <syft.ast.callable.Callable object at 0x7f903f5f7220>\n\t.baddbmm -> <syft.ast.callable.Callable object at 0x7f903f5f7280>\n\t.bernoulli -> <syft.ast.callable.Callable object at 0x7f903f5f72e0>\n\t.bitwise_and -> <syft.ast.callable.Callable object at 0x7f903f5f7340>\n\t.bitwise_not -> <syft.ast.callable.Callable object at 0x7f903f5f73a0>\n\t.bitwise_or -> <syft.ast.callable.Callable object at 0x7f903f5f7400>\n\t.bitwise_xor -> <syft.ast.callable.Callable object at 0x7f903f5f7460>\n\t.bmm -> <syft.ast.callable.Callable object at 0x7f903f5f74c0>\n\t.cat -> <syft.ast.callable.Callable object at 0x7f903f5f7520>\n\t.ceil_ -> <syft.ast.callable.Callable object at 0x7f903f5f7580>\n\t.ceil -> <syft.ast.callable.Callable object at 0x7f903f5f75e0>\n\t.cholesky_inverse -> <syft.ast.callable.Callable object at 0x7f903f5f7640>\n\t.cholesky_solve -> <syft.ast.callable.Callable object at 0x7f903f5f76a0>\n\t.cholesky -> <syft.ast.callable.Callable object at 0x7f903f5f7700>\n\t.chunk -> <syft.ast.callable.Callable object at 0x7f903f5f7760>\n\t.clamp_ -> <syft.ast.callable.Callable object at 0x7f903f5f77c0>\n\t.clamp_max_ -> <syft.ast.callable.Callable object at 0x7f903f5f7820>\n\t.clamp_max -> <syft.ast.callable.Callable object at 0x7f903f5f7880>\n\t.clamp_min_ -> <syft.ast.callable.Callable object at 0x7f903f5f78e0>\n\t.clamp_min -> <syft.ast.callable.Callable object at 0x7f903f5f7940>\n\t.clamp -> <syft.ast.callable.Callable object at 0x7f903f5f79a0>\n\t.clone -> <syft.ast.callable.Callable object at 0x7f903f5f7a00>\n\t.conj -> <syft.ast.callable.Callable object at 0x7f903f5f7a60>\n\t.cos_ -> <syft.ast.callable.Callable object at 0x7f903f5f7ac0>\n\t.cos -> <syft.ast.callable.Callable object at 0x7f903f5f7b20>\n\t.cosh_ -> <syft.ast.callable.Callable object at 0x7f903f5f7b80>\n\t.cosh -> <syft.ast.callable.Callable object at 0x7f903f5f7be0>\n\t.cross -> <syft.ast.callable.Callable object at 0x7f903f5f7c40>\n\t.cummax -> <syft.ast.callable.Callable object at 0x7f903f5f7ca0>\n\t.cummin -> <syft.ast.callable.Callable object at 0x7f903f5f7d00>\n\t.cumprod -> <syft.ast.callable.Callable object at 0x7f903f5f7d60>\n\t.cumsum -> <syft.ast.callable.Callable object at 0x7f903f5f7dc0>\n\t.dequantize -> <syft.ast.callable.Callable object at 0x7f903f5f7e20>\n\t.det -> <syft.ast.callable.Callable object at 0x7f903f5f7e80>\n\t.detach -> <syft.ast.callable.Callable object at 0x7f903f5f7ee0>\n\t.diag_embed -> <syft.ast.callable.Callable object at 0x7f903f5f7f40>\n\t.diag -> <syft.ast.callable.Callable object at 0x7f903f5f7fa0>\n\t.diagflat -> <syft.ast.callable.Callable object at 0x7f903f5fd040>\n\t.diagonal -> <syft.ast.callable.Callable object at 0x7f903f5fd0a0>\n\t.digamma -> <syft.ast.callable.Callable object at 0x7f903f5fd100>\n\t.dist -> <syft.ast.callable.Callable object at 0x7f903f5fd160>\n\t.div -> <syft.ast.callable.Callable object at 0x7f903f5fd1c0>\n\t.dot -> <syft.ast.callable.Callable object at 0x7f903f5fd220>\n\t.eig -> <syft.ast.callable.Callable object at 0x7f903f5fd280>\n\t.eq -> <syft.ast.callable.Callable object at 0x7f903f5fd2e0>\n\t.equal -> <syft.ast.callable.Callable object at 0x7f903f5fd340>\n\t.erf_ -> <syft.ast.callable.Callable object at 0x7f903f5fd3a0>\n\t.erf -> <syft.ast.callable.Callable object at 0x7f903f5fd400>\n\t.erfc_ -> <syft.ast.callable.Callable object at 0x7f903f5fd460>\n\t.erfc -> <syft.ast.callable.Callable object at 0x7f903f5fd4c0>\n\t.erfinv -> <syft.ast.callable.Callable object at 0x7f903f5fd520>\n\t.exp_ -> <syft.ast.callable.Callable object at 0x7f903f5fd580>\n\t.exp -> <syft.ast.callable.Callable object at 0x7f903f5fd5e0>\n\t.expm1_ -> <syft.ast.callable.Callable object at 0x7f903f5fd640>\n\t.expm1 -> <syft.ast.callable.Callable object at 0x7f903f5fd6a0>\n\t.fft -> Module:\n\n\t.fill_ -> <syft.ast.callable.Callable object at 0x7f903f5fd760>\n\t.flatten -> <syft.ast.callable.Callable object at 0x7f903f5fd7c0>\n\t.flip -> <syft.ast.callable.Callable object at 0x7f903f5fd820>\n\t.floor_ -> <syft.ast.callable.Callable object at 0x7f903f5fd880>\n\t.floor_divide -> <syft.ast.callable.Callable object at 0x7f903f5fd8e0>\n\t.floor -> <syft.ast.callable.Callable object at 0x7f903f5fd940>\n\t.fmod -> <syft.ast.callable.Callable object at 0x7f903f5fd9a0>\n\t.frac_ -> <syft.ast.callable.Callable object at 0x7f903f5fda00>\n\t.frac -> <syft.ast.callable.Callable object at 0x7f903f5fda60>\n\t.from_numpy -> <syft.ast.callable.Callable object at 0x7f903f5fdac0>\n\t.gather -> <syft.ast.callable.Callable object at 0x7f903f5fdb20>\n\t.ge -> <syft.ast.callable.Callable object at 0x7f903f5fdb80>\n\t.geqrf -> <syft.ast.callable.Callable object at 0x7f903f5fdbe0>\n\t.ger -> <syft.ast.callable.Callable object at 0x7f903f5fdc40>\n\t.get_device -> <syft.ast.callable.Callable object at 0x7f903f5fdca0>\n\t.gt -> <syft.ast.callable.Callable object at 0x7f903f5fdd00>\n\t.hardshrink -> <syft.ast.callable.Callable object at 0x7f903f5fdd60>\n\t.histc -> <syft.ast.callable.Callable object at 0x7f903f5fddc0>\n\t.index_add -> <syft.ast.callable.Callable object at 0x7f903f5fde20>\n\t.index_copy -> <syft.ast.callable.Callable object at 0x7f903f5fde80>\n\t.index_fill -> <syft.ast.callable.Callable object at 0x7f903f5fdee0>\n\t.index_put_ -> <syft.ast.callable.Callable object at 0x7f903f5fdf40>\n\t.index_put -> <syft.ast.callable.Callable object at 0x7f903f5fdfa0>\n\t.index_select -> <syft.ast.callable.Callable object at 0x7f903f600040>\n\t.int_repr -> <syft.ast.callable.Callable object at 0x7f903f6000a0>\n\t.inverse -> <syft.ast.callable.Callable object at 0x7f903f600100>\n\t.is_complex -> <syft.ast.callable.Callable object at 0x7f903f600160>\n\t.is_distributed -> <syft.ast.callable.Callable object at 0x7f903f6001c0>\n\t.is_floating_point -> <syft.ast.callable.Callable object at 0x7f903f600220>\n\t.is_nonzero -> <syft.ast.callable.Callable object at 0x7f903f600280>\n\t.is_same_size -> <syft.ast.callable.Callable object at 0x7f903f6002e0>\n\t.is_signed -> <syft.ast.callable.Callable object at 0x7f903f600340>\n\t.isclose -> <syft.ast.callable.Callable object at 0x7f903f6003a0>\n\t.kthvalue -> <syft.ast.callable.Callable object at 0x7f903f600400>\n\t.le -> <syft.ast.callable.Callable object at 0x7f903f600460>\n\t.lerp -> <syft.ast.callable.Callable object at 0x7f903f6004c0>\n\t.lgamma -> <syft.ast.callable.Callable object at 0x7f903f600520>\n\t.log_ -> <syft.ast.callable.Callable object at 0x7f903f600580>\n\t.log_softmax -> <syft.ast.callable.Callable object at 0x7f903f6005e0>\n\t.log -> <syft.ast.callable.Callable object at 0x7f903f600640>\n\t.log10_ -> <syft.ast.callable.Callable object at 0x7f903f6006a0>\n\t.log10 -> <syft.ast.callable.Callable object at 0x7f903f600700>\n\t.log1p_ -> <syft.ast.callable.Callable object at 0x7f903f600760>\n\t.log1p -> <syft.ast.callable.Callable object at 0x7f903f6007c0>\n\t.log2_ -> <syft.ast.callable.Callable object at 0x7f903f600820>\n\t.log2 -> <syft.ast.callable.Callable object at 0x7f903f600880>\n\t.logdet -> <syft.ast.callable.Callable object at 0x7f903f6008e0>\n\t.logical_and -> <syft.ast.callable.Callable object at 0x7f903f600940>\n\t.logical_not -> <syft.ast.callable.Callable object at 0x7f903f6009a0>\n\t.logical_or -> <syft.ast.callable.Callable object at 0x7f903f600a00>\n\t.logical_xor -> <syft.ast.callable.Callable object at 0x7f903f600a60>\n\t.logsumexp -> <syft.ast.callable.Callable object at 0x7f903f600ac0>\n\t.lstsq -> <syft.ast.callable.Callable object at 0x7f903f600b20>\n\t.lt -> <syft.ast.callable.Callable object at 0x7f903f600b80>\n\t.lu_solve -> <syft.ast.callable.Callable object at 0x7f903f600be0>\n\t.lu -> <syft.ast.callable.Callable object at 0x7f903f600c40>\n\t.masked_fill -> <syft.ast.callable.Callable object at 0x7f903f600ca0>\n\t.masked_scatter -> <syft.ast.callable.Callable object at 0x7f903f600d00>\n\t.masked_select -> <syft.ast.callable.Callable object at 0x7f903f600d60>\n\t.matmul -> <syft.ast.callable.Callable object at 0x7f903f600dc0>\n\t.matrix_power -> <syft.ast.callable.Callable object at 0x7f903f600e20>\n\t.mean -> <syft.ast.callable.Callable object at 0x7f903f600e80>\n\t.mm -> <syft.ast.callable.Callable object at 0x7f903f600ee0>\n\t.mode -> <syft.ast.callable.Callable object at 0x7f903f600f40>\n\t.mul -> <syft.ast.callable.Callable object at 0x7f903f600fa0>\n\t.multinomial -> <syft.ast.callable.Callable object at 0x7f903f604040>\n\t.mv -> <syft.ast.callable.Callable object at 0x7f903f6040a0>\n\t.mvlgamma -> <syft.ast.callable.Callable object at 0x7f903f604100>\n\t.narrow -> <syft.ast.callable.Callable object at 0x7f903f604160>\n\t.ne -> <syft.ast.callable.Callable object at 0x7f903f6041c0>\n\t.neg_ -> <syft.ast.callable.Callable object at 0x7f903f604220>\n\t.neg -> <syft.ast.callable.Callable object at 0x7f903f604280>\n\t.nonzero -> <syft.ast.callable.Callable object at 0x7f903f6042e0>\n\t.norm -> <syft.ast.callable.Callable object at 0x7f903f604340>\n\t.orgqr -> <syft.ast.callable.Callable object at 0x7f903f6043a0>\n\t.ormqr -> <syft.ast.callable.Callable object at 0x7f903f604400>\n\t.pinverse -> <syft.ast.callable.Callable object at 0x7f903f604460>\n\t.polygamma -> <syft.ast.callable.Callable object at 0x7f903f6044c0>\n\t.pow -> <syft.ast.callable.Callable object at 0x7f903f604520>\n\t.prelu -> <syft.ast.callable.Callable object at 0x7f903f604580>\n\t.q_per_channel_axis -> <syft.ast.callable.Callable object at 0x7f903f6045e0>\n\t.q_per_channel_scales -> <syft.ast.callable.Callable object at 0x7f903f604640>\n\t.q_per_channel_zero_points -> <syft.ast.callable.Callable object at 0x7f903f6046a0>\n\t.q_scale -> <syft.ast.callable.Callable object at 0x7f903f604700>\n\t.q_zero_point -> <syft.ast.callable.Callable object at 0x7f903f604760>\n\t.qr -> <syft.ast.callable.Callable object at 0x7f903f6047c0>\n\t.reciprocal_ -> <syft.ast.callable.Callable object at 0x7f903f604820>\n\t.reciprocal -> <syft.ast.callable.Callable object at 0x7f903f604880>\n\t.relu_ -> <syft.ast.callable.Callable object at 0x7f903f6048e0>\n\t.relu -> <syft.ast.callable.Callable object at 0x7f903f604940>\n\t.remainder -> <syft.ast.callable.Callable object at 0x7f903f6049a0>\n\t.renorm -> <syft.ast.callable.Callable object at 0x7f903f604a00>\n\t.repeat_interleave -> <syft.ast.callable.Callable object at 0x7f903f604a60>\n\t.reshape -> <syft.ast.callable.Callable object at 0x7f903f604ac0>\n\t.resize_as_ -> <syft.ast.callable.Callable object at 0x7f903f604b20>\n\t.roll -> <syft.ast.callable.Callable object at 0x7f903f604b80>\n\t.rot90 -> <syft.ast.callable.Callable object at 0x7f903f604be0>\n\t.round_ -> <syft.ast.callable.Callable object at 0x7f903f604c40>\n\t.round -> <syft.ast.callable.Callable object at 0x7f903f604ca0>\n\t.rsqrt_ -> <syft.ast.callable.Callable object at 0x7f903f604d00>\n\t.rsqrt -> <syft.ast.callable.Callable object at 0x7f903f604d60>\n\t.scatter_add -> <syft.ast.callable.Callable object at 0x7f903f604dc0>\n\t.scatter -> <syft.ast.callable.Callable object at 0x7f903f604e20>\n\t.select -> <syft.ast.callable.Callable object at 0x7f903f604e80>\n\t.sigmoid_ -> <syft.ast.callable.Callable object at 0x7f903f604ee0>\n\t.sigmoid -> <syft.ast.callable.Callable object at 0x7f903f604f40>\n\t.sign -> <syft.ast.callable.Callable object at 0x7f903f604fa0>\n\t.sin_ -> <syft.ast.callable.Callable object at 0x7f903f608040>\n\t.sin -> <syft.ast.callable.Callable object at 0x7f903f6080a0>\n\t.sinh_ -> <syft.ast.callable.Callable object at 0x7f903f608100>\n\t.sinh -> <syft.ast.callable.Callable object at 0x7f903f608160>\n\t.slogdet -> <syft.ast.callable.Callable object at 0x7f903f6081c0>\n\t.softmax -> <syft.ast.callable.Callable object at 0x7f903f608220>\n\t.solve -> <syft.ast.callable.Callable object at 0x7f903f608280>\n\t.sort -> <syft.ast.callable.Callable object at 0x7f903f6082e0>\n\t.split_with_sizes -> <syft.ast.callable.Callable object at 0x7f903f608340>\n\t.split -> <syft.ast.callable.Callable object at 0x7f903f6083a0>\n\t.sqrt_ -> <syft.ast.callable.Callable object at 0x7f903f608400>\n\t.sqrt -> <syft.ast.callable.Callable object at 0x7f903f608460>\n\t.square_ -> <syft.ast.callable.Callable object at 0x7f903f6084c0>\n\t.square -> <syft.ast.callable.Callable object at 0x7f903f608520>\n\t.squeeze -> <syft.ast.callable.Callable object at 0x7f903f608580>\n\t.stack -> <syft.ast.callable.Callable object at 0x7f903f6085e0>\n\t.std -> <syft.ast.callable.Callable object at 0x7f903f608640>\n\t.stft -> <syft.ast.callable.Callable object at 0x7f903f6086a0>\n\t.sub -> <syft.ast.callable.Callable object at 0x7f903f608700>\n\t.sum -> <syft.ast.callable.Callable object at 0x7f903f608760>\n\t.svd -> <syft.ast.callable.Callable object at 0x7f903f6087c0>\n\t.symeig -> <syft.ast.callable.Callable object at 0x7f903f608820>\n\t.t -> <syft.ast.callable.Callable object at 0x7f903f608880>\n\t.take -> <syft.ast.callable.Callable object at 0x7f903f6088e0>\n\t.tan_ -> <syft.ast.callable.Callable object at 0x7f903f608940>\n\t.tan -> <syft.ast.callable.Callable object at 0x7f903f6089a0>\n\t.tanh_ -> <syft.ast.callable.Callable object at 0x7f903f608a00>\n\t.tanh -> <syft.ast.callable.Callable object at 0x7f903f608a60>\n\t.topk -> <syft.ast.callable.Callable object at 0x7f903f608ac0>\n\t.trace -> <syft.ast.callable.Callable object at 0x7f903f608b20>\n\t.transpose -> <syft.ast.callable.Callable object at 0x7f903f608b80>\n\t.triangular_solve -> <syft.ast.callable.Callable object at 0x7f903f608be0>\n\t.tril -> <syft.ast.callable.Callable object at 0x7f903f608c40>\n\t.triu -> <syft.ast.callable.Callable object at 0x7f903f608ca0>\n\t.true_divide -> <syft.ast.callable.Callable object at 0x7f903f608d00>\n\t.trunc_ -> <syft.ast.callable.Callable object at 0x7f903f608d60>\n\t.trunc -> <syft.ast.callable.Callable object at 0x7f903f608dc0>\n\t.unique_consecutive -> <syft.ast.callable.Callable object at 0x7f903f608e20>\n\t.unique -> <syft.ast.callable.Callable object at 0x7f903f608e80>\n\t.unsqueeze -> <syft.ast.callable.Callable object at 0x7f903f608ee0>\n\t.var -> <syft.ast.callable.Callable object at 0x7f903f608f40>\n\t.unsafe_chunk -> <syft.ast.callable.Callable object at 0x7f903f608fa0>\n\t.absolute -> <syft.ast.callable.Callable object at 0x7f903f60d040>\n\t.acosh_ -> <syft.ast.callable.Callable object at 0x7f903f60d0a0>\n\t.acosh -> <syft.ast.callable.Callable object at 0x7f903f60d100>\n\t.asinh_ -> <syft.ast.callable.Callable object at 0x7f903f60d160>\n\t.asinh -> <syft.ast.callable.Callable object at 0x7f903f60d1c0>\n\t.atanh_ -> <syft.ast.callable.Callable object at 0x7f903f60d220>\n\t.atanh -> <syft.ast.callable.Callable object at 0x7f903f60d280>\n\t.deg2rad_ -> <syft.ast.callable.Callable object at 0x7f903f60d2e0>\n\t.deg2rad -> <syft.ast.callable.Callable object at 0x7f903f60d340>\n\t.fliplr -> <syft.ast.callable.Callable object at 0x7f903f60d3a0>\n\t.flipud -> <syft.ast.callable.Callable object at 0x7f903f60d400>\n\t.isfinite -> <syft.ast.callable.Callable object at 0x7f903f60d460>\n\t.isinf -> <syft.ast.callable.Callable object at 0x7f903f60d4c0>\n\t.isnan -> <syft.ast.callable.Callable object at 0x7f903f60d520>\n\t.logaddexp -> <syft.ast.callable.Callable object at 0x7f903f60d580>\n\t.logaddexp2 -> <syft.ast.callable.Callable object at 0x7f903f60d5e0>\n\t.logcumsumexp -> <syft.ast.callable.Callable object at 0x7f903f60d640>\n\t.rad2deg_ -> <syft.ast.callable.Callable object at 0x7f903f60d6a0>\n\t.rad2deg -> <syft.ast.callable.Callable object at 0x7f903f60d700>\n\t.istft -> <syft.ast.callable.Callable object at 0x7f903f60d760>\n\t.amax -> <syft.ast.callable.Callable object at 0x7f903f60d7c0>\n\t.amin -> <syft.ast.callable.Callable object at 0x7f903f60d820>\n\t.arccos -> <syft.ast.callable.Callable object at 0x7f903f60d880>\n\t.arccos_ -> <syft.ast.callable.Callable object at 0x7f903f60d8e0>\n\t.arccosh -> <syft.ast.callable.Callable object at 0x7f903f60d940>\n\t.arccosh_ -> <syft.ast.callable.Callable object at 0x7f903f60d9a0>\n\t.arcsin -> <syft.ast.callable.Callable object at 0x7f903f60da00>\n\t.arcsin_ -> <syft.ast.callable.Callable object at 0x7f903f60da60>\n\t.arcsinh -> <syft.ast.callable.Callable object at 0x7f903f60dac0>\n\t.arcsinh_ -> <syft.ast.callable.Callable object at 0x7f903f60db20>\n\t.arctan -> <syft.ast.callable.Callable object at 0x7f903f60db80>\n\t.arctan_ -> <syft.ast.callable.Callable object at 0x7f903f60dbe0>\n\t.arctanh -> <syft.ast.callable.Callable object at 0x7f903f60dc40>\n\t.arctanh_ -> <syft.ast.callable.Callable object at 0x7f903f60dca0>\n\t.clip -> <syft.ast.callable.Callable object at 0x7f903f60dd00>\n\t.clip_ -> <syft.ast.callable.Callable object at 0x7f903f60dd60>\n\t.count_nonzero -> <syft.ast.callable.Callable object at 0x7f903f60ddc0>\n\t.divide -> <syft.ast.callable.Callable object at 0x7f903f60de20>\n\t.exp2 -> <syft.ast.callable.Callable object at 0x7f903f60de80>\n\t.exp2_ -> <syft.ast.callable.Callable object at 0x7f903f60dee0>\n\t.fix -> <syft.ast.callable.Callable object at 0x7f903f60df40>\n\t.fix_ -> <syft.ast.callable.Callable object at 0x7f903f60dfa0>\n\t.gcd -> <syft.ast.callable.Callable object at 0x7f903f612040>\n\t.gcd_ -> <syft.ast.callable.Callable object at 0x7f903f6120a0>\n\t.greater -> <syft.ast.callable.Callable object at 0x7f903f612100>\n\t.greater_equal -> <syft.ast.callable.Callable object at 0x7f903f612160>\n\t.heaviside -> <syft.ast.callable.Callable object at 0x7f903f6121c0>\n\t.hypot -> <syft.ast.callable.Callable object at 0x7f903f612220>\n\t.i0 -> <syft.ast.callable.Callable object at 0x7f903f612280>\n\t.i0_ -> <syft.ast.callable.Callable object at 0x7f903f6122e0>\n\t.isneginf -> <syft.ast.callable.Callable object at 0x7f903f612340>\n\t.isposinf -> <syft.ast.callable.Callable object at 0x7f903f6123a0>\n\t.isreal -> <syft.ast.callable.Callable object at 0x7f903f612400>\n\t.lcm -> <syft.ast.callable.Callable object at 0x7f903f612460>\n\t.lcm_ -> <syft.ast.callable.Callable object at 0x7f903f6124c0>\n\t.less -> <syft.ast.callable.Callable object at 0x7f903f612520>\n\t.less_equal -> <syft.ast.callable.Callable object at 0x7f903f612580>\n\t.logit -> <syft.ast.callable.Callable object at 0x7f903f6125e0>\n\t.logit_ -> <syft.ast.callable.Callable object at 0x7f903f612640>\n\t.maximum -> <syft.ast.callable.Callable object at 0x7f903f6126a0>\n\t.minimum -> <syft.ast.callable.Callable object at 0x7f903f612700>\n\t.matrix_exp -> <syft.ast.callable.Callable object at 0x7f903f612760>\n\t.multiply -> <syft.ast.callable.Callable object at 0x7f903f6127c0>\n\t.nanquantile -> <syft.ast.callable.Callable object at 0x7f903f612820>\n\t.nansum -> <syft.ast.callable.Callable object at 0x7f903f612880>\n\t.negative -> <syft.ast.callable.Callable object at 0x7f903f6128e0>\n\t.negative_ -> <syft.ast.callable.Callable object at 0x7f903f612940>\n\t.nextafter -> <syft.ast.callable.Callable object at 0x7f903f6129a0>\n\t.outer -> <syft.ast.callable.Callable object at 0x7f903f612a00>\n\t.quantile -> <syft.ast.callable.Callable object at 0x7f903f612a60>\n\t.sgn -> <syft.ast.callable.Callable object at 0x7f903f612ac0>\n\t.signbit -> <syft.ast.callable.Callable object at 0x7f903f612b20>\n\t.subtract -> <syft.ast.callable.Callable object at 0x7f903f612b80>\n\t.unsafe_split -> <syft.ast.callable.Callable object at 0x7f903f612be0>\n\t.vdot -> <syft.ast.callable.Callable object at 0x7f903f612c40>\n\t.movedim -> <syft.ast.callable.Callable object at 0x7f903f612ca0>\n\t.unsafe_split_with_sizes -> <syft.ast.callable.Callable object at 0x7f903f612d00>\n\t.cuda -> Module:\n\t\t.is_available -> <syft.ast.callable.Callable object at 0x7f903f612dc0>\n\n\t.device -> <syft.ast.klass.Class object at 0x7f903f612e20>\n\t.random -> Module:\n\t\t.initial_seed -> <syft.ast.callable.Callable object at 0x7f903f612fa0>\n\n\t.zeros_like -> <syft.ast.callable.Callable object at 0x7f903f616040>\n\t.manual_seed -> <syft.ast.callable.Callable object at 0x7f903f6160a0>\n\t.Generator -> <syft.ast.klass.Class object at 0x7f903f616100>\n\t.utils -> Module:\n\t\t.data -> Module:\n\t\t\t.DataLoader -> <syft.ast.klass.Class object at 0x7f903f61c400>\n\t\t\t.dataloader -> Module:\n\t\t\t\t._SingleProcessDataLoaderIter -> <syft.ast.klass.Class object at 0x7f903f61c640>\n\n\n\n\t.optim -> Module:\n\t\t.ASGD -> <syft.ast.klass.Class object at 0x7f903f61ca00>\n\t\t.Adadelta -> <syft.ast.klass.Class object at 0x7f903f61cb80>\n\t\t.Adagrad -> <syft.ast.klass.Class object at 0x7f903f61cd00>\n\t\t.Adam -> <syft.ast.klass.Class object at 0x7f903f61ce80>\n\t\t.AdamW -> <syft.ast.klass.Class object at 0x7f903f620040>\n\t\t.Adamax -> <syft.ast.klass.Class object at 0x7f903f6201c0>\n\t\t.LBFGS -> <syft.ast.klass.Class object at 0x7f903f620340>\n\t\t.Optimizer -> <syft.ast.klass.Class object at 0x7f903f6204c0>\n\t\t.RMSprop -> <syft.ast.klass.Class object at 0x7f903f6206a0>\n\t\t.Rprop -> <syft.ast.klass.Class object at 0x7f903f620820>\n\t\t.SGD -> <syft.ast.klass.Class object at 0x7f903f6209a0>\n\t\t.SparseAdam -> <syft.ast.klass.Class object at 0x7f903f620b20>\n\t\t.lr_scheduler -> Module:\n\t\t\t.StepLR -> <syft.ast.klass.Class object at 0x7f903f620dc0>\n\n\n\t.no_grad -> <syft.ast.klass.Class object at 0x7f903f620fa0>\n\t.autograd -> Module:\n\t\t.grad_mode -> Module:\n\t\t\t.no_grad -> <syft.ast.klass.Class object at 0x7f903f625160>\n\n\n\t.distributions -> Module:\n\t\t.Categorical -> <syft.ast.klass.Class object at 0x7f903f52b3a0>\n\n\t.kron -> <syft.ast.callable.Callable object at 0x7f903f52b940>\n\t.msort -> <syft.ast.callable.Callable object at 0x7f903f52ba60>\n\t.row_stack -> <syft.ast.callable.Callable object at 0x7f903f52bac0>\n\t.moveaxis -> <syft.ast.callable.Callable object at 0x7f903f52bdc0>\n\t.tensor_split -> <syft.ast.callable.Callable object at 0x7f903f52bee0>\n\t.tile -> <syft.ast.callable.Callable object at 0x7f903f530040>\n\t.fmin -> <syft.ast.callable.Callable object at 0x7f903f530220>\n\t.ldexp -> <syft.ast.callable.Callable object at 0x7f903f530280>\n\t.igamma -> <syft.ast.callable.Callable object at 0x7f903f5303a0>\n\t.float_power -> <syft.ast.callable.Callable object at 0x7f903f530880>\n\t.xlogy -> <syft.ast.callable.Callable object at 0x7f903f5309a0>\n\t.copysign -> <syft.ast.callable.Callable object at 0x7f903f530a00>\n\t.nanmedian -> <syft.ast.callable.Callable object at 0x7f903f530a60>\n\t.igammac -> <syft.ast.callable.Callable object at 0x7f903f530ac0>\n\t.diff -> <syft.ast.callable.Callable object at 0x7f903f530be0>\n\t.sinc -> <syft.ast.callable.Callable object at 0x7f903f530d00>\n\t.column_stack -> <syft.ast.callable.Callable object at 0x7f903f530ee0>\n\t.pixel_unshuffle -> <syft.ast.callable.Callable object at 0x7f903f535040>\n\t.swapaxes -> <syft.ast.callable.Callable object at 0x7f903f5352e0>\n\t.nan_to_num -> <syft.ast.callable.Callable object at 0x7f903f535340>\n\t.inner -> <syft.ast.callable.Callable object at 0x7f903f5353a0>\n\t.fmax -> <syft.ast.callable.Callable object at 0x7f903f535400>\n\t.ravel -> <syft.ast.callable.Callable object at 0x7f903f535760>\n\t.broadcast_to -> <syft.ast.callable.Callable object at 0x7f903f5357c0>\n\t.swapdims -> <syft.ast.callable.Callable object at 0x7f903f5359a0>"
          },
          "metadata": {}
        }
      ],
      "execution_count": 10,
      "metadata": {
        "jupyter": {
          "source_hidden": false,
          "outputs_hidden": true
        },
        "nteract": {
          "transient": {
            "deleting": false
          }
        },
        "gather": {
          "logged": 1631173349006
        }
      }
    },
    {
      "cell_type": "markdown",
      "source": [
        "### Sending server's data to the client"
      ],
      "metadata": {
        "nteract": {
          "transient": {
            "deleting": false
          }
        }
      }
    },
    {
      "cell_type": "code",
      "source": [
        "data = {\"A\": [1, 2]}\n",
        "pd.json_normalize(data)"
      ],
      "outputs": [
        {
          "output_type": "execute_result",
          "execution_count": 22,
          "data": {
            "text/plain": "        A\n0  [1, 2]",
            "text/html": "<div>\n<style scoped>\n    .dataframe tbody tr th:only-of-type {\n        vertical-align: middle;\n    }\n\n    .dataframe tbody tr th {\n        vertical-align: top;\n    }\n\n    .dataframe thead th {\n        text-align: right;\n    }\n</style>\n<table border=\"1\" class=\"dataframe\">\n  <thead>\n    <tr style=\"text-align: right;\">\n      <th></th>\n      <th>A</th>\n    </tr>\n  </thead>\n  <tbody>\n    <tr>\n      <th>0</th>\n      <td>[1, 2]</td>\n    </tr>\n  </tbody>\n</table>\n</div>"
          },
          "metadata": {}
        }
      ],
      "execution_count": 22,
      "metadata": {
        "jupyter": {
          "source_hidden": false,
          "outputs_hidden": false
        },
        "nteract": {
          "transient": {
            "deleting": false
          }
        },
        "gather": {
          "logged": 1631174416918
        }
      }
    },
    {
      "cell_type": "code",
      "source": [
        "sy_data = sy.lib.python.Dict(data)\n",
        "data_ptr = sy_data.send(client)"
      ],
      "outputs": [],
      "execution_count": 23,
      "metadata": {
        "jupyter": {
          "source_hidden": false,
          "outputs_hidden": false
        },
        "nteract": {
          "transient": {
            "deleting": false
          }
        },
        "gather": {
          "logged": 1631174419002
        }
      }
    },
    {
      "cell_type": "code",
      "source": [
        "json_method = remote_pd.json_normalize\n",
        "dataFrame_ptr = json_method(data_ptr)\n",
        "print(dataFrame_ptr.get_copy())"
      ],
      "outputs": [
        {
          "output_type": "stream",
          "name": "stdout",
          "text": "        A\n0  [1, 2]\n"
        }
      ],
      "execution_count": 24,
      "metadata": {
        "jupyter": {
          "source_hidden": false,
          "outputs_hidden": false
        },
        "nteract": {
          "transient": {
            "deleting": false
          }
        },
        "gather": {
          "logged": 1631174421004
        }
      }
    },
    {
      "cell_type": "markdown",
      "source": [
        "### Sending client's data to the server"
      ],
      "metadata": {
        "nteract": {
          "transient": {
            "deleting": false
          }
        }
      }
    },
    {
      "cell_type": "code",
      "source": [
        "server = sy.VirtualMachine(name=\"server\")\n",
        "client = server.get_root_client()\n",
        "client_data = torch.randn(size=(1, 100))\n",
        "client_data_ptr = client_data.send(server)"
      ],
      "outputs": [
        {
          "output_type": "error",
          "ename": "AttributeError",
          "evalue": "'VirtualMachine' object has no attribute 'send_immediate_msg_without_reply'",
          "traceback": [
            "\u001b[0;31m---------------------------------------------------------------------------\u001b[0m",
            "\u001b[0;31mAttributeError\u001b[0m                            Traceback (most recent call last)",
            "\u001b[0;32m<ipython-input-42-57786ea4a38f>\u001b[0m in \u001b[0;36m<module>\u001b[0;34m\u001b[0m\n\u001b[1;32m      2\u001b[0m \u001b[0mclient\u001b[0m \u001b[0;34m=\u001b[0m \u001b[0mserver\u001b[0m\u001b[0;34m.\u001b[0m\u001b[0mget_root_client\u001b[0m\u001b[0;34m(\u001b[0m\u001b[0;34m)\u001b[0m\u001b[0;34m\u001b[0m\u001b[0;34m\u001b[0m\u001b[0m\n\u001b[1;32m      3\u001b[0m \u001b[0mclient_data\u001b[0m \u001b[0;34m=\u001b[0m \u001b[0mtorch\u001b[0m\u001b[0;34m.\u001b[0m\u001b[0mrandn\u001b[0m\u001b[0;34m(\u001b[0m\u001b[0msize\u001b[0m\u001b[0;34m=\u001b[0m\u001b[0;34m(\u001b[0m\u001b[0;36m1\u001b[0m\u001b[0;34m,\u001b[0m \u001b[0;36m100\u001b[0m\u001b[0;34m)\u001b[0m\u001b[0;34m)\u001b[0m\u001b[0;34m\u001b[0m\u001b[0;34m\u001b[0m\u001b[0m\n\u001b[0;32m----> 4\u001b[0;31m \u001b[0mclient_data_ptr\u001b[0m \u001b[0;34m=\u001b[0m \u001b[0mclient_data\u001b[0m\u001b[0;34m.\u001b[0m\u001b[0msend\u001b[0m\u001b[0;34m(\u001b[0m\u001b[0mserver\u001b[0m\u001b[0;34m)\u001b[0m\u001b[0;34m\u001b[0m\u001b[0;34m\u001b[0m\u001b[0m\n\u001b[0m",
            "\u001b[0;32m/anaconda/envs/SyftEnv2/lib/python3.9/site-packages/syft/ast/klass.py\u001b[0m in \u001b[0;36msend\u001b[0;34m(self, client, pointable, description, tags, searchable)\u001b[0m\n\u001b[1;32m    633\u001b[0m \u001b[0;34m\u001b[0m\u001b[0m\n\u001b[1;32m    634\u001b[0m             \u001b[0;31m# Step 3: send message\u001b[0m\u001b[0;34m\u001b[0m\u001b[0;34m\u001b[0m\u001b[0;34m\u001b[0m\u001b[0m\n\u001b[0;32m--> 635\u001b[0;31m             \u001b[0mclient\u001b[0m\u001b[0;34m.\u001b[0m\u001b[0msend_immediate_msg_without_reply\u001b[0m\u001b[0;34m(\u001b[0m\u001b[0mmsg\u001b[0m\u001b[0;34m=\u001b[0m\u001b[0mobj_msg\u001b[0m\u001b[0;34m)\u001b[0m\u001b[0;34m\u001b[0m\u001b[0;34m\u001b[0m\u001b[0m\n\u001b[0m\u001b[1;32m    636\u001b[0m \u001b[0;34m\u001b[0m\u001b[0m\n\u001b[1;32m    637\u001b[0m             \u001b[0;31m# Step 4: return pointer\u001b[0m\u001b[0;34m\u001b[0m\u001b[0;34m\u001b[0m\u001b[0;34m\u001b[0m\u001b[0m\n",
            "\u001b[0;31mAttributeError\u001b[0m: 'VirtualMachine' object has no attribute 'send_immediate_msg_without_reply'"
          ]
        }
      ],
      "execution_count": 42,
      "metadata": {
        "jupyter": {
          "source_hidden": false,
          "outputs_hidden": false
        },
        "nteract": {
          "transient": {
            "deleting": false
          }
        },
        "gather": {
          "logged": 1631175416917
        }
      }
    },
    {
      "cell_type": "markdown",
      "source": [
        "### Checking out client's device (cuda or CPU)"
      ],
      "metadata": {
        "nteract": {
          "transient": {
            "deleting": false
          }
        }
      }
    },
    {
      "cell_type": "code",
      "source": [
        "remote_torch = client.torch\n",
        "client_cuda_ptr = remote_torch.cuda.is_available()\n",
        "client_cuda = client_cuda_ptr.get_copy()\n",
        "print(f'client has CUDA? {client_cuda}')\n",
        "\n",
        "client_device_ptr = remote_torch.device(\"cuda\" if client_cuda else \"cpu\")\n",
        "print(f'client device: {client_device_ptr.type.get_copy()}')"
      ],
      "outputs": [
        {
          "output_type": "stream",
          "name": "stdout",
          "text": "client has CUDA? True\nclient device: cuda\n"
        }
      ],
      "execution_count": 43,
      "metadata": {
        "jupyter": {
          "source_hidden": false,
          "outputs_hidden": false
        },
        "nteract": {
          "transient": {
            "deleting": false
          }
        },
        "gather": {
          "logged": 1631176969363
        }
      }
    },
    {
      "cell_type": "code",
      "source": [
        "client_cuda = False\n",
        "client_cuda_ptr = remote_torch.cuda.is_available()\n",
        "client_cuda = bool(client_cuda_ptr.get(\n",
        "                    request_block=True,\n",
        "                    reason=\"To run test and inference locally\",\n",
        "                    timeout_secs=5,  # change to something slower\n",
        "))\n",
        "print(f'client has CUDA? {client_cuda}')\n",
        "\n",
        "client_device_ptr = remote_torch.device(\"cuda\" if client_cuda else \"cpu\")\n",
        "print(f'client device: {client_device_ptr.type.get_copy()}')"
      ],
      "outputs": [],
      "execution_count": null,
      "metadata": {
        "jupyter": {
          "source_hidden": false,
          "outputs_hidden": false
        },
        "nteract": {
          "transient": {
            "deleting": false
          }
        }
      }
    },
    {
      "cell_type": "code",
      "source": [
        "type(device_pointer).__name__"
      ],
      "outputs": [
        {
          "output_type": "execute_result",
          "execution_count": 8,
          "data": {
            "text/plain": "'devicePointer'"
          },
          "metadata": {}
        }
      ],
      "execution_count": 8,
      "metadata": {
        "jupyter": {
          "source_hidden": false,
          "outputs_hidden": false
        },
        "nteract": {
          "transient": {
            "deleting": false
          }
        },
        "gather": {
          "logged": 1631108945319
        }
      }
    },
    {
      "cell_type": "code",
      "source": [
        "device_pointer.id_at_location"
      ],
      "outputs": [
        {
          "output_type": "execute_result",
          "execution_count": 9,
          "data": {
            "text/plain": "<UID: 003d9950bf4f4abf8c0d69190fc40a18>"
          },
          "metadata": {}
        }
      ],
      "execution_count": 9,
      "metadata": {
        "jupyter": {
          "source_hidden": false,
          "outputs_hidden": false
        },
        "nteract": {
          "transient": {
            "deleting": false
          }
        },
        "gather": {
          "logged": 1631108945484
        }
      }
    },
    {
      "cell_type": "code",
      "source": [
        "t1 = torch.tensor([1, 2])\n",
        "t2 = torch.tensor([1, 3])"
      ],
      "outputs": [],
      "execution_count": 10,
      "metadata": {
        "jupyter": {
          "source_hidden": false,
          "outputs_hidden": false
        },
        "nteract": {
          "transient": {
            "deleting": false
          }
        },
        "gather": {
          "logged": 1631108945610
        }
      }
    },
    {
      "cell_type": "code",
      "source": [
        "syft_list = List([t1, t2])\n",
        "ptr = syft_list.send(client)"
      ],
      "outputs": [],
      "execution_count": 11,
      "metadata": {
        "jupyter": {
          "source_hidden": false,
          "outputs_hidden": false
        },
        "nteract": {
          "transient": {
            "deleting": false
          }
        },
        "gather": {
          "logged": 1631108945729
        }
      }
    },
    {
      "cell_type": "code",
      "source": [
        "res = ptr.get_copy()\n",
        "res"
      ],
      "outputs": [
        {
          "output_type": "execute_result",
          "execution_count": 12,
          "data": {
            "text/plain": "[tensor([1, 2]), tensor([1, 3])]"
          },
          "metadata": {}
        }
      ],
      "execution_count": 12,
      "metadata": {
        "jupyter": {
          "source_hidden": false,
          "outputs_hidden": false
        },
        "nteract": {
          "transient": {
            "deleting": false
          }
        },
        "gather": {
          "logged": 1631108980406
        }
      }
    },
    {
      "cell_type": "code",
      "source": [
        "tensor_type='uint8'\n",
        "op_name = '__add__'\n",
        "\n",
        "alice = sy.VirtualMachine(name=\"alice\")\n",
        "alice_client = alice.get_client()\n"
      ],
      "outputs": [],
      "execution_count": 33,
      "metadata": {
        "jupyter": {
          "source_hidden": false,
          "outputs_hidden": false
        },
        "nteract": {
          "transient": {
            "deleting": false
          }
        },
        "gather": {
          "logged": 1631175723838
        }
      }
    },
    {
      "cell_type": "code",
      "source": [
        "x = torch.tensor([-1, 0, 1, 2, 3, 4])\n",
        "xp = x.send(alice_client)\n",
        "op_method = getattr(xp, op_name, None)\n",
        "target_op_method = getattr(x, op_name)\n",
        "\n",
        "print(op_method)\n",
        "print(target_op_method)"
      ],
      "outputs": [
        {
          "output_type": "stream",
          "name": "stdout",
          "text": "<bound method get_run_class_method.<locals>.run_class_method of <syft.proxy.torch.TensorPointer object at 0x7f903f3d5a00>>\n<built-in method __add__ of Tensor object at 0x7f903f3a5840>\n"
        }
      ],
      "execution_count": 34,
      "metadata": {
        "jupyter": {
          "source_hidden": false,
          "outputs_hidden": false
        },
        "nteract": {
          "transient": {
            "deleting": false
          }
        },
        "gather": {
          "logged": 1631175725766
        }
      }
    },
    {
      "cell_type": "code",
      "source": [
        "result = op_method(xp)  # op(xp, xp)\n",
        "target_result = target_op_method(x)\n",
        "\n",
        "local_result = result.get()\n",
        "\n",
        "assert (local_result == target_result).all()"
      ],
      "outputs": [],
      "execution_count": 8,
      "metadata": {
        "jupyter": {
          "source_hidden": false,
          "outputs_hidden": false
        },
        "nteract": {
          "transient": {
            "deleting": false
          }
        },
        "gather": {
          "logged": 1631169891873
        }
      }
    },
    {
      "cell_type": "code",
      "source": [
        "local_result"
      ],
      "outputs": [
        {
          "output_type": "execute_result",
          "execution_count": 5,
          "data": {
            "text/plain": "tensor([-2,  0,  2,  4,  6,  8])"
          },
          "metadata": {}
        }
      ],
      "execution_count": 5,
      "metadata": {
        "jupyter": {
          "source_hidden": false,
          "outputs_hidden": false
        },
        "nteract": {
          "transient": {
            "deleting": false
          }
        },
        "gather": {
          "logged": 1631169851165
        }
      }
    },
    {
      "cell_type": "code",
      "source": [],
      "outputs": [],
      "execution_count": null,
      "metadata": {
        "jupyter": {
          "source_hidden": false,
          "outputs_hidden": false
        },
        "nteract": {
          "transient": {
            "deleting": false
          }
        }
      }
    }
  ],
  "metadata": {
    "kernelspec": {
      "name": "syftenv2",
      "language": "python",
      "display_name": "SyftEnv2"
    },
    "language_info": {
      "name": "python",
      "version": "3.9.6",
      "mimetype": "text/x-python",
      "codemirror_mode": {
        "name": "ipython",
        "version": 3
      },
      "pygments_lexer": "ipython3",
      "nbconvert_exporter": "python",
      "file_extension": ".py"
    },
    "kernel_info": {
      "name": "syftenv2"
    },
    "nteract": {
      "version": "nteract-front-end@1.0.0"
    },
    "microsoft": {
      "host": {
        "AzureML": {
          "notebookHasBeenCompleted": true
        }
      }
    }
  },
  "nbformat": 4,
  "nbformat_minor": 2
}