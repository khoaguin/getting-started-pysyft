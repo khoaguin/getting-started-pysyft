{
  "cells": [
    {
      "cell_type": "code",
      "source": [
        "import torch\n",
        "import syft as sy\n",
        "import pandas as pd\n",
        "from syft.lib.python.list import List\n",
        "print(sy.__version__)\n",
        "print(torch.__version__)"
      ],
      "outputs": [
        {
          "output_type": "stream",
          "name": "stdout",
          "text": "0.5.0\n1.8.1+cu102\n"
        }
      ],
      "execution_count": 1,
      "metadata": {
        "gather": {
          "logged": 1631256596253
        }
      }
    },
    {
      "cell_type": "markdown",
      "source": [
        "### Make the VM and its client"
      ],
      "metadata": {
        "nteract": {
          "transient": {
            "deleting": false
          }
        }
      }
    },
    {
      "cell_type": "code",
      "source": [
        "server = sy.VirtualMachine(name=\"server\")\n",
        "root_client = server.get_root_client()\n",
        "client = server.get_client()"
      ],
      "outputs": [],
      "execution_count": 2,
      "metadata": {
        "jupyter": {
          "source_hidden": false,
          "outputs_hidden": false
        },
        "nteract": {
          "transient": {
            "deleting": false
          }
        },
        "gather": {
          "logged": 1631256675313
        }
      }
    },
    {
      "cell_type": "code",
      "source": [
        "print(type(server))\n",
        "print(server)\n",
        "print(type(root_client))\n",
        "print(root_client)\n",
        "print(client)"
      ],
      "outputs": [
        {
          "output_type": "stream",
          "name": "stdout",
          "text": "<class 'syft.core.node.vm.vm.VirtualMachine'>\nVirtualMachine: server: <UID: e7c69f319e1c4f2ca9e0a1df00d91c12>\n<class 'syft.core.node.vm.client.VirtualMachineClient'>\n<VirtualMachineClient: server Client>\n<VirtualMachineClient: server Client>\n"
        }
      ],
      "execution_count": 3,
      "metadata": {
        "jupyter": {
          "source_hidden": false,
          "outputs_hidden": false
        },
        "nteract": {
          "transient": {
            "deleting": false
          }
        },
        "gather": {
          "logged": 1631256677819
        }
      }
    },
    {
      "cell_type": "markdown",
      "source": [
        "### Check out the remote modules"
      ],
      "metadata": {
        "nteract": {
          "transient": {
            "deleting": false
          }
        }
      }
    },
    {
      "cell_type": "code",
      "source": [
        "remote_pd = root_client.pandas\n",
        "remote_torch = root_client.torch\n",
        "remote_np = root_client.numpy\n",
        "remote_vision = root_client.torchvision"
      ],
      "outputs": [],
      "execution_count": 4,
      "metadata": {
        "jupyter": {
          "source_hidden": false,
          "outputs_hidden": false
        },
        "nteract": {
          "transient": {
            "deleting": false
          }
        },
        "gather": {
          "logged": 1631256681065
        }
      }
    },
    {
      "cell_type": "code",
      "source": [
        "print(type(remote_pd))\n",
        "remote_pd"
      ],
      "outputs": [
        {
          "output_type": "stream",
          "name": "stdout",
          "text": "<class 'syft.ast.module.Module'>\n"
        },
        {
          "output_type": "execute_result",
          "execution_count": 5,
          "data": {
            "text/plain": "Module:\n\t.DataFrame -> <syft.ast.klass.Class object at 0x7f3c3e52b520>\n\t.Series -> <syft.ast.klass.Class object at 0x7f3c3e52b580>\n\t.CategoricalDtype -> <syft.ast.klass.Class object at 0x7f3c3e52b5e0>\n\t.Categorical -> <syft.ast.klass.Class object at 0x7f3c3e52b640>\n\t.json_normalize -> <syft.ast.callable.Callable object at 0x7f3c3e52b700>"
          },
          "metadata": {}
        }
      ],
      "execution_count": 5,
      "metadata": {
        "jupyter": {
          "source_hidden": false,
          "outputs_hidden": false
        },
        "nteract": {
          "transient": {
            "deleting": false
          }
        },
        "gather": {
          "logged": 1631256682942
        }
      }
    },
    {
      "cell_type": "code",
      "source": [
        "remote_np"
      ],
      "outputs": [
        {
          "output_type": "execute_result",
          "execution_count": 7,
          "data": {
            "text/plain": "Module:\n\t.ndarray -> <syft.ast.klass.Class object at 0x7fbbf58185e0>"
          },
          "metadata": {}
        }
      ],
      "execution_count": 7,
      "metadata": {
        "jupyter": {
          "source_hidden": false,
          "outputs_hidden": false
        },
        "nteract": {
          "transient": {
            "deleting": false
          }
        },
        "gather": {
          "logged": 1631194489014
        }
      }
    },
    {
      "cell_type": "code",
      "source": [
        "remote_vision"
      ],
      "outputs": [
        {
          "output_type": "execute_result",
          "execution_count": 8,
          "data": {
            "text/plain": "Module:\n\t.__version__ -> <syft.ast.static_attr.StaticAttribute object at 0x7fbbf593ce80>\n\t.transforms -> Module:\n\t\t.Compose -> <syft.ast.klass.Class object at 0x7fbbf593cf40>\n\t\t.ToTensor -> <syft.ast.klass.Class object at 0x7fbbf593cfa0>\n\t\t.Normalize -> <syft.ast.klass.Class object at 0x7fbbf57f00a0>\n\t\t.CenterCrop -> <syft.ast.klass.Class object at 0x7fbbf57f9460>\n\t\t.ColorJitter -> <syft.ast.klass.Class object at 0x7fbbf57f9520>\n\t\t.FiveCrop -> <syft.ast.klass.Class object at 0x7fbbf57f9580>\n\t\t.Grayscale -> <syft.ast.klass.Class object at 0x7fbbf57f9640>\n\t\t.Pad -> <syft.ast.klass.Class object at 0x7fbbf57f96a0>\n\t\t.RandomAffine -> <syft.ast.klass.Class object at 0x7fbbf57f9760>\n\t\t.RandomApply -> <syft.ast.klass.Class object at 0x7fbbf57f9820>\n\t\t.RandomCrop -> <syft.ast.klass.Class object at 0x7fbbf57f98e0>\n\t\t.RandomGrayscale -> <syft.ast.klass.Class object at 0x7fbbf57f99a0>\n\t\t.RandomHorizontalFlip -> <syft.ast.klass.Class object at 0x7fbbf57f9a60>\n\t\t.RandomPerspective -> <syft.ast.klass.Class object at 0x7fbbf57f9b20>\n\t\t.RandomResizedCrop -> <syft.ast.klass.Class object at 0x7fbbf57f9be0>\n\t\t.RandomRotation -> <syft.ast.klass.Class object at 0x7fbbf57f9ca0>\n\t\t.RandomSizedCrop -> <syft.ast.klass.Class object at 0x7fbbf57f9d60>\n\t\t.RandomVerticalFlip -> <syft.ast.klass.Class object at 0x7fbbf57f9e20>\n\t\t.Resize -> <syft.ast.klass.Class object at 0x7fbbf57f9e80>\n\t\t.Scale -> <syft.ast.klass.Class object at 0x7fbbf57f9ee0>\n\t\t.TenCrop -> <syft.ast.klass.Class object at 0x7fbbf57f9f40>\n\t\t.GaussianBlur -> <syft.ast.klass.Class object at 0x7fbbf57fc040>\n\t\t.RandomChoice -> <syft.ast.klass.Class object at 0x7fbbf57fc100>\n\t\t.RandomOrder -> <syft.ast.klass.Class object at 0x7fbbf57fc1c0>\n\t\t.LinearTransformation -> <syft.ast.klass.Class object at 0x7fbbf57fc280>\n\t\t.RandomErasing -> <syft.ast.klass.Class object at 0x7fbbf57fc340>\n\t\t.ConvertImageDtype -> <syft.ast.klass.Class object at 0x7fbbf57fc400>\n\t\t.ToPILImage -> <syft.ast.klass.Class object at 0x7fbbf57fc4c0>\n\t\t.Lambda -> <syft.ast.klass.Class object at 0x7fbbf57fc520>\n\t\t.functional -> Module:\n\t\t\t.adjust_brightness -> <syft.ast.callable.Callable object at 0x7fbbf57fc640>\n\t\t\t.adjust_contrast -> <syft.ast.callable.Callable object at 0x7fbbf57fc6a0>\n\t\t\t.adjust_gamma -> <syft.ast.callable.Callable object at 0x7fbbf57fc760>\n\t\t\t.adjust_hue -> <syft.ast.callable.Callable object at 0x7fbbf57fc820>\n\t\t\t.adjust_saturation -> <syft.ast.callable.Callable object at 0x7fbbf57fc880>\n\t\t\t.adjust_sharpness -> <syft.ast.callable.Callable object at 0x7fbbf57fc8e0>\n\t\t\t.affine -> <syft.ast.callable.Callable object at 0x7fbbf57fc9a0>\n\t\t\t.autocontrast -> <syft.ast.callable.Callable object at 0x7fbbf57fca60>\n\t\t\t.center_crop -> <syft.ast.callable.Callable object at 0x7fbbf57fcb20>\n\t\t\t.convert_image_dtype -> <syft.ast.callable.Callable object at 0x7fbbf57fcb80>\n\t\t\t.crop -> <syft.ast.callable.Callable object at 0x7fbbf57fcc40>\n\t\t\t.equalize -> <syft.ast.callable.Callable object at 0x7fbbf57fcd00>\n\t\t\t.erase -> <syft.ast.callable.Callable object at 0x7fbbf57fcdc0>\n\t\t\t.five_crop -> <syft.ast.callable.Callable object at 0x7fbbf57fce80>\n\t\t\t.gaussian_blur -> <syft.ast.callable.Callable object at 0x7fbbf57fcf40>\n\t\t\t.hflip -> <syft.ast.callable.Callable object at 0x7fbbf57fe040>\n\t\t\t.invert -> <syft.ast.callable.Callable object at 0x7fbbf57fe100>\n\t\t\t.normalize -> <syft.ast.callable.Callable object at 0x7fbbf57fe1c0>\n\t\t\t.pad -> <syft.ast.callable.Callable object at 0x7fbbf57fe280>\n\t\t\t.perspective -> <syft.ast.callable.Callable object at 0x7fbbf57fe340>\n\t\t\t.pil_to_tensor -> <syft.ast.callable.Callable object at 0x7fbbf57fe400>\n\t\t\t.posterize -> <syft.ast.callable.Callable object at 0x7fbbf57fe4c0>\n\t\t\t.resize -> <syft.ast.callable.Callable object at 0x7fbbf57fe580>\n\t\t\t.resized_crop -> <syft.ast.callable.Callable object at 0x7fbbf57fe640>\n\t\t\t.rgb_to_grayscale -> <syft.ast.callable.Callable object at 0x7fbbf57fe6a0>\n\t\t\t.rotate -> <syft.ast.callable.Callable object at 0x7fbbf57fe760>\n\t\t\t.solarize -> <syft.ast.callable.Callable object at 0x7fbbf57fe820>\n\t\t\t.ten_crop -> <syft.ast.callable.Callable object at 0x7fbbf57fe8e0>\n\t\t\t.to_grayscale -> <syft.ast.callable.Callable object at 0x7fbbf57fe9a0>\n\t\t\t.to_pil_image -> <syft.ast.callable.Callable object at 0x7fbbf57fea60>\n\t\t\t.to_tensor -> <syft.ast.callable.Callable object at 0x7fbbf57feb20>\n\t\t\t.vflip -> <syft.ast.callable.Callable object at 0x7fbbf57febe0>\n\n\n\t.datasets -> Module:\n\t\t.MNIST -> <syft.ast.klass.Class object at 0x7fbbf57f0160>\n\t\t.CelebA -> <syft.ast.klass.Class object at 0x7fbbf57f0280>\n\t\t.CIFAR10 -> <syft.ast.klass.Class object at 0x7fbbf57f03a0>\n\t\t.CIFAR100 -> <syft.ast.klass.Class object at 0x7fbbf57f04c0>\n\t\t.Cityscapes -> <syft.ast.klass.Class object at 0x7fbbf57f0520>\n\t\t.CocoCaptions -> <syft.ast.klass.Class object at 0x7fbbf57f06a0>\n\t\t.CocoDetection -> <syft.ast.klass.Class object at 0x7fbbf57f0820>\n\t\t.EMNIST -> <syft.ast.klass.Class object at 0x7fbbf57f0940>\n\t\t.FakeData -> <syft.ast.klass.Class object at 0x7fbbf57f0a60>\n\t\t.FashionMNIST -> <syft.ast.klass.Class object at 0x7fbbf57f0be0>\n\t\t.Flickr8k -> <syft.ast.klass.Class object at 0x7fbbf57f0d00>\n\t\t.Flickr30k -> <syft.ast.klass.Class object at 0x7fbbf57f0e20>\n\t\t.HMDB51 -> <syft.ast.klass.Class object at 0x7fbbf57f0f40>\n\t\t.ImageNet -> <syft.ast.klass.Class object at 0x7fbbf57f30a0>\n\t\t.Kinetics400 -> <syft.ast.klass.Class object at 0x7fbbf57f3220>\n\t\t.KMNIST -> <syft.ast.klass.Class object at 0x7fbbf57f3340>\n\t\t.LSUN -> <syft.ast.klass.Class object at 0x7fbbf57f3460>\n\t\t.Omniglot -> <syft.ast.klass.Class object at 0x7fbbf57f3580>\n\t\t.PhotoTour -> <syft.ast.klass.Class object at 0x7fbbf57f36a0>\n\t\t.Places365 -> <syft.ast.klass.Class object at 0x7fbbf57f37c0>\n\t\t.QMNIST -> <syft.ast.klass.Class object at 0x7fbbf57f38e0>\n\t\t.SBDataset -> <syft.ast.klass.Class object at 0x7fbbf57f3a00>\n\t\t.SBU -> <syft.ast.klass.Class object at 0x7fbbf57f3b20>\n\t\t.STL10 -> <syft.ast.klass.Class object at 0x7fbbf57f3c40>\n\t\t.SVHN -> <syft.ast.klass.Class object at 0x7fbbf57f3d60>\n\t\t.UCF101 -> <syft.ast.klass.Class object at 0x7fbbf57f3e80>\n\t\t.USPS -> <syft.ast.klass.Class object at 0x7fbbf57f3fa0>\n\t\t.VOCSegmentation -> <syft.ast.klass.Class object at 0x7fbbf57f9160>\n\t\t.VOCDetection -> <syft.ast.klass.Class object at 0x7fbbf57f92e0>\n"
          },
          "metadata": {}
        }
      ],
      "execution_count": 8,
      "metadata": {
        "jupyter": {
          "source_hidden": false,
          "outputs_hidden": true
        },
        "nteract": {
          "transient": {
            "deleting": false
          }
        },
        "gather": {
          "logged": 1631194491483
        }
      }
    },
    {
      "cell_type": "code",
      "source": [
        "remote_torch"
      ],
      "outputs": [
        {
          "output_type": "execute_result",
          "execution_count": 9,
          "data": {
            "text/plain": "Module:\n\t.Tensor -> <syft.ast.klass.Class object at 0x7fbbf5acb9a0>\n\t.BFloat16Tensor -> <syft.ast.klass.Class object at 0x7fbbf5acba00>\n\t.BoolTensor -> <syft.ast.klass.Class object at 0x7fbbf5acba60>\n\t.ByteTensor -> <syft.ast.klass.Class object at 0x7fbbf5acbac0>\n\t.CharTensor -> <syft.ast.klass.Class object at 0x7fbbf5acbb20>\n\t.DoubleTensor -> <syft.ast.klass.Class object at 0x7fbbf5acbb80>\n\t.FloatTensor -> <syft.ast.klass.Class object at 0x7fbbf5acbbe0>\n\t.HalfTensor -> <syft.ast.klass.Class object at 0x7fbbf5acbc40>\n\t.IntTensor -> <syft.ast.klass.Class object at 0x7fbbf5acbca0>\n\t.LongTensor -> <syft.ast.klass.Class object at 0x7fbbf5acbd00>\n\t.ShortTensor -> <syft.ast.klass.Class object at 0x7fbbf5acbd60>\n\t.nn -> Module:\n\t\t.Parameter -> <syft.ast.klass.Class object at 0x7fbbf5acbe80>\n\t\t.Module -> <syft.ast.klass.Class object at 0x7fbbf5a1d340>\n\t\t.Conv2d -> <syft.ast.klass.Class object at 0x7fbbf5a1d820>\n\t\t.Dropout2d -> <syft.ast.klass.Class object at 0x7fbbf5a1dc40>\n\t\t.Linear -> <syft.ast.klass.Class object at 0x7fbbf5a1dfa0>\n\t\t.functional -> Module:\n\t\t\t.relu -> <syft.ast.callable.Callable object at 0x7fbbf5a238e0>\n\t\t\t.gelu -> <syft.ast.callable.Callable object at 0x7fbbf5a23940>\n\t\t\t.max_pool2d -> <syft.ast.callable.Callable object at 0x7fbbf5a239a0>\n\t\t\t.log_softmax -> <syft.ast.callable.Callable object at 0x7fbbf5a23a00>\n\t\t\t.cosine_embedding_loss -> <syft.ast.callable.Callable object at 0x7fbbf5a2b7c0>\n\t\t\t.ctc_loss -> <syft.ast.callable.Callable object at 0x7fbbf5a2b820>\n\t\t\t.hinge_embedding_loss -> <syft.ast.callable.Callable object at 0x7fbbf5a2b8e0>\n\t\t\t.l1_loss -> <syft.ast.callable.Callable object at 0x7fbbf5a2b940>\n\t\t\t.margin_ranking_loss -> <syft.ast.callable.Callable object at 0x7fbbf5a2ba00>\n\t\t\t.mse_loss -> <syft.ast.callable.Callable object at 0x7fbbf5a2ba60>\n\t\t\t.multi_margin_loss -> <syft.ast.callable.Callable object at 0x7fbbf5a2bb20>\n\t\t\t.multilabel_margin_loss -> <syft.ast.callable.Callable object at 0x7fbbf5a2bbe0>\n\t\t\t.multilabel_soft_margin_loss -> <syft.ast.callable.Callable object at 0x7fbbf5a2bca0>\n\t\t\t.nll_loss -> <syft.ast.callable.Callable object at 0x7fbbf5a2bd00>\n\t\t\t.cross_entropy -> <syft.ast.callable.Callable object at 0x7fbbf5a2bdc0>\n\t\t\t.poisson_nll_loss -> <syft.ast.callable.Callable object at 0x7fbbf5a2be80>\n\t\t\t.smooth_l1_loss -> <syft.ast.callable.Callable object at 0x7fbbf5a2bf40>\n\t\t\t.soft_margin_loss -> <syft.ast.callable.Callable object at 0x7fbbf59af040>\n\t\t\t.triplet_margin_loss -> <syft.ast.callable.Callable object at 0x7fbbf59af100>\n\n\t\t.Sequential -> <syft.ast.klass.Class object at 0x7fbbf5a2b400>\n\t\t.AdaptiveLogSoftmaxWithLoss -> <syft.ast.klass.Class object at 0x7fbbf59af1c0>\n\t\t.BCELoss -> <syft.ast.klass.Class object at 0x7fbbf59af340>\n\t\t.BCEWithLogitsLoss -> <syft.ast.klass.Class object at 0x7fbbf59af400>\n\t\t.CTCLoss -> <syft.ast.klass.Class object at 0x7fbbf59af520>\n\t\t.CrossEntropyLoss -> <syft.ast.klass.Class object at 0x7fbbf59af5e0>\n\t\t.CosineEmbeddingLoss -> <syft.ast.klass.Class object at 0x7fbbf59af700>\n\t\t.HingeEmbeddingLoss -> <syft.ast.klass.Class object at 0x7fbbf59af820>\n\t\t.KLDivLoss -> <syft.ast.klass.Class object at 0x7fbbf59af940>\n\t\t.L1Loss -> <syft.ast.klass.Class object at 0x7fbbf59afa00>\n\t\t.MSELoss -> <syft.ast.klass.Class object at 0x7fbbf59afac0>\n\t\t.MarginRankingLoss -> <syft.ast.klass.Class object at 0x7fbbf59afb80>\n\t\t.MultiLabelMarginLoss -> <syft.ast.klass.Class object at 0x7fbbf59afca0>\n\t\t.MultiLabelSoftMarginLoss -> <syft.ast.klass.Class object at 0x7fbbf59afe20>\n\t\t.MultiMarginLoss -> <syft.ast.klass.Class object at 0x7fbbf59aff40>\n\t\t.NLLLoss -> <syft.ast.klass.Class object at 0x7fbbf59b40a0>\n\t\t.NLLLoss2d -> <syft.ast.klass.Class object at 0x7fbbf59b4160>\n\t\t.PoissonNLLLoss -> <syft.ast.klass.Class object at 0x7fbbf59b4220>\n\t\t.SmoothL1Loss -> <syft.ast.klass.Class object at 0x7fbbf59b4340>\n\t\t.SoftMarginLoss -> <syft.ast.klass.Class object at 0x7fbbf59b4400>\n\t\t.TripletMarginLoss -> <syft.ast.klass.Class object at 0x7fbbf59b4520>\n\t\t.AdaptiveAvgPool1d -> <syft.ast.klass.Class object at 0x7fbbf59b4640>\n\t\t.AdaptiveAvgPool2d -> <syft.ast.klass.Class object at 0x7fbbf59b4ca0>\n\t\t.AdaptiveAvgPool3d -> <syft.ast.klass.Class object at 0x7fbbf59b8340>\n\t\t.AdaptiveMaxPool1d -> <syft.ast.klass.Class object at 0x7fbbf59b89a0>\n\t\t.AdaptiveMaxPool2d -> <syft.ast.klass.Class object at 0x7fbbf59ba040>\n\t\t.AdaptiveMaxPool3d -> <syft.ast.klass.Class object at 0x7fbbf59ba6a0>\n\t\t.AlphaDropout -> <syft.ast.klass.Class object at 0x7fbbf59bad00>\n\t\t.AvgPool1d -> <syft.ast.klass.Class object at 0x7fbbf59bf2e0>\n\t\t.AvgPool2d -> <syft.ast.klass.Class object at 0x7fbbf59bf760>\n\t\t.AvgPool3d -> <syft.ast.klass.Class object at 0x7fbbf59bfbe0>\n\t\t.BatchNorm1d -> <syft.ast.klass.Class object at 0x7fbbf59c20a0>\n\t\t.BatchNorm2d -> <syft.ast.klass.Class object at 0x7fbbf59c2520>\n\t\t.BatchNorm3d -> <syft.ast.klass.Class object at 0x7fbbf59c29a0>\n\t\t.Bilinear -> <syft.ast.klass.Class object at 0x7fbbf59c2e20>\n\t\t.CELU -> <syft.ast.klass.Class object at 0x7fbbf59c62e0>\n\t\t.ConstantPad1d -> <syft.ast.klass.Class object at 0x7fbbf59c6700>\n\t\t.ConstantPad2d -> <syft.ast.klass.Class object at 0x7fbbf59c6ca0>\n\t\t.ConstantPad3d -> <syft.ast.klass.Class object at 0x7fbbf59c9280>\n\t\t.Container -> <syft.ast.klass.Class object at 0x7fbbf59c9820>\n\t\t.Conv1d -> <syft.ast.klass.Class object at 0x7fbbf59c9ca0>\n\t\t.Conv3d -> <syft.ast.klass.Class object at 0x7fbbf59ce100>\n\t\t.ConvTranspose1d -> <syft.ast.klass.Class object at 0x7fbbf59ce520>\n\t\t.ConvTranspose2d -> <syft.ast.klass.Class object at 0x7fbbf59ceb20>\n\t\t.ConvTranspose3d -> <syft.ast.klass.Class object at 0x7fbbf59d0160>\n\t\t.CosineSimilarity -> <syft.ast.klass.Class object at 0x7fbbf59d0760>\n\t\t.CrossMapLRN2d -> <syft.ast.klass.Class object at 0x7fbbf59d0d60>\n\t\t.DataParallel -> <syft.ast.klass.Class object at 0x7fbbf59d5340>\n\t\t.Dropout -> <syft.ast.klass.Class object at 0x7fbbf59d58e0>\n\t\t.Dropout3d -> <syft.ast.klass.Class object at 0x7fbbf59d5e80>\n\t\t.ELU -> <syft.ast.klass.Class object at 0x7fbbf59d8340>\n\t\t.Embedding -> <syft.ast.klass.Class object at 0x7fbbf59d8700>\n\t\t.EmbeddingBag -> <syft.ast.klass.Class object at 0x7fbbf59d8b80>\n\t\t.FeatureAlphaDropout -> <syft.ast.klass.Class object at 0x7fbbf59dd160>\n\t\t.Flatten -> <syft.ast.klass.Class object at 0x7fbbf59dd880>\n\t\t.Fold -> <syft.ast.klass.Class object at 0x7fbbf59ddd00>\n\t\t.FractionalMaxPool2d -> <syft.ast.klass.Class object at 0x7fbbf59e0160>\n\t\t.FractionalMaxPool3d -> <syft.ast.klass.Class object at 0x7fbbf59e0880>\n\t\t.GELU -> <syft.ast.klass.Class object at 0x7fbbf59e0fa0>\n\t\t.GLU -> <syft.ast.klass.Class object at 0x7fbbf59e2400>\n\t\t.GRU -> <syft.ast.klass.Class object at 0x7fbbf59e27c0>\n\t\t.GRUCell -> <syft.ast.klass.Class object at 0x7fbbf59e2b80>\n\t\t.GroupNorm -> <syft.ast.klass.Class object at 0x7fbbf59e6040>\n\t\t.Hardshrink -> <syft.ast.klass.Class object at 0x7fbbf59e64c0>\n\t\t.Hardsigmoid -> <syft.ast.klass.Class object at 0x7fbbf59e6940>\n\t\t.Hardswish -> <syft.ast.klass.Class object at 0x7fbbf59e6d00>\n\t\t.Hardtanh -> <syft.ast.klass.Class object at 0x7fbbf596c100>\n\t\t.Identity -> <syft.ast.klass.Class object at 0x7fbbf596c580>\n\t\t.InstanceNorm1d -> <syft.ast.klass.Class object at 0x7fbbf596ca00>\n\t\t.InstanceNorm2d -> <syft.ast.klass.Class object at 0x7fbbf5970040>\n\t\t.InstanceNorm3d -> <syft.ast.klass.Class object at 0x7fbbf5970640>\n\t\t.LPPool1d -> <syft.ast.klass.Class object at 0x7fbbf5970c40>\n\t\t.LPPool2d -> <syft.ast.klass.Class object at 0x7fbbf5973100>\n\t\t.LSTM -> <syft.ast.klass.Class object at 0x7fbbf5973580>\n\t\t.LSTMCell -> <syft.ast.klass.Class object at 0x7fbbf59739a0>\n\t\t.LayerNorm -> <syft.ast.klass.Class object at 0x7fbbf5973e20>\n\t\t.LeakyReLU -> <syft.ast.klass.Class object at 0x7fbbf59772e0>\n\t\t.LocalResponseNorm -> <syft.ast.klass.Class object at 0x7fbbf5977760>\n\t\t.LogSigmoid -> <syft.ast.klass.Class object at 0x7fbbf5977dc0>\n\t\t.LogSoftmax -> <syft.ast.klass.Class object at 0x7fbbf597a280>\n\t\t.MaxPool1d -> <syft.ast.klass.Class object at 0x7fbbf597a700>\n\t\t.MaxPool2d -> <syft.ast.klass.Class object at 0x7fbbf597ab80>\n\t\t.MaxPool3d -> <syft.ast.klass.Class object at 0x7fbbf5980040>\n\t\t.MaxUnpool1d -> <syft.ast.klass.Class object at 0x7fbbf59804c0>\n\t\t.MaxUnpool2d -> <syft.ast.klass.Class object at 0x7fbbf5980940>\n\t\t.MaxUnpool3d -> <syft.ast.klass.Class object at 0x7fbbf5980dc0>\n\t\t.ModuleDict -> <syft.ast.klass.Class object at 0x7fbbf5982280>\n\t\t.ModuleList -> <syft.ast.klass.Class object at 0x7fbbf5982700>\n\t\t.MultiheadAttention -> <syft.ast.klass.Class object at 0x7fbbf5982c40>\n\t\t.PReLU -> <syft.ast.klass.Class object at 0x7fbbf5986340>\n\t\t.PairwiseDistance -> <syft.ast.klass.Class object at 0x7fbbf5986760>\n\t\t.PixelShuffle -> <syft.ast.klass.Class object at 0x7fbbf5986d60>\n\t\t.RNN -> <syft.ast.klass.Class object at 0x7fbbf598a340>\n\t\t.RNNBase -> <syft.ast.klass.Class object at 0x7fbbf598a700>\n\t\t.RNNCell -> <syft.ast.klass.Class object at 0x7fbbf598ab80>\n\t\t.RNNCellBase -> <syft.ast.klass.Class object at 0x7fbbf598f040>\n\t\t.RReLU -> <syft.ast.klass.Class object at 0x7fbbf598f4c0>\n\t\t.ReLU -> <syft.ast.klass.Class object at 0x7fbbf598f8e0>\n\t\t.ReLU6 -> <syft.ast.klass.Class object at 0x7fbbf598fd00>\n\t\t.ReflectionPad1d -> <syft.ast.klass.Class object at 0x7fbbf5993160>\n\t\t.ReflectionPad2d -> <syft.ast.klass.Class object at 0x7fbbf5993760>\n\t\t.ReplicationPad1d -> <syft.ast.klass.Class object at 0x7fbbf5993d60>\n\t\t.ReplicationPad2d -> <syft.ast.klass.Class object at 0x7fbbf59963a0>\n\t\t.ReplicationPad3d -> <syft.ast.klass.Class object at 0x7fbbf59969a0>\n\t\t.SELU -> <syft.ast.klass.Class object at 0x7fbbf5996fa0>\n\t\t.Sigmoid -> <syft.ast.klass.Class object at 0x7fbbf5998580>\n\t\t.Softmax -> <syft.ast.klass.Class object at 0x7fbbf5998a00>\n\t\t.Softmax2d -> <syft.ast.klass.Class object at 0x7fbbf5998e80>\n\t\t.Softmin -> <syft.ast.klass.Class object at 0x7fbbf599d340>\n\t\t.Softplus -> <syft.ast.klass.Class object at 0x7fbbf599d7c0>\n\t\t.Softshrink -> <syft.ast.klass.Class object at 0x7fbbf599dc40>\n\t\t.Softsign -> <syft.ast.klass.Class object at 0x7fbbf59a2100>\n\t\t.SyncBatchNorm -> <syft.ast.klass.Class object at 0x7fbbf59a2580>\n\t\t.Tanh -> <syft.ast.klass.Class object at 0x7fbbf59a2b20>\n\t\t.Tanhshrink -> <syft.ast.klass.Class object at 0x7fbbf59a2f40>\n\t\t.Threshold -> <syft.ast.klass.Class object at 0x7fbbf59a5400>\n\t\t.Transformer -> <syft.ast.klass.Class object at 0x7fbbf59a5880>\n\t\t.TransformerDecoder -> <syft.ast.klass.Class object at 0x7fbbf59a5d00>\n\t\t.TransformerDecoderLayer -> <syft.ast.klass.Class object at 0x7fbbf59a9400>\n\t\t.TransformerEncoder -> <syft.ast.klass.Class object at 0x7fbbf59a9a60>\n\t\t.TransformerEncoderLayer -> <syft.ast.klass.Class object at 0x7fbbf592d1c0>\n\t\t.Unfold -> <syft.ast.klass.Class object at 0x7fbbf592d820>\n\t\t.Upsample -> <syft.ast.klass.Class object at 0x7fbbf592dc40>\n\t\t.UpsamplingBilinear2d -> <syft.ast.klass.Class object at 0x7fbbf5930100>\n\t\t.UpsamplingNearest2d -> <syft.ast.klass.Class object at 0x7fbbf59307c0>\n\t\t.ZeroPad2d -> <syft.ast.klass.Class object at 0x7fbbf5930ee0>\n\n\t.return_types -> Module:\n\t\t.cummax -> <syft.ast.klass.Class object at 0x7fbbf5a9cbe0>\n\t\t.cummin -> <syft.ast.klass.Class object at 0x7fbbf5a9cc40>\n\t\t.eig -> <syft.ast.klass.Class object at 0x7fbbf5a9cca0>\n\t\t.kthvalue -> <syft.ast.klass.Class object at 0x7fbbf5a9cd00>\n\t\t.lstsq -> <syft.ast.klass.Class object at 0x7fbbf5a9cd60>\n\t\t.slogdet -> <syft.ast.klass.Class object at 0x7fbbf5a9cdc0>\n\t\t.qr -> <syft.ast.klass.Class object at 0x7fbbf5a9ce20>\n\t\t.mode -> <syft.ast.klass.Class object at 0x7fbbf5a9ce80>\n\t\t.solve -> <syft.ast.klass.Class object at 0x7fbbf5a9cee0>\n\t\t.sort -> <syft.ast.klass.Class object at 0x7fbbf5a9cf40>\n\t\t.symeig -> <syft.ast.klass.Class object at 0x7fbbf5a9cfa0>\n\t\t.topk -> <syft.ast.klass.Class object at 0x7fbbf5aa1040>\n\t\t.triangular_solve -> <syft.ast.klass.Class object at 0x7fbbf5aa1100>\n\t\t.svd -> <syft.ast.klass.Class object at 0x7fbbf5aa1160>\n\t\t.geqrf -> <syft.ast.klass.Class object at 0x7fbbf5aa11c0>\n\t\t.median -> <syft.ast.klass.Class object at 0x7fbbf5aa1220>\n\t\t.max -> <syft.ast.klass.Class object at 0x7fbbf5aa1280>\n\t\t.min -> <syft.ast.klass.Class object at 0x7fbbf5aa12e0>\n\n\t.Size -> <syft.ast.klass.Class object at 0x7fbbf59fb400>\n\t.set_grad_enabled -> <syft.ast.klass.Class object at 0x7fbbf59fb700>\n\t.zeros -> <syft.ast.callable.Callable object at 0x7fbbf59fb760>\n\t.randn -> <syft.ast.callable.Callable object at 0x7fbbf59fb7c0>\n\t.ones_like -> <syft.ast.callable.Callable object at 0x7fbbf59fb820>\n\t.arange -> <syft.ast.callable.Callable object at 0x7fbbf59fb940>\n\t.abs_ -> <syft.ast.callable.Callable object at 0x7fbbf59fb9a0>\n\t.abs -> <syft.ast.callable.Callable object at 0x7fbbf59fba00>\n\t.acos_ -> <syft.ast.callable.Callable object at 0x7fbbf59fba60>\n\t.acos -> <syft.ast.callable.Callable object at 0x7fbbf59fbac0>\n\t.add -> <syft.ast.callable.Callable object at 0x7fbbf59fbb20>\n\t.addbmm -> <syft.ast.callable.Callable object at 0x7fbbf59fbb80>\n\t.addcdiv -> <syft.ast.callable.Callable object at 0x7fbbf59fbbe0>\n\t.addcmul -> <syft.ast.callable.Callable object at 0x7fbbf59fbc40>\n\t.addmm -> <syft.ast.callable.Callable object at 0x7fbbf59fbca0>\n\t.addmv_ -> <syft.ast.callable.Callable object at 0x7fbbf59fbd00>\n\t.addmv -> <syft.ast.callable.Callable object at 0x7fbbf59fbd60>\n\t.addr -> <syft.ast.callable.Callable object at 0x7fbbf59fbdc0>\n\t.all -> <syft.ast.callable.Callable object at 0x7fbbf59fbe20>\n\t.allclose -> <syft.ast.callable.Callable object at 0x7fbbf59fbe80>\n\t.angle -> <syft.ast.callable.Callable object at 0x7fbbf59fbee0>\n\t.any -> <syft.ast.callable.Callable object at 0x7fbbf59fbf40>\n\t.argmax -> <syft.ast.callable.Callable object at 0x7fbbf59fbfa0>\n\t.argmin -> <syft.ast.callable.Callable object at 0x7fbbf59ff040>\n\t.argsort -> <syft.ast.callable.Callable object at 0x7fbbf59ff0a0>\n\t.as_strided_ -> <syft.ast.callable.Callable object at 0x7fbbf59ff100>\n\t.as_strided -> <syft.ast.callable.Callable object at 0x7fbbf59ff160>\n\t.asin_ -> <syft.ast.callable.Callable object at 0x7fbbf59ff1c0>\n\t.asin -> <syft.ast.callable.Callable object at 0x7fbbf59ff220>\n\t.atan_ -> <syft.ast.callable.Callable object at 0x7fbbf59ff280>\n\t.atan -> <syft.ast.callable.Callable object at 0x7fbbf59ff2e0>\n\t.atan2 -> <syft.ast.callable.Callable object at 0x7fbbf59ff340>\n\t.baddbmm -> <syft.ast.callable.Callable object at 0x7fbbf59ff3a0>\n\t.bernoulli -> <syft.ast.callable.Callable object at 0x7fbbf59ff400>\n\t.bitwise_and -> <syft.ast.callable.Callable object at 0x7fbbf59ff460>\n\t.bitwise_not -> <syft.ast.callable.Callable object at 0x7fbbf59ff4c0>\n\t.bitwise_or -> <syft.ast.callable.Callable object at 0x7fbbf59ff520>\n\t.bitwise_xor -> <syft.ast.callable.Callable object at 0x7fbbf59ff580>\n\t.bmm -> <syft.ast.callable.Callable object at 0x7fbbf59ff5e0>\n\t.cat -> <syft.ast.callable.Callable object at 0x7fbbf59ff640>\n\t.ceil_ -> <syft.ast.callable.Callable object at 0x7fbbf59ff6a0>\n\t.ceil -> <syft.ast.callable.Callable object at 0x7fbbf59ff700>\n\t.cholesky_inverse -> <syft.ast.callable.Callable object at 0x7fbbf59ff760>\n\t.cholesky_solve -> <syft.ast.callable.Callable object at 0x7fbbf59ff7c0>\n\t.cholesky -> <syft.ast.callable.Callable object at 0x7fbbf59ff820>\n\t.chunk -> <syft.ast.callable.Callable object at 0x7fbbf59ff880>\n\t.clamp_ -> <syft.ast.callable.Callable object at 0x7fbbf59ff8e0>\n\t.clamp_max_ -> <syft.ast.callable.Callable object at 0x7fbbf59ff940>\n\t.clamp_max -> <syft.ast.callable.Callable object at 0x7fbbf59ff9a0>\n\t.clamp_min_ -> <syft.ast.callable.Callable object at 0x7fbbf59ffa00>\n\t.clamp_min -> <syft.ast.callable.Callable object at 0x7fbbf59ffa60>\n\t.clamp -> <syft.ast.callable.Callable object at 0x7fbbf59ffac0>\n\t.clone -> <syft.ast.callable.Callable object at 0x7fbbf59ffb20>\n\t.conj -> <syft.ast.callable.Callable object at 0x7fbbf59ffb80>\n\t.cos_ -> <syft.ast.callable.Callable object at 0x7fbbf59ffbe0>\n\t.cos -> <syft.ast.callable.Callable object at 0x7fbbf59ffc40>\n\t.cosh_ -> <syft.ast.callable.Callable object at 0x7fbbf59ffca0>\n\t.cosh -> <syft.ast.callable.Callable object at 0x7fbbf59ffd00>\n\t.cross -> <syft.ast.callable.Callable object at 0x7fbbf59ffd60>\n\t.cummax -> <syft.ast.callable.Callable object at 0x7fbbf59ffdc0>\n\t.cummin -> <syft.ast.callable.Callable object at 0x7fbbf59ffe20>\n\t.cumprod -> <syft.ast.callable.Callable object at 0x7fbbf59ffe80>\n\t.cumsum -> <syft.ast.callable.Callable object at 0x7fbbf59ffee0>\n\t.dequantize -> <syft.ast.callable.Callable object at 0x7fbbf59fff40>\n\t.det -> <syft.ast.callable.Callable object at 0x7fbbf59fffa0>\n\t.detach -> <syft.ast.callable.Callable object at 0x7fbbf5a03040>\n\t.diag_embed -> <syft.ast.callable.Callable object at 0x7fbbf5a030a0>\n\t.diag -> <syft.ast.callable.Callable object at 0x7fbbf5a03100>\n\t.diagflat -> <syft.ast.callable.Callable object at 0x7fbbf5a03160>\n\t.diagonal -> <syft.ast.callable.Callable object at 0x7fbbf5a031c0>\n\t.digamma -> <syft.ast.callable.Callable object at 0x7fbbf5a03220>\n\t.dist -> <syft.ast.callable.Callable object at 0x7fbbf5a03280>\n\t.div -> <syft.ast.callable.Callable object at 0x7fbbf5a032e0>\n\t.dot -> <syft.ast.callable.Callable object at 0x7fbbf5a03340>\n\t.eig -> <syft.ast.callable.Callable object at 0x7fbbf5a033a0>\n\t.eq -> <syft.ast.callable.Callable object at 0x7fbbf5a03400>\n\t.equal -> <syft.ast.callable.Callable object at 0x7fbbf5a03460>\n\t.erf_ -> <syft.ast.callable.Callable object at 0x7fbbf5a034c0>\n\t.erf -> <syft.ast.callable.Callable object at 0x7fbbf5a03520>\n\t.erfc_ -> <syft.ast.callable.Callable object at 0x7fbbf5a03580>\n\t.erfc -> <syft.ast.callable.Callable object at 0x7fbbf5a035e0>\n\t.erfinv -> <syft.ast.callable.Callable object at 0x7fbbf5a03640>\n\t.exp_ -> <syft.ast.callable.Callable object at 0x7fbbf5a036a0>\n\t.exp -> <syft.ast.callable.Callable object at 0x7fbbf5a03700>\n\t.expm1_ -> <syft.ast.callable.Callable object at 0x7fbbf5a03760>\n\t.expm1 -> <syft.ast.callable.Callable object at 0x7fbbf5a037c0>\n\t.fft -> Module:\n\n\t.fill_ -> <syft.ast.callable.Callable object at 0x7fbbf5a03880>\n\t.flatten -> <syft.ast.callable.Callable object at 0x7fbbf5a038e0>\n\t.flip -> <syft.ast.callable.Callable object at 0x7fbbf5a03940>\n\t.floor_ -> <syft.ast.callable.Callable object at 0x7fbbf5a039a0>\n\t.floor_divide -> <syft.ast.callable.Callable object at 0x7fbbf5a03a00>\n\t.floor -> <syft.ast.callable.Callable object at 0x7fbbf5a03a60>\n\t.fmod -> <syft.ast.callable.Callable object at 0x7fbbf5a03ac0>\n\t.frac_ -> <syft.ast.callable.Callable object at 0x7fbbf5a03b20>\n\t.frac -> <syft.ast.callable.Callable object at 0x7fbbf5a03b80>\n\t.from_numpy -> <syft.ast.callable.Callable object at 0x7fbbf5a03be0>\n\t.gather -> <syft.ast.callable.Callable object at 0x7fbbf5a03c40>\n\t.ge -> <syft.ast.callable.Callable object at 0x7fbbf5a03ca0>\n\t.geqrf -> <syft.ast.callable.Callable object at 0x7fbbf5a03d00>\n\t.ger -> <syft.ast.callable.Callable object at 0x7fbbf5a03d60>\n\t.get_device -> <syft.ast.callable.Callable object at 0x7fbbf5a03dc0>\n\t.gt -> <syft.ast.callable.Callable object at 0x7fbbf5a03e20>\n\t.hardshrink -> <syft.ast.callable.Callable object at 0x7fbbf5a03e80>\n\t.histc -> <syft.ast.callable.Callable object at 0x7fbbf5a03ee0>\n\t.index_add -> <syft.ast.callable.Callable object at 0x7fbbf5a03f40>\n\t.index_copy -> <syft.ast.callable.Callable object at 0x7fbbf5a03fa0>\n\t.index_fill -> <syft.ast.callable.Callable object at 0x7fbbf5a07040>\n\t.index_put_ -> <syft.ast.callable.Callable object at 0x7fbbf5a070a0>\n\t.index_put -> <syft.ast.callable.Callable object at 0x7fbbf5a07100>\n\t.index_select -> <syft.ast.callable.Callable object at 0x7fbbf5a07160>\n\t.int_repr -> <syft.ast.callable.Callable object at 0x7fbbf5a071c0>\n\t.inverse -> <syft.ast.callable.Callable object at 0x7fbbf5a07220>\n\t.is_complex -> <syft.ast.callable.Callable object at 0x7fbbf5a07280>\n\t.is_distributed -> <syft.ast.callable.Callable object at 0x7fbbf5a072e0>\n\t.is_floating_point -> <syft.ast.callable.Callable object at 0x7fbbf5a07340>\n\t.is_nonzero -> <syft.ast.callable.Callable object at 0x7fbbf5a073a0>\n\t.is_same_size -> <syft.ast.callable.Callable object at 0x7fbbf5a07400>\n\t.is_signed -> <syft.ast.callable.Callable object at 0x7fbbf5a07460>\n\t.isclose -> <syft.ast.callable.Callable object at 0x7fbbf5a074c0>\n\t.kthvalue -> <syft.ast.callable.Callable object at 0x7fbbf5a07520>\n\t.le -> <syft.ast.callable.Callable object at 0x7fbbf5a07580>\n\t.lerp -> <syft.ast.callable.Callable object at 0x7fbbf5a075e0>\n\t.lgamma -> <syft.ast.callable.Callable object at 0x7fbbf5a07640>\n\t.log_ -> <syft.ast.callable.Callable object at 0x7fbbf5a076a0>\n\t.log_softmax -> <syft.ast.callable.Callable object at 0x7fbbf5a07700>\n\t.log -> <syft.ast.callable.Callable object at 0x7fbbf5a07760>\n\t.log10_ -> <syft.ast.callable.Callable object at 0x7fbbf5a077c0>\n\t.log10 -> <syft.ast.callable.Callable object at 0x7fbbf5a07820>\n\t.log1p_ -> <syft.ast.callable.Callable object at 0x7fbbf5a07880>\n\t.log1p -> <syft.ast.callable.Callable object at 0x7fbbf5a078e0>\n\t.log2_ -> <syft.ast.callable.Callable object at 0x7fbbf5a07940>\n\t.log2 -> <syft.ast.callable.Callable object at 0x7fbbf5a079a0>\n\t.logdet -> <syft.ast.callable.Callable object at 0x7fbbf5a07a00>\n\t.logical_and -> <syft.ast.callable.Callable object at 0x7fbbf5a07a60>\n\t.logical_not -> <syft.ast.callable.Callable object at 0x7fbbf5a07ac0>\n\t.logical_or -> <syft.ast.callable.Callable object at 0x7fbbf5a07b20>\n\t.logical_xor -> <syft.ast.callable.Callable object at 0x7fbbf5a07b80>\n\t.logsumexp -> <syft.ast.callable.Callable object at 0x7fbbf5a07be0>\n\t.lstsq -> <syft.ast.callable.Callable object at 0x7fbbf5a07c40>\n\t.lt -> <syft.ast.callable.Callable object at 0x7fbbf5a07ca0>\n\t.lu_solve -> <syft.ast.callable.Callable object at 0x7fbbf5a07d00>\n\t.lu -> <syft.ast.callable.Callable object at 0x7fbbf5a07d60>\n\t.masked_fill -> <syft.ast.callable.Callable object at 0x7fbbf5a07dc0>\n\t.masked_scatter -> <syft.ast.callable.Callable object at 0x7fbbf5a07e20>\n\t.masked_select -> <syft.ast.callable.Callable object at 0x7fbbf5a07e80>\n\t.matmul -> <syft.ast.callable.Callable object at 0x7fbbf5a07ee0>\n\t.matrix_power -> <syft.ast.callable.Callable object at 0x7fbbf5a07f40>\n\t.mean -> <syft.ast.callable.Callable object at 0x7fbbf5a07fa0>\n\t.mm -> <syft.ast.callable.Callable object at 0x7fbbf5a0a040>\n\t.mode -> <syft.ast.callable.Callable object at 0x7fbbf5a0a0a0>\n\t.mul -> <syft.ast.callable.Callable object at 0x7fbbf5a0a100>\n\t.multinomial -> <syft.ast.callable.Callable object at 0x7fbbf5a0a160>\n\t.mv -> <syft.ast.callable.Callable object at 0x7fbbf5a0a1c0>\n\t.mvlgamma -> <syft.ast.callable.Callable object at 0x7fbbf5a0a220>\n\t.narrow -> <syft.ast.callable.Callable object at 0x7fbbf5a0a280>\n\t.ne -> <syft.ast.callable.Callable object at 0x7fbbf5a0a2e0>\n\t.neg_ -> <syft.ast.callable.Callable object at 0x7fbbf5a0a340>\n\t.neg -> <syft.ast.callable.Callable object at 0x7fbc1ead2be0>\n\t.nonzero -> <syft.ast.callable.Callable object at 0x7fbbf5a0a3a0>\n\t.norm -> <syft.ast.callable.Callable object at 0x7fbbf5a0a400>\n\t.orgqr -> <syft.ast.callable.Callable object at 0x7fbbf5a0a460>\n\t.ormqr -> <syft.ast.callable.Callable object at 0x7fbbf5a0a4c0>\n\t.pinverse -> <syft.ast.callable.Callable object at 0x7fbbf5a0a520>\n\t.polygamma -> <syft.ast.callable.Callable object at 0x7fbbf5a0a580>\n\t.pow -> <syft.ast.callable.Callable object at 0x7fbbf5a0a5e0>\n\t.prelu -> <syft.ast.callable.Callable object at 0x7fbbf5a0a640>\n\t.q_per_channel_axis -> <syft.ast.callable.Callable object at 0x7fbbf5a0a6a0>\n\t.q_per_channel_scales -> <syft.ast.callable.Callable object at 0x7fbbf5a0a700>\n\t.q_per_channel_zero_points -> <syft.ast.callable.Callable object at 0x7fbbf5a0a760>\n\t.q_scale -> <syft.ast.callable.Callable object at 0x7fbbf5a0a7c0>\n\t.q_zero_point -> <syft.ast.callable.Callable object at 0x7fbbf5a0a820>\n\t.qr -> <syft.ast.callable.Callable object at 0x7fbbf5a0a880>\n\t.reciprocal_ -> <syft.ast.callable.Callable object at 0x7fbbf5a0a8e0>\n\t.reciprocal -> <syft.ast.callable.Callable object at 0x7fbbf5a0a940>\n\t.relu_ -> <syft.ast.callable.Callable object at 0x7fbbf5a0a9a0>\n\t.relu -> <syft.ast.callable.Callable object at 0x7fbbf5a0aa00>\n\t.remainder -> <syft.ast.callable.Callable object at 0x7fbbf5a0aa60>\n\t.renorm -> <syft.ast.callable.Callable object at 0x7fbbf5a0aac0>\n\t.repeat_interleave -> <syft.ast.callable.Callable object at 0x7fbbf5a0ab20>\n\t.reshape -> <syft.ast.callable.Callable object at 0x7fbbf5a0ab80>\n\t.resize_as_ -> <syft.ast.callable.Callable object at 0x7fbbf5a0abe0>\n\t.roll -> <syft.ast.callable.Callable object at 0x7fbbf5a0ac40>\n\t.rot90 -> <syft.ast.callable.Callable object at 0x7fbbf5a0aca0>\n\t.round_ -> <syft.ast.callable.Callable object at 0x7fbbf5a0ad00>\n\t.round -> <syft.ast.callable.Callable object at 0x7fbbf5a0ad60>\n\t.rsqrt_ -> <syft.ast.callable.Callable object at 0x7fbbf5a0adc0>\n\t.rsqrt -> <syft.ast.callable.Callable object at 0x7fbbf5a0ae20>\n\t.scatter_add -> <syft.ast.callable.Callable object at 0x7fbbf5a0ae80>\n\t.scatter -> <syft.ast.callable.Callable object at 0x7fbbf5a0aee0>\n\t.select -> <syft.ast.callable.Callable object at 0x7fbbf5a0af40>\n\t.sigmoid_ -> <syft.ast.callable.Callable object at 0x7fbbf5a0afa0>\n\t.sigmoid -> <syft.ast.callable.Callable object at 0x7fbbf5a0f040>\n\t.sign -> <syft.ast.callable.Callable object at 0x7fbbf5a0f0a0>\n\t.sin_ -> <syft.ast.callable.Callable object at 0x7fbbf5a0f100>\n\t.sin -> <syft.ast.callable.Callable object at 0x7fbbf5a0f160>\n\t.sinh_ -> <syft.ast.callable.Callable object at 0x7fbbf5a0f1c0>\n\t.sinh -> <syft.ast.callable.Callable object at 0x7fbbf5a0f220>\n\t.slogdet -> <syft.ast.callable.Callable object at 0x7fbbf5a0f280>\n\t.softmax -> <syft.ast.callable.Callable object at 0x7fbbf5a0f2e0>\n\t.solve -> <syft.ast.callable.Callable object at 0x7fbbf5a0f340>\n\t.sort -> <syft.ast.callable.Callable object at 0x7fbbf5a0f3a0>\n\t.split_with_sizes -> <syft.ast.callable.Callable object at 0x7fbbf5a0f400>\n\t.split -> <syft.ast.callable.Callable object at 0x7fbbf5a0f460>\n\t.sqrt_ -> <syft.ast.callable.Callable object at 0x7fbbf5a0f4c0>\n\t.sqrt -> <syft.ast.callable.Callable object at 0x7fbbf5a0f520>\n\t.square_ -> <syft.ast.callable.Callable object at 0x7fbbf5a0f580>\n\t.square -> <syft.ast.callable.Callable object at 0x7fbbf5a0f5e0>\n\t.squeeze -> <syft.ast.callable.Callable object at 0x7fbbf5a0f640>\n\t.stack -> <syft.ast.callable.Callable object at 0x7fbbf5a0f6a0>\n\t.std -> <syft.ast.callable.Callable object at 0x7fbbf5a0f700>\n\t.stft -> <syft.ast.callable.Callable object at 0x7fbbf5a0f760>\n\t.sub -> <syft.ast.callable.Callable object at 0x7fbbf5a0f7c0>\n\t.sum -> <syft.ast.callable.Callable object at 0x7fbbf5a0f820>\n\t.svd -> <syft.ast.callable.Callable object at 0x7fbbf5a0f880>\n\t.symeig -> <syft.ast.callable.Callable object at 0x7fbbf5a0f8e0>\n\t.t -> <syft.ast.callable.Callable object at 0x7fbbf5a0f940>\n\t.take -> <syft.ast.callable.Callable object at 0x7fbbf5a0f9a0>\n\t.tan_ -> <syft.ast.callable.Callable object at 0x7fbbf5a0fa00>\n\t.tan -> <syft.ast.callable.Callable object at 0x7fbbf5a0fa60>\n\t.tanh_ -> <syft.ast.callable.Callable object at 0x7fbbf5a0fac0>\n\t.tanh -> <syft.ast.callable.Callable object at 0x7fbbf5a0fb20>\n\t.topk -> <syft.ast.callable.Callable object at 0x7fbbf5a0fb80>\n\t.trace -> <syft.ast.callable.Callable object at 0x7fbbf5a0fbe0>\n\t.transpose -> <syft.ast.callable.Callable object at 0x7fbbf5a0fc40>\n\t.triangular_solve -> <syft.ast.callable.Callable object at 0x7fbbf5a0fca0>\n\t.tril -> <syft.ast.callable.Callable object at 0x7fbbf5a0fd00>\n\t.triu -> <syft.ast.callable.Callable object at 0x7fbbf5a0fd60>\n\t.true_divide -> <syft.ast.callable.Callable object at 0x7fbbf5a0fdc0>\n\t.trunc_ -> <syft.ast.callable.Callable object at 0x7fbbf5a0fe20>\n\t.trunc -> <syft.ast.callable.Callable object at 0x7fbbf5a0fe80>\n\t.unique_consecutive -> <syft.ast.callable.Callable object at 0x7fbbf5a0fee0>\n\t.unique -> <syft.ast.callable.Callable object at 0x7fbbf5a0ff40>\n\t.unsqueeze -> <syft.ast.callable.Callable object at 0x7fbbf5a0ffa0>\n\t.var -> <syft.ast.callable.Callable object at 0x7fbbf5a14040>\n\t.unsafe_chunk -> <syft.ast.callable.Callable object at 0x7fbbf5a140a0>\n\t.absolute -> <syft.ast.callable.Callable object at 0x7fbbf5a14100>\n\t.acosh_ -> <syft.ast.callable.Callable object at 0x7fbbf5a14160>\n\t.acosh -> <syft.ast.callable.Callable object at 0x7fbbf5a141c0>\n\t.asinh_ -> <syft.ast.callable.Callable object at 0x7fbbf5a14220>\n\t.asinh -> <syft.ast.callable.Callable object at 0x7fbbf5a14280>\n\t.atanh_ -> <syft.ast.callable.Callable object at 0x7fbbf5a142e0>\n\t.atanh -> <syft.ast.callable.Callable object at 0x7fbbf5a14340>\n\t.deg2rad_ -> <syft.ast.callable.Callable object at 0x7fbbf5a143a0>\n\t.deg2rad -> <syft.ast.callable.Callable object at 0x7fbbf5a14400>\n\t.fliplr -> <syft.ast.callable.Callable object at 0x7fbbf5a14460>\n\t.flipud -> <syft.ast.callable.Callable object at 0x7fbbf5a144c0>\n\t.isfinite -> <syft.ast.callable.Callable object at 0x7fbbf5a14520>\n\t.isinf -> <syft.ast.callable.Callable object at 0x7fbbf5a14580>\n\t.isnan -> <syft.ast.callable.Callable object at 0x7fbbf5a145e0>\n\t.logaddexp -> <syft.ast.callable.Callable object at 0x7fbbf5a14640>\n\t.logaddexp2 -> <syft.ast.callable.Callable object at 0x7fbbf5a146a0>\n\t.logcumsumexp -> <syft.ast.callable.Callable object at 0x7fbbf5a14700>\n\t.rad2deg_ -> <syft.ast.callable.Callable object at 0x7fbbf5a14760>\n\t.rad2deg -> <syft.ast.callable.Callable object at 0x7fbbf5a147c0>\n\t.istft -> <syft.ast.callable.Callable object at 0x7fbbf5a14820>\n\t.amax -> <syft.ast.callable.Callable object at 0x7fbbf5a14880>\n\t.amin -> <syft.ast.callable.Callable object at 0x7fbbf5a148e0>\n\t.arccos -> <syft.ast.callable.Callable object at 0x7fbbf5a14940>\n\t.arccos_ -> <syft.ast.callable.Callable object at 0x7fbbf5a149a0>\n\t.arccosh -> <syft.ast.callable.Callable object at 0x7fbbf5a14a00>\n\t.arccosh_ -> <syft.ast.callable.Callable object at 0x7fbbf5a14a60>\n\t.arcsin -> <syft.ast.callable.Callable object at 0x7fbbf5a14ac0>\n\t.arcsin_ -> <syft.ast.callable.Callable object at 0x7fbbf5a14b20>\n\t.arcsinh -> <syft.ast.callable.Callable object at 0x7fbbf5a14b80>\n\t.arcsinh_ -> <syft.ast.callable.Callable object at 0x7fbbf5a14be0>\n\t.arctan -> <syft.ast.callable.Callable object at 0x7fbbf5a14c40>\n\t.arctan_ -> <syft.ast.callable.Callable object at 0x7fbbf5a14ca0>\n\t.arctanh -> <syft.ast.callable.Callable object at 0x7fbbf5a14d00>\n\t.arctanh_ -> <syft.ast.callable.Callable object at 0x7fbbf5a14d60>\n\t.clip -> <syft.ast.callable.Callable object at 0x7fbbf5a14dc0>\n\t.clip_ -> <syft.ast.callable.Callable object at 0x7fbbf5a14e20>\n\t.count_nonzero -> <syft.ast.callable.Callable object at 0x7fbbf5a14e80>\n\t.divide -> <syft.ast.callable.Callable object at 0x7fbbf5a14ee0>\n\t.exp2 -> <syft.ast.callable.Callable object at 0x7fbbf5a14f40>\n\t.exp2_ -> <syft.ast.callable.Callable object at 0x7fbbf5a14fa0>\n\t.fix -> <syft.ast.callable.Callable object at 0x7fbbf5a19040>\n\t.fix_ -> <syft.ast.callable.Callable object at 0x7fbbf5a190a0>\n\t.gcd -> <syft.ast.callable.Callable object at 0x7fbbf5a19100>\n\t.gcd_ -> <syft.ast.callable.Callable object at 0x7fbbf5a19160>\n\t.greater -> <syft.ast.callable.Callable object at 0x7fbbf5a191c0>\n\t.greater_equal -> <syft.ast.callable.Callable object at 0x7fbbf5a19220>\n\t.heaviside -> <syft.ast.callable.Callable object at 0x7fbbf5a19280>\n\t.hypot -> <syft.ast.callable.Callable object at 0x7fbbf5a192e0>\n\t.i0 -> <syft.ast.callable.Callable object at 0x7fbbf5a19340>\n\t.i0_ -> <syft.ast.callable.Callable object at 0x7fbbf5a193a0>\n\t.isneginf -> <syft.ast.callable.Callable object at 0x7fbbf5a19400>\n\t.isposinf -> <syft.ast.callable.Callable object at 0x7fbbf5a19460>\n\t.isreal -> <syft.ast.callable.Callable object at 0x7fbbf5a194c0>\n\t.lcm -> <syft.ast.callable.Callable object at 0x7fbbf5a19520>\n\t.lcm_ -> <syft.ast.callable.Callable object at 0x7fbbf5a19580>\n\t.less -> <syft.ast.callable.Callable object at 0x7fbbf5a195e0>\n\t.less_equal -> <syft.ast.callable.Callable object at 0x7fbbf5a19640>\n\t.logit -> <syft.ast.callable.Callable object at 0x7fbbf5a196a0>\n\t.logit_ -> <syft.ast.callable.Callable object at 0x7fbbf5a19700>\n\t.maximum -> <syft.ast.callable.Callable object at 0x7fbbf5a19760>\n\t.minimum -> <syft.ast.callable.Callable object at 0x7fbbf5a197c0>\n\t.matrix_exp -> <syft.ast.callable.Callable object at 0x7fbbf5a19820>\n\t.multiply -> <syft.ast.callable.Callable object at 0x7fbbf5a19880>\n\t.nanquantile -> <syft.ast.callable.Callable object at 0x7fbbf5a198e0>\n\t.nansum -> <syft.ast.callable.Callable object at 0x7fbbf5a19940>\n\t.negative -> <syft.ast.callable.Callable object at 0x7fbbf5a199a0>\n\t.negative_ -> <syft.ast.callable.Callable object at 0x7fbbf5a19a00>\n\t.nextafter -> <syft.ast.callable.Callable object at 0x7fbbf5a19a60>\n\t.outer -> <syft.ast.callable.Callable object at 0x7fbbf5a19ac0>\n\t.quantile -> <syft.ast.callable.Callable object at 0x7fbbf5a19b20>\n\t.sgn -> <syft.ast.callable.Callable object at 0x7fbbf5a19b80>\n\t.signbit -> <syft.ast.callable.Callable object at 0x7fbbf5a19be0>\n\t.subtract -> <syft.ast.callable.Callable object at 0x7fbbf5a19c40>\n\t.unsafe_split -> <syft.ast.callable.Callable object at 0x7fbbf5a19ca0>\n\t.vdot -> <syft.ast.callable.Callable object at 0x7fbbf5a19d00>\n\t.movedim -> <syft.ast.callable.Callable object at 0x7fbbf5a19d60>\n\t.unsafe_split_with_sizes -> <syft.ast.callable.Callable object at 0x7fbbf5a19dc0>\n\t.cuda -> Module:\n\t\t.is_available -> <syft.ast.callable.Callable object at 0x7fbbf5a19e80>\n\n\t.device -> <syft.ast.klass.Class object at 0x7fbbf5a19ee0>\n\t.random -> Module:\n\t\t.initial_seed -> <syft.ast.callable.Callable object at 0x7fbbf5a1d0a0>\n\n\t.zeros_like -> <syft.ast.callable.Callable object at 0x7fbbf5a1d100>\n\t.manual_seed -> <syft.ast.callable.Callable object at 0x7fbbf5a1d160>\n\t.Generator -> <syft.ast.klass.Class object at 0x7fbbf5a1d1c0>\n\t.utils -> Module:\n\t\t.data -> Module:\n\t\t\t.DataLoader -> <syft.ast.klass.Class object at 0x7fbbf5a234c0>\n\t\t\t.dataloader -> Module:\n\t\t\t\t._SingleProcessDataLoaderIter -> <syft.ast.klass.Class object at 0x7fbbf5a23700>\n\n\n\n\t.optim -> Module:\n\t\t.ASGD -> <syft.ast.klass.Class object at 0x7fbbf5a23ac0>\n\t\t.Adadelta -> <syft.ast.klass.Class object at 0x7fbbf5a23c40>\n\t\t.Adagrad -> <syft.ast.klass.Class object at 0x7fbbf5a23dc0>\n\t\t.Adam -> <syft.ast.klass.Class object at 0x7fbbf5a23f40>\n\t\t.AdamW -> <syft.ast.klass.Class object at 0x7fbbf5a27100>\n\t\t.Adamax -> <syft.ast.klass.Class object at 0x7fbbf5a27280>\n\t\t.LBFGS -> <syft.ast.klass.Class object at 0x7fbbf5a27400>\n\t\t.Optimizer -> <syft.ast.klass.Class object at 0x7fbbf5a27580>\n\t\t.RMSprop -> <syft.ast.klass.Class object at 0x7fbbf5a27760>\n\t\t.Rprop -> <syft.ast.klass.Class object at 0x7fbbf5a278e0>\n\t\t.SGD -> <syft.ast.klass.Class object at 0x7fbbf5a27a60>\n\t\t.SparseAdam -> <syft.ast.klass.Class object at 0x7fbbf5a27be0>\n\t\t.lr_scheduler -> Module:\n\t\t\t.StepLR -> <syft.ast.klass.Class object at 0x7fbbf5a27e80>\n\n\n\t.no_grad -> <syft.ast.klass.Class object at 0x7fbbf5a2b0a0>\n\t.autograd -> Module:\n\t\t.grad_mode -> Module:\n\t\t\t.no_grad -> <syft.ast.klass.Class object at 0x7fbbf5a2b220>\n\n\n\t.distributions -> Module:\n\t\t.Categorical -> <syft.ast.klass.Class object at 0x7fbbf5932400>\n\n\t.kron -> <syft.ast.callable.Callable object at 0x7fbbf59329a0>\n\t.msort -> <syft.ast.callable.Callable object at 0x7fbbf5932ac0>\n\t.row_stack -> <syft.ast.callable.Callable object at 0x7fbbf5932b20>\n\t.moveaxis -> <syft.ast.callable.Callable object at 0x7fbbf5932e20>\n\t.tensor_split -> <syft.ast.callable.Callable object at 0x7fbbf5932f40>\n\t.tile -> <syft.ast.callable.Callable object at 0x7fbbf59370a0>\n\t.fmin -> <syft.ast.callable.Callable object at 0x7fbbf5937280>\n\t.ldexp -> <syft.ast.callable.Callable object at 0x7fbbf59372e0>\n\t.igamma -> <syft.ast.callable.Callable object at 0x7fbbf5937400>\n\t.float_power -> <syft.ast.callable.Callable object at 0x7fbbf59378e0>\n\t.xlogy -> <syft.ast.callable.Callable object at 0x7fbbf5937a00>\n\t.copysign -> <syft.ast.callable.Callable object at 0x7fbbf5937a60>\n\t.nanmedian -> <syft.ast.callable.Callable object at 0x7fbbf5937ac0>\n\t.igammac -> <syft.ast.callable.Callable object at 0x7fbbf5937b20>\n\t.diff -> <syft.ast.callable.Callable object at 0x7fbbf5937c40>\n\t.sinc -> <syft.ast.callable.Callable object at 0x7fbbf5937d60>\n\t.column_stack -> <syft.ast.callable.Callable object at 0x7fbbf5937f40>\n\t.pixel_unshuffle -> <syft.ast.callable.Callable object at 0x7fbbf593c0a0>\n\t.swapaxes -> <syft.ast.callable.Callable object at 0x7fbbf593c340>\n\t.nan_to_num -> <syft.ast.callable.Callable object at 0x7fbbf593c3a0>\n\t.inner -> <syft.ast.callable.Callable object at 0x7fbbf593c400>\n\t.fmax -> <syft.ast.callable.Callable object at 0x7fbbf593c460>\n\t.ravel -> <syft.ast.callable.Callable object at 0x7fbbf593c7c0>\n\t.broadcast_to -> <syft.ast.callable.Callable object at 0x7fbbf593c820>\n\t.swapdims -> <syft.ast.callable.Callable object at 0x7fbbf593ca00>"
          },
          "metadata": {}
        }
      ],
      "execution_count": 9,
      "metadata": {
        "jupyter": {
          "source_hidden": false,
          "outputs_hidden": true
        },
        "nteract": {
          "transient": {
            "deleting": false
          }
        },
        "gather": {
          "logged": 1631194492827
        }
      }
    },
    {
      "cell_type": "markdown",
      "source": [
        "### Sending server's data to the client"
      ],
      "metadata": {
        "nteract": {
          "transient": {
            "deleting": false
          }
        }
      }
    },
    {
      "cell_type": "code",
      "source": [
        "x = torch.tensor([1,2,3]).tag(\"hey\", \"there\", \"buddy\")\n",
        "x.description = \"wow what a day\"\n",
        "x_ptr = x.send(root_client)"
      ],
      "outputs": [],
      "execution_count": 6,
      "metadata": {
        "jupyter": {
          "source_hidden": false,
          "outputs_hidden": false
        },
        "nteract": {
          "transient": {
            "deleting": false
          }
        },
        "gather": {
          "logged": 1631256687078
        }
      }
    },
    {
      "cell_type": "code",
      "source": [
        "root_client.store.pandas"
      ],
      "outputs": [
        {
          "output_type": "execute_result",
          "execution_count": 7,
          "data": {
            "text/plain": "                                        ID                 Tags  \\\n0  <UID: 3ac15d40eb884c2dad99b90e8b805006>  [hey, there, buddy]   \n\n      Description             object_type  \n0  wow what a day  <class 'torch.Tensor'>  ",
            "text/html": "<div>\n<style scoped>\n    .dataframe tbody tr th:only-of-type {\n        vertical-align: middle;\n    }\n\n    .dataframe tbody tr th {\n        vertical-align: top;\n    }\n\n    .dataframe thead th {\n        text-align: right;\n    }\n</style>\n<table border=\"1\" class=\"dataframe\">\n  <thead>\n    <tr style=\"text-align: right;\">\n      <th></th>\n      <th>ID</th>\n      <th>Tags</th>\n      <th>Description</th>\n      <th>object_type</th>\n    </tr>\n  </thead>\n  <tbody>\n    <tr>\n      <th>0</th>\n      <td>&lt;UID: 3ac15d40eb884c2dad99b90e8b805006&gt;</td>\n      <td>[hey, there, buddy]</td>\n      <td>wow what a day</td>\n      <td>&lt;class 'torch.Tensor'&gt;</td>\n    </tr>\n  </tbody>\n</table>\n</div>"
          },
          "metadata": {}
        }
      ],
      "execution_count": 7,
      "metadata": {
        "jupyter": {
          "source_hidden": false,
          "outputs_hidden": false
        },
        "nteract": {
          "transient": {
            "deleting": false
          }
        },
        "gather": {
          "logged": 1631256689133
        }
      }
    },
    {
      "cell_type": "code",
      "source": [
        "client.store.pandas  # should not show anything"
      ],
      "outputs": [
        {
          "output_type": "execute_result",
          "execution_count": 9,
          "data": {
            "text/plain": "                                        ID                 Tags  \\\n0  <UID: 3ac15d40eb884c2dad99b90e8b805006>  [hey, there, buddy]   \n\n      Description             object_type  \n0  wow what a day  <class 'torch.Tensor'>  ",
            "text/html": "<div>\n<style scoped>\n    .dataframe tbody tr th:only-of-type {\n        vertical-align: middle;\n    }\n\n    .dataframe tbody tr th {\n        vertical-align: top;\n    }\n\n    .dataframe thead th {\n        text-align: right;\n    }\n</style>\n<table border=\"1\" class=\"dataframe\">\n  <thead>\n    <tr style=\"text-align: right;\">\n      <th></th>\n      <th>ID</th>\n      <th>Tags</th>\n      <th>Description</th>\n      <th>object_type</th>\n    </tr>\n  </thead>\n  <tbody>\n    <tr>\n      <th>0</th>\n      <td>&lt;UID: 3ac15d40eb884c2dad99b90e8b805006&gt;</td>\n      <td>[hey, there, buddy]</td>\n      <td>wow what a day</td>\n      <td>&lt;class 'torch.Tensor'&gt;</td>\n    </tr>\n  </tbody>\n</table>\n</div>"
          },
          "metadata": {}
        }
      ],
      "execution_count": 9,
      "metadata": {
        "jupyter": {
          "source_hidden": false,
          "outputs_hidden": false
        },
        "nteract": {
          "transient": {
            "deleting": false
          }
        },
        "gather": {
          "logged": 1631256744276
        }
      }
    },
    {
      "cell_type": "markdown",
      "source": [
        "### Sending client's data to the server"
      ],
      "metadata": {
        "nteract": {
          "transient": {
            "deleting": false
          }
        }
      }
    },
    {
      "cell_type": "code",
      "source": [
        "root_client_data_ptr = remote_torch.randn(size=(1, 100))\n",
        "print(f'pointer to client data: {root_client_data_ptr}')\n",
        "client_data = root_client_data_ptr.get()\n",
        "print(client_data)\n",
        "print(client_data.device)"
      ],
      "outputs": [
        {
          "output_type": "stream",
          "name": "stdout",
          "text": "pointer to client data: <syft.proxy.torch.TensorPointer object at 0x7f3c3d9bf220>\ntensor([[-0.8490, -0.3528,  1.1262,  2.5993, -0.0522,  2.0475,  0.2407,  0.5821,\n         -1.3793,  1.1260,  0.1360,  0.2554,  1.4984,  1.1111,  0.1778, -0.2173,\n          0.5765,  0.3791,  0.8984, -0.8942,  1.4765,  1.6995,  2.1662,  0.7103,\n          1.0295,  2.5990, -1.1429, -0.1411, -0.6498, -0.5277,  0.6104,  0.1412,\n          0.4084, -0.5618,  0.6036, -0.3896,  0.5497,  1.7065,  0.0769,  0.1981,\n         -0.3803,  0.2298,  0.2763,  0.2191,  0.3057,  1.1697, -0.9724, -0.2015,\n         -0.7625,  0.6670, -1.9188,  0.4393, -0.2626, -0.2723,  0.2192,  0.5234,\n          1.4330, -1.9719, -1.5744,  1.1942,  0.3785, -1.0146, -0.7447,  0.3490,\n          1.0636, -0.8486,  0.5488,  0.8967, -0.5624, -0.6214,  0.4557,  0.8365,\n         -0.8060,  0.1352,  0.4598, -1.0482, -0.2478, -0.4842,  0.8842, -0.9080,\n          1.9151, -0.8233,  2.0673,  1.3958, -1.6099,  1.4482, -0.4422, -0.2822,\n          0.8713, -1.2737,  1.8609, -0.2052, -1.4545, -2.4072, -0.5642, -0.6512,\n         -1.0162, -0.7453,  2.1860, -2.0692]])\ncpu\n"
        }
      ],
      "execution_count": 13,
      "metadata": {
        "jupyter": {
          "source_hidden": false,
          "outputs_hidden": false
        },
        "nteract": {
          "transient": {
            "deleting": false
          }
        },
        "gather": {
          "logged": 1631257055226
        }
      }
    },
    {
      "cell_type": "markdown",
      "source": [
        "### Checking out client's device (cuda or CPU)"
      ],
      "metadata": {
        "nteract": {
          "transient": {
            "deleting": false
          }
        }
      }
    },
    {
      "cell_type": "markdown",
      "source": [
        "For root client"
      ],
      "metadata": {
        "nteract": {
          "transient": {
            "deleting": false
          }
        }
      }
    },
    {
      "cell_type": "code",
      "source": [
        "root_client_cuda_ptr = remote_torch.cuda.is_available()\n",
        "root_client_cuda_ptr.id_at_location"
      ],
      "outputs": [
        {
          "output_type": "execute_result",
          "execution_count": 7,
          "data": {
            "text/plain": "<UID: 3655ddc2605444e4916d80b9401026e1>"
          },
          "metadata": {}
        }
      ],
      "execution_count": 7,
      "metadata": {
        "jupyter": {
          "source_hidden": false,
          "outputs_hidden": false
        },
        "nteract": {
          "transient": {
            "deleting": false
          }
        },
        "gather": {
          "logged": 1631197209882
        }
      }
    },
    {
      "cell_type": "code",
      "source": [
        "bool_cuda = root_client_cuda_ptr.get_copy()\n",
        "print(f'root client has CUDA? {bool_cuda}')\n",
        "\n",
        "cuda_ptr = remote_torch.device(\"cuda\" if bool_cuda else \"cpu\")\n",
        "print(f'root client device: {cuda_ptr.type.get_copy()}')"
      ],
      "outputs": [
        {
          "output_type": "stream",
          "name": "stdout",
          "text": "root client has CUDA? True\nroot client device: cuda\n"
        }
      ],
      "execution_count": 8,
      "metadata": {
        "jupyter": {
          "source_hidden": false,
          "outputs_hidden": false
        },
        "nteract": {
          "transient": {
            "deleting": false
          }
        },
        "gather": {
          "logged": 1631197229980
        }
      }
    },
    {
      "cell_type": "markdown",
      "source": [
        "What if the server requests a cuda tensor?"
      ],
      "metadata": {
        "nteract": {
          "transient": {
            "deleting": false
          }
        }
      }
    },
    {
      "cell_type": "code",
      "source": [
        "root_client_data_ptr = remote_torch.randn(size=(1, 100)).cuda()\n",
        "print(f'pointer to client data: {root_client_data_ptr}')\n",
        "try:\n",
        "    client_data = root_client_data_ptr.get()\n",
        "    print(client_data)\n",
        "    print(client_data.device)\n",
        "except TypeError as e:\n",
        "    print(e)"
      ],
      "outputs": [
        {
          "output_type": "stream",
          "name": "stdout",
          "text": "pointer to client data: <syft.proxy.torch.TensorPointer object at 0x7f3c3d9f7640>\ncan't convert cuda:0 device type tensor to numpy. Use Tensor.cpu() to copy the tensor to host memory first.\n"
        }
      ],
      "execution_count": 17,
      "metadata": {
        "jupyter": {
          "source_hidden": false,
          "outputs_hidden": false
        },
        "nteract": {
          "transient": {
            "deleting": false
          }
        },
        "gather": {
          "logged": 1631257755299
        }
      }
    },
    {
      "cell_type": "markdown",
      "source": [
        "Check out device for normal client (somehow syft asks for request, which I don't know how to accept yet)"
      ],
      "metadata": {
        "nteract": {
          "transient": {
            "deleting": false
          }
        }
      }
    },
    {
      "cell_type": "code",
      "source": [
        "from syft.core.node.common.service.auth import AuthorizationException\n",
        "remote_torch2 = client.torch\n",
        "bool_cuda_ptr2 = remote_torch2.cuda.is_available()\n",
        "try:\n",
        "    bool_cuda2 = bool_cuda_ptr2.get_copy()\n",
        "    print(f'client has CUDA? {bool_cuda2}')\n",
        "    cuda_ptr = remote_torch2.device(\"cuda\" if bool_cuda else \"cpu\")\n",
        "    print(f'client device: {cuda_ptr.type.get_copy()}')\n",
        "except AuthorizationException as e:\n",
        "    print(e)"
      ],
      "outputs": [
        {
          "output_type": "stream",
          "name": "stderr",
          "text": "[2021-09-10T07:13:23.135178+0000][CRITICAL][logger]][4012] You do not have permission to .get() Object with ID: <UID: 2a52d046239644e4abfd6a0a90154e31>Please submit a request.\n[2021-09-10T07:13:23.135717+0000][CRITICAL][logger]][4012] You do not have permission to .get() Object with ID: <UID: 2a52d046239644e4abfd6a0a90154e31>Please submit a request.\n[2021-09-10T07:13:23.137206+0000][CRITICAL][logger]][4012] You do not have permission to .get() Object with ID: <UID: 2a52d046239644e4abfd6a0a90154e31>Please submit a request.\n"
        },
        {
          "output_type": "stream",
          "name": "stdout",
          "text": "You do not have permission to .get() Object with ID: <UID: 2a52d046239644e4abfd6a0a90154e31>Please submit a request.\n"
        }
      ],
      "execution_count": 20,
      "metadata": {
        "jupyter": {
          "source_hidden": false,
          "outputs_hidden": false
        },
        "nteract": {
          "transient": {
            "deleting": false
          }
        },
        "gather": {
          "logged": 1631258003504
        }
      }
    },
    {
      "cell_type": "markdown",
      "source": [
        "### Sending data and do operations"
      ],
      "metadata": {
        "nteract": {
          "transient": {
            "deleting": false
          }
        }
      }
    },
    {
      "cell_type": "code",
      "source": [
        "t1 = torch.tensor([1, 2])\n",
        "t2 = torch.tensor([1, 3])\n",
        "syft_list = List([t1, t2])\n",
        "syft_list_ptr = syft_list.send(client)"
      ],
      "outputs": [],
      "execution_count": 10,
      "metadata": {
        "jupyter": {
          "source_hidden": false,
          "outputs_hidden": false
        },
        "nteract": {
          "transient": {
            "deleting": false
          }
        },
        "gather": {
          "logged": 1631193923966
        }
      }
    },
    {
      "cell_type": "code",
      "source": [
        "res = syft_list_ptr.get_copy()\n",
        "res"
      ],
      "outputs": [
        {
          "output_type": "execute_result",
          "execution_count": 11,
          "data": {
            "text/plain": "[tensor([1, 2]), tensor([1, 3])]"
          },
          "metadata": {}
        }
      ],
      "execution_count": 11,
      "metadata": {
        "jupyter": {
          "source_hidden": false,
          "outputs_hidden": false
        },
        "nteract": {
          "transient": {
            "deleting": false
          }
        },
        "gather": {
          "logged": 1631193925502
        }
      }
    },
    {
      "cell_type": "code",
      "source": [
        "tensor_type='uint8'\n",
        "op_name = '__add__'"
      ],
      "outputs": [],
      "execution_count": 12,
      "metadata": {
        "jupyter": {
          "source_hidden": false,
          "outputs_hidden": false
        },
        "nteract": {
          "transient": {
            "deleting": false
          }
        },
        "gather": {
          "logged": 1631193949919
        }
      }
    },
    {
      "cell_type": "code",
      "source": [
        "x = torch.tensor([-1, 0, 1, 2, 3, 4])\n",
        "xp = x.send(client)\n",
        "op_method = getattr(xp, op_name, None)\n",
        "target_op_method = getattr(x, op_name)\n",
        "\n",
        "print(op_method)\n",
        "print(target_op_method)"
      ],
      "outputs": [
        {
          "output_type": "stream",
          "name": "stdout",
          "text": "<bound method get_run_class_method.<locals>.run_class_method of <syft.proxy.torch.TensorPointer object at 0x7f92d2bad640>>\n<built-in method __add__ of Tensor object at 0x7f92d2b40700>\n"
        }
      ],
      "execution_count": 13,
      "metadata": {
        "jupyter": {
          "source_hidden": false,
          "outputs_hidden": false
        },
        "nteract": {
          "transient": {
            "deleting": false
          }
        },
        "gather": {
          "logged": 1631193951305
        }
      }
    },
    {
      "cell_type": "code",
      "source": [
        "result = op_method(xp)  # op(xp, xp)\n",
        "target_result = target_op_method(x)\n",
        "\n",
        "local_result = result.get()\n",
        "\n",
        "assert (local_result == target_result).all()"
      ],
      "outputs": [],
      "execution_count": 14,
      "metadata": {
        "jupyter": {
          "source_hidden": false,
          "outputs_hidden": false
        },
        "nteract": {
          "transient": {
            "deleting": false
          }
        },
        "gather": {
          "logged": 1631193954180
        }
      }
    },
    {
      "cell_type": "code",
      "source": [
        "local_result"
      ],
      "outputs": [
        {
          "output_type": "execute_result",
          "execution_count": 15,
          "data": {
            "text/plain": "tensor([-2,  0,  2,  4,  6,  8])"
          },
          "metadata": {}
        }
      ],
      "execution_count": 15,
      "metadata": {
        "jupyter": {
          "source_hidden": false,
          "outputs_hidden": false
        },
        "nteract": {
          "transient": {
            "deleting": false
          }
        },
        "gather": {
          "logged": 1631193956922
        }
      }
    },
    {
      "cell_type": "code",
      "source": [],
      "outputs": [],
      "execution_count": null,
      "metadata": {
        "jupyter": {
          "source_hidden": false,
          "outputs_hidden": false
        },
        "nteract": {
          "transient": {
            "deleting": false
          }
        }
      }
    }
  ],
  "metadata": {
    "kernelspec": {
      "name": "syftenv2",
      "language": "python",
      "display_name": "SyftEnv2"
    },
    "language_info": {
      "name": "python",
      "version": "3.9.6",
      "mimetype": "text/x-python",
      "codemirror_mode": {
        "name": "ipython",
        "version": 3
      },
      "pygments_lexer": "ipython3",
      "nbconvert_exporter": "python",
      "file_extension": ".py"
    },
    "kernel_info": {
      "name": "syftenv2"
    },
    "nteract": {
      "version": "nteract-front-end@1.0.0"
    },
    "microsoft": {
      "host": {
        "AzureML": {
          "notebookHasBeenCompleted": true
        }
      }
    }
  },
  "nbformat": 4,
  "nbformat_minor": 2
}