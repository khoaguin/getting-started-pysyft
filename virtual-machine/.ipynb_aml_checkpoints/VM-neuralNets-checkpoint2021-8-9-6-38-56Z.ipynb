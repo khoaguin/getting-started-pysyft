{
  "cells": [
    {
      "cell_type": "code",
      "source": [
        "import syft as sy\n",
        "import torch"
      ],
      "outputs": [],
      "execution_count": null,
      "metadata": {}
    },
    {
      "cell_type": "code",
      "source": [
        "alice = sy.VirtualMachine(name=\"alice\")\n",
        "alice_client = alice.get_root_client()\n",
        "remote_torch = alice_client.torch"
      ],
      "outputs": [],
      "execution_count": null,
      "metadata": {
        "jupyter": {
          "source_hidden": false,
          "outputs_hidden": false
        },
        "nteract": {
          "transient": {
            "deleting": false
          }
        }
      }
    },
    {
      "cell_type": "code",
      "source": [
        "class SyNet(sy.Module):\n",
        "    def __init__(self, torch_ref):\n",
        "        super(SyNet, self).__init__(torch_ref=torch_ref)\n",
        "        self.fc1 = self.torch_ref.nn.Linear(100, 10)\n",
        "\n",
        "    def forward(self, x):\n",
        "        return self.fc1(x)"
      ],
      "outputs": [],
      "execution_count": null,
      "metadata": {
        "jupyter": {
          "source_hidden": false,
          "outputs_hidden": false
        },
        "nteract": {
          "transient": {
            "deleting": false
          }
        }
      }
    },
    {
      "cell_type": "code",
      "source": [
        "model = SyNet(torch)\n",
        "data = torch.randn(size=(1, 100))\n",
        "result = model(data)\n",
        "labels = torch.randn(size=(1, 10))\n",
        "loss_func = torch.nn.L1Loss()\n",
        "loss = loss_func(result, labels)\n",
        "loss.backward()"
      ],
      "outputs": [],
      "execution_count": null,
      "metadata": {
        "jupyter": {
          "source_hidden": false,
          "outputs_hidden": false
        },
        "nteract": {
          "transient": {
            "deleting": false
          }
        }
      }
    },
    {
      "cell_type": "code",
      "source": [
        "print(model.parameters()[-1].grad) # exists\n",
        "\n",
        "\n",
        "model_ptr = model.send(alice_client)\n",
        "data_ptr = data.send(alice_client)\n",
        "labels_ptr = labels.send(alice_client)\n",
        "results_ptr = model_ptr(data_ptr)\n",
        "remote_loss_func = alice_client.torch.nn.L1Loss()\n",
        "remote_loss = remote_loss_func(results_ptr, labels_ptr)\n",
        "remote_loss.backward()\n"
      ],
      "outputs": [],
      "execution_count": null,
      "metadata": {
        "jupyter": {
          "source_hidden": false,
          "outputs_hidden": false
        },
        "nteract": {
          "transient": {
            "deleting": false
          }
        }
      }
    },
    {
      "cell_type": "code",
      "source": [
        "print(model_ptr.parameters().get()[-1].grad) # exists\n",
        "print(model_ptr.get().parameters()[-1].grad) # does not exist anymore"
      ],
      "outputs": [],
      "execution_count": null,
      "metadata": {
        "jupyter": {
          "source_hidden": false,
          "outputs_hidden": false
        },
        "nteract": {
          "transient": {
            "deleting": false
          }
        }
      }
    }
  ],
  "metadata": {
    "kernelspec": {
      "name": "syftenv2",
      "language": "python",
      "display_name": "SyftEnv2"
    },
    "language_info": {
      "name": "python",
      "version": "3.9.6",
      "mimetype": "text/x-python",
      "codemirror_mode": {
        "name": "ipython",
        "version": 3
      },
      "pygments_lexer": "ipython3",
      "nbconvert_exporter": "python",
      "file_extension": ".py"
    },
    "kernel_info": {
      "name": "syftenv2"
    },
    "nteract": {
      "version": "nteract-front-end@1.0.0"
    }
  },
  "nbformat": 4,
  "nbformat_minor": 2
}