{
  "cells": [
    {
      "cell_type": "code",
      "source": [
        "from typing import Any\n",
        "import syft as sy\n",
        "\n",
        "alice = sy.VirtualMachine(name=\"alice\")\n",
        "alice_client = alice.get_root_client()\n",
        "remote_python = alice_client.syft.lib.python"
      ],
      "outputs": [],
      "execution_count": 1,
      "metadata": {
        "gather": {
          "logged": 1631170343503
        }
      }
    },
    {
      "cell_type": "code",
      "source": [
        "remote_python"
      ],
      "outputs": [
        {
          "output_type": "execute_result",
          "execution_count": 2,
          "data": {
            "text/plain": "Module:\n\t.collections -> Module:\n\t\t.OrderedDict -> <syft.ast.klass.Class object at 0x7f8c378b6280>\n\n\t.Bool -> <syft.ast.klass.Class object at 0x7f8c37899e20>\n\t.Complex -> <syft.ast.klass.Class object at 0x7f8c37899e80>\n\t.Dict -> <syft.ast.klass.Class object at 0x7f8c37899ee0>\n\t.Float -> <syft.ast.klass.Class object at 0x7f8c37899f40>\n\t.Int -> <syft.ast.klass.Class object at 0x7f8c3788c700>\n\t.List -> <syft.ast.klass.Class object at 0x7f8c3788c940>\n\t.Slice -> <syft.ast.klass.Class object at 0x7f8c3788c460>\n\t.Range -> <syft.ast.klass.Class object at 0x7f8c378f89a0>\n\t.String -> <syft.ast.klass.Class object at 0x7f8c378f85e0>\n\t._SyNone -> <syft.ast.klass.Class object at 0x7f8c378b6040>\n\t.PyPrimitive -> <syft.ast.klass.Class object at 0x7f8c378b60a0>\n\t.Any -> <syft.ast.klass.Class object at 0x7f8c378b6100>\n\t.Tuple -> <syft.ast.klass.Class object at 0x7f8c378b6160>\n\t.Iterator -> <syft.ast.klass.Class object at 0x7f8c378b61c0>\n\t.Set -> <syft.ast.klass.Class object at 0x7f8c378b6220>"
          },
          "metadata": {}
        }
      ],
      "execution_count": 2,
      "metadata": {
        "jupyter": {
          "source_hidden": false,
          "outputs_hidden": false
        },
        "nteract": {
          "transient": {
            "deleting": false
          }
        },
        "gather": {
          "logged": 1631170348198
        }
      }
    },
    {
      "cell_type": "code",
      "source": [
        "def get_permission(obj: Any) -> None:\n",
        "    remote_obj = alice.store[obj.id_at_location]\n",
        "    remote_obj.read_permissions[alice_client.verify_key] = obj.id_at_location"
      ],
      "outputs": [],
      "execution_count": 3,
      "metadata": {
        "jupyter": {
          "source_hidden": false,
          "outputs_hidden": false
        },
        "nteract": {
          "transient": {
            "deleting": false
          }
        },
        "gather": {
          "logged": 1631170365757
        }
      }
    },
    {
      "cell_type": "code",
      "source": [
        "x_data = list(range(13))\n",
        "y_data = [1, 3, 2, 5, 7, 8, 8, 9, 10, 12, 12, 13, 15]\n",
        "zip(x_data, y_data)\n",
        "x_data_ptr = sy.lib.python.List(x_data).send(alice_client)\n",
        "y_data_ptr = sy.lib.python.List(y_data).send(alice_client)\n",
        "print(f'x_data: {x_data} \\n x_data_ptr: {x_data_ptr}')\n",
        "print(f'y_data: {y_data} \\n y_data_ptr: {y_data_ptr}')"
      ],
      "outputs": [
        {
          "output_type": "stream",
          "name": "stdout",
          "text": "x_data: [0, 1, 2, 3, 4, 5, 6, 7, 8, 9, 10, 11, 12] \n x_data_ptr: <syft.proxy.syft.lib.python.ListPointer object at 0x7f8c3592c730>\ny_data: [1, 3, 2, 5, 7, 8, 8, 9, 10, 12, 12, 13, 15] \n y_data_ptr: <syft.proxy.syft.lib.python.ListPointer object at 0x7f8c35bd09a0>\n"
        }
      ],
      "execution_count": 8,
      "metadata": {
        "jupyter": {
          "source_hidden": false,
          "outputs_hidden": false
        },
        "nteract": {
          "transient": {
            "deleting": false
          }
        },
        "gather": {
          "logged": 1631170497736
        }
      }
    },
    {
      "cell_type": "code",
      "source": [
        "n_ptr = x_data_ptr.__len__()\n",
        "n_ptr"
      ],
      "outputs": [
        {
          "output_type": "execute_result",
          "execution_count": 12,
          "data": {
            "text/plain": "13"
          },
          "metadata": {}
        }
      ],
      "execution_count": 12,
      "metadata": {
        "jupyter": {
          "source_hidden": false,
          "outputs_hidden": false
        },
        "nteract": {
          "transient": {
            "deleting": false
          }
        },
        "gather": {
          "logged": 1631170653890
        }
      }
    },
    {
      "cell_type": "code",
      "source": [
        "x_mean_ptr = remote_python.sum(x_data_ptr) / n_ptr\n",
        "y_mean_ptr = sum(y_data_ptr) / n_ptr\n",
        "x_mean_ptr\n"
      ],
      "outputs": [
        {
          "output_type": "error",
          "ename": "AttributeError",
          "evalue": "'Module' object has no attribute 'sum'",
          "traceback": [
            "\u001b[0;31m---------------------------------------------------------------------------\u001b[0m",
            "\u001b[0;31mAttributeError\u001b[0m                            Traceback (most recent call last)",
            "\u001b[0;32m<ipython-input-14-7f587ba3b692>\u001b[0m in \u001b[0;36m<module>\u001b[0;34m\u001b[0m\n\u001b[0;32m----> 1\u001b[0;31m \u001b[0mx_mean_ptr\u001b[0m \u001b[0;34m=\u001b[0m \u001b[0mremote_python\u001b[0m\u001b[0;34m.\u001b[0m\u001b[0msum\u001b[0m\u001b[0;34m(\u001b[0m\u001b[0mx_data_ptr\u001b[0m\u001b[0;34m)\u001b[0m \u001b[0;34m/\u001b[0m \u001b[0mn_ptr\u001b[0m\u001b[0;34m\u001b[0m\u001b[0;34m\u001b[0m\u001b[0m\n\u001b[0m\u001b[1;32m      2\u001b[0m \u001b[0my_mean_ptr\u001b[0m \u001b[0;34m=\u001b[0m \u001b[0msum\u001b[0m\u001b[0;34m(\u001b[0m\u001b[0my_data_ptr\u001b[0m\u001b[0;34m)\u001b[0m \u001b[0;34m/\u001b[0m \u001b[0mn_ptr\u001b[0m\u001b[0;34m\u001b[0m\u001b[0;34m\u001b[0m\u001b[0m\n\u001b[1;32m      3\u001b[0m \u001b[0mx_mean_ptr\u001b[0m\u001b[0;34m\u001b[0m\u001b[0;34m\u001b[0m\u001b[0m\n",
            "\u001b[0;32m/anaconda/envs/SyftEnv2/lib/python3.9/site-packages/syft/ast/module.py\u001b[0m in \u001b[0;36m__getattribute__\u001b[0;34m(self, item)\u001b[0m\n\u001b[1;32m    254\u001b[0m             \u001b[0mThe\u001b[0m \u001b[0mvalue\u001b[0m \u001b[0mof\u001b[0m \u001b[0mthe\u001b[0m \u001b[0mattribute\u001b[0m\u001b[0;34m.\u001b[0m\u001b[0;34m\u001b[0m\u001b[0;34m\u001b[0m\u001b[0m\n\u001b[1;32m    255\u001b[0m         \"\"\"\n\u001b[0;32m--> 256\u001b[0;31m         \u001b[0mtarget_object\u001b[0m \u001b[0;34m=\u001b[0m \u001b[0msuper\u001b[0m\u001b[0;34m(\u001b[0m\u001b[0;34m)\u001b[0m\u001b[0;34m.\u001b[0m\u001b[0m__getattribute__\u001b[0m\u001b[0;34m(\u001b[0m\u001b[0mitem\u001b[0m\u001b[0;34m)\u001b[0m\u001b[0;34m\u001b[0m\u001b[0;34m\u001b[0m\u001b[0m\n\u001b[0m\u001b[1;32m    257\u001b[0m         \u001b[0;32mif\u001b[0m \u001b[0misinstance\u001b[0m\u001b[0;34m(\u001b[0m\u001b[0mtarget_object\u001b[0m\u001b[0;34m,\u001b[0m \u001b[0mast\u001b[0m\u001b[0;34m.\u001b[0m\u001b[0mstatic_attr\u001b[0m\u001b[0;34m.\u001b[0m\u001b[0mStaticAttribute\u001b[0m\u001b[0;34m)\u001b[0m\u001b[0;34m:\u001b[0m\u001b[0;34m\u001b[0m\u001b[0;34m\u001b[0m\u001b[0m\n\u001b[1;32m    258\u001b[0m             \u001b[0;32mreturn\u001b[0m \u001b[0mtarget_object\u001b[0m\u001b[0;34m.\u001b[0m\u001b[0mget_remote_value\u001b[0m\u001b[0;34m(\u001b[0m\u001b[0;34m)\u001b[0m\u001b[0;34m\u001b[0m\u001b[0;34m\u001b[0m\u001b[0m\n",
            "\u001b[0;31mAttributeError\u001b[0m: 'Module' object has no attribute 'sum'"
          ]
        }
      ],
      "execution_count": 14,
      "metadata": {
        "jupyter": {
          "source_hidden": false,
          "outputs_hidden": false
        },
        "nteract": {
          "transient": {
            "deleting": false
          }
        }
      }
    },
    {
      "cell_type": "code",
      "source": [
        "n_ptr = x_data_ptr.__len__()\n",
        "\n",
        "x_mean_ptr = sum(x_data_ptr) / n_ptr\n",
        "y_mean_ptr = sum(y_data_ptr) / n_ptr\n",
        "\n",
        "crossdev_list_ptr = remote_python.List()\n",
        "dev_list_ptr = remote_python.List()\n",
        "\n",
        "for x_ptr, y_ptr in zip(x_data_ptr, y_data_ptr):\n",
        "    crossdev_list_ptr.append(x_ptr * y_ptr)\n",
        "    dev_list_ptr.append(x_ptr * x_ptr)\n",
        "\n",
        "\n",
        "cross_dev_ptr = sum(crossdev_list_ptr) - n_ptr * x_mean_ptr * y_mean_ptr\n",
        "dev_ptr = sum(dev_list_ptr) - n_ptr * x_mean_ptr * x_mean_ptr\n",
        "\n",
        "b_1_ptr = cross_dev_ptr / dev_ptr\n",
        "b_0_ptr = y_mean_ptr - b_1_ptr * x_mean_ptr\n",
        "\n",
        "get_permission(b_1_ptr)\n",
        "get_permission(b_0_ptr)\n",
        "\n",
        "b_1 = b_1_ptr.get()\n",
        "b_0 = b_0_ptr.get()\n",
        "\n",
        "print(b_1)\n",
        "print(b_0)\n"
      ],
      "outputs": [],
      "execution_count": null,
      "metadata": {
        "jupyter": {
          "source_hidden": false,
          "outputs_hidden": false
        },
        "nteract": {
          "transient": {
            "deleting": false
          }
        }
      }
    }
  ],
  "metadata": {
    "kernelspec": {
      "name": "syftenv2",
      "language": "python",
      "display_name": "SyftEnv2"
    },
    "language_info": {
      "name": "python",
      "version": "3.9.6",
      "mimetype": "text/x-python",
      "codemirror_mode": {
        "name": "ipython",
        "version": 3
      },
      "pygments_lexer": "ipython3",
      "nbconvert_exporter": "python",
      "file_extension": ".py"
    },
    "kernel_info": {
      "name": "syftenv2"
    },
    "nteract": {
      "version": "nteract-front-end@1.0.0"
    }
  },
  "nbformat": 4,
  "nbformat_minor": 2
}