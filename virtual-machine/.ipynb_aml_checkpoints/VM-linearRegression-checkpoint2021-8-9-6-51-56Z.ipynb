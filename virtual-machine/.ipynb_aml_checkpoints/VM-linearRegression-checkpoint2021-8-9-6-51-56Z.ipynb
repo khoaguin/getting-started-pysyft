{
  "cells": [
    {
      "cell_type": "code",
      "source": [
        "# stdlib\n",
        "from typing import Any\n",
        "\n",
        "# syft absolute\n",
        "import syft as sy\n",
        "\n",
        "alice = sy.VirtualMachine(name=\"alice\")\n",
        "alice_client = alice.get_root_client()\n",
        "remote_python = alice_client.syft.lib.python"
      ],
      "outputs": [],
      "execution_count": null,
      "metadata": {}
    },
    {
      "cell_type": "code",
      "source": [
        "def get_permission(obj: Any) -> None:\n",
        "    remote_obj = alice.store[obj.id_at_location]\n",
        "    remote_obj.read_permissions[alice_client.verify_key] = obj.id_at_location"
      ],
      "outputs": [],
      "execution_count": null,
      "metadata": {
        "jupyter": {
          "source_hidden": false,
          "outputs_hidden": false
        },
        "nteract": {
          "transient": {
            "deleting": false
          }
        }
      }
    },
    {
      "cell_type": "code",
      "source": [
        "x_data = list(range(13))\n",
        "y_data = [1, 3, 2, 5, 7, 8, 8, 9, 10, 12, 12, 13, 15]\n",
        "zip(x_data, y_data)\n",
        "x_data_ptr = sy.lib.python.List(x_data).send(alice_client)\n",
        "y_data_ptr = sy.lib.python.List(y_data).send(alice_client)\n",
        "print(\"gata\")"
      ],
      "outputs": [],
      "execution_count": null,
      "metadata": {
        "jupyter": {
          "source_hidden": false,
          "outputs_hidden": false
        },
        "nteract": {
          "transient": {
            "deleting": false
          }
        }
      }
    },
    {
      "cell_type": "code",
      "source": [
        "# n_ptr = x_data_ptr.__len__()\n",
        "#\n",
        "# x_mean_ptr = sum(x_data_ptr) / n_ptr\n",
        "# y_mean_ptr = sum(y_data_ptr) / n_ptr\n",
        "#\n",
        "# crossdev_list_ptr = remote_python.List()\n",
        "# dev_list_ptr = remote_python.List()\n",
        "#\n",
        "# for x_ptr, y_ptr in zip(x_data_ptr, y_data_ptr):\n",
        "#     crossdev_list_ptr.append(x_ptr * y_ptr)\n",
        "#     dev_list_ptr.append(x_ptr * x_ptr)\n",
        "#\n",
        "#\n",
        "# cross_dev_ptr = sum(crossdev_list_ptr) - n_ptr * x_mean_ptr * y_mean_ptr\n",
        "# dev_ptr = sum(dev_list_ptr) - n_ptr * x_mean_ptr * x_mean_ptr\n",
        "#\n",
        "# b_1_ptr = cross_dev_ptr / dev_ptr\n",
        "# b_0_ptr = y_mean_ptr - b_1_ptr * x_mean_ptr\n",
        "#\n",
        "# get_permission(b_1_ptr)\n",
        "# get_permission(b_0_ptr)\n",
        "#\n",
        "# b_1 = b_1_ptr.get()\n",
        "# b_0 = b_0_ptr.get()\n",
        "#\n",
        "# print(b_1)\n",
        "# print(b_0)\n"
      ],
      "outputs": [],
      "execution_count": null,
      "metadata": {
        "jupyter": {
          "source_hidden": false,
          "outputs_hidden": false
        },
        "nteract": {
          "transient": {
            "deleting": false
          }
        }
      }
    }
  ],
  "metadata": {
    "kernelspec": {
      "name": "python3-azureml",
      "language": "python",
      "display_name": "Python 3.6 - AzureML"
    },
    "language_info": {
      "name": "python",
      "version": "3.6.9",
      "mimetype": "text/x-python",
      "codemirror_mode": {
        "name": "ipython",
        "version": 3
      },
      "pygments_lexer": "ipython3",
      "nbconvert_exporter": "python",
      "file_extension": ".py"
    },
    "kernel_info": {
      "name": "python3-azureml"
    },
    "nteract": {
      "version": "nteract-front-end@1.0.0"
    }
  },
  "nbformat": 4,
  "nbformat_minor": 2
}