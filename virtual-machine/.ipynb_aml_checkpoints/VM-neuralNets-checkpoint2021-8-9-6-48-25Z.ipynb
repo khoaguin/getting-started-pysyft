{
  "cells": [
    {
      "cell_type": "code",
      "source": [
        "import syft as sy\n",
        "import torch"
      ],
      "outputs": [],
      "execution_count": 1,
      "metadata": {
        "gather": {
          "logged": 1631169562943
        }
      }
    },
    {
      "cell_type": "code",
      "source": [
        "alice = sy.VirtualMachine(name=\"alice\")\n",
        "alice_client = alice.get_root_client()\n",
        "remote_torch = alice_client.torch"
      ],
      "outputs": [],
      "execution_count": 2,
      "metadata": {
        "jupyter": {
          "source_hidden": false,
          "outputs_hidden": false
        },
        "nteract": {
          "transient": {
            "deleting": false
          }
        },
        "gather": {
          "logged": 1631169943960
        }
      }
    },
    {
      "cell_type": "code",
      "source": [
        "print(alice)\n",
        "print(alice_client)\n",
        "print(alice_client.vm_id)"
      ],
      "outputs": [
        {
          "output_type": "stream",
          "name": "stdout",
          "text": "VirtualMachine: alice: <UID: 6bea5357b3504c5a887396bc2d888a0c>\n<VirtualMachineClient: alice Client>\n<UID: 6bea5357b3504c5a887396bc2d888a0c>\n"
        }
      ],
      "execution_count": 4,
      "metadata": {
        "jupyter": {
          "source_hidden": false,
          "outputs_hidden": false
        },
        "nteract": {
          "transient": {
            "deleting": false
          }
        },
        "gather": {
          "logged": 1631169969389
        }
      }
    },
    {
      "cell_type": "code",
      "source": [
        "class SyNet(sy.Module):\n",
        "    def __init__(self, torch_ref):\n",
        "        super(SyNet, self).__init__(torch_ref=torch_ref)\n",
        "        self.fc1 = self.torch_ref.nn.Linear(100, 10)\n",
        "\n",
        "    def forward(self, x):\n",
        "        return self.fc1(x)"
      ],
      "outputs": [],
      "execution_count": 5,
      "metadata": {
        "jupyter": {
          "source_hidden": false,
          "outputs_hidden": false
        },
        "nteract": {
          "transient": {
            "deleting": false
          }
        },
        "gather": {
          "logged": 1631169979555
        }
      }
    },
    {
      "cell_type": "code",
      "source": [
        "model = SyNet(torch)\n",
        "data = torch.randn(size=(1, 100))\n",
        "data"
      ],
      "outputs": [
        {
          "output_type": "execute_result",
          "execution_count": 6,
          "data": {
            "text/plain": "tensor([[-1.8305, -1.2449,  1.2339, -0.2621, -0.4630,  1.0017,  1.0102, -0.9429,\n         -0.2143,  1.7321,  0.9425,  1.2148,  0.7220,  1.3547, -1.0784,  1.3045,\n          0.0585,  1.7062,  2.0490,  0.2899, -1.2772,  0.8567,  0.6722, -1.9087,\n          1.2654,  0.4542, -1.2053,  0.5683,  1.8294,  0.6104,  0.4707, -0.8326,\n         -0.4360,  0.3185,  0.6080,  0.3666, -1.5240,  0.9798,  0.3765, -0.6078,\n          1.0767, -1.1264, -0.5720,  0.8702, -1.4933, -0.4355,  0.3125,  0.1929,\n          1.4774, -1.8456,  1.0463, -0.3143,  0.7398, -0.7127, -1.2736, -0.2679,\n          1.1277, -0.7886, -0.2496, -0.3317, -0.0591,  0.7968,  0.6486,  0.5010,\n         -0.6041, -1.2401, -0.8593,  1.1023, -0.3403, -1.1183,  0.0237, -0.1360,\n          0.8747,  0.9837, -0.4689, -0.6797, -0.6207, -0.9985, -0.7924, -0.2051,\n         -0.4115, -0.3115,  0.9180,  0.4193,  0.0475,  1.5892, -0.0089, -1.5990,\n         -0.2699,  0.5302, -1.6310,  0.1887,  1.6549,  0.5280, -0.0239,  1.8766,\n         -0.5467,  0.7146, -0.4207, -3.1156]])"
          },
          "metadata": {}
        }
      ],
      "execution_count": 6,
      "metadata": {
        "jupyter": {
          "source_hidden": false,
          "outputs_hidden": false
        },
        "nteract": {
          "transient": {
            "deleting": false
          }
        },
        "gather": {
          "logged": 1631169995675
        }
      }
    },
    {
      "cell_type": "code",
      "source": [
        "result = model(data)\n",
        "print(result)\n",
        "labels = torch.randn(size=(1, 10))\n",
        "print(labels)"
      ],
      "outputs": [
        {
          "output_type": "stream",
          "name": "stdout",
          "text": "tensor([[ 0.6644, -0.8585,  0.4058, -1.4926,  0.2167, -0.9398,  0.6130, -0.2456,\n          0.2568,  0.6423]], grad_fn=<AddmmBackward>)\ntensor([[ 0.1355,  0.1399, -0.6309,  1.7878, -0.4882,  0.2649, -0.8348, -1.2962,\n          0.0381,  0.5024]])\n"
        }
      ],
      "execution_count": 7,
      "metadata": {
        "jupyter": {
          "source_hidden": false,
          "outputs_hidden": false
        },
        "nteract": {
          "transient": {
            "deleting": false
          }
        },
        "gather": {
          "logged": 1631170037330
        }
      }
    },
    {
      "cell_type": "code",
      "source": [
        "loss_func = torch.nn.L1Loss()\n",
        "loss = loss_func(result, labels)\n",
        "loss.backward()"
      ],
      "outputs": [],
      "execution_count": 8,
      "metadata": {
        "jupyter": {
          "source_hidden": false,
          "outputs_hidden": false
        },
        "nteract": {
          "transient": {
            "deleting": false
          }
        },
        "gather": {
          "logged": 1631170047567
        }
      }
    },
    {
      "cell_type": "code",
      "source": [
        "print(model.parameters()[-1].grad) # exists\n",
        "\n",
        "model_ptr = model.send(alice_client)\n",
        "data_ptr = data.send(alice_client)\n",
        "labels_ptr = labels.send(alice_client)\n",
        "results_ptr = model_ptr(data_ptr)\n",
        "remote_loss_func = alice_client.torch.nn.L1Loss()\n",
        "remote_loss = remote_loss_func(results_ptr, labels_ptr)\n",
        "remote_loss.backward()"
      ],
      "outputs": [
        {
          "output_type": "stream",
          "name": "stdout",
          "text": "tensor([ 0.1000, -0.1000,  0.1000, -0.1000,  0.1000, -0.1000,  0.1000,  0.1000,\n         0.1000,  0.1000])\n"
        },
        {
          "output_type": "execute_result",
          "execution_count": 9,
          "data": {
            "text/plain": "<syft.proxy.syft.lib.python._SyNonePointer at 0x7efe6ac5f820>"
          },
          "metadata": {}
        }
      ],
      "execution_count": 9,
      "metadata": {
        "jupyter": {
          "source_hidden": false,
          "outputs_hidden": false
        },
        "nteract": {
          "transient": {
            "deleting": false
          }
        },
        "gather": {
          "logged": 1631170072306
        }
      }
    },
    {
      "cell_type": "code",
      "source": [
        "print(model_ptr.parameters().get()[-1].grad) # exists\n",
        "print(model_ptr.get().parameters()[-1].grad) # does not exist anymore"
      ],
      "outputs": [
        {
          "output_type": "stream",
          "name": "stdout",
          "text": "tensor([ 0.1000, -0.1000,  0.1000, -0.1000,  0.1000, -0.1000,  0.1000,  0.1000,\n         0.1000,  0.1000])\nNone\n"
        }
      ],
      "execution_count": 10,
      "metadata": {
        "jupyter": {
          "source_hidden": false,
          "outputs_hidden": false
        },
        "nteract": {
          "transient": {
            "deleting": false
          }
        },
        "gather": {
          "logged": 1631170090972
        }
      }
    },
    {
      "cell_type": "code",
      "source": [],
      "outputs": [],
      "execution_count": null,
      "metadata": {
        "jupyter": {
          "source_hidden": false,
          "outputs_hidden": false
        },
        "nteract": {
          "transient": {
            "deleting": false
          }
        }
      }
    }
  ],
  "metadata": {
    "kernelspec": {
      "name": "syftenv2",
      "language": "python",
      "display_name": "SyftEnv2"
    },
    "language_info": {
      "name": "python",
      "version": "3.9.6",
      "mimetype": "text/x-python",
      "codemirror_mode": {
        "name": "ipython",
        "version": 3
      },
      "pygments_lexer": "ipython3",
      "nbconvert_exporter": "python",
      "file_extension": ".py"
    },
    "kernel_info": {
      "name": "syftenv2"
    },
    "nteract": {
      "version": "nteract-front-end@1.0.0"
    }
  },
  "nbformat": 4,
  "nbformat_minor": 2
}