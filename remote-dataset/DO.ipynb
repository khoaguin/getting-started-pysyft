{
  "cells": [
    {
      "cell_type": "code",
      "source": [
        "import torch\n",
        "from torch.utils.data import Dataset\n",
        "\n",
        "import syft as sy\n",
        "\n",
        "from icecream import ic\n",
        "from matplotlib import pyplot as plt"
      ],
      "outputs": [],
      "execution_count": 12,
      "metadata": {
        "jupyter": {
          "source_hidden": false,
          "outputs_hidden": false
        },
        "nteract": {
          "transient": {
            "deleting": false
          }
        },
        "gather": {
          "logged": 1631689558329
        }
      }
    },
    {
      "cell_type": "markdown",
      "source": [
        "First let's make an example dataset"
      ],
      "metadata": {
        "nteract": {
          "transient": {
            "deleting": false
          }
        }
      }
    },
    {
      "cell_type": "code",
      "source": [
        "class ExampleDataset(Dataset):\n",
        "    def __init__(self, x: torch.Tensor, y: torch.Tensor):\n",
        "        self.x = x\n",
        "        self.y = y\n",
        "\n",
        "    def __len__(self) -> int:\n",
        "        return self.x.shape[0]\n",
        "\n",
        "    def __getitem__(self, idx: int) -> torch.Tensor:\n",
        "        return self.x[idx], self.y[idx]"
      ],
      "outputs": [],
      "execution_count": 14,
      "metadata": {
        "jupyter": {
          "source_hidden": false,
          "outputs_hidden": false
        },
        "nteract": {
          "transient": {
            "deleting": false
          }
        },
        "gather": {
          "logged": 1631689620680
        }
      }
    },
    {
      "cell_type": "code",
      "source": [
        "x = torch.randn(size=(1000, 4))\n",
        "y = torch.randint(low=0, high=2, size=(1000, 1))\n",
        "ic(x[:10, :])\n",
        "ic(y[:10])"
      ],
      "outputs": [
        {
          "output_type": "stream",
          "name": "stderr",
          "text": "ic| x[:10, :]: tensor([[ 1.1405, -1.3140,  0.5979,  0.3483],\n                       [-0.0894, -0.4419,  0.1388,  0.8375],\n                       [ 0.3678, -0.2669, -0.2797, -0.3754],\n                       [ 0.2269, -1.8619, -0.2170,  0.0686],\n                       [-0.9530, -0.3045, -0.7304, -1.4973],\n                       [-1.6702, -1.4909,  0.4590,  0.5937],\n                       [-1.3948, -1.4333, -0.3972,  1.7565],\n                       [ 0.7488,  1.2753,  0.8608,  0.3731],\n                       [ 0.9357, -0.2601, -0.4527, -1.0938],\n                       [ 0.4047, -0.7576, -0.8339,  0.1827]])\nic| y[:10]: tensor([[1],\n                    [1],\n                    [0],\n                    [1],\n                    [0],\n                    [1],\n                    [1],\n                    [0],\n                    [1],\n                    [1]])\n"
        },
        {
          "output_type": "execute_result",
          "execution_count": 21,
          "data": {
            "text/plain": "tensor([[1],\n        [1],\n        [0],\n        [1],\n        [0],\n        [1],\n        [1],\n        [0],\n        [1],\n        [1]])"
          },
          "metadata": {}
        }
      ],
      "execution_count": 21,
      "metadata": {
        "jupyter": {
          "source_hidden": false,
          "outputs_hidden": false
        },
        "nteract": {
          "transient": {
            "deleting": false
          }
        },
        "gather": {
          "logged": 1631689760315
        }
      }
    },
    {
      "cell_type": "code",
      "source": [
        "exp_dataset = ExampleDataset(x, y)\n",
        "torch.save(exp_dataset, 'exp_dataset.pt')"
      ],
      "outputs": [],
      "execution_count": 22,
      "metadata": {
        "jupyter": {
          "source_hidden": false,
          "outputs_hidden": false
        },
        "nteract": {
          "transient": {
            "deleting": false
          }
        },
        "gather": {
          "logged": 1631689818683
        }
      }
    },
    {
      "cell_type": "markdown",
      "source": [
        "Launch duet and to send the data to the Data Scientist (DS)"
      ],
      "metadata": {
        "nteract": {
          "transient": {
            "deleting": false
          }
        }
      }
    },
    {
      "cell_type": "code",
      "source": [
        "duet = sy.duet(loopback=True)"
      ],
      "outputs": [
        {
          "output_type": "stream",
          "name": "stdout",
          "text": "🎤  🎸  ♪♪♪ Starting Duet ♫♫♫  🎻  🎹\n\n♫♫♫ >\u001b[93m DISCLAIMER\u001b[0m: \u001b[1mDuet is an experimental feature currently in beta.\n♫♫♫ > Use at your own risk.\n\u001b[0m\n\u001b[1m\n    > ❤️ \u001b[91mLove\u001b[0m \u001b[92mDuet\u001b[0m? \u001b[93mPlease\u001b[0m \u001b[94mconsider\u001b[0m \u001b[95msupporting\u001b[0m \u001b[91mour\u001b[0m \u001b[93mcommunity!\u001b[0m\n    > https://github.com/sponsors/OpenMined\u001b[1m\n\n♫♫♫ > Punching through firewall to OpenGrid Network Node at:\n♫♫♫ > http://ec2-18-218-7-180.us-east-2.compute.amazonaws.com:5000\n♫♫♫ >\n♫♫♫ > ...waiting for response from OpenGrid Network... \n♫♫♫ > \u001b[92mDONE!\u001b[0m\n\n♫♫♫ > \u001b[95mSTEP 1:\u001b[0m Send the following code to your Duet Partner!\n\nimport syft as sy\nduet = sy.join_duet(loopback=True)\n\n♫♫♫ > Connecting...\n\n♫♫♫ > \u001b[92mCONNECTED!\u001b[0m\n\n♫♫♫ > DUET LIVE STATUS  *  Objects: 5  \u001b[91mRequests:\u001b[0m\u001b[1m>\u001b[0m1\u001b[1m<\u001b[0m  Messages: 61  Request Handlers: 0                                \r♫♫♫ > DUET LIVE STATUS  -  Objects: 14  Requests: 0   Messages: 734  Request Handlers: 1                                \r"
        }
      ],
      "execution_count": 23,
      "metadata": {
        "jupyter": {
          "source_hidden": false,
          "outputs_hidden": false
        },
        "nteract": {
          "transient": {
            "deleting": false
          }
        },
        "gather": {
          "logged": 1631689920972
        }
      }
    },
    {
      "cell_type": "markdown",
      "source": [
        "Before sending the name of dataset file to duet, you need to go to the DS notebook \n",
        "and join the duet there"
      ],
      "metadata": {
        "nteract": {
          "transient": {
            "deleting": false
          }
        }
      }
    },
    {
      "cell_type": "code",
      "source": [
        "sy.lib.python.String(\"exp_dataset.pt\").send(duet, pointable=True, tags=[\"meta\"])"
      ],
      "outputs": [
        {
          "output_type": "execute_result",
          "execution_count": 24,
          "data": {
            "text/plain": "<syft.proxy.syft.lib.python.StringPointer at 0x7f797a429910>"
          },
          "metadata": {}
        }
      ],
      "execution_count": 24,
      "metadata": {
        "jupyter": {
          "source_hidden": false,
          "outputs_hidden": false
        },
        "nteract": {
          "transient": {
            "deleting": false
          }
        },
        "gather": {
          "logged": 1631689921255
        }
      }
    },
    {
      "cell_type": "code",
      "source": [
        "duet.requests.add_handler(\n",
        "    action=\"accept\",\n",
        "    tags=[\n",
        "        \"meta\", \"RemoteDataset\", \"RemoteDataLoader\", \"__len__\"\n",
        "    ])"
      ],
      "outputs": [
        {
          "output_type": "stream",
          "name": "stderr",
          "text": "[2021-09-15T07:20:45.878766+0000][CRITICAL][logger]][5146] You tried to deserialize an unsupported type. This can be caused by several reasons. Either you are actively writing Syft code and forgot to create one, or you are trying to deserialize an object which was serialized using a different version of Syft and the object you tried to deserialize is not supported in this version.\n[2021-09-15T07:20:45.879526+0000][CRITICAL][logger]][5146] You tried to deserialize an unsupported type. This can be caused by several reasons. Either you are actively writing Syft code and forgot to create one, or you are trying to deserialize an object which was serialized using a different version of Syft and the object you tried to deserialize is not supported in this version.\nException in callback AsyncIOEventEmitter._emit_run.<locals>._callback(<Task finishe...is version.')>) at /anaconda/envs/SyftEnv/lib/python3.9/site-packages/pyee/_asyncio.py:57\nhandle: <Handle AsyncIOEventEmitter._emit_run.<locals>._callback(<Task finishe...is version.')>) at /anaconda/envs/SyftEnv/lib/python3.9/site-packages/pyee/_asyncio.py:57>\nTraceback (most recent call last):\n  File \"/anaconda/envs/SyftEnv/lib/python3.9/asyncio/events.py\", line 80, in _run\n    self._context.run(self._callback, *self._args)\n  File \"/anaconda/envs/SyftEnv/lib/python3.9/site-packages/pyee/_asyncio.py\", line 64, in _callback\n    self.emit(\"error\", exc)\n  File \"/anaconda/envs/SyftEnv/lib/python3.9/site-packages/pyee/_base.py\", line 118, in emit\n    self._emit_handle_potential_error(event, args[0] if args else None)\n  File \"/anaconda/envs/SyftEnv/lib/python3.9/site-packages/pyee/_base.py\", line 88, in _emit_handle_potential_error\n    raise error\n  File \"/anaconda/envs/SyftEnv/lib/python3.9/asyncio/tasks.py\", line 256, in __step\n    result = coro.send(None)\n  File \"/anaconda/envs/SyftEnv/lib/python3.9/site-packages/syft/grid/connections/webrtc.py\", line 233, in on_message\n    await self.consumer(msg=message)\n  File \"/anaconda/envs/SyftEnv/lib/python3.9/site-packages/syft/grid/connections/webrtc.py\", line 449, in consumer\n    traceback_and_raise(e)\n  File \"/anaconda/envs/SyftEnv/lib/python3.9/site-packages/syft/logger.py\", line 61, in traceback_and_raise\n    raise e\n  File \"/anaconda/envs/SyftEnv/lib/python3.9/site-packages/syft/grid/connections/webrtc.py\", line 417, in consumer\n    _msg = _deserialize(blob=msg, from_bytes=True)\n  File \"/anaconda/envs/SyftEnv/lib/python3.9/site-packages/syft/core/common/serde/deserialize.py\", line 78, in _deserialize\n    traceback_and_raise(deserialization_error)\n  File \"/anaconda/envs/SyftEnv/lib/python3.9/site-packages/syft/logger.py\", line 61, in traceback_and_raise\n    raise e\nTypeError: You tried to deserialize an unsupported type. This can be caused by several reasons. Either you are actively writing Syft code and forgot to create one, or you are trying to deserialize an object which was serialized using a different version of Syft and the object you tried to deserialize is not supported in this version.\n"
        }
      ],
      "execution_count": 25,
      "metadata": {
        "jupyter": {
          "source_hidden": false,
          "outputs_hidden": false
        },
        "nteract": {
          "transient": {
            "deleting": false
          }
        },
        "gather": {
          "logged": 1631690245708
        }
      }
    },
    {
      "cell_type": "markdown",
      "source": [
        "Referernces  \n",
        "https://github.com/OpenMined/PySyft/blob/85d2b4ba47e5af2c326472d8171dd50ff817e9c5/packages/syft/examples/experimental/tongye/train_boston_with_RemoteDataLoader/DO.ipynb  \n",
        "https://github.com/OpenMined/PySyft/blob/85d2b4ba47e5af2c326472d8171dd50ff817e9c5/packages/syft/examples/experimental/tongye/train_boston_with_RemoteDataLoader/DS.ipynb  \n",
        "https://github.com/OpenMined/PySyft/blob/7049ca017cf26074518c02d4891283c6e1101df5/packages/syft/tests/syft/core/remote_dataloader/remote_dataloader_test.py"
      ],
      "metadata": {
        "nteract": {
          "transient": {
            "deleting": false
          }
        }
      }
    },
    {
      "cell_type": "code",
      "source": [],
      "outputs": [],
      "execution_count": null,
      "metadata": {
        "jupyter": {
          "source_hidden": false,
          "outputs_hidden": false
        },
        "nteract": {
          "transient": {
            "deleting": false
          }
        }
      }
    }
  ],
  "metadata": {
    "kernelspec": {
      "name": "syftenv",
      "language": "python",
      "display_name": "syft"
    },
    "language_info": {
      "name": "python",
      "version": "3.9.6",
      "mimetype": "text/x-python",
      "codemirror_mode": {
        "name": "ipython",
        "version": 3
      },
      "pygments_lexer": "ipython3",
      "nbconvert_exporter": "python",
      "file_extension": ".py"
    },
    "kernel_info": {
      "name": "syftenv"
    },
    "microsoft": {
      "host": {
        "AzureML": {
          "notebookHasBeenCompleted": true
        }
      }
    },
    "nteract": {
      "version": "nteract-front-end@1.0.0"
    }
  },
  "nbformat": 4,
  "nbformat_minor": 2
}