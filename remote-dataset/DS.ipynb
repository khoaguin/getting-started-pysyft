{
  "cells": [
    {
      "cell_type": "code",
      "source": [
        "import torch\n",
        "\n",
        "import syft as sy\n",
        "from syft.core.remote_dataloader import RemoteDataset\n",
        "from syft.core.remote_dataloader import RemoteDataLoader\n",
        "\n",
        "from icecream import ic"
      ],
      "outputs": [],
      "execution_count": 1,
      "metadata": {
        "gather": {
          "logged": 1631689917394
        }
      }
    },
    {
      "cell_type": "code",
      "source": [
        "duet = sy.join_duet(loopback=True)"
      ],
      "outputs": [
        {
          "output_type": "stream",
          "name": "stdout",
          "text": "🎤  🎸  ♪♪♪ Joining Duet ♫♫♫  🎻  🎹\n\n♫♫♫ >\u001b[93m DISCLAIMER\u001b[0m: \u001b[1mDuet is an experimental feature currently in beta.\n♫♫♫ > Use at your own risk.\n\u001b[0m\n\u001b[1m\n    > ❤️ \u001b[91mLove\u001b[0m \u001b[92mDuet\u001b[0m? \u001b[93mPlease\u001b[0m \u001b[94mconsider\u001b[0m \u001b[95msupporting\u001b[0m \u001b[91mour\u001b[0m \u001b[93mcommunity!\u001b[0m\n    > https://github.com/sponsors/OpenMined\u001b[1m\n\n♫♫♫ > Punching through firewall to OpenGrid Network Node at:\n♫♫♫ > http://ec2-18-218-7-180.us-east-2.compute.amazonaws.com:5000\n♫♫♫ >\n♫♫♫ > ...waiting for response from OpenGrid Network... \n♫♫♫ > \u001b[92mDONE!\u001b[0m\n\n♫♫♫ > \u001b[92mCONNECTED!\u001b[0m\n"
        }
      ],
      "execution_count": 2,
      "metadata": {
        "jupyter": {
          "source_hidden": false,
          "outputs_hidden": false
        },
        "nteract": {
          "transient": {
            "deleting": false
          }
        },
        "gather": {
          "logged": 1631689919683
        }
      }
    },
    {
      "cell_type": "markdown",
      "source": [
        "Source: https://github.com/OpenMined/PySyft/blob/85d2b4ba47e5af2c326472d8171dd50ff817e9c5/packages/syft/examples/experimental/tongye/train_boston_with_RemoteDataLoader/DS.ipynb"
      ],
      "metadata": {
        "nteract": {
          "transient": {
            "deleting": false
          }
        }
      }
    },
    {
      "cell_type": "code",
      "source": [
        "duet.store.pandas"
      ],
      "outputs": [
        {
          "output_type": "execute_result",
          "execution_count": 3,
          "data": {
            "text/plain": "                                        ID    Tags Description  \\\n0  <UID: 41222f9faefb46b0b192bcbe4970602f>  [meta]               \n\n                        object_type  \n0  <class 'syft.lib.python.String'>  ",
            "text/html": "<div>\n<style scoped>\n    .dataframe tbody tr th:only-of-type {\n        vertical-align: middle;\n    }\n\n    .dataframe tbody tr th {\n        vertical-align: top;\n    }\n\n    .dataframe thead th {\n        text-align: right;\n    }\n</style>\n<table border=\"1\" class=\"dataframe\">\n  <thead>\n    <tr style=\"text-align: right;\">\n      <th></th>\n      <th>ID</th>\n      <th>Tags</th>\n      <th>Description</th>\n      <th>object_type</th>\n    </tr>\n  </thead>\n  <tbody>\n    <tr>\n      <th>0</th>\n      <td>&lt;UID: 41222f9faefb46b0b192bcbe4970602f&gt;</td>\n      <td>[meta]</td>\n      <td></td>\n      <td>&lt;class 'syft.lib.python.String'&gt;</td>\n    </tr>\n  </tbody>\n</table>\n</div>"
          },
          "metadata": {}
        }
      ],
      "execution_count": 3,
      "metadata": {
        "jupyter": {
          "source_hidden": false,
          "outputs_hidden": false
        },
        "nteract": {
          "transient": {
            "deleting": false
          }
        },
        "gather": {
          "logged": 1631689997148
        }
      }
    },
    {
      "cell_type": "code",
      "source": [
        "meta_ptr = duet.store[\"meta\"]"
      ],
      "outputs": [],
      "execution_count": 5,
      "metadata": {
        "jupyter": {
          "source_hidden": false,
          "outputs_hidden": false
        },
        "nteract": {
          "transient": {
            "deleting": false
          }
        },
        "gather": {
          "logged": 1631690029628
        }
      }
    },
    {
      "cell_type": "markdown",
      "source": [
        "Create RemoteDataset object on remote side"
      ],
      "metadata": {
        "nteract": {
          "transient": {
            "deleting": false
          }
        }
      }
    },
    {
      "cell_type": "code",
      "source": [
        "rds_ptr = duet.syft.core.remote_dataloader.RemoteDataset(meta_ptr)\n",
        "rds_ptr"
      ],
      "outputs": [
        {
          "output_type": "execute_result",
          "execution_count": 8,
          "data": {
            "text/plain": "<syft.proxy.syft.core.remote_dataloader.RemoteDatasetPointer at 0x7f045f742370>"
          },
          "metadata": {}
        }
      ],
      "execution_count": 8,
      "metadata": {
        "jupyter": {
          "source_hidden": false,
          "outputs_hidden": false
        },
        "nteract": {
          "transient": {
            "deleting": false
          }
        },
        "gather": {
          "logged": 1631690104935
        }
      }
    },
    {
      "cell_type": "markdown",
      "source": [
        "Create RemoteDataLoader object on remote side"
      ],
      "metadata": {
        "nteract": {
          "transient": {
            "deleting": false
          }
        }
      }
    },
    {
      "cell_type": "code",
      "source": [
        "rdl_ptr = duet.syft.core.remote_dataloader.RemoteDataLoader(rds_ptr, batch_size=32)\n",
        "# call create_dataset to create the real Dataset object on remote side\n",
        "rdl_ptr.load_dataset()\n",
        "# call create_dataloader to create the real DataLoader object on remote side\n",
        "rdl_ptr.create_dataloader()"
      ],
      "outputs": [
        {
          "output_type": "execute_result",
          "execution_count": 9,
          "data": {
            "text/plain": "<syft.proxy.syft.lib.python._SyNonePointer at 0x7f045e023fa0>"
          },
          "metadata": {}
        }
      ],
      "execution_count": 9,
      "metadata": {
        "jupyter": {
          "source_hidden": false,
          "outputs_hidden": false
        },
        "nteract": {
          "transient": {
            "deleting": false
          }
        },
        "gather": {
          "logged": 1631690182961
        }
      }
    },
    {
      "cell_type": "code",
      "source": [
        "for i, b in enumerate(rdl_ptr):\n",
        "    if i == 0:\n",
        "        X, y = b[0], b[1]\n",
        "        ic(X, y)\n",
        "        ic(X.get_copy(), y.get_copy())"
      ],
      "outputs": [
        {
          "output_type": "stream",
          "name": "stderr",
          "text": "ic| X: <syft.proxy.syft.lib.python.AnyPointer object at 0x7f045c82c7c0>\n    y: <syft.proxy.syft.lib.python.AnyPointer object at 0x7f045c659580>\nic| X.get_copy(): tensor([[ 1.1405, -1.3140,  0.5979,  0.3483],\n                          [-0.0894, -0.4419,  0.1388,  0.8375],\n                          [ 0.3678, -0.2669, -0.2797, -0.3754],\n                          [ 0.2269, -1.8619, -0.2170,  0.0686],\n                          [-0.9530, -0.3045, -0.7304, -1.4973],\n                          [-1.6702, -1.4909,  0.4590,  0.5937],\n                          [-1.3948, -1.4333, -0.3972,  1.7565],\n                          [ 0.7488,  1.2753,  0.8608,  0.3731],\n                          [ 0.9357, -0.2601, -0.4527, -1.0938],\n                          [ 0.4047, -0.7576, -0.8339,  0.1827],\n                          [-1.4704,  0.2962, -1.8296, -0.0429],\n                          [-0.4649, -0.9042,  0.3077, -0.3110],\n                          [-0.3878,  0.5274,  0.5408, -0.2406],\n                          [ 1.2548,  1.3337,  1.0590,  0.3840],\n                          [-0.1730, -1.2101,  1.4337,  0.2990],\n                          [ 2.2905, -0.2568,  0.2290, -0.1405],\n                          [ 1.0911,  0.3305, -0.1759, -0.7143],\n                          [ 0.8723, -1.1239, -2.0139,  0.4892],\n                          [ 0.8753,  1.3647,  0.0478,  0.3726],\n                          [ 0.2867,  0.1782,  0.4161,  3.1247],\n                          [-0.3297,  0.3850,  1.7690, -0.9723],\n                          [ 1.9993, -0.0115,  2.3281,  0.6496],\n                          [-1.2098, -0.4541,  1.2757, -0.7645],\n                          [-3.0525, -1.0250,  0.2257,  1.1903],\n                          [ 1.9868,  0.0530,  0.8561, -0.4919],\n                          [-0.4363,  0.1679, -1.6964, -0.8443],\n                          [ 0.7625,  1.1291, -0.1731, -0.5329],\n                          [-1.8029,  1.1188, -0.4272,  1.1453],\n                          [ 3.0747, -2.2638, -0.2239,  1.8949],\n                          [-1.5819,  0.7048,  0.2596, -0.8878],\n                          [ 1.9169, -0.1716,  0.5578, -0.9027],\n                          [-1.1272,  0.9756,  1.5237,  1.4329]])\n    y.get_copy(): tensor([[1],\n                          [1],\n                          [0],\n                          [1],\n                          [0],\n                          [1],\n                          [1],\n                          [0],\n                          [1],\n                          [1],\n                          [0],\n                          [0],\n                          [0],\n                          [1],\n                          [1],\n                          [1],\n                          [0],\n                          [1],\n                          [1],\n                          [0],\n                          [0],\n                          [1],\n                          [0],\n                          [0],\n                          [1],\n                          [1],\n                          [1],\n                          [1],\n                          [1],\n                          [1],\n                          [1],\n                          [1]])\n"
        }
      ],
      "execution_count": 16,
      "metadata": {
        "jupyter": {
          "source_hidden": false,
          "outputs_hidden": false
        },
        "nteract": {
          "transient": {
            "deleting": false
          }
        },
        "gather": {
          "logged": 1631690368128
        }
      }
    },
    {
      "cell_type": "code",
      "source": [
        "duet.close()"
      ],
      "outputs": [],
      "execution_count": 17,
      "metadata": {
        "jupyter": {
          "source_hidden": false,
          "outputs_hidden": false
        },
        "nteract": {
          "transient": {
            "deleting": false
          }
        },
        "gather": {
          "logged": 1631690446355
        }
      }
    },
    {
      "cell_type": "code",
      "source": [],
      "outputs": [],
      "execution_count": null,
      "metadata": {
        "jupyter": {
          "source_hidden": false,
          "outputs_hidden": false
        },
        "nteract": {
          "transient": {
            "deleting": false
          }
        }
      }
    }
  ],
  "metadata": {
    "kernelspec": {
      "name": "syftenv",
      "language": "python",
      "display_name": "syft"
    },
    "language_info": {
      "name": "python",
      "version": "3.9.6",
      "mimetype": "text/x-python",
      "codemirror_mode": {
        "name": "ipython",
        "version": 3
      },
      "pygments_lexer": "ipython3",
      "nbconvert_exporter": "python",
      "file_extension": ".py"
    },
    "kernel_info": {
      "name": "syftenv"
    },
    "microsoft": {
      "host": {
        "AzureML": {
          "notebookHasBeenCompleted": true
        }
      }
    },
    "nteract": {
      "version": "nteract-front-end@1.0.0"
    }
  },
  "nbformat": 4,
  "nbformat_minor": 2
}