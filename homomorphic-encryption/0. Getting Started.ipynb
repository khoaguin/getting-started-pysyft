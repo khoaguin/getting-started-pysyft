{
  "cells": [
    {
      "cell_type": "markdown",
      "source": [
        "# Tutorial 0: Getting started with TenSeal\n",
        "[Source](https://github.com/OpenMined/TenSEAL/blob/main/tutorials/Tutorial%200%20-%20Getting%20Started.ipynb)"
      ],
      "metadata": {
        "nteract": {
          "transient": {
            "deleting": false
          }
        }
      }
    },
    {
      "cell_type": "markdown",
      "source": [
        "## Tenseal"
      ],
      "metadata": {
        "nteract": {
          "transient": {
            "deleting": false
          }
        }
      }
    },
    {
      "cell_type": "code",
      "execution_count": 15,
      "source": [
        "import tenseal as ts\n",
        "print(f'tenseal version: {ts.__version__}')"
      ],
      "outputs": [
        {
          "output_type": "stream",
          "name": "stdout",
          "text": [
            "tenseal version: 0.3.5\n"
          ]
        }
      ],
      "metadata": {
        "jupyter": {
          "source_hidden": false,
          "outputs_hidden": false
        },
        "nteract": {
          "transient": {
            "deleting": false
          }
        },
        "gather": {
          "logged": 1632122471416
        }
      }
    },
    {
      "cell_type": "markdown",
      "source": [
        "TenSEAL supports addition, substraction and multiplication of encrypted vectors \n",
        "of either integers (using BFV) or real numbers (using CKKS)."
      ],
      "metadata": {
        "nteract": {
          "transient": {
            "deleting": false
          }
        }
      }
    },
    {
      "cell_type": "code",
      "execution_count": 23,
      "source": [
        "context = ts.context(ts.SCHEME_TYPE.BFV, \n",
        "                    poly_modulus_degree=4096, \n",
        "                    plain_modulus=1032193)\n",
        "context"
      ],
      "outputs": [
        {
          "output_type": "execute_result",
          "data": {
            "text/plain": [
              "<tenseal.enc_context.Context at 0x7f5073e21eb0>"
            ]
          },
          "metadata": {},
          "execution_count": 23
        }
      ],
      "metadata": {
        "jupyter": {
          "source_hidden": false,
          "outputs_hidden": false
        },
        "nteract": {
          "transient": {
            "deleting": false
          }
        },
        "gather": {
          "logged": 1632122713661
        }
      }
    },
    {
      "cell_type": "markdown",
      "source": [
        "Context holds different encryption keys and parameters so that you only need to use a single object \n",
        "to make your encrypted computation instead of managing all the keys and the HE details."
      ],
      "metadata": {
        "nteract": {
          "transient": {
            "deleting": false
          }
        }
      }
    },
    {
      "cell_type": "markdown",
      "source": [
        "Check if the context is public or private"
      ],
      "metadata": {
        "nteract": {
          "transient": {
            "deleting": false
          }
        }
      }
    },
    {
      "cell_type": "code",
      "execution_count": 24,
      "source": [
        "print(\"Is the context private?\", (\"Yes\" if context.is_private() else \"No\"))\n",
        "print(\"Is the context public?\", (\"Yes\" if context.is_public() else \"No\"))\n",
        "sk = context.secret_key()\n",
        "print(sk)\n",
        "\n",
        "# the context will drop the secret-key at this point\n",
        "context.make_context_public()\n",
        "print(\"Secret-key dropped\")\n",
        "print(\"Is the context private?\", (\"Yes\" if context.is_private() else \"No\"))\n",
        "print(\"Is the context public?\", (\"Yes\" if context.is_public() else \"No\"))\n",
        "try:\n",
        "    sk = context.secret_key()\n",
        "except Exception as e:\n",
        "    print(f'Error: {e}')"
      ],
      "outputs": [
        {
          "output_type": "stream",
          "name": "stdout",
          "text": [
            "Is the context private? Yes\n",
            "Is the context public? No\n",
            "<tenseal.enc_context.SecretKey object at 0x7f5073df4370>\n",
            "Secret-key dropped\n",
            "Is the context private? No\n",
            "Is the context public? Yes\n",
            "Error: the current context is public, it doesn't hold a Secret key\n"
          ]
        }
      ],
      "metadata": {
        "jupyter": {
          "source_hidden": false,
          "outputs_hidden": false
        },
        "nteract": {
          "transient": {
            "deleting": false
          }
        },
        "gather": {
          "logged": 1632122715328
        }
      }
    },
    {
      "cell_type": "markdown",
      "source": [
        "## Encryption and Evaluation"
      ],
      "metadata": {
        "nteract": {
          "transient": {
            "deleting": false
          }
        }
      }
    },
    {
      "cell_type": "markdown",
      "source": [
        "We have to construct the context again, as it needs to be private so we can decrypt \n",
        "the data after evaluation"
      ],
      "metadata": {
        "nteract": {
          "transient": {
            "deleting": false
          }
        }
      }
    },
    {
      "cell_type": "code",
      "execution_count": 29,
      "source": [
        "context = ts.context(ts.SCHEME_TYPE.BFV, \n",
        "                    poly_modulus_degree=4096, \n",
        "                    plain_modulus=1032193)\n",
        "context"
      ],
      "outputs": [
        {
          "output_type": "execute_result",
          "data": {
            "text/plain": [
              "<tenseal.enc_context.Context at 0x7f50672a65e0>"
            ]
          },
          "metadata": {},
          "execution_count": 29
        }
      ],
      "metadata": {
        "jupyter": {
          "source_hidden": false,
          "outputs_hidden": false
        },
        "nteract": {
          "transient": {
            "deleting": false
          }
        },
        "gather": {
          "logged": 1632123265143
        }
      }
    },
    {
      "cell_type": "code",
      "execution_count": 34,
      "source": [
        "plain_vector = [60, 66, 73, 81, 90]\n",
        "encrypted_vector = ts.bfv_vector(context, plain_vector)\n",
        "print(\"We just encrypted our plaintext vector of size:\", encrypted_vector.size())\n",
        "encrypted_vector.data"
      ],
      "outputs": [
        {
          "output_type": "stream",
          "name": "stdout",
          "text": [
            "We just encrypted our plaintext vector of size: 5\n"
          ]
        },
        {
          "output_type": "execute_result",
          "data": {
            "text/plain": [
              "<_tenseal_cpp.BFVVector at 0x7f50672000f0>"
            ]
          },
          "metadata": {},
          "execution_count": 34
        }
      ],
      "metadata": {
        "jupyter": {
          "source_hidden": false,
          "outputs_hidden": false
        },
        "nteract": {
          "transient": {
            "deleting": false
          }
        },
        "gather": {
          "logged": 1632123328355
        }
      }
    },
    {
      "cell_type": "markdown",
      "source": [
        "Do addition, substraction and multiplication in an element-wise fashion \n",
        "with other encrypted or plain vectors."
      ],
      "metadata": {
        "nteract": {
          "transient": {
            "deleting": false
          }
        }
      }
    },
    {
      "cell_type": "code",
      "execution_count": 40,
      "source": [
        "add_result = encrypted_vector + [1, 2, 3, 4, 5]\n",
        "print(add_result)\n",
        "print(add_result.decrypt())"
      ],
      "outputs": [
        {
          "output_type": "stream",
          "name": "stdout",
          "text": [
            "<tenseal.tensors.bfvvector.BFVVector object at 0x7f5067212ee0>\n",
            "[61, 68, 76, 85, 95]\n"
          ]
        }
      ],
      "metadata": {
        "jupyter": {
          "source_hidden": false,
          "outputs_hidden": false
        },
        "nteract": {
          "transient": {
            "deleting": false
          }
        },
        "gather": {
          "logged": 1632123926676
        }
      }
    },
    {
      "cell_type": "code",
      "execution_count": 36,
      "source": [
        "sub_result = encrypted_vector - [1, 2, 3, 4, 5]\n",
        "print(sub_result.decrypt())"
      ],
      "outputs": [
        {
          "output_type": "stream",
          "name": "stdout",
          "text": [
            "[59, 64, 70, 77, 85]\n"
          ]
        }
      ],
      "metadata": {
        "jupyter": {
          "source_hidden": false,
          "outputs_hidden": false
        },
        "nteract": {
          "transient": {
            "deleting": false
          }
        },
        "gather": {
          "logged": 1632123333526
        }
      }
    },
    {
      "cell_type": "code",
      "execution_count": 37,
      "source": [
        "mul_result = encrypted_vector * [1, 2, 3, 4, 5]\n",
        "print(mul_result.decrypt())"
      ],
      "outputs": [
        {
          "output_type": "stream",
          "name": "stdout",
          "text": [
            "[60, 132, 219, 324, 450]\n"
          ]
        }
      ],
      "metadata": {
        "jupyter": {
          "source_hidden": false,
          "outputs_hidden": false
        },
        "nteract": {
          "transient": {
            "deleting": false
          }
        },
        "gather": {
          "logged": 1632123342251
        }
      }
    },
    {
      "cell_type": "code",
      "execution_count": 38,
      "source": [
        "encrypted_add = add_result + sub_result\n",
        "print(encrypted_add.decrypt())"
      ],
      "outputs": [
        {
          "output_type": "stream",
          "name": "stdout",
          "text": [
            "[120, 132, 146, 162, 180]\n"
          ]
        }
      ],
      "metadata": {
        "jupyter": {
          "source_hidden": false,
          "outputs_hidden": false
        },
        "nteract": {
          "transient": {
            "deleting": false
          }
        },
        "gather": {
          "logged": 1632123862853
        }
      }
    },
    {
      "cell_type": "code",
      "execution_count": 39,
      "source": [
        "encrypted_sub = encrypted_add - encrypted_vector\n",
        "print(encrypted_sub.decrypt())"
      ],
      "outputs": [
        {
          "output_type": "stream",
          "name": "stdout",
          "text": [
            "[60, 66, 73, 81, 90]\n"
          ]
        }
      ],
      "metadata": {
        "jupyter": {
          "source_hidden": false,
          "outputs_hidden": false
        },
        "nteract": {
          "transient": {
            "deleting": false
          }
        },
        "gather": {
          "logged": 1632123870688
        }
      }
    },
    {
      "cell_type": "code",
      "execution_count": 41,
      "source": [
        "encrypted_mul = encrypted_add * encrypted_sub\n",
        "print(encrypted_mul.decrypt())"
      ],
      "outputs": [
        {
          "output_type": "stream",
          "name": "stdout",
          "text": [
            "[7200, 8712, 10658, 13122, 16200]\n"
          ]
        }
      ],
      "metadata": {
        "jupyter": {
          "source_hidden": false,
          "outputs_hidden": false
        },
        "nteract": {
          "transient": {
            "deleting": false
          }
        },
        "gather": {
          "logged": 1632123939162
        }
      }
    },
    {
      "cell_type": "markdown",
      "source": [
        "You should never encrypt your plaintext values to evaluate them with ciphertexts if \n",
        "they don't need to be kept private"
      ],
      "metadata": {
        "nteract": {
          "transient": {
            "deleting": false
          }
        }
      }
    },
    {
      "cell_type": "code",
      "execution_count": 43,
      "source": [
        "from time import time\n",
        "\n",
        "t_start = time()\n",
        "_ = encrypted_add * encrypted_mul\n",
        "t_end = time()\n",
        "print(\"ciphertext and ciphertext multiply time: {} ms\".format((t_end - t_start) * 1000))\n",
        "\n",
        "t_start = time()\n",
        "_ = encrypted_add * [1, 2, 3, 4, 5]\n",
        "t_end = time()\n",
        "print(\"ciphertext and plaintext multiply time: {} ms\".format((t_end - t_start) * 1000))"
      ],
      "outputs": [
        {
          "output_type": "stream",
          "name": "stdout",
          "text": [
            "ciphertext and ciphertext multiply time: 6.909370422363281 ms\n",
            "ciphertext and plaintext multiply time: 0.8785724639892578 ms\n"
          ]
        }
      ],
      "metadata": {
        "jupyter": {
          "source_hidden": false,
          "outputs_hidden": false
        },
        "nteract": {
          "transient": {
            "deleting": false
          }
        },
        "gather": {
          "logged": 1632124126162
        }
      }
    },
    {
      "cell_type": "markdown",
      "source": [
        "## More on Tenseal context"
      ],
      "metadata": {
        "nteract": {
          "transient": {
            "deleting": false
          }
        }
      }
    },
    {
      "cell_type": "markdown",
      "source": [
        "Other attributes of context: setting automatic relinearization, \n",
        "rescaling (for CKKS only) and modulus switching. These features are enabled by \n",
        "defaut as you can see below:"
      ],
      "metadata": {
        "nteract": {
          "transient": {
            "deleting": false
          }
        }
      }
    },
    {
      "cell_type": "code",
      "execution_count": 44,
      "source": [
        "print(\"Automatic relinearization is:\", (\"on\" if context.auto_relin else \"off\"))\n",
        "print(\"Automatic rescaling is:\", (\"on\" if context.auto_rescale else \"off\"))\n",
        "print(\"Automatic modulus switching is:\", (\"on\" if context.auto_mod_switch else \"off\"))"
      ],
      "outputs": [
        {
          "output_type": "stream",
          "name": "stdout",
          "text": [
            "Automatic relinearization is: on\n",
            "Automatic rescaling is: off\n",
            "Automatic modulus switching is: off\n"
          ]
        }
      ],
      "metadata": {
        "jupyter": {
          "source_hidden": false,
          "outputs_hidden": false
        },
        "nteract": {
          "transient": {
            "deleting": false
          }
        },
        "gather": {
          "logged": 1632124632106
        }
      }
    },
    {
      "cell_type": "markdown",
      "source": [
        "TenSEALContext can also hold a global_scale (only used when using CKKS), which is used as a default scale value when the user doesn't provide one. As most often users will define a single value to be used as scale during the entire HE computation, defining it globally can be more straight forward compared to passing it to every function call."
      ],
      "metadata": {
        "nteract": {
          "transient": {
            "deleting": false
          }
        }
      }
    },
    {
      "cell_type": "code",
      "execution_count": 45,
      "source": [
        "# this should throw an error as the global_scale isn't defined yet\n",
        "try:\n",
        "    print(\"global_scale:\", context.global_scale)\n",
        "except ValueError:\n",
        "    print(\"The global_scale isn't defined yet\")\n",
        "    \n",
        "# you can define it to 2 ** 20 for instance\n",
        "context.global_scale = 2 ** 20\n",
        "print(\"global_scale:\", context.global_scale)"
      ],
      "outputs": [
        {
          "output_type": "stream",
          "name": "stdout",
          "text": [
            "The global_scale isn't defined yet\n",
            "global_scale: 1048576.0\n"
          ]
        }
      ],
      "metadata": {
        "jupyter": {
          "source_hidden": false,
          "outputs_hidden": false
        },
        "nteract": {
          "transient": {
            "deleting": false
          }
        },
        "gather": {
          "logged": 1632124659169
        }
      }
    },
    {
      "cell_type": "code",
      "execution_count": null,
      "source": [],
      "outputs": [],
      "metadata": {
        "jupyter": {
          "source_hidden": false,
          "outputs_hidden": false
        },
        "nteract": {
          "transient": {
            "deleting": false
          }
        }
      }
    }
  ],
  "metadata": {
    "kernelspec": {
      "name": "syftenv",
      "language": "python",
      "display_name": "syft"
    },
    "kernel_info": {
      "name": "syftenv"
    },
    "nteract": {
      "version": "nteract-front-end@1.0.0"
    },
    "microsoft": {
      "host": {
        "AzureML": {
          "notebookHasBeenCompleted": true
        }
      }
    }
  },
  "nbformat": 4,
  "nbformat_minor": 2
}