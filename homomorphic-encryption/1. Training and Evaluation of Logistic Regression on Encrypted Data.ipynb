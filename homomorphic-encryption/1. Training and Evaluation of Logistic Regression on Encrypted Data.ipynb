{
  "cells": [
    {
      "cell_type": "markdown",
      "source": [
        "# Tutorial 1: Training and Evaluation of Logistic Regression on Encrypted Data\n",
        "\n",
        "Welcome to this first use case tutorial, where we are going to show how to use TenSEAL for training and evaluating a logistic regression (LR) model on encrypted data (using homomorphic encryption) for heart disease prediction! If you haven't played with TenSEAL before, or need a quick overview of what homomorphic encryption is, I would suggest going through ['Tutorial 0 - Getting Started'](./Tutorial%200%20-%20Getting%20Started.ipynb) first.\n",
        "\n",
        "\n",
        "**Important note:** The goal of this tutorial isn't to show how efficient logistic regression is for this task, we will just go with whatever accuracy we get, but the training and evaluation on encrypted data should be comparable to when we use plain data.\n",
        "\n",
        "\n",
        "Authors:\n",
        "- Ayoub Benaissa - Twitter: [@y0uben11](https://twitter.com/y0uben11)"
      ],
      "metadata": {}
    },
    {
      "cell_type": "markdown",
      "source": [
        "## Setup and Data\n",
        "\n",
        "All modules are imported here. Make sure everything is installed by running the cell below:"
      ],
      "metadata": {}
    },
    {
      "cell_type": "code",
      "source": [
        "import torch\n",
        "import tenseal as ts\n",
        "import pandas as pd\n",
        "import random\n",
        "from time import time\n",
        "\n",
        "# those are optional and are not necessary for training\n",
        "import numpy as np\n",
        "import matplotlib.pyplot as plt\n",
        "plt.style.use('dark_background')"
      ],
      "outputs": [],
      "execution_count": 12,
      "metadata": {}
    },
    {
      "cell_type": "markdown",
      "source": [
        "We now prepare the training and test data. The dataset was downloaded from Kaggle [here](https://www.kaggle.com/dileep070/heart-disease-prediction-using-logistic-regression). This dataset includes patients' information along with a 10-year risk of future coronary heart disease (CHD) as a label. The goal is to build a model that can predict this 10-year CHD risk based on patients' information. You can read more about the dataset in the link provided. \n",
        "\n",
        "Alternatively, we also provide the `random_data()` function below that generates random, linearly separable points. You can use it instead of the dataset from Kaggle, for those who just want to see how things work. The rest of the tutorial should work in the same way."
      ],
      "metadata": {}
    },
    {
      "cell_type": "code",
      "source": [
        "torch.random.manual_seed(73)\n",
        "random.seed(73)\n",
        "\n",
        "\n",
        "def split_train_test(x, y, test_ratio=0.3):\n",
        "    idxs = [i for i in range(len(x))]\n",
        "    random.shuffle(idxs)\n",
        "    # delimiter between test and train data\n",
        "    delim = int(len(x) * test_ratio)\n",
        "    test_idxs, train_idxs = idxs[:delim], idxs[delim:]\n",
        "    return x[train_idxs], y[train_idxs], x[test_idxs], y[test_idxs]\n",
        "\n",
        "\n",
        "def heart_disease_data():\n",
        "    data = pd.read_csv(\"./data/framingham.csv\")\n",
        "    # drop rows with missing values\n",
        "    data = data.dropna()\n",
        "    # drop some features\n",
        "    data = data.drop(columns=[\"education\", \"currentSmoker\", \"BPMeds\", \"diabetes\", \"diaBP\", \"BMI\"])\n",
        "    # balance data\n",
        "    grouped = data.groupby('TenYearCHD')\n",
        "    data = grouped.apply(lambda x: x.sample(grouped.size().min(), random_state=73).reset_index(drop=True))\n",
        "    # extract labels\n",
        "    y = torch.tensor(data[\"TenYearCHD\"].values).float().unsqueeze(1)\n",
        "    data = data.drop(\"TenYearCHD\", 'columns')\n",
        "    # standardize data\n",
        "    data = (data - data.mean()) / data.std()\n",
        "    x = torch.tensor(data.values).float()\n",
        "    return split_train_test(x, y)\n",
        "\n",
        "\n",
        "def random_data(m=1024, n=2):\n",
        "    # data separable by the line `y = x`\n",
        "    x_train = torch.randn(m, n)\n",
        "    x_test = torch.randn(m // 2, n)\n",
        "    y_train = (x_train[:, 0] >= x_train[:, 1]).float().unsqueeze(0).t()\n",
        "    y_test = (x_test[:, 0] >= x_test[:, 1]).float().unsqueeze(0).t()\n",
        "    return x_train, y_train, x_test, y_test\n",
        "\n",
        "\n",
        "# You can use whatever data you want without modification to the tutorial\n",
        "# x_train, y_train, x_test, y_test = random_data()\n",
        "x_train, y_train, x_test, y_test = heart_disease_data()\n",
        "\n",
        "print(\"############# Data summary #############\")\n",
        "print(f\"x_train has shape: {x_train.shape}\")\n",
        "print(f\"y_train has shape: {y_train.shape}\")\n",
        "print(f\"x_test has shape: {x_test.shape}\")\n",
        "print(f\"y_test has shape: {y_test.shape}\")\n",
        "print(\"#######################################\")"
      ],
      "outputs": [
        {
          "output_type": "stream",
          "name": "stdout",
          "text": "############# Data summary #############\nx_train has shape: torch.Size([780, 9])\ny_train has shape: torch.Size([780, 1])\nx_test has shape: torch.Size([334, 9])\ny_test has shape: torch.Size([334, 1])\n#######################################\n"
        },
        {
          "output_type": "stream",
          "name": "stderr",
          "text": "/tmp/ipykernel_5848/2026344545.py:25: FutureWarning: In a future version of pandas all arguments of DataFrame.drop except for the argument 'labels' will be keyword-only\n  data = data.drop(\"TenYearCHD\", 'columns')\n"
        }
      ],
      "execution_count": 2,
      "metadata": {}
    },
    {
      "cell_type": "markdown",
      "source": [
        "## Training a Logistic Regression Model\n",
        "\n",
        "We will start by training a logistic regression model (without any encryption), which can be viewed as a single layer neural network with a single node. We will be using this model as a means of comparison against encrypted training and evaluation.\n",
        "\n",
        "Steps:\n",
        "* Make a logistic model as simply a neural network with one linear layer and a sigmoid activation function\n",
        "* Train the model with `SGD` and `Binary Cross Entropy Loss` on the plaintext training dataset\n",
        "* Test the model on the plaintext test dataset"
      ],
      "metadata": {}
    },
    {
      "cell_type": "code",
      "source": [
        "class LR(torch.nn.Module):\n",
        "\n",
        "    def __init__(self, n_features):\n",
        "        super(LR, self).__init__()\n",
        "        self.lr = torch.nn.Linear(n_features, 1)\n",
        "        \n",
        "    def forward(self, x):\n",
        "        out = torch.sigmoid(self.lr(x))\n",
        "        return out"
      ],
      "outputs": [],
      "execution_count": 3,
      "metadata": {}
    },
    {
      "cell_type": "code",
      "source": [
        "n_features = x_train.shape[1]\n",
        "model = LR(n_features)\n",
        "# use gradient descent with a learning_rate=1\n",
        "optim = torch.optim.SGD(model.parameters(), lr=1)\n",
        "# use Binary Cross Entropy Loss\n",
        "criterion = torch.nn.BCELoss()"
      ],
      "outputs": [],
      "execution_count": 4,
      "metadata": {}
    },
    {
      "cell_type": "code",
      "source": [
        "# define the number of epochs for both plain and encrypted training\n",
        "EPOCHS = 5\n",
        "\n",
        "def train(model, optim, criterion, x, y, epochs=EPOCHS):\n",
        "    for e in range(1, epochs + 1):\n",
        "        optim.zero_grad()\n",
        "        out = model(x)\n",
        "        loss = criterion(out, y)\n",
        "        loss.backward()\n",
        "        optim.step()\n",
        "        print(f\"Loss at epoch {e}: {loss.data}\")\n",
        "    return model\n",
        "\n",
        "model = train(model, optim, criterion, x_train, y_train)"
      ],
      "outputs": [
        {
          "output_type": "stream",
          "name": "stdout",
          "text": "Loss at epoch 1: 0.8504331707954407\nLoss at epoch 2: 0.6863384246826172\nLoss at epoch 3: 0.6358115077018738\nLoss at epoch 4: 0.6193529367446899\nLoss at epoch 5: 0.6124349236488342\n"
        }
      ],
      "execution_count": 5,
      "metadata": {}
    },
    {
      "cell_type": "code",
      "source": [
        "def accuracy(model, x, y):\n",
        "    out = model(x)\n",
        "    correct = torch.abs(y - out) < 0.5\n",
        "    return correct.float().mean()\n",
        "\n",
        "plain_accuracy = accuracy(model, x_test, y_test)\n",
        "print(f\"Accuracy on plain test_set: {plain_accuracy}\")"
      ],
      "outputs": [
        {
          "output_type": "stream",
          "name": "stdout",
          "text": "Accuracy on plain test_set: 0.703592836856842\n"
        }
      ],
      "execution_count": 6,
      "metadata": {}
    },
    {
      "cell_type": "markdown",
      "source": [
        "It is worth to remember that a high accuracy isn't our goal. We just want to see that training on encrypted data doesn't affect the final result, so we will be comparing accuracies over encrypted data against the `plain_accuracy` we got here."
      ],
      "metadata": {}
    },
    {
      "cell_type": "markdown",
      "source": [
        "## Encrypted Evaluation\n",
        "\n",
        "In this part, we will just focus on evaluating the logistic regression model with plain parameters (optionally encrypted parameters) on the encrypted test set. We first create a PyTorch-like LR model that can evaluate encrypted data:\n",
        "\n",
        "Steps: \n",
        "* Create a model that can evaluate encrypted data, the model will get the weights from the previously trained LR model on plaintext training dataset\n",
        "* Create a TenSeal context and encrypt the test dataset \n",
        "* Inference: run the model on the encrypted test dataset\n",
        "* Decrypt the output, apply sigmoid on the decrypted data, calculate the accuracy, compare the accuracy when doing\n",
        "evaluation on encrypted data vs on plain data."
      ],
      "metadata": {}
    },
    {
      "cell_type": "code",
      "source": [
        "class EncryptedLR:\n",
        "    \n",
        "    def __init__(self, torch_lr):\n",
        "        # TenSEAL processes lists and not torch tensors,\n",
        "        # so we take out the parameters from the PyTorch model\n",
        "        self.weight = torch_lr.lr.weight.data.tolist()[0]\n",
        "        self.bias = torch_lr.lr.bias.data.tolist()\n",
        "        \n",
        "    def forward(self, enc_x):\n",
        "        # We don't need to perform sigmoid as this model\n",
        "        # will only be used for evaluation, and the label\n",
        "        # can be deduced without applying sigmoid\n",
        "        enc_out = enc_x.dot(self.weight) + self.bias\n",
        "        return enc_out\n",
        "    \n",
        "    def __call__(self, *args, **kwargs):\n",
        "        return self.forward(*args, **kwargs)\n",
        "        \n",
        "    ################################################\n",
        "    ## You can use the functions below to perform ##\n",
        "    ## the evaluation with an encrypted model     ##\n",
        "    ################################################\n",
        "    \n",
        "    def encrypt(self, context):\n",
        "        self.weight = ts.ckks_vector(context, self.weight)\n",
        "        self.bias = ts.ckks_vector(context, self.bias)\n",
        "        \n",
        "    def decrypt(self, context):\n",
        "        self.weight = self.weight.decrypt()\n",
        "        self.bias = self.bias.decrypt()\n",
        "        \n",
        "\n",
        "eelr = EncryptedLR(model)"
      ],
      "outputs": [],
      "execution_count": 7,
      "metadata": {}
    },
    {
      "cell_type": "markdown",
      "source": [
        "We now create a TenSEALContext for specifying the scheme and the parameters we are going to use. Here we choose small and secure parameters that allow us to make a single multiplication. That's enough for evaluating a logistic regression model, however, we will see that we need larger parameters when doing training on encrypted data."
      ],
      "metadata": {}
    },
    {
      "cell_type": "code",
      "source": [
        "# parameters\n",
        "poly_mod_degree = 4096\n",
        "coeff_mod_bit_sizes = [40, 20, 40]\n",
        "# create TenSEALContext\n",
        "ctx_eval = ts.context(ts.SCHEME_TYPE.CKKS, poly_mod_degree, -1, coeff_mod_bit_sizes)\n",
        "# scale of ciphertext to use\n",
        "ctx_eval.global_scale = 2 ** 20\n",
        "# this key is needed for doing dot-product operations\n",
        "ctx_eval.generate_galois_keys()"
      ],
      "outputs": [],
      "execution_count": 8,
      "metadata": {}
    },
    {
      "cell_type": "markdown",
      "source": [
        "We will encrypt the whole test set before the evaluation:"
      ],
      "metadata": {}
    },
    {
      "cell_type": "code",
      "source": [
        "t_start = time()\n",
        "enc_x_test = [ts.ckks_vector(ctx_eval, x.tolist()) for x in x_test]\n",
        "t_end = time()\n",
        "print(f\"Encryption of the test-set took {int(t_end - t_start)} seconds\")"
      ],
      "outputs": [
        {
          "output_type": "stream",
          "name": "stdout",
          "text": "Encryption of the test-set took 0 seconds\n"
        }
      ],
      "execution_count": 9,
      "metadata": {}
    },
    {
      "cell_type": "code",
      "source": [
        "# (optional) encrypt the model's parameters\n",
        "# eelr.encrypt(ctx_eval)"
      ],
      "outputs": [],
      "execution_count": 10,
      "metadata": {}
    },
    {
      "cell_type": "markdown",
      "source": [
        "As you may have already noticed when we built the EncryptedLR class, we don't compute the sigmoid function on the encrypted output of the linear layer, simply because it's not needed, and computing sigmoid over encrypted data will increase the computation time and require larger encryption parameters. However, we will use sigmoid for the encrypted training part. We now proceed with the evaluation of the encrypted test set and compare the accuracy to the one on the plain test set."
      ],
      "metadata": {}
    },
    {
      "cell_type": "code",
      "source": [
        "def encrypted_evaluation(model, enc_x_test, y_test):\n",
        "    t_start = time()\n",
        "    \n",
        "    correct = 0\n",
        "    for enc_x, y in zip(enc_x_test, y_test):\n",
        "        # encrypted evaluation\n",
        "        enc_out = model(enc_x)\n",
        "        # plain comparaison\n",
        "        out = enc_out.decrypt()\n",
        "        out = torch.tensor(out)\n",
        "        out = torch.sigmoid(out)\n",
        "        if torch.abs(out - y) < 0.5:\n",
        "            correct += 1\n",
        "    \n",
        "    t_end = time()\n",
        "    print(f\"Evaluated test_set of {len(x_test)} entries in {int(t_end - t_start)} seconds\")\n",
        "    print(f\"Accuracy: {correct}/{len(x_test)} = {correct / len(x_test)}\")\n",
        "    return correct / len(x_test)\n",
        "    \n",
        "\n",
        "encrypted_accuracy = encrypted_evaluation(eelr, enc_x_test, y_test)\n",
        "diff_accuracy = plain_accuracy - encrypted_accuracy\n",
        "print(f\"Difference between plain and encrypted accuracies: {diff_accuracy}\")\n",
        "if diff_accuracy < 0:\n",
        "    print(\"Oh! We got a better accuracy on the encrypted test-set! The noise was on our side...\")"
      ],
      "outputs": [
        {
          "output_type": "stream",
          "name": "stdout",
          "text": "Evaluated test_set of 334 entries in 1 seconds\nAccuracy: 231/334 = 0.6916167664670658\nDifference between plain and encrypted accuracies: 0.011976063251495361\n"
        }
      ],
      "execution_count": 11,
      "metadata": {}
    },
    {
      "cell_type": "markdown",
      "source": [
        "We saw that evaluating on the encrypted test set doesn't affect the accuracy that much. I've even seen examples where the encrypted evaluation performs better."
      ],
      "metadata": {}
    },
    {
      "cell_type": "markdown",
      "source": [
        "## Training an Encrypted Logistic Regression Model on Encrypted Data\n",
        "\n",
        "In this part we will redefine a PyTorch-like model that can both forward encrypted data, as well as backpropagate to update the weights and thus train the encrypted logistic regression model on encrypted data. Below are more details about the training.  \n",
        "\n",
        "Steps:\n",
        "* Define a custom model that can encrypt and decrypt its parameters, can do forward/backward/params update on encrypted data, having a sigmoid approximation function\n",
        "* Create a TenSealContext with proper parameters to encrypt the training dataset\n",
        "* We will also plot the distributions of the output of the linear regression model on plaintext input vs on encrypted input.\n",
        "* Finally we train the neural networks with encrypted parameters on encrypted input."
      ],
      "metadata": {}
    },
    {
      "cell_type": "markdown",
      "source": [
        "### Theory"
      ],
      "metadata": {}
    },
    {
      "cell_type": "markdown",
      "source": [
        "#### Forward pass and Loss function"
      ],
      "metadata": {}
    },
    {
      "cell_type": "markdown",
      "source": [
        "Let's derive the binary cross entropy loss function:  \n",
        "First, the `sigmoid` function $\\sigma(z)$ is:\n",
        "$$\n",
        "\\begin{aligned}\n",
        "  \\sigma(z) &= \\frac{1}{1+e^{-z}} \\\\\n",
        "  \\text{Cool property:}\\quad 1-\\sigma(z) &= \\frac{e^{-z}}{1+e^{-z}} = \\frac{1}{e^z+1} = \\sigma(-z) \n",
        "\\end{aligned}\n",
        "$$\n",
        "\n",
        "A predictor for $y\\in\\{0,1\\}$ from $x$ is:\n",
        "$$\\hat{P}(y \\mid \\boldsymbol{x}, \\boldsymbol{\\theta}) = \\frac{1}{1+e^{-\\boldsymbol{\\theta} \\boldsymbol{x}}}$$\n",
        "The likelihood function to access the model performance is:\n",
        "$$L(\\theta) = \\prod_{i=1}^{m}\\hat{P}(y^{(i)} \\vert \\boldsymbol{x^{(i)}}, \\boldsymbol{\\theta}),$$\n",
        "where $m$ is the number of training examples, $x^{(i)}$ is the training example $i^{th}$.  \n",
        "Appy negative log for both sides:\n",
        "$$\n",
        "-\\log (L(\\theta)) = -\\sum_{i=1}^{m}\\log (\\hat{P}(y^{(i)} \\vert \\boldsymbol{x^{(i)}}, \\boldsymbol{\\theta}))\n",
        "$$\n",
        "Because logarithm is a strictly monotonic function, minimizing the negative log-likelihood will result in the same parameters $\\theta$ as when maximizing directly the likelihood function.  \n",
        "\n",
        "Now, because\n",
        "$$\n",
        "\\begin{equation*}\n",
        "  \\hat{P}(y^{(i)} \\vert \\boldsymbol{x^{(i)}}, \\boldsymbol{\\theta}) =\n",
        "    \\begin{cases}\n",
        "      \\hat{P}(1 \\vert \\boldsymbol{x^{(i)}}, \\boldsymbol{\\theta})^1 &\\text{if} ~ y^{(i)}=1 \\\\\n",
        "      \\hat{P}(0 \\vert \\boldsymbol{x^{(i)}}, \\boldsymbol{\\theta})^{1-0} &\\text{if} ~ y^{(i)}=0\n",
        "    \\end{cases}       \n",
        "\\end{equation*}\n",
        "$$\n",
        "we can rewrite $\\hat{P}(y^{(i)} \\vert \\boldsymbol{x^{(i)}}, \\boldsymbol{\\theta})$ as \n",
        "$$\n",
        "\\hat{P}(y^{(i)} \\vert \\boldsymbol{x^{(i)}}, \\boldsymbol{\\theta}) = \\hat{P}(1\\vert \\boldsymbol{x^{(i)}}, \\boldsymbol{\\theta})^{y^{(i)}} * \\hat{P}(0 \\vert \\boldsymbol{x^{(i)}}, \\boldsymbol{\\theta})^{1-y^{(i)}}\n",
        "$$\n",
        "Assign $\\hat{P}(1 \\vert \\boldsymbol{x^{(i)}}, \\boldsymbol{\\theta}) = \\hat{p} = \\hat{y}^{(i)}$ (we only need to predict the positive class), and as we also have \n",
        "$$\n",
        "\\begin{aligned}\n",
        "\\hat{P}(0 \\vert \\boldsymbol{x^{(i)}}, \\boldsymbol{\\theta}) \n",
        "&= 1 - \\hat{P}(1 \\vert \\boldsymbol{x^{(i)}}, \\boldsymbol{\\theta}) \\\\\n",
        "\\Rightarrow \\hat{P}(0 \\vert \\boldsymbol{x^{(i)}}, \\boldsymbol{\\theta}) &= 1 - \\hat{p}\n",
        "\\end{aligned}\n",
        "$$\n",
        "Therefore \n",
        "$$\n",
        "\\begin{aligned}\n",
        "\\hat{P}(y^{(i)} \\vert \\boldsymbol{x^{(i)}}, \\boldsymbol{\\theta}) &\n",
        "= \\hat{P}(1\\vert \\boldsymbol{x^{(i)}}, \\boldsymbol{\\theta})^{y^{(i)}} * \\hat{P}(0 \\vert \\boldsymbol{x^{(i)}}, \\boldsymbol{\\theta})^{1-y^{(i)}} \\\\\n",
        "&= \\hat{p}^{y^{(i)}} * (1-\\hat{p})^{1-y^{(i)}}\n",
        "\\end{aligned}\n",
        "$$\n",
        "Inserting this into the negative log equation and normalizing by the number of examples, we can obtain the binary cross-entropy loss function\n",
        "$$\n",
        "\\begin{aligned}\n",
        "J(\\theta) \n",
        "&=  -\\frac{1}{m} \\sum_{i=1}^{m}y^{(i)}\\log \\hat{p} + (1-y^{(i)})\\log(1-\\hat{p}) \\\\\n",
        "&= -\\frac{1}{m} \\sum_{i=1}^{m}y^{(i)}\\log \\hat{y}^{(i)} + (1-y^{(i)})\\log(1-\\hat{y}^{(i)})\n",
        "\\end{aligned}\n",
        "$$\n",
        "Adding the regulazation term we will have the final loss function\n",
        "$$\n",
        "J(\\theta) = - \\frac{1}{m} \\sum_{i=1}^{m} [y^{(i)} \\log(\\hat{y}^{(i)}) + (1 - y^{(i)}) \\log(1 - \\hat{y}^{(i)})] + \\frac{\\lambda}{2m} \\sum_{j=1}^n \\theta_j^2\n",
        "$$\n",
        "\n",
        "References:  \n",
        "[Binary cross-entropy and logistic regression](https://towardsdatascience.com/binary-cross-entropy-and-logistic-regression-bf7098e75559)  \n",
        "[Where did the Binary Cross-Entropy Loss Function come from?](https://towardsdatascience.com/where-did-the-binary-cross-entropy-loss-function-come-from-ac3de349a715)  "
      ],
      "metadata": {}
    },
    {
      "cell_type": "markdown",
      "source": [
        "#### Calculating the gradients (backward pass) and parameters update"
      ],
      "metadata": {}
    },
    {
      "cell_type": "markdown",
      "source": [
        "DOING\n",
        "\n",
        "References:  \n",
        "[Deriving the sigmoid derivative via chain and quotient rules](https://hausetutorials.netlify.app/posts/2019-12-01-neural-networks-deriving-the-sigmoid-derivative/)  \n"
      ],
      "metadata": {}
    },
    {
      "cell_type": "markdown",
      "source": [
        "#### Sigmoid approximation"
      ],
      "metadata": {}
    },
    {
      "cell_type": "markdown",
      "source": [
        "Since we can't simply compute sigmoid on encrypted data (it is a non-linear function), we need to approximate it using a low degree polynomial, the lower the degree the better, as we aim to perform as few multiplications as possible, to be able to use smaller parameters and thus optimize computation. This tutorial uses a degree 3 polynomial from [https://eprint.iacr.org/2018/462.pdf](https://eprint.iacr.org/2018/462.pdf), which approximates the sigmoid function in the range $[-5,5]$.\n",
        "\n",
        "$$\\sigma(x) = 0.5 + 0.197 x - 0.004 x^3$$"
      ],
      "metadata": {}
    },
    {
      "cell_type": "markdown",
      "source": [
        "#### Homomorphic Encryption Parameters"
      ],
      "metadata": {}
    },
    {
      "cell_type": "markdown",
      "source": [
        "From the input data to the parameter update, a ciphertext will need a multiplicative depth of 6, 1 for the dot product operation, 2 for the sigmoid approximation, and 3 for the backprobagation phase (one is actually hidden in the `self._delta_w += enc_x * out_minus_y` operation in the `backward()` function of the neural network, which is multiplying a 1-sized vector with an n-sized one, which requires masking the first slot and replicating it n times in the first vector). With a scale of around 20 bits, we need 6 coefficients modulus with the same bit-size as the scale, plus the last coeffcient, which needs more bits, we are already out of the 4096 polynomial modulus degree (which requires < 109 total bit count of the coefficients modulus, if we consider 128-bit security), so we will use 8192. This will allow us to batch up to 4096 values in a single ciphertext, but we are far away from this limitation, so we shouldn't even think about it."
      ],
      "metadata": {}
    },
    {
      "cell_type": "markdown",
      "source": [
        "### Code"
      ],
      "metadata": {}
    },
    {
      "cell_type": "code",
      "source": [
        "class EncryptedLR:\n",
        "    \n",
        "    def __init__(self, torch_lr):\n",
        "        self.weight = torch_lr.lr.weight.data.tolist()[0]\n",
        "        self.bias = torch_lr.lr.bias.data.tolist()\n",
        "        # we accumulate gradients and counts the number of iterations\n",
        "        self._delta_w = 0\n",
        "        self._delta_b = 0\n",
        "        self._count = 0\n",
        "        \n",
        "    def forward(self, enc_x):\n",
        "        enc_out = enc_x.dot(self.weight) + self.bias\n",
        "        enc_out = EncryptedLR.sigmoid(enc_out)\n",
        "        return enc_out\n",
        "    \n",
        "    def backward(self, enc_x, enc_out, enc_y):\n",
        "        out_minus_y = (enc_out - enc_y)\n",
        "        self._delta_w += enc_x * out_minus_y\n",
        "        self._delta_b += out_minus_y\n",
        "        self._count += 1\n",
        "        \n",
        "    def update_parameters(self):\n",
        "        if self._count == 0:\n",
        "            raise RuntimeError(\"You should at least run one forward iteration\")\n",
        "        # update weights\n",
        "        # we use a small regularization term to keep the output\n",
        "        # of the linear layer in the range of the sigmoid approximation\n",
        "        self.weight -= self._delta_w * (1 / self._count) + self.weight * 0.05\n",
        "        self.bias -= self._delta_b * (1 / self._count)\n",
        "        # reset gradient accumulators and iterations count\n",
        "        self._delta_w = 0\n",
        "        self._delta_b = 0\n",
        "        self._count = 0\n",
        "    \n",
        "    @staticmethod\n",
        "    def sigmoid(enc_x):\n",
        "        # We use the polynomial approximation of degree 3\n",
        "        # sigmoid(x) = 0.5 + 0.197 * x - 0.004 * x^3\n",
        "        # from https://eprint.iacr.org/2018/462.pdf\n",
        "        # which fits the function pretty well in the range [-5,5]\n",
        "        return enc_x.polyval([0.5, 0.197, 0, -0.004])\n",
        "    \n",
        "    def plain_accuracy(self, x_test, y_test):\n",
        "        # evaluate accuracy of the model on\n",
        "        # the plain (x_test, y_test) dataset\n",
        "        w = torch.tensor(self.weight)\n",
        "        b = torch.tensor(self.bias)\n",
        "        out = torch.sigmoid(x_test.matmul(w) + b).reshape(-1, 1)\n",
        "        correct = torch.abs(y_test - out) < 0.5\n",
        "        return correct.float().mean()    \n",
        "    \n",
        "    def encrypt(self, context):\n",
        "        self.weight = ts.ckks_vector(context, self.weight)\n",
        "        self.bias = ts.ckks_vector(context, self.bias)\n",
        "        \n",
        "    def decrypt(self):\n",
        "        self.weight = self.weight.decrypt()\n",
        "        self.bias = self.bias.decrypt()\n",
        "        \n",
        "    def __call__(self, *args, **kwargs):\n",
        "        return self.forward(*args, **kwargs)\n"
      ],
      "outputs": [],
      "execution_count": 13,
      "metadata": {}
    },
    {
      "cell_type": "code",
      "source": [
        "# parameters\n",
        "poly_mod_degree = 8192\n",
        "coeff_mod_bit_sizes = [40, 21, 21, 21, 21, 21, 21, 40]\n",
        "# create TenSEALContext\n",
        "ctx_training = ts.context(ts.SCHEME_TYPE.CKKS, poly_mod_degree, -1, coeff_mod_bit_sizes)\n",
        "ctx_training.global_scale = 2 ** 21\n",
        "ctx_training.generate_galois_keys()"
      ],
      "outputs": [],
      "execution_count": 14,
      "metadata": {}
    },
    {
      "cell_type": "code",
      "source": [
        "t_start = time()\n",
        "enc_x_train = [ts.ckks_vector(ctx_training, x.tolist()) for x in x_train]\n",
        "enc_y_train = [ts.ckks_vector(ctx_training, y.tolist()) for y in y_train]\n",
        "t_end = time()\n",
        "print(f\"Encryption of the training_set took {int(t_end - t_start)} seconds\")"
      ],
      "outputs": [
        {
          "output_type": "stream",
          "name": "stdout",
          "text": "Encryption of the training_set took 16 seconds\n"
        }
      ],
      "execution_count": 15,
      "metadata": {}
    },
    {
      "cell_type": "markdown",
      "source": [
        "Below we study the distribution of `x.dot(weight) + bias` in both plain and encrypted domains. Making sure that it falls into the range $[-5,5]$, which is where our sigmoid approximation is good at, and we don't want to feed it data that is out of this range so that we don't get erroneous output, which can make our training behave unpredictably. But the weights will change during the training process, and we should try to keep them as small as possible while still learning. A technique often used with logistic regression, and we do exactly this (but serving another purpose which is *generalization*), is known as *regularization*, and you might already have spotted the additional term `self.weight * 0.05` in the `update_parameters()` function, which is the result of doing regularization.\n",
        "\n",
        "To recap, since our sigmoid approximation is only good in the range $[-5,5]$, we want to have all its inputs in that range. In order to do this, we need to keep our logistic regression parameters as small as possible, so we apply regularization.\n",
        "\n",
        "**Note:** Keeping the parameters small certainly reduces the magnitude of the output, but we can also get out of range if the data wasn't standardized. You may have spotted that we standardized the data with a mean of 0 and std of 1, this was both for better performance, as well as to keep the inputs to the sigmoid in the desired range."
      ],
      "metadata": {}
    },
    {
      "cell_type": "code",
      "source": [
        "normal_dist = lambda x, mean, var: np.exp(- np.square(x - mean) / (2 * var)) / np.sqrt(2 * np.pi * var)\n",
        "\n",
        "def plot_normal_dist(mean, var, rmin=-10, rmax=10):\n",
        "    x = np.arange(rmin, rmax, 0.01)\n",
        "    y = normal_dist(x, mean, var)\n",
        "    fig = plt.plot(x, y)\n",
        "    \n",
        "# plain distribution\n",
        "lr = LR(n_features)\n",
        "data = lr.lr(x_test)\n",
        "mean, var = map(float, [data.mean(), data.std() ** 2])\n",
        "plot_normal_dist(mean, var)\n",
        "print(\"Distribution on plain data:\")\n",
        "plt.show()\n",
        "\n",
        "# encrypted distribution\n",
        "def encrypted_out_distribution(eelr, enc_x_test):\n",
        "    w = eelr.weight\n",
        "    b = eelr.bias\n",
        "    data = []\n",
        "    for enc_x in enc_x_test:\n",
        "        enc_out = enc_x.dot(w) + b\n",
        "        data.append(enc_out.decrypt())\n",
        "    data = torch.tensor(data)\n",
        "    mean, var = map(float, [data.mean(), data.std() ** 2])\n",
        "    plot_normal_dist(mean, var)\n",
        "    print(\"Distribution on encrypted data:\")\n",
        "    plt.show()\n",
        "\n",
        "eelr = EncryptedLR(lr)\n",
        "eelr.encrypt(ctx_training)\n",
        "encrypted_out_distribution(eelr, enc_x_train)"
      ],
      "outputs": [
        {
          "output_type": "stream",
          "name": "stdout",
          "text": "Distribution on plain data:\n"
        },
        {
          "output_type": "display_data",
          "data": {
            "image/png": "[encoded data removed]",
            "text/plain": "<Figure size 432x288 with 1 Axes>"
          },
          "metadata": {}
        },
        {
          "output_type": "stream",
          "name": "stdout",
          "text": "Distribution on encrypted data:\n"
        },
        {
          "output_type": "display_data",
          "data": {
            "image/png": "[encoded data removed]",
            "text/plain": "<Figure size 432x288 with 1 Axes>"
          },
          "metadata": {}
        }
      ],
      "execution_count": 16,
      "metadata": {}
    },
    {
      "cell_type": "markdown",
      "source": [
        "Most of the data falls into $[-5,5]$, the sigmoid approximation should be good enough!"
      ],
      "metadata": {}
    },
    {
      "cell_type": "markdown",
      "source": [
        "We finally reached the last part, which is about training an encrypted logistic regression model on encrypted data! You can see that we decrypt the weights and re-encrypt them again after every epoch, this is necessary since after updating the weights at the end of the epoch, we can no longer use them to perform enough multiplications, so we need to get them back to the initial ciphertext level. In a real scenario, this would translate to sending the weights back to the secret-key holder for decryption and re-encryption. In that case, it will result in just a few Kilobytes of communication per epoch."
      ],
      "metadata": {}
    },
    {
      "cell_type": "code",
      "source": [
        "eelr = EncryptedLR(LR(n_features))\n",
        "accuracy = eelr.plain_accuracy(x_test, y_test)\n",
        "print(f\"Accuracy at epoch #0 is {accuracy}\")\n",
        "\n",
        "times = []\n",
        "for epoch in range(EPOCHS):\n",
        "    eelr.encrypt(ctx_training)\n",
        "    \n",
        "    # if you want to keep an eye on the distribution to make sure\n",
        "    # the function approxiamation is still working fine\n",
        "    # WARNING: this operation is time consuming\n",
        "    # encrypted_out_distribution(eelr, enc_x_train)\n",
        "    \n",
        "    t_start = time()\n",
        "    for enc_x, enc_y in zip(enc_x_train, enc_y_train):\n",
        "        enc_out = eelr.forward(enc_x)\n",
        "        eelr.backward(enc_x, enc_out, enc_y)\n",
        "    eelr.update_parameters()\n",
        "    t_end = time()\n",
        "    times.append(t_end - t_start)\n",
        "    \n",
        "    eelr.decrypt()\n",
        "    accuracy = eelr.plain_accuracy(x_test, y_test)\n",
        "    print(f\"Accuracy at epoch #{epoch + 1} is {accuracy}\")\n",
        "\n",
        "\n",
        "print(f\"\\nAverage time per epoch: {int(sum(times) / len(times))} seconds\")\n",
        "print(f\"Final accuracy is {accuracy}\")\n",
        "\n",
        "diff_accuracy = plain_accuracy - accuracy\n",
        "print(f\"Difference between plain and encrypted accuracies: {diff_accuracy}\")\n",
        "if diff_accuracy < 0:\n",
        "    print(\"Oh! We got a better accuracy when training on encrypted data! The noise was on our side...\")"
      ],
      "outputs": [
        {
          "output_type": "stream",
          "name": "stdout",
          "text": "Accuracy at epoch #0 is 0.523952066898346\nAccuracy at epoch #1 is 0.6766467094421387\nAccuracy at epoch #2 is 0.613772451877594\nAccuracy at epoch #3 is 0.6796407103538513\nAccuracy at epoch #4 is 0.6197604537010193\nAccuracy at epoch #5 is 0.6796407103538513\n\nAverage time per epoch: 99 seconds\nFinal accuracy is 0.6796407103538513\nDifference between plain and encrypted accuracies: 0.023952126502990723\n"
        }
      ],
      "execution_count": 17,
      "metadata": {}
    },
    {
      "cell_type": "markdown",
      "source": [
        "Even after running this cell many times myself, I always feel the joy when I see it working on encrypted data, so I hope you are feeling this joy as well!"
      ],
      "metadata": {}
    },
    {
      "cell_type": "markdown",
      "source": [
        "# Congratulations!!! - Time to Join the Community!\n",
        "\n",
        "Congratulations on completing this notebook tutorial! If you enjoyed this and would like to join the movement towards privacy preserving, decentralized ownership of AI and the AI supply chain (data), you can do so in the following ways!\n",
        "\n",
        "### Star TenSEAL on GitHub\n",
        "\n",
        "The easiest way to help our community is just by starring the Repos! This helps raise awareness of the cool tools we're building.\n",
        "\n",
        "- [Star TenSEAL](https://github.com/OpenMined/TenSEAL)\n",
        "\n",
        "### Join our Slack!\n",
        "\n",
        "The best way to keep up to date on the latest advancements is to join our community! You can do so by filling out the form at [http://slack.openmined.org](http://slack.openmined.org). #lib_tenseal and #code_tenseal are the main channels for the TenSEAL project.\n",
        "\n",
        "### Join our Team!\n",
        "\n",
        "If you're excited about what we are working on TenSEAL, and if you're interested to work on homomorphic encryption related use cases, you should definitely join us!\n",
        "\n",
        "[Apply to the crypto team!](https://docs.google.com/forms/d/1T6MJ21V1lb7aEr4ilZOTYQXzxXP6KbpLumZVmTZMSuY/edit)\n",
        "\n",
        "\n",
        "### Donate\n",
        "\n",
        "If you don't have time to contribute to our codebase, but would still like to lend support, you can also become a Backer on our Open Collective. All donations go toward our web hosting and other community expenses such as hackathons and meetups!\n",
        "\n",
        "[OpenMined's Open Collective Page](https://opencollective.com/openmined)\n"
      ],
      "metadata": {}
    }
  ],
  "metadata": {
    "kernelspec": {
      "name": "syftenv",
      "language": "python",
      "display_name": "syft"
    },
    "language_info": {
      "name": "python",
      "version": "3.9.6",
      "mimetype": "text/x-python",
      "codemirror_mode": {
        "name": "ipython",
        "version": 3
      },
      "pygments_lexer": "ipython3",
      "nbconvert_exporter": "python",
      "file_extension": ".py"
    },
    "kernel_info": {
      "name": "syftenv"
    },
    "nteract": {
      "version": "nteract-front-end@1.0.0"
    },
    "interpreter": {
      "hash": "d8c1a441a5f9f7733d33e10332ba6605fc14f14734f8e602f9ed7877aacd3dd5"
    }
  },
  "nbformat": 4,
  "nbformat_minor": 4
}