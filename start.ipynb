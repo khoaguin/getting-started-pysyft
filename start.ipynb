{
  "cells": [
    {
      "cell_type": "markdown",
      "source": [
        "The goal of this notebook is to provide step by step explanation of the internal workings of PySyft for developers and have working examples of the API to play with."
      ],
      "metadata": {
        "nteract": {
          "transient": {
            "deleting": false
          }
        }
      }
    },
    {
      "cell_type": "code",
      "source": [
        "import sys\n",
        "import pytest\n",
        "import syft as sy\n",
        "from syft.core.node.common.service.auth import AuthorizationException\n",
        "from syft.util import key_emoji\n",
        "sy.LOG_FILE = \"syft_do.log\"\n",
        "sy.logger.remove()\n",
        "_ = sy.logger.add(sys.stdout, level=\"DEBUG\")"
      ],
      "outputs": [],
      "execution_count": 8,
      "metadata": {
        "jupyter": {
          "source_hidden": false,
          "outputs_hidden": false
        },
        "nteract": {
          "transient": {
            "deleting": false
          }
        },
        "gather": {
          "logged": 1630932119318
        }
      }
    },
    {
      "cell_type": "markdown",
      "source": [
        "Bob has some data he wants to share with Alice using PySyft. The first thing Bob needs to do is to create a Node to handle all the PySyft services he will need to safely and securely share his data with Alice."
      ],
      "metadata": {
        "nteract": {
          "transient": {
            "deleting": false
          }
        }
      }
    },
    {
      "cell_type": "code",
      "source": [
        "some_device = sy.Device()"
      ],
      "outputs": [
        {
          "output_type": "stream",
          "name": "stdout",
          "text": "[2021-09-06T12:42:00.838782+0000][DEBUG][logger]][17408] > Creating 🗃️ (MemoryStore) {}\n[2021-09-06T12:42:00.839754+0000][DEBUG][logger]][17408] Created MemoryStore.\n[2021-09-06T12:42:00.840795+0000][DEBUG][logger]][17408] > Creating 📱 Festive Goldberg (Device)@<UID:🚸🚂>\n"
        }
      ],
      "execution_count": 9,
      "metadata": {
        "jupyter": {
          "source_hidden": false,
          "outputs_hidden": false
        },
        "nteract": {
          "transient": {
            "deleting": false
          }
        },
        "gather": {
          "logged": 1630932121153
        }
      }
    },
    {
      "cell_type": "markdown",
      "source": [
        "This is a device, it is a Node and it has a name, id and address."
      ],
      "metadata": {
        "nteract": {
          "transient": {
            "deleting": false
          }
        }
      }
    },
    {
      "cell_type": "code",
      "source": [
        "print(f'Device name: {some_device.name}')\n",
        "print(f'Device id: {some_device.id}')\n",
        "print(f'Device adress: {some_device.address}')"
      ],
      "outputs": [
        {
          "output_type": "stream",
          "name": "stdout",
          "text": "Device name: Festive Goldberg\nDevice id: <UID: 3176a99e4a1f4d35b02dcdaba6459c5e>\nDevice adress: <Address - Device:<SpecificLocation:..59c5e>>\n"
        }
      ],
      "execution_count": 10,
      "metadata": {
        "jupyter": {
          "source_hidden": false,
          "outputs_hidden": false
        },
        "nteract": {
          "transient": {
            "deleting": false
          }
        },
        "gather": {
          "logged": 1630932122877
        }
      }
    },
    {
      "cell_type": "markdown",
      "source": [
        "The ID is a class called UID which is essentially a UUID (universally unique identifier). \n",
        "The address is a combination of up to four different locations, identifying the path to resolve the final target of the address."
      ],
      "metadata": {
        "nteract": {
          "transient": {
            "deleting": false
          }
        }
      }
    },
    {
      "cell_type": "code",
      "source": [
        "print(some_device.address.vm) \n",
        "print(some_device.address.device)\n",
        "print(some_device.address.domain)\n",
        "print(some_device.address.network)\n",
        "print(some_device.address.target_id)"
      ],
      "outputs": [
        {
          "output_type": "stream",
          "name": "stdout",
          "text": "None\n<SpecificLocation: 3176a99e4a1f4d35b02dcdaba6459c5e>\nNone\nNone\n<SpecificLocation: 3176a99e4a1f4d35b02dcdaba6459c5e>\n"
        }
      ],
      "execution_count": 13,
      "metadata": {
        "jupyter": {
          "source_hidden": false,
          "outputs_hidden": false
        },
        "nteract": {
          "transient": {
            "deleting": false
          }
        },
        "gather": {
          "logged": 1630932188033
        }
      }
    },
    {
      "cell_type": "markdown",
      "source": [
        "UIDs are hard to read and compare so we have a function which converts them to 2 x emoji. \n",
        "Just like the \"name\", Emoji uniqueness is not guaranteed but is very useful during debugging."
      ],
      "metadata": {
        "nteract": {
          "transient": {
            "deleting": false
          }
        }
      }
    },
    {
      "cell_type": "code",
      "source": [
        "print(some_device.address.target_id.pprint)\n",
        "print(some_device.address.pprint)"
      ],
      "outputs": [
        {
          "output_type": "stream",
          "name": "stdout",
          "text": "📌 Festive Goldberg (SpecificLocation)@<UID:🚸🚂>\n💠 [📱] Festive Goldberg (Address)\n"
        }
      ],
      "execution_count": 15,
      "metadata": {
        "jupyter": {
          "source_hidden": false,
          "outputs_hidden": false
        },
        "nteract": {
          "transient": {
            "deleting": false
          }
        },
        "gather": {
          "logged": 1630932557884
        }
      }
    },
    {
      "cell_type": "code",
      "source": [
        "print(some_device.id, some_device.address.target_id.id)\n",
        "print(some_device.id.emoji(), \"==\", some_device.address.target_id.id.emoji())\n",
        "print(some_device.pprint)\n",
        "assert some_device.id == some_device.address.target_id.id"
      ],
      "outputs": [
        {
          "output_type": "stream",
          "name": "stdout",
          "text": "<UID: 3176a99e4a1f4d35b02dcdaba6459c5e> <UID: 3176a99e4a1f4d35b02dcdaba6459c5e>\n<UID:🚸🚂> == <UID:🚸🚂>\n📱 Festive Goldberg (Device)@<UID:🚸🚂>\n"
        }
      ],
      "execution_count": 19,
      "metadata": {
        "jupyter": {
          "source_hidden": false,
          "outputs_hidden": false
        },
        "nteract": {
          "transient": {
            "deleting": false
          }
        },
        "gather": {
          "logged": 1630932903896
        }
      }
    },
    {
      "cell_type": "markdown",
      "source": [
        "Interaction with a Node like a device is always done through a client. \n",
        "Clients can \"send\" messages and Nodes can \"receive\" them. \n",
        "Bob needs to get a client for his device. \n",
        "But first it might be a good idea to name the device so that it's easier to follow."
      ],
      "metadata": {
        "nteract": {
          "transient": {
            "deleting": false
          }
        }
      }
    },
    {
      "cell_type": "code",
      "source": [
        "bob_device = sy.Device(name=\"Bob's iPhone\")\n",
        "assert bob_device.name == \"Bob's iPhone\""
      ],
      "outputs": [
        {
          "output_type": "stream",
          "name": "stdout",
          "text": "[2021-09-06T12:56:30.611050+0000][DEBUG][logger]][17408] > Creating 🗃️ (MemoryStore) {}\n[2021-09-06T12:56:30.611877+0000][DEBUG][logger]][17408] Created MemoryStore.\n[2021-09-06T12:56:30.612957+0000][DEBUG][logger]][17408] > Creating 📱 Bob's iPhone (Device)@<UID:🚩🙾>\n"
        }
      ],
      "execution_count": 20,
      "metadata": {
        "jupyter": {
          "source_hidden": false,
          "outputs_hidden": false
        },
        "nteract": {
          "transient": {
            "deleting": false
          }
        },
        "gather": {
          "logged": 1630932991808
        }
      }
    },
    {
      "cell_type": "code",
      "source": [
        "bob_device_client = bob_device.get_client()"
      ],
      "outputs": [
        {
          "output_type": "stream",
          "name": "stdout",
          "text": "[2021-09-06T12:56:42.644787+0000][INFO][logger]][17408] Skipping torch.Tensor.fft not supported in 1.8.1\n[2021-09-06T12:56:42.645547+0000][INFO][logger]][17408] Skipping torch.Tensor.ifft not supported in 1.8.1\n[2021-09-06T12:56:42.646056+0000][INFO][logger]][17408] Skipping torch.Tensor.irfft not supported in 1.8.1\n[2021-09-06T12:56:42.646523+0000][INFO][logger]][17408] Skipping torch.Tensor.rfft not supported in 1.8.1\n[2021-09-06T12:56:42.651269+0000][INFO][logger]][17408] Skipping torch.ifft not supported in 1.8.1\n[2021-09-06T12:56:42.651883+0000][INFO][logger]][17408] Skipping torch.irfft not supported in 1.8.1\n[2021-09-06T12:56:42.652362+0000][INFO][logger]][17408] Skipping torch.rfft not supported in 1.8.1\n[2021-09-06T12:56:42.782113+0000][DEBUG][logger]][17408] > Creating 📡 [📱] Bob's iPhone Client (DeviceClient)@<UID:🚩🙾>\n"
        }
      ],
      "execution_count": 21,
      "metadata": {
        "jupyter": {
          "source_hidden": false,
          "outputs_hidden": false
        },
        "nteract": {
          "transient": {
            "deleting": false
          }
        },
        "gather": {
          "logged": 1630933002873
        }
      }
    },
    {
      "cell_type": "markdown",
      "source": [
        "When you ask a node for a client you get a \"Client\" which is named after the device and has \n",
        "the same \"UID\" and \"Address\" (4 x Locations) as the device it was created from, \n",
        "and it will have a \"Route\" that connects it to the \"Device\""
      ],
      "metadata": {
        "nteract": {
          "transient": {
            "deleting": false
          }
        }
      }
    },
    {
      "cell_type": "code",
      "source": [
        "assert bob_device_client.name == \"Bob's iPhone Client\""
      ],
      "outputs": [],
      "execution_count": 22,
      "metadata": {
        "jupyter": {
          "source_hidden": false,
          "outputs_hidden": false
        },
        "nteract": {
          "transient": {
            "deleting": false
          }
        },
        "gather": {
          "logged": 1630933033807
        }
      }
    },
    {
      "cell_type": "code",
      "source": [
        "print(bob_device_client.pprint, bob_device.pprint)\n",
        "print(bob_device.id.emoji(), \"==\", bob_device_client.id.emoji())\n",
        "assert bob_device.id == bob_device_client.device.id\n",
        "assert bob_device.address == bob_device_client.address"
      ],
      "outputs": [
        {
          "output_type": "stream",
          "name": "stdout",
          "text": "📡 [📱] Bob's iPhone Client (DeviceClient)@<UID:🚩🙾> 📱 Bob's iPhone (Device)@<UID:🚩🙾>\n<UID:🚩🙾> == <UID:🚩🙾>\n"
        }
      ],
      "execution_count": 23,
      "metadata": {
        "jupyter": {
          "source_hidden": false,
          "outputs_hidden": false
        },
        "nteract": {
          "transient": {
            "deleting": false
          }
        },
        "gather": {
          "logged": 1630933093088
        }
      }
    },
    {
      "cell_type": "markdown",
      "source": [
        "Now we have something that can send and receive lets take it for a spin. \n",
        "Since everything is handled with a layer of abstraction the smallest unit of work is a \n",
        "\"SyftMessage\". Very little can be done without sending a message from a Client to a Node. \n",
        "There are many types of \"SyftMessage\" which boil down to whether or not they are Sync or Async, \n",
        "and whether or not they expect a response.\n",
        "\n",
        "Lets make a ReprMessage which simply gets a message and prints it at its destination Node. \n",
        "SyftMessage's all have an \"address\" field, without this they would never get delivered. They also generally have a msg_id which can be used to keep track of them."
      ],
      "metadata": {
        "nteract": {
          "transient": {
            "deleting": false
          }
        }
      }
    },
    {
      "cell_type": "code",
      "source": [
        "msg = sy.ReprMessage(address=bob_device_client.address)\n",
        "print(msg.pprint)\n",
        "print(bob_device_client.address.pprint)\n",
        "assert msg.address == bob_device_client.address"
      ],
      "outputs": [
        {
          "output_type": "stream",
          "name": "stdout",
          "text": "[2021-09-06T13:13:57.791742+0000][DEBUG][logger]][17408] > Creating ✉️  (ReprMessage) <UID:🙽🚄>\n✉️  (ReprMessage)\n💠 [📱] Bob's iPhone Client (Address)\n"
        }
      ],
      "execution_count": 24,
      "metadata": {
        "jupyter": {
          "source_hidden": false,
          "outputs_hidden": false
        },
        "nteract": {
          "transient": {
            "deleting": false
          }
        },
        "gather": {
          "logged": 1630934038239
        }
      }
    },
    {
      "cell_type": "code",
      "source": [
        "print(sy.ReprMessage.mro())"
      ],
      "outputs": [
        {
          "output_type": "stream",
          "name": "stdout",
          "text": "[<class 'syft.core.node.common.service.repr_service.ReprMessage'>, <class 'syft.core.common.message.ImmediateSyftMessageWithoutReply'>, <class 'syft.core.common.message.ImmediateSyftMessage'>, <class 'syft.core.common.message.SyftMessageWithoutReply'>, <class 'syft.core.common.message.SyftMessage'>, <class 'syft.core.common.message.AbstractMessage'>, <class 'syft.core.common.object.ObjectWithID'>, <class 'syft.core.common.serde.serializable.Serializable'>, <class 'typing.Generic'>, <class 'object'>]\n"
        }
      ],
      "execution_count": 25,
      "metadata": {
        "jupyter": {
          "source_hidden": false,
          "outputs_hidden": false
        },
        "nteract": {
          "transient": {
            "deleting": false
          }
        },
        "gather": {
          "logged": 1630934066212
        }
      }
    },
    {
      "cell_type": "code",
      "source": [
        "with pytest.raises(AuthorizationException):\n",
        "    bob_device_client.send_immediate_msg_without_reply(\n",
        "        msg=sy.ReprMessage(address=bob_device_client.address)\n",
        "    )"
      ],
      "outputs": [
        {
          "output_type": "stream",
          "name": "stdout",
          "text": "[2021-09-06T13:16:57.612497+0000][DEBUG][logger]][17408] > Creating ✉️  (ReprMessage) <UID:🙉🜓>\n[2021-09-06T13:16:57.613479+0000][DEBUG][logger]][17408] > 📡 [📱] Bob's iPhone Client (DeviceClient)@<UID:🚩🙾> Signing ✉️  (ReprMessage) with 🛃\n[2021-09-06T13:16:57.614027+0000][DEBUG][logger]][17408] > Signing with 🛃\n[2021-09-06T13:16:57.614495+0000][DEBUG][logger]][17408] Serializing <class 'syft.core.node.common.service.repr_service.ReprMessage'>\n[2021-09-06T13:16:57.615893+0000][DEBUG][logger]][17408] > Creating Signed ✉️ 🔏 (SignedImmediateSyftMessageWithoutReply) <UID:🙉🜓>\n[2021-09-06T13:16:57.616603+0000][DEBUG][logger]][17408] > Sending ✉️ 🔏 (SignedImmediateSyftMessageWithoutReply) 📡 [📱] Bob's iPhone Client (DeviceClient)@<UID:🚩🙾> ➡️  💠 [📱] Bob's iPhone Client (Address)\n[2021-09-06T13:16:57.617134+0000][DEBUG][logger]][17408] > Routing ✉️ 🔏 (SignedImmediateSyftMessageWithoutReply) via 🛣️  (SoloRoute)\n[2021-09-06T13:16:57.618205+0000][DEBUG][logger]][17408] > Creating ✉️  (ReprMessage) <UID:🙉🜓>\n[2021-09-06T13:16:57.618881+0000][DEBUG][logger]][17408] > Received without Reply ✉️  (ReprMessage) <UID: 99155b5545314214b4268e08eecd1024> @ 📱 Bob's iPhone (Device)@<UID:🚩🙾>\n[2021-09-06T13:16:57.619437+0000][DEBUG][logger]][17408] > Processing 📨 ✉️ 🔏 (SignedImmediateSyftMessageWithoutReply) @ 📱 Bob's iPhone (Device)@<UID:🚩🙾> <ReprMessage: 99155b5545314214b4268e08eecd1024>\n[2021-09-06T13:16:57.619967+0000][DEBUG][logger]][17408] > Recipient Found ✉️ 🔏 (SignedImmediateSyftMessageWithoutReply)@<UID:🚩🙾> == 📱 Bob's iPhone (Device)@<UID:🚩🙾>\n[2021-09-06T13:16:57.620954+0000][DEBUG][logger]][17408] > Checking ✉️  (ReprMessage) 🔑 Matches 📱 Bob's iPhone (Device)@<UID:🚩🙾> root 🗝\n[2021-09-06T13:16:57.621524+0000][DEBUG][logger]][17408] > Matching 🔑 🛃  == 🞁  🗝\n[2021-09-06T13:16:57.622036+0000][DEBUG][logger]][17408] > ❌ Auth FAILED ✉️  (ReprMessage)\n[2021-09-06T13:16:57.622580+0000][CRITICAL][logger]][17408] You are not Authorized to access this service\n"
        }
      ],
      "execution_count": 26,
      "metadata": {
        "jupyter": {
          "source_hidden": false,
          "outputs_hidden": false
        },
        "nteract": {
          "transient": {
            "deleting": false
          }
        },
        "gather": {
          "logged": 1630934218160
        }
      }
    },
    {
      "cell_type": "code",
      "source": [
        "print(bob_device_client.keys)\n",
        "print(bob_device.keys)\n",
        "\n",
        "assert bob_device_client.verify_key != bob_device.root_verify_key"
      ],
      "outputs": [
        {
          "output_type": "stream",
          "name": "stdout",
          "text": "🔑 🛃\n🔑 🞁🗝 🞁\n"
        }
      ],
      "execution_count": 27,
      "metadata": {
        "jupyter": {
          "source_hidden": false,
          "outputs_hidden": false
        },
        "nteract": {
          "transient": {
            "deleting": false
          }
        },
        "gather": {
          "logged": 1630934258021
        }
      }
    },
    {
      "cell_type": "code",
      "source": [
        "bob_device_client = bob_device.get_root_client()"
      ],
      "outputs": [
        {
          "output_type": "stream",
          "name": "stdout",
          "text": "[2021-09-06T13:17:47.645528+0000][INFO][logger]][17408] Skipping torch.Tensor.fft not supported in 1.8.1\n[2021-09-06T13:17:47.646486+0000][INFO][logger]][17408] Skipping torch.Tensor.ifft not supported in 1.8.1\n[2021-09-06T13:17:47.646997+0000][INFO][logger]][17408] Skipping torch.Tensor.irfft not supported in 1.8.1\n[2021-09-06T13:17:47.647867+0000][INFO][logger]][17408] Skipping torch.Tensor.rfft not supported in 1.8.1\n[2021-09-06T13:17:47.652535+0000][INFO][logger]][17408] Skipping torch.ifft not supported in 1.8.1\n[2021-09-06T13:17:47.653088+0000][INFO][logger]][17408] Skipping torch.irfft not supported in 1.8.1\n[2021-09-06T13:17:47.653593+0000][INFO][logger]][17408] Skipping torch.rfft not supported in 1.8.1\n[2021-09-06T13:17:47.956658+0000][DEBUG][logger]][17408] > Creating 📡 [📱] Bob's iPhone Client (DeviceClient)@<UID:🚩🙾>\n"
        }
      ],
      "execution_count": 28,
      "metadata": {
        "jupyter": {
          "source_hidden": false,
          "outputs_hidden": false
        },
        "nteract": {
          "transient": {
            "deleting": false
          }
        },
        "gather": {
          "logged": 1630934268175
        }
      }
    },
    {
      "cell_type": "code",
      "source": [
        "bob_device_client.send_immediate_msg_without_reply(\n",
        "    msg=sy.ReprMessage(address=bob_device_client.address)\n",
        ")\n"
      ],
      "outputs": [
        {
          "output_type": "stream",
          "name": "stdout",
          "text": "[2021-09-06T13:19:12.613958+0000][DEBUG][logger]][17408] > Creating ✉️  (ReprMessage) <UID:🙽🚰>\n[2021-09-06T13:19:12.614973+0000][DEBUG][logger]][17408] > 📡 [📱] Bob's iPhone Client (DeviceClient)@<UID:🚩🙾> Signing ✉️  (ReprMessage) with 🚡\n[2021-09-06T13:19:12.615815+0000][DEBUG][logger]][17408] > Signing with 🚡\n[2021-09-06T13:19:12.616360+0000][DEBUG][logger]][17408] Serializing <class 'syft.core.node.common.service.repr_service.ReprMessage'>\n[2021-09-06T13:19:12.617635+0000][DEBUG][logger]][17408] > Creating Signed ✉️ 🔏 (SignedImmediateSyftMessageWithoutReply) <UID:🙽🚰>\n[2021-09-06T13:19:12.618223+0000][DEBUG][logger]][17408] > Sending ✉️ 🔏 (SignedImmediateSyftMessageWithoutReply) 📡 [📱] Bob's iPhone Client (DeviceClient)@<UID:🚩🙾> ➡️  💠 [📱] Bob's iPhone Client (Address)\n[2021-09-06T13:19:12.618690+0000][DEBUG][logger]][17408] > Routing ✉️ 🔏 (SignedImmediateSyftMessageWithoutReply) via 🛣️  (SoloRoute)\n[2021-09-06T13:19:12.619340+0000][DEBUG][logger]][17408] > Creating ✉️  (ReprMessage) <UID:🙽🚰>\n[2021-09-06T13:19:12.619956+0000][DEBUG][logger]][17408] > Received without Reply ✉️  (ReprMessage) <UID: a9b02b25d6ce42ada60299c5fb42115d> @ 📱 Bob's iPhone (Device)@<UID:🚩🙾>\n[2021-09-06T13:19:12.620566+0000][DEBUG][logger]][17408] > Processing 📨 ✉️ 🔏 (SignedImmediateSyftMessageWithoutReply) @ 📱 Bob's iPhone (Device)@<UID:🚩🙾> <ReprMessage: a9b02b25d6ce42ada60299c5fb42115d>\n[2021-09-06T13:19:12.621851+0000][DEBUG][logger]][17408] > Recipient Found ✉️ 🔏 (SignedImmediateSyftMessageWithoutReply)@<UID:🚩🙾> == 📱 Bob's iPhone (Device)@<UID:🚩🙾>\n[2021-09-06T13:19:12.622732+0000][DEBUG][logger]][17408] > Checking ✉️  (ReprMessage) 🔑 Matches 📱 Bob's iPhone (Device)@<UID:🚩🙾> root 🗝\n[2021-09-06T13:19:12.623197+0000][DEBUG][logger]][17408] > Matching 🔑 🚡  == 🚡  🗝\n[2021-09-06T13:19:12.623779+0000][DEBUG][logger]][17408] > ✅ Auth Succeeded ✉️  (ReprMessage) 🔑 == 🗝\n[2021-09-06T13:19:12.624275+0000][CRITICAL][logger]][17408] Device: Bob's iPhone: <UID: 8e91e48ecbb64c918b89bab742a5b1d0>\n"
        }
      ],
      "execution_count": 29,
      "metadata": {
        "jupyter": {
          "source_hidden": false,
          "outputs_hidden": false
        },
        "nteract": {
          "transient": {
            "deleting": false
          }
        },
        "gather": {
          "logged": 1630934353034
        }
      }
    },
    {
      "cell_type": "code",
      "source": [],
      "outputs": [],
      "execution_count": null,
      "metadata": {
        "jupyter": {
          "source_hidden": false,
          "outputs_hidden": false
        },
        "nteract": {
          "transient": {
            "deleting": false
          }
        }
      }
    }
  ],
  "metadata": {
    "kernelspec": {
      "name": "syftenv2",
      "language": "python",
      "display_name": "SyftEnv2"
    },
    "language_info": {
      "name": "python",
      "version": "3.9.6",
      "mimetype": "text/x-python",
      "codemirror_mode": {
        "name": "ipython",
        "version": 3
      },
      "pygments_lexer": "ipython3",
      "nbconvert_exporter": "python",
      "file_extension": ".py"
    },
    "kernel_info": {
      "name": "syftenv2"
    },
    "nteract": {
      "version": "nteract-front-end@1.0.0"
    },
    "microsoft": {
      "host": {
        "AzureML": {
          "notebookHasBeenCompleted": true
        }
      }
    }
  },
  "nbformat": 4,
  "nbformat_minor": 2
}